{
 "cells": [
  {
   "cell_type": "code",
   "execution_count": 1,
   "metadata": {},
   "outputs": [],
   "source": [
    "\n",
    "# %pip install pygis\n",
    "import ee\n",
    "import geemap\n",
    "geemap.ee_initialize()"
   ]
  },
  {
   "cell_type": "markdown",
   "metadata": {},
   "source": [
    "## Earth Engine data types\n",
    "### Image\n",
    "##### Loading Earth Engine images"
   ]
  },
  {
   "cell_type": "code",
   "execution_count": 2,
   "metadata": {},
   "outputs": [
    {
     "data": {
      "text/html": [
       "\n",
       "            <style>\n",
       "                .geemap-dark {\n",
       "                    --jp-widgets-color: white;\n",
       "                    --jp-widgets-label-color: white;\n",
       "                    --jp-ui-font-color1: white;\n",
       "                    --jp-layout-color2: #454545;\n",
       "                    background-color: #383838;\n",
       "                }\n",
       "\n",
       "                .geemap-dark .jupyter-button {\n",
       "                    --jp-layout-color3: #383838;\n",
       "                }\n",
       "\n",
       "                .geemap-colab {\n",
       "                    background-color: var(--colab-primary-surface-color, white);\n",
       "                }\n",
       "\n",
       "                .geemap-colab .jupyter-button {\n",
       "                    --jp-layout-color3: var(--colab-primary-surface-color, white);\n",
       "                }\n",
       "            </style>\n",
       "            "
      ],
      "text/plain": [
       "<IPython.core.display.HTML object>"
      ]
     },
     "metadata": {},
     "output_type": "display_data"
    },
    {
     "data": {
      "text/html": [
       "<div><style>:root {\n",
       "  --font-color-primary: var(--jp-content-font-color0, rgba(0, 0, 0, 1));\n",
       "  --font-color-secondary: var(--jp-content-font-color2, rgba(0, 0, 0, 0.7));\n",
       "  --font-color-accent: rgba(123, 31, 162, 1);\n",
       "  --border-color: var(--jp-border-color2, #e0e0e0);\n",
       "  --background-color: var(--jp-layout-color0, white);\n",
       "  --background-color-row-even: var(--jp-layout-color1, white);\n",
       "  --background-color-row-odd: var(--jp-layout-color2, #eeeeee);\n",
       "}\n",
       "\n",
       "html[theme=\"dark\"],\n",
       "body[data-theme=\"dark\"],\n",
       "body.vscode-dark {\n",
       "  --font-color-primary: rgba(255, 255, 255, 1);\n",
       "  --font-color-secondary: rgba(255, 255, 255, 0.7);\n",
       "  --font-color-accent: rgb(173, 132, 190);\n",
       "  --border-color: #2e2e2e;\n",
       "  --background-color: #111111;\n",
       "  --background-color-row-even: #111111;\n",
       "  --background-color-row-odd: #313131;\n",
       "}\n",
       "\n",
       ".eerepr {\n",
       "  padding: 1em;\n",
       "  line-height: 1.5em;\n",
       "  min-width: 300px;\n",
       "  max-width: 1200px;\n",
       "  overflow-y: scroll;\n",
       "  max-height: 600px;\n",
       "  border: 1px solid var(--border-color);\n",
       "  font-family: monospace;\n",
       "  font-size: 14px;\n",
       "}\n",
       "\n",
       ".eerepr li {\n",
       "  list-style-type: none;\n",
       "  margin: 0;\n",
       "}\n",
       "\n",
       ".eerepr ul {\n",
       "  padding-left: 1.5em !important;\n",
       "  margin: 0;\n",
       "}\n",
       "\n",
       ".eerepr > ul {\n",
       "  padding-left: 0 !important;\n",
       "}\n",
       "\n",
       ".eerepr summary {\n",
       "  color: var(--font-color-secondary);\n",
       "  cursor: pointer;\n",
       "  margin: 0;\n",
       "}\n",
       "\n",
       ".eerepr summary:hover {\n",
       "  color: var(--font-color-primary);\n",
       "  background-color: var(--background-color-row-odd)\n",
       "}\n",
       "\n",
       ".ee-k {\n",
       "  color: var(--font-color-accent);\n",
       "  margin-right: 6px;\n",
       "}\n",
       "\n",
       ".ee-v {\n",
       "  color: var(--font-color-primary);\n",
       "}\n",
       "\n",
       ".eerepr details > summary::before {\n",
       "  content: '▼';\n",
       "  display: inline-block;\n",
       "  margin-right: 6px;\n",
       "  transition: transform 0.2s;\n",
       "  transform: rotate(-90deg);\n",
       "}\n",
       "\n",
       ".eerepr details[open] > summary::before {\n",
       "  transform: rotate(0deg);\n",
       "}\n",
       "\n",
       ".eerepr details summary::-webkit-details-marker {\n",
       "  display:none;\n",
       "}\n",
       "\n",
       ".eerepr details summary {\n",
       "  list-style-type: none;\n",
       "}\n",
       "</style><div class='eerepr'><ul><li><details><summary>Image USGS/SRTMGL1_003 (1 band)</summary><ul><li><span class='ee-k'>type:</span><span class='ee-v'>Image</span></li><li><span class='ee-k'>id:</span><span class='ee-v'>USGS/SRTMGL1_003</span></li><li><span class='ee-k'>version:</span><span class='ee-v'>1641990767055141</span></li><li><details><summary>bands: List (1 element)</summary><ul><li><details><summary>0: \"elevation\", signed int16, EPSG:4326, 1296001x417601 px</summary><ul><li><span class='ee-k'>id:</span><span class='ee-v'>elevation</span></li><li><span class='ee-k'>crs:</span><span class='ee-v'>EPSG:4326</span></li><li><details><summary>crs_transform: List (6 elements)</summary><ul><li><span class='ee-k'>0:</span><span class='ee-v'>0.0002777777777777778</span></li><li><span class='ee-k'>1:</span><span class='ee-v'>0</span></li><li><span class='ee-k'>2:</span><span class='ee-v'>-180.0001388888889</span></li><li><span class='ee-k'>3:</span><span class='ee-v'>0</span></li><li><span class='ee-k'>4:</span><span class='ee-v'>-0.0002777777777777778</span></li><li><span class='ee-k'>5:</span><span class='ee-v'>60.00013888888889</span></li></ul></details></li><li><details><summary>data_type: signed int16</summary><ul><li><span class='ee-k'>type:</span><span class='ee-v'>PixelType</span></li><li><span class='ee-k'>max:</span><span class='ee-v'>32767</span></li><li><span class='ee-k'>min:</span><span class='ee-v'>-32768</span></li><li><span class='ee-k'>precision:</span><span class='ee-v'>int</span></li></ul></details></li><li><details><summary>dimensions: [1296001, 417601]</summary><ul><li><span class='ee-k'>0:</span><span class='ee-v'>1296001</span></li><li><span class='ee-k'>1:</span><span class='ee-v'>417601</span></li></ul></details></li></ul></details></li></ul></details></li><li><details><summary>properties: Object (24 properties)</summary><ul><li><details><summary>date_range: [950227200000, 951177600000]</summary><ul><li><span class='ee-k'>0:</span><span class='ee-v'>950227200000</span></li><li><span class='ee-k'>1:</span><span class='ee-v'>951177600000</span></li></ul></details></li><li><span class='ee-k'>description:</span><span class='ee-v'>&lt;p&gt;The Shuttle Radar Topography Mission (SRTM, see &lt;a href=&quot;https://onlinelibrary.wiley.com/doi/10.1029/2005RG000183/full&quot;&gt;Farr\n",
       "et al. 2007&lt;/a&gt;)\n",
       "digital elevation data is an international research effort that\n",
       "obtained digital elevation models on a near-global scale. This\n",
       "SRTM V3 product (SRTM Plus) is provided by NASA JPL\n",
       "at a resolution of 1 arc-second (approximately 30m).&lt;/p&gt;&lt;p&gt;This dataset has undergone a void-filling process using open-source data\n",
       "(ASTER GDEM2, GMTED2010, and NED), as opposed to other versions that\n",
       "contain voids or have been void-filled with commercial sources.\n",
       "For more information on the different versions see the\n",
       "&lt;a href=&quot;https://lpdaac.usgs.gov/documents/13/SRTM_Quick_Guide.pdf&quot;&gt;SRTM Quick Guide&lt;/a&gt;.&lt;/p&gt;&lt;p&gt;Documentation:&lt;/p&gt;&lt;ul&gt;&lt;li&gt;&lt;p&gt;&lt;a href=&quot;https://lpdaac.usgs.gov/documents/179/SRTM_User_Guide_V3.pdf&quot;&gt;User&amp;#39;s Guide&lt;/a&gt;&lt;/p&gt;&lt;/li&gt;&lt;li&gt;&lt;p&gt;&lt;a href=&quot;https://lpdaac.usgs.gov/documents/13/SRTM_Quick_Guide.pdf&quot;&gt;General Documentation&lt;/a&gt;&lt;/p&gt;&lt;/li&gt;&lt;li&gt;&lt;p&gt;&lt;a href=&quot;https://doi.org/10.1029/2005RG000183&quot;&gt;Algorithm Theoretical Basis Document (ATBD)&lt;/a&gt;&lt;/p&gt;&lt;/li&gt;&lt;/ul&gt;&lt;p&gt;&lt;b&gt;Provider: &lt;a href=&quot;https://cmr.earthdata.nasa.gov/search/concepts/C1000000240-LPDAAC_ECS.html&quot;&gt;NASA / USGS / JPL-Caltech&lt;/a&gt;&lt;/b&gt;&lt;br&gt;&lt;p&gt;&lt;b&gt;Bands&lt;/b&gt;&lt;table class=&quot;eecat&quot;&gt;&lt;tr&gt;&lt;th scope=&quot;col&quot;&gt;Name&lt;/th&gt;&lt;th scope=&quot;col&quot;&gt;Description&lt;/th&gt;&lt;/tr&gt;&lt;tr&gt;&lt;td&gt;elevation&lt;/td&gt;&lt;td&gt;&lt;p&gt;Elevation&lt;/p&gt;&lt;/td&gt;&lt;/tr&gt;&lt;/table&gt;&lt;p&gt;&lt;b&gt;Terms of Use&lt;/b&gt;&lt;br&gt;&lt;p&gt;Unless otherwise noted, images and video on JPL public\n",
       "web sites (public sites ending with a jpl.nasa.gov address) may\n",
       "be used for any purpose without prior permission. For more information\n",
       "and exceptions visit the &lt;a href=&quot;https://www.jpl.nasa.gov/imagepolicy/&quot;&gt;JPL Image Use Policy site&lt;/a&gt;.&lt;/p&gt;&lt;p&gt;&lt;b&gt;Suggested citation(s)&lt;/b&gt;&lt;ul&gt;&lt;li&gt;&lt;p&gt;Farr, T.G., Rosen, P.A., Caro, E., Crippen, R., Duren, R., Hensley,\n",
       "S., Kobrick, M., Paller, M., Rodriguez, E., Roth, L., Seal, D.,\n",
       "Shaffer, S., Shimada, J., Umland, J., Werner, M., Oskin, M., Burbank,\n",
       "D., and Alsdorf, D.E., 2007, The shuttle radar topography mission:\n",
       "Reviews of Geophysics, v. 45, no. 2, RG2004, at\n",
       "&lt;a href=&quot;https://doi.org/10.1029/2005RG000183&quot;&gt;https://doi.org/10.1029/2005RG000183&lt;/a&gt;.&lt;/p&gt;&lt;/li&gt;&lt;/ul&gt;&lt;style&gt;\n",
       "  table.eecat {\n",
       "  border: 1px solid black;\n",
       "  border-collapse: collapse;\n",
       "  font-size: 13px;\n",
       "  }\n",
       "  table.eecat td, tr, th {\n",
       "  text-align: left; vertical-align: top;\n",
       "  border: 1px solid gray; padding: 3px;\n",
       "  }\n",
       "  td.nobreak { white-space: nowrap; }\n",
       "&lt;/style&gt;</span></li><li><details><summary>keywords: List (7 elements)</summary><ul><li><span class='ee-k'>0:</span><span class='ee-v'>dem</span></li><li><span class='ee-k'>1:</span><span class='ee-v'>elevation</span></li><li><span class='ee-k'>2:</span><span class='ee-v'>geophysical</span></li><li><span class='ee-k'>3:</span><span class='ee-v'>nasa</span></li><li><span class='ee-k'>4:</span><span class='ee-v'>srtm</span></li><li><span class='ee-k'>5:</span><span class='ee-v'>topography</span></li><li><span class='ee-k'>6:</span><span class='ee-v'>usgs</span></li></ul></details></li><li><span class='ee-k'>period:</span><span class='ee-v'>0</span></li><li><details><summary>product_tags: List (5 elements)</summary><ul><li><span class='ee-k'>0:</span><span class='ee-v'>srtm</span></li><li><span class='ee-k'>1:</span><span class='ee-v'>elevation</span></li><li><span class='ee-k'>2:</span><span class='ee-v'>topography</span></li><li><span class='ee-k'>3:</span><span class='ee-v'>dem</span></li><li><span class='ee-k'>4:</span><span class='ee-v'>geophysical</span></li></ul></details></li><li><span class='ee-k'>provider:</span><span class='ee-v'>NASA / USGS / JPL-Caltech</span></li><li><span class='ee-k'>provider_url:</span><span class='ee-v'>https://cmr.earthdata.nasa.gov/search/concepts/C1000000240-LPDAAC_ECS.html</span></li><li><span class='ee-k'>sample:</span><span class='ee-v'>https://mw1.google.com/ges/dd/images/SRTM90_V4_sample.png</span></li><li><details><summary>source_tags: ['nasa', 'usgs']</summary><ul><li><span class='ee-k'>0:</span><span class='ee-v'>nasa</span></li><li><span class='ee-k'>1:</span><span class='ee-v'>usgs</span></li></ul></details></li><li><span class='ee-k'>system:asset_size:</span><span class='ee-v'>132792638252</span></li><li><span class='ee-k'>system:visualization_0_bands:</span><span class='ee-v'>elevation</span></li><li><span class='ee-k'>system:visualization_0_gamma:</span><span class='ee-v'>1.6</span></li><li><span class='ee-k'>system:visualization_0_max:</span><span class='ee-v'>6000.0</span></li><li><span class='ee-k'>system:visualization_0_min:</span><span class='ee-v'>0.0</span></li><li><span class='ee-k'>system:visualization_0_name:</span><span class='ee-v'>Elevation</span></li><li><details><summary>tags: List (7 elements)</summary><ul><li><span class='ee-k'>0:</span><span class='ee-v'>dem</span></li><li><span class='ee-k'>1:</span><span class='ee-v'>elevation</span></li><li><span class='ee-k'>2:</span><span class='ee-v'>geophysical</span></li><li><span class='ee-k'>3:</span><span class='ee-v'>nasa</span></li><li><span class='ee-k'>4:</span><span class='ee-v'>srtm</span></li><li><span class='ee-k'>5:</span><span class='ee-v'>topography</span></li><li><span class='ee-k'>6:</span><span class='ee-v'>usgs</span></li></ul></details></li><li><span class='ee-k'>thumb:</span><span class='ee-v'>https://mw1.google.com/ges/dd/images/SRTM90_V4_thumb.png</span></li><li><span class='ee-k'>title:</span><span class='ee-v'>NASA SRTM Digital Elevation 30m</span></li><li><span class='ee-k'>type_name:</span><span class='ee-v'>Image</span></li><li><span class='ee-k'>visualization_0_bands:</span><span class='ee-v'>elevation</span></li><li><span class='ee-k'>visualization_0_gamma:</span><span class='ee-v'>1.6</span></li><li><span class='ee-k'>visualization_0_max:</span><span class='ee-v'>6000.0</span></li><li><span class='ee-k'>visualization_0_min:</span><span class='ee-v'>0.0</span></li><li><span class='ee-k'>visualization_0_name:</span><span class='ee-v'>Elevation</span></li></ul></details></li></ul></details></li></ul></div></div>"
      ],
      "text/plain": [
       "<ee.image.Image at 0x2d21f751490>"
      ]
     },
     "execution_count": 2,
     "metadata": {},
     "output_type": "execute_result"
    }
   ],
   "source": [
    "image = ee.Image('USGS/SRTMGL1_003')\n",
    "image"
   ]
  },
  {
   "cell_type": "code",
   "execution_count": 3,
   "metadata": {},
   "outputs": [
    {
     "data": {
      "text/html": [
       "\n",
       "            <style>\n",
       "                .geemap-dark {\n",
       "                    --jp-widgets-color: white;\n",
       "                    --jp-widgets-label-color: white;\n",
       "                    --jp-ui-font-color1: white;\n",
       "                    --jp-layout-color2: #454545;\n",
       "                    background-color: #383838;\n",
       "                }\n",
       "\n",
       "                .geemap-dark .jupyter-button {\n",
       "                    --jp-layout-color3: #383838;\n",
       "                }\n",
       "\n",
       "                .geemap-colab {\n",
       "                    background-color: var(--colab-primary-surface-color, white);\n",
       "                }\n",
       "\n",
       "                .geemap-colab .jupyter-button {\n",
       "                    --jp-layout-color3: var(--colab-primary-surface-color, white);\n",
       "                }\n",
       "            </style>\n",
       "            "
      ],
      "text/plain": [
       "<IPython.core.display.HTML object>"
      ]
     },
     "metadata": {},
     "output_type": "display_data"
    },
    {
     "data": {
      "text/plain": [
       "{'type': 'Image',\n",
       " 'bands': [{'id': 'elevation',\n",
       "   'data_type': {'type': 'PixelType',\n",
       "    'precision': 'int',\n",
       "    'min': -32768,\n",
       "    'max': 32767},\n",
       "   'dimensions': [1296001, 417601],\n",
       "   'crs': 'EPSG:4326',\n",
       "   'crs_transform': [0.0002777777777777778,\n",
       "    0,\n",
       "    -180.0001388888889,\n",
       "    0,\n",
       "    -0.0002777777777777778,\n",
       "    60.00013888888889]}],\n",
       " 'version': 1641990767055141,\n",
       " 'id': 'USGS/SRTMGL1_003',\n",
       " 'properties': {'system:visualization_0_min': '0.0',\n",
       "  'type_name': 'Image',\n",
       "  'keywords': ['dem',\n",
       "   'elevation',\n",
       "   'geophysical',\n",
       "   'nasa',\n",
       "   'srtm',\n",
       "   'topography',\n",
       "   'usgs'],\n",
       "  'thumb': 'https://mw1.google.com/ges/dd/images/SRTM90_V4_thumb.png',\n",
       "  'description': '<p>The Shuttle Radar Topography Mission (SRTM, see <a href=\"https://onlinelibrary.wiley.com/doi/10.1029/2005RG000183/full\">Farr\\net al. 2007</a>)\\ndigital elevation data is an international research effort that\\nobtained digital elevation models on a near-global scale. This\\nSRTM V3 product (SRTM Plus) is provided by NASA JPL\\nat a resolution of 1 arc-second (approximately 30m).</p><p>This dataset has undergone a void-filling process using open-source data\\n(ASTER GDEM2, GMTED2010, and NED), as opposed to other versions that\\ncontain voids or have been void-filled with commercial sources.\\nFor more information on the different versions see the\\n<a href=\"https://lpdaac.usgs.gov/documents/13/SRTM_Quick_Guide.pdf\">SRTM Quick Guide</a>.</p><p>Documentation:</p><ul><li><p><a href=\"https://lpdaac.usgs.gov/documents/179/SRTM_User_Guide_V3.pdf\">User&#39;s Guide</a></p></li><li><p><a href=\"https://lpdaac.usgs.gov/documents/13/SRTM_Quick_Guide.pdf\">General Documentation</a></p></li><li><p><a href=\"https://doi.org/10.1029/2005RG000183\">Algorithm Theoretical Basis Document (ATBD)</a></p></li></ul><p><b>Provider: <a href=\"https://cmr.earthdata.nasa.gov/search/concepts/C1000000240-LPDAAC_ECS.html\">NASA / USGS / JPL-Caltech</a></b><br><p><b>Bands</b><table class=\"eecat\"><tr><th scope=\"col\">Name</th><th scope=\"col\">Description</th></tr><tr><td>elevation</td><td><p>Elevation</p></td></tr></table><p><b>Terms of Use</b><br><p>Unless otherwise noted, images and video on JPL public\\nweb sites (public sites ending with a jpl.nasa.gov address) may\\nbe used for any purpose without prior permission. For more information\\nand exceptions visit the <a href=\"https://www.jpl.nasa.gov/imagepolicy/\">JPL Image Use Policy site</a>.</p><p><b>Suggested citation(s)</b><ul><li><p>Farr, T.G., Rosen, P.A., Caro, E., Crippen, R., Duren, R., Hensley,\\nS., Kobrick, M., Paller, M., Rodriguez, E., Roth, L., Seal, D.,\\nShaffer, S., Shimada, J., Umland, J., Werner, M., Oskin, M., Burbank,\\nD., and Alsdorf, D.E., 2007, The shuttle radar topography mission:\\nReviews of Geophysics, v. 45, no. 2, RG2004, at\\n<a href=\"https://doi.org/10.1029/2005RG000183\">https://doi.org/10.1029/2005RG000183</a>.</p></li></ul><style>\\n  table.eecat {\\n  border: 1px solid black;\\n  border-collapse: collapse;\\n  font-size: 13px;\\n  }\\n  table.eecat td, tr, th {\\n  text-align: left; vertical-align: top;\\n  border: 1px solid gray; padding: 3px;\\n  }\\n  td.nobreak { white-space: nowrap; }\\n</style>',\n",
       "  'source_tags': ['nasa', 'usgs'],\n",
       "  'visualization_0_max': '6000.0',\n",
       "  'title': 'NASA SRTM Digital Elevation 30m',\n",
       "  'product_tags': ['srtm', 'elevation', 'topography', 'dem', 'geophysical'],\n",
       "  'provider': 'NASA / USGS / JPL-Caltech',\n",
       "  'visualization_0_min': '0.0',\n",
       "  'visualization_0_name': 'Elevation',\n",
       "  'date_range': [950227200000, 951177600000],\n",
       "  'system:visualization_0_gamma': '1.6',\n",
       "  'period': 0,\n",
       "  'system:visualization_0_bands': 'elevation',\n",
       "  'provider_url': 'https://cmr.earthdata.nasa.gov/search/concepts/C1000000240-LPDAAC_ECS.html',\n",
       "  'visualization_0_gamma': '1.6',\n",
       "  'sample': 'https://mw1.google.com/ges/dd/images/SRTM90_V4_sample.png',\n",
       "  'tags': ['dem',\n",
       "   'elevation',\n",
       "   'geophysical',\n",
       "   'nasa',\n",
       "   'srtm',\n",
       "   'topography',\n",
       "   'usgs'],\n",
       "  'system:visualization_0_max': '6000.0',\n",
       "  'system:visualization_0_name': 'Elevation',\n",
       "  'system:asset_size': 132792638252,\n",
       "  'visualization_0_bands': 'elevation'}}"
      ]
     },
     "execution_count": 3,
     "metadata": {},
     "output_type": "execute_result"
    }
   ],
   "source": [
    "image.getInfo()"
   ]
  },
  {
   "cell_type": "markdown",
   "metadata": {},
   "source": [
    "##### Visualizing Earth Engine images"
   ]
  },
  {
   "cell_type": "code",
   "execution_count": 11,
   "metadata": {},
   "outputs": [
    {
     "data": {
      "text/html": [
       "\n",
       "            <style>\n",
       "                .geemap-dark {\n",
       "                    --jp-widgets-color: white;\n",
       "                    --jp-widgets-label-color: white;\n",
       "                    --jp-ui-font-color1: white;\n",
       "                    --jp-layout-color2: #454545;\n",
       "                    background-color: #383838;\n",
       "                }\n",
       "\n",
       "                .geemap-dark .jupyter-button {\n",
       "                    --jp-layout-color3: #383838;\n",
       "                }\n",
       "\n",
       "                .geemap-colab {\n",
       "                    background-color: var(--colab-primary-surface-color, white);\n",
       "                }\n",
       "\n",
       "                .geemap-colab .jupyter-button {\n",
       "                    --jp-layout-color3: var(--colab-primary-surface-color, white);\n",
       "                }\n",
       "            </style>\n",
       "            "
      ],
      "text/plain": [
       "<IPython.core.display.HTML object>"
      ]
     },
     "metadata": {},
     "output_type": "display_data"
    },
    {
     "data": {
      "application/vnd.jupyter.widget-view+json": {
       "model_id": "0c088a17cc914a93a912f24bf06b7485",
       "version_major": 2,
       "version_minor": 0
      },
      "text/plain": [
       "Map(center=[52.52, 13.4], controls=(WidgetControl(options=['position', 'transparent_bg'], widget=SearchDataGUI…"
      ]
     },
     "execution_count": 11,
     "metadata": {},
     "output_type": "execute_result"
    }
   ],
   "source": [
    "Map = geemap.Map(center = [52.52, 13.40], zoom = 8)\n",
    "image = ee.Image('USGS/SRTMGL1_003')\n",
    "vis_params = {\n",
    "    'min': 0,\n",
    "    'max': 6000,\n",
    "    'palette': ['006633', 'C4A484', '5C4033', 'A67B5B', 'D2B48C']}\n",
    "Map.addLayer(image, vis_params, 'SRTM DEM')\n",
    "Map"
   ]
  },
  {
   "cell_type": "markdown",
   "metadata": {},
   "source": [
    "##### Loading Cloud GeoTIFFs"
   ]
  },
  {
   "cell_type": "code",
   "execution_count": 25,
   "metadata": {},
   "outputs": [
    {
     "data": {
      "text/html": [
       "\n",
       "            <style>\n",
       "                .geemap-dark {\n",
       "                    --jp-widgets-color: white;\n",
       "                    --jp-widgets-label-color: white;\n",
       "                    --jp-ui-font-color1: white;\n",
       "                    --jp-layout-color2: #454545;\n",
       "                    background-color: #383838;\n",
       "                }\n",
       "\n",
       "                .geemap-dark .jupyter-button {\n",
       "                    --jp-layout-color3: #383838;\n",
       "                }\n",
       "\n",
       "                .geemap-colab {\n",
       "                    background-color: var(--colab-primary-surface-color, white);\n",
       "                }\n",
       "\n",
       "                .geemap-colab .jupyter-button {\n",
       "                    --jp-layout-color3: var(--colab-primary-surface-color, white);\n",
       "                }\n",
       "            </style>\n",
       "            "
      ],
      "text/plain": [
       "<IPython.core.display.HTML object>"
      ]
     },
     "metadata": {},
     "output_type": "display_data"
    },
    {
     "data": {
      "application/vnd.jupyter.widget-view+json": {
       "model_id": "55679d2f91ec4218ac0c7abeeb7ec853",
       "version_major": 2,
       "version_minor": 0
      },
      "text/plain": [
       "Map(center=[37.4683111265957, -122.14225670841434], controls=(WidgetControl(options=['position', 'transparent_…"
      ]
     },
     "execution_count": 25,
     "metadata": {},
     "output_type": "execute_result"
    }
   ],
   "source": [
    "Map = geemap.Map(height = \"300px\")\n",
    "\n",
    "B3 = \"gs://gcp-public-data-landsat/LC08/01/044/034/LC08_L1TP_044034_20131228_20170307_01_T1/LC08_L1TP_044034_20131228_20170307_01_T1_B3.TIF\"\n",
    "B4 = \"gs://gcp-public-data-landsat/LC08/01/044/034/LC08_L1TP_044034_20131228_20170307_01_T1/LC08_L1TP_044034_20131228_20170307_01_T1_B4.TIF\"\n",
    "B5 = \"gs://gcp-public-data-landsat/LC08/01/044/034/LC08_L1TP_044034_20131228_20170307_01_T1/LC08_L1TP_044034_20131228_20170307_01_T1_B5.TIF\"\n",
    "\n",
    "URLs = [B3, B4, B5]\n",
    "\n",
    "collection = geemap.load_GeoTIFFs(URLs)\n",
    "\n",
    "image = collection.toBands().rename([\"Green\", \"Red\", \"NIR\"]).selfMask()\n",
    "\n",
    "vis = {\n",
    "    \"bands\": [\"NIR\", \"Red\", \"Green\"], \n",
    "    \"min\": 100, \n",
    "    \"max\": 12000, \n",
    "    \"gamma\": 0.8\n",
    "    }\n",
    "\n",
    "Map.addLayer(image, vis, \"Image\")\n",
    "Map.centerObject(image.geometry(), 8)\n",
    "\n",
    "ndvi = image.normalizedDifference([\"NIR\", \"Red\"])\n",
    "ndvi_vis = {\"min\": 0, \"max\": 1, \"palette\": [\"blue\", \"green\"]}\n",
    "Map.addLayer(ndvi, {}, \"NDVI\")\n",
    "\n",
    "Map\n"
   ]
  },
  {
   "cell_type": "code",
   "execution_count": 33,
   "metadata": {},
   "outputs": [
    {
     "data": {
      "text/html": [
       "\n",
       "            <style>\n",
       "                .geemap-dark {\n",
       "                    --jp-widgets-color: white;\n",
       "                    --jp-widgets-label-color: white;\n",
       "                    --jp-ui-font-color1: white;\n",
       "                    --jp-layout-color2: #454545;\n",
       "                    background-color: #383838;\n",
       "                }\n",
       "\n",
       "                .geemap-dark .jupyter-button {\n",
       "                    --jp-layout-color3: #383838;\n",
       "                }\n",
       "\n",
       "                .geemap-colab {\n",
       "                    background-color: var(--colab-primary-surface-color, white);\n",
       "                }\n",
       "\n",
       "                .geemap-colab .jupyter-button {\n",
       "                    --jp-layout-color3: var(--colab-primary-surface-color, white);\n",
       "                }\n",
       "            </style>\n",
       "            "
      ],
      "text/plain": [
       "<IPython.core.display.HTML object>"
      ]
     },
     "metadata": {},
     "output_type": "display_data"
    },
    {
     "data": {
      "application/vnd.jupyter.widget-view+json": {
       "model_id": "bf7a2775717a446c9ecfe6a67a4067a1",
       "version_major": 2,
       "version_minor": 0
      },
      "text/plain": [
       "Map(center=[66.93533914960447, -118.99743489843317], controls=(WidgetControl(options=['position', 'transparent…"
      ]
     },
     "execution_count": 33,
     "metadata": {},
     "output_type": "execute_result"
    }
   ],
   "source": [
    "\n",
    "# Create Map\n",
    "Map = geemap.Map(zoom=8)\n",
    "\n",
    "# Landsat 8 Band URLs\n",
    "B3 = \"gs://gcp-public-data-landsat/LC08/01/052/013/LC08_L1GT_052013_20130713_20170503_01_T2/LC08_L1GT_052013_20130713_20170503_01_T2_B3.TIF\"\n",
    "B4 = \"gs://gcp-public-data-landsat/LC08/01/052/013/LC08_L1GT_052013_20130713_20170503_01_T2/LC08_L1GT_052013_20130713_20170503_01_T2_B4.TIF\"\n",
    "B5 = \"gs://gcp-public-data-landsat/LC08/01/052/013/LC08_L1GT_052013_20130713_20170503_01_T2/LC08_L1GT_052013_20130713_20170503_01_T2_B5.TIF\"\n",
    "\n",
    "URLs = [B3, B4, B5]\n",
    "\n",
    "# Load the GeoTIFFs\n",
    "collection = geemap.load_GeoTIFFs(URLs)\n",
    "\n",
    "# Convert to multi-band image and rename\n",
    "image = collection.toBands().rename([\"Green\", \"Red\", \"NIR\"]).unmask(0).unitScale(0, 10000)\n",
    "\n",
    "# Auto-scale visualization\n",
    "stats = image.reduceRegion(\n",
    "    reducer=ee.Reducer.percentile([2, 98]), \n",
    "    geometry=image.geometry(),\n",
    "    scale=100,  \n",
    "    bestEffort=True \n",
    ")\n",
    "\n",
    "\n",
    "min_val = stats.getNumber(\"NIR_p2\").getInfo()\n",
    "max_val = stats.getNumber(\"NIR_p98\").getInfo()\n",
    "\n",
    "vis = {\n",
    "    \"bands\": [\"NIR\", \"Red\", \"Green\"], \n",
    "    \"min\": min_val, \n",
    "    \"max\": max_val\n",
    "}\n",
    "\n",
    "# Display the image\n",
    "Map.addLayer(image, vis, \"Landsat 8 Image\")\n",
    "Map.centerObject(image.geometry(), 8)\n",
    "\n",
    "# Compute NDVI\n",
    "ndvi = image.normalizedDifference([\"NIR\", \"Red\"])\n",
    "\n",
    "# NDVI Visualization\n",
    "ndvi_vis = {\"min\": 0, \"max\": 1, \"palette\": [\"blue\", \"green\"]}\n",
    "Map.addLayer(ndvi, ndvi_vis, \"NDVI\")\n",
    "\n",
    "Map\n"
   ]
  },
  {
   "cell_type": "code",
   "execution_count": 36,
   "metadata": {},
   "outputs": [
    {
     "data": {
      "text/html": [
       "\n",
       "            <style>\n",
       "                .geemap-dark {\n",
       "                    --jp-widgets-color: white;\n",
       "                    --jp-widgets-label-color: white;\n",
       "                    --jp-ui-font-color1: white;\n",
       "                    --jp-layout-color2: #454545;\n",
       "                    background-color: #383838;\n",
       "                }\n",
       "\n",
       "                .geemap-dark .jupyter-button {\n",
       "                    --jp-layout-color3: #383838;\n",
       "                }\n",
       "\n",
       "                .geemap-colab {\n",
       "                    background-color: var(--colab-primary-surface-color, white);\n",
       "                }\n",
       "\n",
       "                .geemap-colab .jupyter-button {\n",
       "                    --jp-layout-color3: var(--colab-primary-surface-color, white);\n",
       "                }\n",
       "            </style>\n",
       "            "
      ],
      "text/plain": [
       "<IPython.core.display.HTML object>"
      ]
     },
     "metadata": {},
     "output_type": "display_data"
    },
    {
     "data": {
      "application/vnd.jupyter.widget-view+json": {
       "model_id": "97b060cdf4d24475b4b9b35b391071f9",
       "version_major": 2,
       "version_minor": 0
      },
      "text/plain": [
       "Map(center=[0, 0], controls=(WidgetControl(options=['position', 'transparent_bg'], widget=SearchDataGUI(childr…"
      ]
     },
     "execution_count": 36,
     "metadata": {},
     "output_type": "execute_result"
    }
   ],
   "source": [
    "\n",
    "import os\n",
    "os.environ[\"TITILER_ENDPOINT\"] = \"https://titiler.xyz\"\n",
    "Map = geemap.Map()\n",
    "\n",
    "url = \"https://github.com/opengeos/data/releases/download/raster/Libya-2023-07-01.tif\"\n",
    "geemap.cog_bounds(url)\n",
    "geemap.cog_center(url)\n",
    "geemap.cog_bands(url)\n",
    "geemap.cog_tile(url)\n",
    "Map.add_cog_layer(url, name=\"Fire (pre-event)\")\n",
    "url2 = \"https://github.com/opengeos/data/releases/download/raster/Libya-2023-09-13.tif\"\n",
    "Map.add_cog_layer(url2, name=\"Fire (post-event)\")\n",
    "\n",
    "Map"
   ]
  },
  {
   "cell_type": "code",
   "execution_count": 37,
   "metadata": {},
   "outputs": [
    {
     "data": {
      "text/html": [
       "\n",
       "            <style>\n",
       "                .geemap-dark {\n",
       "                    --jp-widgets-color: white;\n",
       "                    --jp-widgets-label-color: white;\n",
       "                    --jp-ui-font-color1: white;\n",
       "                    --jp-layout-color2: #454545;\n",
       "                    background-color: #383838;\n",
       "                }\n",
       "\n",
       "                .geemap-dark .jupyter-button {\n",
       "                    --jp-layout-color3: #383838;\n",
       "                }\n",
       "\n",
       "                .geemap-colab {\n",
       "                    background-color: var(--colab-primary-surface-color, white);\n",
       "                }\n",
       "\n",
       "                .geemap-colab .jupyter-button {\n",
       "                    --jp-layout-color3: var(--colab-primary-surface-color, white);\n",
       "                }\n",
       "            </style>\n",
       "            "
      ],
      "text/plain": [
       "<IPython.core.display.HTML object>"
      ]
     },
     "metadata": {},
     "output_type": "display_data"
    },
    {
     "data": {
      "text/html": [
       "<div><style>:root {\n",
       "  --font-color-primary: var(--jp-content-font-color0, rgba(0, 0, 0, 1));\n",
       "  --font-color-secondary: var(--jp-content-font-color2, rgba(0, 0, 0, 0.7));\n",
       "  --font-color-accent: rgba(123, 31, 162, 1);\n",
       "  --border-color: var(--jp-border-color2, #e0e0e0);\n",
       "  --background-color: var(--jp-layout-color0, white);\n",
       "  --background-color-row-even: var(--jp-layout-color1, white);\n",
       "  --background-color-row-odd: var(--jp-layout-color2, #eeeeee);\n",
       "}\n",
       "\n",
       "html[theme=\"dark\"],\n",
       "body[data-theme=\"dark\"],\n",
       "body.vscode-dark {\n",
       "  --font-color-primary: rgba(255, 255, 255, 1);\n",
       "  --font-color-secondary: rgba(255, 255, 255, 0.7);\n",
       "  --font-color-accent: rgb(173, 132, 190);\n",
       "  --border-color: #2e2e2e;\n",
       "  --background-color: #111111;\n",
       "  --background-color-row-even: #111111;\n",
       "  --background-color-row-odd: #313131;\n",
       "}\n",
       "\n",
       ".eerepr {\n",
       "  padding: 1em;\n",
       "  line-height: 1.5em;\n",
       "  min-width: 300px;\n",
       "  max-width: 1200px;\n",
       "  overflow-y: scroll;\n",
       "  max-height: 600px;\n",
       "  border: 1px solid var(--border-color);\n",
       "  font-family: monospace;\n",
       "  font-size: 14px;\n",
       "}\n",
       "\n",
       ".eerepr li {\n",
       "  list-style-type: none;\n",
       "  margin: 0;\n",
       "}\n",
       "\n",
       ".eerepr ul {\n",
       "  padding-left: 1.5em !important;\n",
       "  margin: 0;\n",
       "}\n",
       "\n",
       ".eerepr > ul {\n",
       "  padding-left: 0 !important;\n",
       "}\n",
       "\n",
       ".eerepr summary {\n",
       "  color: var(--font-color-secondary);\n",
       "  cursor: pointer;\n",
       "  margin: 0;\n",
       "}\n",
       "\n",
       ".eerepr summary:hover {\n",
       "  color: var(--font-color-primary);\n",
       "  background-color: var(--background-color-row-odd)\n",
       "}\n",
       "\n",
       ".ee-k {\n",
       "  color: var(--font-color-accent);\n",
       "  margin-right: 6px;\n",
       "}\n",
       "\n",
       ".ee-v {\n",
       "  color: var(--font-color-primary);\n",
       "}\n",
       "\n",
       ".eerepr details > summary::before {\n",
       "  content: '▼';\n",
       "  display: inline-block;\n",
       "  margin-right: 6px;\n",
       "  transition: transform 0.2s;\n",
       "  transform: rotate(-90deg);\n",
       "}\n",
       "\n",
       ".eerepr details[open] > summary::before {\n",
       "  transform: rotate(0deg);\n",
       "}\n",
       "\n",
       ".eerepr details summary::-webkit-details-marker {\n",
       "  display:none;\n",
       "}\n",
       "\n",
       ".eerepr details summary {\n",
       "  list-style-type: none;\n",
       "}\n",
       "</style><div class='eerepr'><ul><li><details><summary>ImageCollection COPERNICUS/S2_SR  (5 elements)</summary><ul><li><span class='ee-k'>type:</span><span class='ee-v'>ImageCollection</span></li><li><span class='ee-k'>id:</span><span class='ee-v'>COPERNICUS/S2_SR</span></li><li><span class='ee-k'>version:</span><span class='ee-v'>1741267697560817</span></li><li><details><summary>bands: []</summary><ul></ul></details></li><li><details><summary>properties: Object (21 properties)</summary><ul><li><details><summary>date_range: [1490659200000, 1647907200000]</summary><ul><li><span class='ee-k'>0:</span><span class='ee-v'>1490659200000</span></li><li><span class='ee-k'>1:</span><span class='ee-v'>1647907200000</span></li></ul></details></li><li><span class='ee-k'>description:</span><span class='ee-v'>&lt;p&gt;Sentinel-2 is a wide-swath, high-resolution, multi-spectral\n",
       "imaging mission supporting Copernicus Land Monitoring studies,\n",
       "including the monitoring of vegetation, soil and water cover,\n",
       "as well as observation of inland waterways and coastal areas.&lt;/p&gt;&lt;p&gt;The Sentinel-2 L2 data are downloaded from scihub. They were\n",
       "computed by running sen2cor. WARNING: ESA did not produce L2 data\n",
       "for all L1 assets, and earlier L2 coverage is not global.&lt;/p&gt;&lt;p&gt;The assets contain\n",
       "12 UINT16 spectral bands representing SR scaled by 10000 (unlike in L1 data,\n",
       "there is no B10). There are also several more L2-specific bands (see band\n",
       "list for details). See the\n",
       "&lt;a href=&quot;https://sentinel.esa.int/documents/247904/685211/Sentinel-2_User_Handbook&quot;&gt;Sentinel-2 User Handbook&lt;/a&gt;\n",
       "for details. In addition, three QA bands are present where one\n",
       "(QA60) is a bitmask band with cloud mask information. For more\n",
       "details, &lt;a href=&quot;https://sentinel.esa.int/web/sentinel/technical-guides/sentinel-2-msi/level-1c/cloud-masks&quot;&gt;see the full explanation of how cloud masks are computed.&lt;/a&gt;&lt;/p&gt;&lt;p&gt;EE asset ids for Sentinel-2 L2 assets have the following format:\n",
       "COPERNICUS/S2_SR/20151128T002653_20151128T102149_T56MNN. Here the\n",
       "first numeric part represents the sensing date and time, the\n",
       "second numeric part represents the product generation date and\n",
       "time, and the final 6-character string is a unique granule identifier\n",
       "indicating its UTM grid reference (see &lt;a href=&quot;https://en.wikipedia.org/wiki/Military_Grid_Reference_System&quot;&gt;MGRS&lt;/a&gt;).&lt;/p&gt;&lt;p&gt;Clouds can be removed by using\n",
       "&lt;a href=&quot;COPERNICUS_S2_CLOUD_PROBABILITY&quot;&gt;COPERNICUS/S2_CLOUD_PROBABILITY&lt;/a&gt;.\n",
       "See\n",
       "&lt;a href=&quot;https://developers.google.com/earth-engine/tutorials/community/sentinel-2-s2cloudless&quot;&gt;this tutorial&lt;/a&gt;\n",
       "explaining how to apply the cloud mask.&lt;/p&gt;&lt;p&gt;For more details on Sentinel-2 radiometric resolution, &lt;a href=&quot;https://earth.esa.int/web/sentinel/user-guides/sentinel-2-msi/resolutions/radiometric&quot;&gt;see this page&lt;/a&gt;.&lt;/p&gt;&lt;p&gt;&lt;b&gt;Provider: &lt;a href=&quot;https://earth.esa.int/web/sentinel/user-guides/sentinel-2-msi/product-types/level-2a&quot;&gt;European Union/ESA/Copernicus&lt;/a&gt;&lt;/b&gt;&lt;br&gt;&lt;p&gt;&lt;b&gt;Revisit Interval&lt;/b&gt;&lt;br&gt;\n",
       "  5 days\n",
       "&lt;/p&gt;&lt;p&gt;&lt;b&gt;Bands&lt;/b&gt;&lt;table class=&quot;eecat&quot;&gt;&lt;tr&gt;&lt;th scope=&quot;col&quot;&gt;Name&lt;/th&gt;&lt;th scope=&quot;col&quot;&gt;Description&lt;/th&gt;&lt;/tr&gt;&lt;tr&gt;&lt;td&gt;B1&lt;/td&gt;&lt;td&gt;&lt;p&gt;Aerosols&lt;/p&gt;&lt;/td&gt;&lt;/tr&gt;&lt;tr&gt;&lt;td&gt;B2&lt;/td&gt;&lt;td&gt;&lt;p&gt;Blue&lt;/p&gt;&lt;/td&gt;&lt;/tr&gt;&lt;tr&gt;&lt;td&gt;B3&lt;/td&gt;&lt;td&gt;&lt;p&gt;Green&lt;/p&gt;&lt;/td&gt;&lt;/tr&gt;&lt;tr&gt;&lt;td&gt;B4&lt;/td&gt;&lt;td&gt;&lt;p&gt;Red&lt;/p&gt;&lt;/td&gt;&lt;/tr&gt;&lt;tr&gt;&lt;td&gt;B5&lt;/td&gt;&lt;td&gt;&lt;p&gt;Red Edge 1&lt;/p&gt;&lt;/td&gt;&lt;/tr&gt;&lt;tr&gt;&lt;td&gt;B6&lt;/td&gt;&lt;td&gt;&lt;p&gt;Red Edge 2&lt;/p&gt;&lt;/td&gt;&lt;/tr&gt;&lt;tr&gt;&lt;td&gt;B7&lt;/td&gt;&lt;td&gt;&lt;p&gt;Red Edge 3&lt;/p&gt;&lt;/td&gt;&lt;/tr&gt;&lt;tr&gt;&lt;td&gt;B8&lt;/td&gt;&lt;td&gt;&lt;p&gt;NIR&lt;/p&gt;&lt;/td&gt;&lt;/tr&gt;&lt;tr&gt;&lt;td&gt;B8A&lt;/td&gt;&lt;td&gt;&lt;p&gt;Red Edge 4&lt;/p&gt;&lt;/td&gt;&lt;/tr&gt;&lt;tr&gt;&lt;td&gt;B9&lt;/td&gt;&lt;td&gt;&lt;p&gt;Water vapor&lt;/p&gt;&lt;/td&gt;&lt;/tr&gt;&lt;tr&gt;&lt;td&gt;B11&lt;/td&gt;&lt;td&gt;&lt;p&gt;SWIR 1&lt;/p&gt;&lt;/td&gt;&lt;/tr&gt;&lt;tr&gt;&lt;td&gt;B12&lt;/td&gt;&lt;td&gt;&lt;p&gt;SWIR 2&lt;/p&gt;&lt;/td&gt;&lt;/tr&gt;&lt;tr&gt;&lt;td&gt;AOT&lt;/td&gt;&lt;td&gt;&lt;p&gt;Aerosol Optical Thickness&lt;/p&gt;&lt;/td&gt;&lt;/tr&gt;&lt;tr&gt;&lt;td&gt;WVP&lt;/td&gt;&lt;td&gt;&lt;p&gt;Water Vapor Pressure. The height the water would occupy if the vapor were condensed into\n",
       "liquid and spread evenly across the column.&lt;/p&gt;&lt;/td&gt;&lt;/tr&gt;&lt;tr&gt;&lt;td&gt;SCL&lt;/td&gt;&lt;td&gt;&lt;p&gt;Scene Classification Map (The &amp;quot;No Data&amp;quot; value of 0 is masked out)&lt;/p&gt;&lt;/td&gt;&lt;/tr&gt;&lt;tr&gt;&lt;td&gt;TCI_R&lt;/td&gt;&lt;td&gt;&lt;p&gt;True Color Image, Red channel&lt;/p&gt;&lt;/td&gt;&lt;/tr&gt;&lt;tr&gt;&lt;td&gt;TCI_G&lt;/td&gt;&lt;td&gt;&lt;p&gt;True Color Image, Green channel&lt;/p&gt;&lt;/td&gt;&lt;/tr&gt;&lt;tr&gt;&lt;td&gt;TCI_B&lt;/td&gt;&lt;td&gt;&lt;p&gt;True Color Image, Blue channel&lt;/p&gt;&lt;/td&gt;&lt;/tr&gt;&lt;tr&gt;&lt;td&gt;MSK_CLDPRB&lt;/td&gt;&lt;td&gt;&lt;p&gt;Cloud Probability Map (missing in some products)&lt;/p&gt;&lt;/td&gt;&lt;/tr&gt;&lt;tr&gt;&lt;td&gt;MSK_SNWPRB&lt;/td&gt;&lt;td&gt;&lt;p&gt;Snow Probability Map (missing in some products)&lt;/p&gt;&lt;/td&gt;&lt;/tr&gt;&lt;tr&gt;&lt;td&gt;QA10&lt;/td&gt;&lt;td&gt;&lt;p&gt;Always empty&lt;/p&gt;&lt;/td&gt;&lt;/tr&gt;&lt;tr&gt;&lt;td&gt;QA20&lt;/td&gt;&lt;td&gt;&lt;p&gt;Always empty&lt;/p&gt;&lt;/td&gt;&lt;/tr&gt;&lt;tr&gt;&lt;td&gt;QA60&lt;/td&gt;&lt;td&gt;&lt;p&gt;Cloud mask&lt;/p&gt;&lt;/td&gt;&lt;/tr&gt;&lt;tr&gt;&lt;td colspan=100&gt;\n",
       "      Bitmask for QA60\n",
       "&lt;ul&gt;&lt;li&gt;\n",
       "          Bit 10: Opaque clouds\n",
       "&lt;ul&gt;&lt;li&gt;0: No opaque clouds&lt;/li&gt;&lt;li&gt;1: Opaque clouds present&lt;/li&gt;&lt;/ul&gt;&lt;/li&gt;&lt;li&gt;\n",
       "          Bit 11: Cirrus clouds\n",
       "&lt;ul&gt;&lt;li&gt;0: No cirrus clouds&lt;/li&gt;&lt;li&gt;1: Cirrus clouds present&lt;/li&gt;&lt;/ul&gt;&lt;/li&gt;&lt;/ul&gt;&lt;/td&gt;&lt;/tr&gt;&lt;/table&gt;&lt;p&gt;&lt;b&gt;Image Properties&lt;/b&gt;&lt;table class=&quot;eecat&quot;&gt;&lt;tr&gt;&lt;th scope=&quot;col&quot;&gt;Name&lt;/th&gt;&lt;th scope=&quot;col&quot;&gt;Type&lt;/th&gt;&lt;th scope=&quot;col&quot;&gt;Description&lt;/th&gt;&lt;/tr&gt;&lt;tr&gt;&lt;td&gt;AOT_RETRIEVAL_ACCURACY&lt;/td&gt;&lt;td&gt;DOUBLE&lt;/td&gt;&lt;td&gt;&lt;p&gt;Accuracy of Aerosol Optical thickness model&lt;/p&gt;&lt;/td&gt;&lt;/tr&gt;&lt;tr&gt;&lt;td&gt;CLOUDY_PIXEL_PERCENTAGE&lt;/td&gt;&lt;td&gt;DOUBLE&lt;/td&gt;&lt;td&gt;&lt;p&gt;Granule-specific cloudy pixel percentage taken from the original metadata&lt;/p&gt;&lt;/td&gt;&lt;/tr&gt;&lt;tr&gt;&lt;td&gt;CLOUD_COVERAGE_ASSESSMENT&lt;/td&gt;&lt;td&gt;DOUBLE&lt;/td&gt;&lt;td&gt;&lt;p&gt;Cloudy pixel percentage for the whole archive that\n",
       "contains this granule. Taken from the original metadata&lt;/p&gt;&lt;/td&gt;&lt;/tr&gt;&lt;tr&gt;&lt;td&gt;CLOUDY_SHADOW_PERCENTAGE&lt;/td&gt;&lt;td&gt;DOUBLE&lt;/td&gt;&lt;td&gt;&lt;p&gt;Percentage of pixels classified as cloud shadow&lt;/p&gt;&lt;/td&gt;&lt;/tr&gt;&lt;tr&gt;&lt;td&gt;DARK_FEATURES_PERCENTAGE&lt;/td&gt;&lt;td&gt;DOUBLE&lt;/td&gt;&lt;td&gt;&lt;p&gt;Percentage of pixels classified as dark features or shadows&lt;/p&gt;&lt;/td&gt;&lt;/tr&gt;&lt;tr&gt;&lt;td&gt;DATASTRIP_ID&lt;/td&gt;&lt;td&gt;STRING&lt;/td&gt;&lt;td&gt;&lt;p&gt;Unique identifier of the datastrip Product Data Item (PDI)&lt;/p&gt;&lt;/td&gt;&lt;/tr&gt;&lt;tr&gt;&lt;td&gt;DATATAKE_IDENTIFIER&lt;/td&gt;&lt;td&gt;STRING&lt;/td&gt;&lt;td&gt;&lt;p&gt;Uniquely identifies a given Datatake. The ID contains\n",
       "the Sentinel-2 satellite, start date and time, absolute orbit\n",
       "number, and processing baseline.&lt;/p&gt;&lt;/td&gt;&lt;/tr&gt;&lt;tr&gt;&lt;td&gt;DATATAKE_TYPE&lt;/td&gt;&lt;td&gt;STRING&lt;/td&gt;&lt;td&gt;&lt;p&gt;MSI operation mode&lt;/p&gt;&lt;/td&gt;&lt;/tr&gt;&lt;tr&gt;&lt;td&gt;DEGRADED_MSI_DATA_PERCENTAGE&lt;/td&gt;&lt;td&gt;DOUBLE&lt;/td&gt;&lt;td&gt;&lt;p&gt;Percentage of degraded MSI and ancillary data&lt;/p&gt;&lt;/td&gt;&lt;/tr&gt;&lt;tr&gt;&lt;td&gt;FORMAT_CORRECTNESS&lt;/td&gt;&lt;td&gt;STRING&lt;/td&gt;&lt;td&gt;&lt;p&gt;Synthesis of the On-Line Quality Control (OLQC) checks\n",
       "performed at granule (Product_Syntax) and datastrip (Product\n",
       "Syntax and DS_Consistency) levels&lt;/p&gt;&lt;/td&gt;&lt;/tr&gt;&lt;tr&gt;&lt;td&gt;GENERAL_QUALITY&lt;/td&gt;&lt;td&gt;STRING&lt;/td&gt;&lt;td&gt;&lt;p&gt;Synthesis of the OLQC checks performed at the datastrip level (Relative_Orbit_Number)&lt;/p&gt;&lt;/td&gt;&lt;/tr&gt;&lt;tr&gt;&lt;td&gt;GENERATION_TIME&lt;/td&gt;&lt;td&gt;DOUBLE&lt;/td&gt;&lt;td&gt;&lt;p&gt;Product generation time&lt;/p&gt;&lt;/td&gt;&lt;/tr&gt;&lt;tr&gt;&lt;td&gt;GEOMETRIC_QUALITY&lt;/td&gt;&lt;td&gt;STRING&lt;/td&gt;&lt;td&gt;&lt;p&gt;Synthesis of the OLQC checks performed at the datastrip level (Attitude_Quality_Indicator)&lt;/p&gt;&lt;/td&gt;&lt;/tr&gt;&lt;tr&gt;&lt;td&gt;GRANULE_ID&lt;/td&gt;&lt;td&gt;STRING&lt;/td&gt;&lt;td&gt;&lt;p&gt;Unique identifier of the granule PDI (PDI_ID)&lt;/p&gt;&lt;/td&gt;&lt;/tr&gt;&lt;tr&gt;&lt;td&gt;HIGH_PROBA_CLOUDS_PERCENTAGE&lt;/td&gt;&lt;td&gt;DOUBLE&lt;/td&gt;&lt;td&gt;&lt;p&gt;Percentage of pixels classified as high probability clouds&lt;/p&gt;&lt;/td&gt;&lt;/tr&gt;&lt;tr&gt;&lt;td&gt;MEAN_INCIDENCE_AZIMUTH_ANGLE_B1&lt;/td&gt;&lt;td&gt;DOUBLE&lt;/td&gt;&lt;td&gt;&lt;p&gt;Mean value containing viewing incidence azimuth angle average for band B1 and for all detectors&lt;/p&gt;&lt;/td&gt;&lt;/tr&gt;&lt;tr&gt;&lt;td&gt;MEAN_INCIDENCE_AZIMUTH_ANGLE_B2&lt;/td&gt;&lt;td&gt;DOUBLE&lt;/td&gt;&lt;td&gt;&lt;p&gt;Mean value containing viewing incidence azimuth angle average for band B2 and for all detectors&lt;/p&gt;&lt;/td&gt;&lt;/tr&gt;&lt;tr&gt;&lt;td&gt;MEAN_INCIDENCE_AZIMUTH_ANGLE_B3&lt;/td&gt;&lt;td&gt;DOUBLE&lt;/td&gt;&lt;td&gt;&lt;p&gt;Mean value containing viewing incidence azimuth angle average for band B3 and for all detectors&lt;/p&gt;&lt;/td&gt;&lt;/tr&gt;&lt;tr&gt;&lt;td&gt;MEAN_INCIDENCE_AZIMUTH_ANGLE_B4&lt;/td&gt;&lt;td&gt;DOUBLE&lt;/td&gt;&lt;td&gt;&lt;p&gt;Mean value containing viewing incidence azimuth angle average for band B4 and for all detectors&lt;/p&gt;&lt;/td&gt;&lt;/tr&gt;&lt;tr&gt;&lt;td&gt;MEAN_INCIDENCE_AZIMUTH_ANGLE_B5&lt;/td&gt;&lt;td&gt;DOUBLE&lt;/td&gt;&lt;td&gt;&lt;p&gt;Mean value containing viewing incidence azimuth angle average for band B5 and for all detectors&lt;/p&gt;&lt;/td&gt;&lt;/tr&gt;&lt;tr&gt;&lt;td&gt;MEAN_INCIDENCE_AZIMUTH_ANGLE_B6&lt;/td&gt;&lt;td&gt;DOUBLE&lt;/td&gt;&lt;td&gt;&lt;p&gt;Mean value containing viewing incidence azimuth angle average for band B6 and for all detectors&lt;/p&gt;&lt;/td&gt;&lt;/tr&gt;&lt;tr&gt;&lt;td&gt;MEAN_INCIDENCE_AZIMUTH_ANGLE_B7&lt;/td&gt;&lt;td&gt;DOUBLE&lt;/td&gt;&lt;td&gt;&lt;p&gt;Mean value containing viewing incidence azimuth angle average for band B7 and for all detectors&lt;/p&gt;&lt;/td&gt;&lt;/tr&gt;&lt;tr&gt;&lt;td&gt;MEAN_INCIDENCE_AZIMUTH_ANGLE_B8&lt;/td&gt;&lt;td&gt;DOUBLE&lt;/td&gt;&lt;td&gt;&lt;p&gt;Mean value containing viewing incidence azimuth angle average for band B8 and for all detectors&lt;/p&gt;&lt;/td&gt;&lt;/tr&gt;&lt;tr&gt;&lt;td&gt;MEAN_INCIDENCE_AZIMUTH_ANGLE_B8A&lt;/td&gt;&lt;td&gt;DOUBLE&lt;/td&gt;&lt;td&gt;&lt;p&gt;Mean value containing viewing incidence azimuth angle average for band B8a and for all detectors&lt;/p&gt;&lt;/td&gt;&lt;/tr&gt;&lt;tr&gt;&lt;td&gt;MEAN_INCIDENCE_AZIMUTH_ANGLE_B9&lt;/td&gt;&lt;td&gt;DOUBLE&lt;/td&gt;&lt;td&gt;&lt;p&gt;Mean value containing viewing incidence azimuth angle average for band B9 and for all detectors&lt;/p&gt;&lt;/td&gt;&lt;/tr&gt;&lt;tr&gt;&lt;td&gt;MEAN_INCIDENCE_AZIMUTH_ANGLE_B10&lt;/td&gt;&lt;td&gt;DOUBLE&lt;/td&gt;&lt;td&gt;&lt;p&gt;Mean value containing viewing incidence azimuth angle average for band B10 and for all detectors&lt;/p&gt;&lt;/td&gt;&lt;/tr&gt;&lt;tr&gt;&lt;td&gt;MEAN_INCIDENCE_AZIMUTH_ANGLE_B11&lt;/td&gt;&lt;td&gt;DOUBLE&lt;/td&gt;&lt;td&gt;&lt;p&gt;Mean value containing viewing incidence azimuth angle average for band B11 and for all detectors&lt;/p&gt;&lt;/td&gt;&lt;/tr&gt;&lt;tr&gt;&lt;td&gt;MEAN_INCIDENCE_AZIMUTH_ANGLE_B12&lt;/td&gt;&lt;td&gt;DOUBLE&lt;/td&gt;&lt;td&gt;&lt;p&gt;Mean value containing viewing incidence azimuth angle average for band B12 and for all detectors&lt;/p&gt;&lt;/td&gt;&lt;/tr&gt;&lt;tr&gt;&lt;td&gt;MEAN_INCIDENCE_ZENITH_ANGLE_B1&lt;/td&gt;&lt;td&gt;DOUBLE&lt;/td&gt;&lt;td&gt;&lt;p&gt;Mean value containing viewing incidence zenith angle average for band B1 and for all detectors&lt;/p&gt;&lt;/td&gt;&lt;/tr&gt;&lt;tr&gt;&lt;td&gt;MEAN_INCIDENCE_ZENITH_ANGLE_B2&lt;/td&gt;&lt;td&gt;DOUBLE&lt;/td&gt;&lt;td&gt;&lt;p&gt;Mean value containing viewing incidence zenith angle average for band B2 and for all detectors&lt;/p&gt;&lt;/td&gt;&lt;/tr&gt;&lt;tr&gt;&lt;td&gt;MEAN_INCIDENCE_ZENITH_ANGLE_B3&lt;/td&gt;&lt;td&gt;DOUBLE&lt;/td&gt;&lt;td&gt;&lt;p&gt;Mean value containing viewing incidence zenith angle average for band B3 and for all detectors&lt;/p&gt;&lt;/td&gt;&lt;/tr&gt;&lt;tr&gt;&lt;td&gt;MEAN_INCIDENCE_ZENITH_ANGLE_B4&lt;/td&gt;&lt;td&gt;DOUBLE&lt;/td&gt;&lt;td&gt;&lt;p&gt;Mean value containing viewing incidence zenith angle average for band B4 and for all detectors&lt;/p&gt;&lt;/td&gt;&lt;/tr&gt;&lt;tr&gt;&lt;td&gt;MEAN_INCIDENCE_ZENITH_ANGLE_B5&lt;/td&gt;&lt;td&gt;DOUBLE&lt;/td&gt;&lt;td&gt;&lt;p&gt;Mean value containing viewing incidence zenith angle average for band B5 and for all detectors&lt;/p&gt;&lt;/td&gt;&lt;/tr&gt;&lt;tr&gt;&lt;td&gt;MEAN_INCIDENCE_ZENITH_ANGLE_B6&lt;/td&gt;&lt;td&gt;DOUBLE&lt;/td&gt;&lt;td&gt;&lt;p&gt;Mean value containing viewing incidence zenith angle average for band B6 and for all detectors&lt;/p&gt;&lt;/td&gt;&lt;/tr&gt;&lt;tr&gt;&lt;td&gt;MEAN_INCIDENCE_ZENITH_ANGLE_B7&lt;/td&gt;&lt;td&gt;DOUBLE&lt;/td&gt;&lt;td&gt;&lt;p&gt;Mean value containing viewing incidence zenith angle average for band B7 and for all detectors&lt;/p&gt;&lt;/td&gt;&lt;/tr&gt;&lt;tr&gt;&lt;td&gt;MEAN_INCIDENCE_ZENITH_ANGLE_B8&lt;/td&gt;&lt;td&gt;DOUBLE&lt;/td&gt;&lt;td&gt;&lt;p&gt;Mean value containing viewing incidence zenith angle average for band B8 and for all detectors&lt;/p&gt;&lt;/td&gt;&lt;/tr&gt;&lt;tr&gt;&lt;td&gt;MEAN_INCIDENCE_ZENITH_ANGLE_B8A&lt;/td&gt;&lt;td&gt;DOUBLE&lt;/td&gt;&lt;td&gt;&lt;p&gt;Mean value containing viewing incidence zenith angle average for band B8a and for all detectors&lt;/p&gt;&lt;/td&gt;&lt;/tr&gt;&lt;tr&gt;&lt;td&gt;MEAN_INCIDENCE_ZENITH_ANGLE_B9&lt;/td&gt;&lt;td&gt;DOUBLE&lt;/td&gt;&lt;td&gt;&lt;p&gt;Mean value containing viewing incidence zenith angle average for band B9 and for all detectors&lt;/p&gt;&lt;/td&gt;&lt;/tr&gt;&lt;tr&gt;&lt;td&gt;MEAN_INCIDENCE_ZENITH_ANGLE_B10&lt;/td&gt;&lt;td&gt;DOUBLE&lt;/td&gt;&lt;td&gt;&lt;p&gt;Mean value containing viewing incidence zenith angle average for band B10 and for all detectors&lt;/p&gt;&lt;/td&gt;&lt;/tr&gt;&lt;tr&gt;&lt;td&gt;MEAN_INCIDENCE_ZENITH_ANGLE_B11&lt;/td&gt;&lt;td&gt;DOUBLE&lt;/td&gt;&lt;td&gt;&lt;p&gt;Mean value containing viewing incidence zenith angle average for band B11 and for all detectors&lt;/p&gt;&lt;/td&gt;&lt;/tr&gt;&lt;tr&gt;&lt;td&gt;MEAN_INCIDENCE_ZENITH_ANGLE_B12&lt;/td&gt;&lt;td&gt;DOUBLE&lt;/td&gt;&lt;td&gt;&lt;p&gt;Mean value containing viewing incidence zenith angle average for band B12 and for all detectors&lt;/p&gt;&lt;/td&gt;&lt;/tr&gt;&lt;tr&gt;&lt;td&gt;MEAN_SOLAR_AZIMUTH_ANGLE&lt;/td&gt;&lt;td&gt;DOUBLE&lt;/td&gt;&lt;td&gt;&lt;p&gt;Mean value containing sun azimuth angle average for all bands and detectors&lt;/p&gt;&lt;/td&gt;&lt;/tr&gt;&lt;tr&gt;&lt;td&gt;MEAN_SOLAR_ZENITH_ANGLE&lt;/td&gt;&lt;td&gt;DOUBLE&lt;/td&gt;&lt;td&gt;&lt;p&gt;Mean value containing sun zenith angle average for all bands and detectors&lt;/p&gt;&lt;/td&gt;&lt;/tr&gt;&lt;tr&gt;&lt;td&gt;MEDIUM_PROBA_CLOUDS_PERCENTAGE&lt;/td&gt;&lt;td&gt;DOUBLE&lt;/td&gt;&lt;td&gt;&lt;p&gt;Percentage of pixels classified as medium probability clouds&lt;/p&gt;&lt;/td&gt;&lt;/tr&gt;&lt;tr&gt;&lt;td&gt;MGRS_TILE&lt;/td&gt;&lt;td&gt;STRING&lt;/td&gt;&lt;td&gt;&lt;p&gt;US-Military Grid Reference System (MGRS) tile&lt;/p&gt;&lt;/td&gt;&lt;/tr&gt;&lt;tr&gt;&lt;td&gt;NODATA_PIXEL_PERCENTAGE&lt;/td&gt;&lt;td&gt;DOUBLE&lt;/td&gt;&lt;td&gt;&lt;p&gt;Percentage of No Data pixels&lt;/p&gt;&lt;/td&gt;&lt;/tr&gt;&lt;tr&gt;&lt;td&gt;NOT_VEGETATED_PERCENTAGE&lt;/td&gt;&lt;td&gt;DOUBLE&lt;/td&gt;&lt;td&gt;&lt;p&gt;Percentage of pixels classified as non-vegetated&lt;/p&gt;&lt;/td&gt;&lt;/tr&gt;&lt;tr&gt;&lt;td&gt;PROCESSING_BASELINE&lt;/td&gt;&lt;td&gt;STRING&lt;/td&gt;&lt;td&gt;&lt;p&gt;Configuration baseline used at the time of the product\n",
       "generation in terms of processor software version and major Ground\n",
       "Image Processing Parameters (GIPP) version&lt;/p&gt;&lt;/td&gt;&lt;/tr&gt;&lt;tr&gt;&lt;td&gt;PRODUCT_ID&lt;/td&gt;&lt;td&gt;STRING&lt;/td&gt;&lt;td&gt;&lt;p&gt;The full id of the original Sentinel-2 product&lt;/p&gt;&lt;/td&gt;&lt;/tr&gt;&lt;tr&gt;&lt;td&gt;RADIATIVE_TRANSFER_ACCURACY&lt;/td&gt;&lt;td&gt;DOUBLE&lt;/td&gt;&lt;td&gt;&lt;p&gt;Accuracy of radiative transfer model&lt;/p&gt;&lt;/td&gt;&lt;/tr&gt;&lt;tr&gt;&lt;td&gt;RADIOMETRIC_QUALITY&lt;/td&gt;&lt;td&gt;STRING&lt;/td&gt;&lt;td&gt;&lt;p&gt;Based on the OLQC reports contained in the Datastrips/QI_DATA with RADIOMETRIC_QUALITY checklist name&lt;/p&gt;&lt;/td&gt;&lt;/tr&gt;&lt;tr&gt;&lt;td&gt;REFLECTANCE_CONVERSION_CORRECTION&lt;/td&gt;&lt;td&gt;DOUBLE&lt;/td&gt;&lt;td&gt;&lt;p&gt;Earth-Sun distance correction factor&lt;/p&gt;&lt;/td&gt;&lt;/tr&gt;&lt;tr&gt;&lt;td&gt;SATURATED_DEFECTIVE_PIXEL_PERCENTAGE&lt;/td&gt;&lt;td&gt;DOUBLE&lt;/td&gt;&lt;td&gt;&lt;p&gt;Percentage of saturated or defective pixels&lt;/p&gt;&lt;/td&gt;&lt;/tr&gt;&lt;tr&gt;&lt;td&gt;SENSING_ORBIT_DIRECTION&lt;/td&gt;&lt;td&gt;STRING&lt;/td&gt;&lt;td&gt;&lt;p&gt;Imaging orbit direction&lt;/p&gt;&lt;/td&gt;&lt;/tr&gt;&lt;tr&gt;&lt;td&gt;SENSING_ORBIT_NUMBER&lt;/td&gt;&lt;td&gt;DOUBLE&lt;/td&gt;&lt;td&gt;&lt;p&gt;Imaging orbit number&lt;/p&gt;&lt;/td&gt;&lt;/tr&gt;&lt;tr&gt;&lt;td&gt;SENSOR_QUALITY&lt;/td&gt;&lt;td&gt;STRING&lt;/td&gt;&lt;td&gt;&lt;p&gt;Synthesis of the OLQC checks performed at granule\n",
       "(Missing_Lines, Corrupted_ISP, and Sensing_Time) and datastrip\n",
       "(Degraded_SAD and Datation_Model) levels&lt;/p&gt;&lt;/td&gt;&lt;/tr&gt;&lt;tr&gt;&lt;td&gt;SOLAR_IRRADIANCE_B1&lt;/td&gt;&lt;td&gt;DOUBLE&lt;/td&gt;&lt;td&gt;&lt;p&gt;Mean solar exoatmospheric irradiance for band B1&lt;/p&gt;&lt;/td&gt;&lt;/tr&gt;&lt;tr&gt;&lt;td&gt;SOLAR_IRRADIANCE_B2&lt;/td&gt;&lt;td&gt;DOUBLE&lt;/td&gt;&lt;td&gt;&lt;p&gt;Mean solar exoatmospheric irradiance for band B2&lt;/p&gt;&lt;/td&gt;&lt;/tr&gt;&lt;tr&gt;&lt;td&gt;SOLAR_IRRADIANCE_B3&lt;/td&gt;&lt;td&gt;DOUBLE&lt;/td&gt;&lt;td&gt;&lt;p&gt;Mean solar exoatmospheric irradiance for band B3&lt;/p&gt;&lt;/td&gt;&lt;/tr&gt;&lt;tr&gt;&lt;td&gt;SOLAR_IRRADIANCE_B4&lt;/td&gt;&lt;td&gt;DOUBLE&lt;/td&gt;&lt;td&gt;&lt;p&gt;Mean solar exoatmospheric irradiance for band B4&lt;/p&gt;&lt;/td&gt;&lt;/tr&gt;&lt;tr&gt;&lt;td&gt;SOLAR_IRRADIANCE_B5&lt;/td&gt;&lt;td&gt;DOUBLE&lt;/td&gt;&lt;td&gt;&lt;p&gt;Mean solar exoatmospheric irradiance for band B5&lt;/p&gt;&lt;/td&gt;&lt;/tr&gt;&lt;tr&gt;&lt;td&gt;SOLAR_IRRADIANCE_B6&lt;/td&gt;&lt;td&gt;DOUBLE&lt;/td&gt;&lt;td&gt;&lt;p&gt;Mean solar exoatmospheric irradiance for band B6&lt;/p&gt;&lt;/td&gt;&lt;/tr&gt;&lt;tr&gt;&lt;td&gt;SOLAR_IRRADIANCE_B7&lt;/td&gt;&lt;td&gt;DOUBLE&lt;/td&gt;&lt;td&gt;&lt;p&gt;Mean solar exoatmospheric irradiance for band B7&lt;/p&gt;&lt;/td&gt;&lt;/tr&gt;&lt;tr&gt;&lt;td&gt;SOLAR_IRRADIANCE_B8&lt;/td&gt;&lt;td&gt;DOUBLE&lt;/td&gt;&lt;td&gt;&lt;p&gt;Mean solar exoatmospheric irradiance for band B8&lt;/p&gt;&lt;/td&gt;&lt;/tr&gt;&lt;tr&gt;&lt;td&gt;SOLAR_IRRADIANCE_B8A&lt;/td&gt;&lt;td&gt;DOUBLE&lt;/td&gt;&lt;td&gt;&lt;p&gt;Mean solar exoatmospheric irradiance for band B8a&lt;/p&gt;&lt;/td&gt;&lt;/tr&gt;&lt;tr&gt;&lt;td&gt;SOLAR_IRRADIANCE_B9&lt;/td&gt;&lt;td&gt;DOUBLE&lt;/td&gt;&lt;td&gt;&lt;p&gt;Mean solar exoatmospheric irradiance for band B9&lt;/p&gt;&lt;/td&gt;&lt;/tr&gt;&lt;tr&gt;&lt;td&gt;SOLAR_IRRADIANCE_B10&lt;/td&gt;&lt;td&gt;DOUBLE&lt;/td&gt;&lt;td&gt;&lt;p&gt;Mean solar exoatmospheric irradiance for band B10&lt;/p&gt;&lt;/td&gt;&lt;/tr&gt;&lt;tr&gt;&lt;td&gt;SOLAR_IRRADIANCE_B11&lt;/td&gt;&lt;td&gt;DOUBLE&lt;/td&gt;&lt;td&gt;&lt;p&gt;Mean solar exoatmospheric irradiance for band B11&lt;/p&gt;&lt;/td&gt;&lt;/tr&gt;&lt;tr&gt;&lt;td&gt;SOLAR_IRRADIANCE_B12&lt;/td&gt;&lt;td&gt;DOUBLE&lt;/td&gt;&lt;td&gt;&lt;p&gt;Mean solar exoatmospheric irradiance for band B12&lt;/p&gt;&lt;/td&gt;&lt;/tr&gt;&lt;tr&gt;&lt;td&gt;SNOW_ICE_PERCENTAGE&lt;/td&gt;&lt;td&gt;DOUBLE&lt;/td&gt;&lt;td&gt;&lt;p&gt;Percentage of pixels classified as snow or ice&lt;/p&gt;&lt;/td&gt;&lt;/tr&gt;&lt;tr&gt;&lt;td&gt;SPACECRAFT_NAME&lt;/td&gt;&lt;td&gt;STRING&lt;/td&gt;&lt;td&gt;&lt;p&gt;Sentinel-2 spacecraft name: Sentinel-2A, Sentinel-2B&lt;/p&gt;&lt;/td&gt;&lt;/tr&gt;&lt;tr&gt;&lt;td&gt;THIN_CIRRUS_PERCENTAGE&lt;/td&gt;&lt;td&gt;DOUBLE&lt;/td&gt;&lt;td&gt;&lt;p&gt;Percentage of pixels classified as thin cirrus clouds&lt;/p&gt;&lt;/td&gt;&lt;/tr&gt;&lt;tr&gt;&lt;td&gt;UNCLASSIFIED_PERCENTAGE&lt;/td&gt;&lt;td&gt;DOUBLE&lt;/td&gt;&lt;td&gt;&lt;p&gt;Percentage of unclassified pixels&lt;/p&gt;&lt;/td&gt;&lt;/tr&gt;&lt;tr&gt;&lt;td&gt;VEGETATION_PERCENTAGE&lt;/td&gt;&lt;td&gt;DOUBLE&lt;/td&gt;&lt;td&gt;&lt;p&gt;Percentage of pixels classified as vegetation&lt;/p&gt;&lt;/td&gt;&lt;/tr&gt;&lt;tr&gt;&lt;td&gt;WATER_PERCENTAGE&lt;/td&gt;&lt;td&gt;DOUBLE&lt;/td&gt;&lt;td&gt;&lt;p&gt;Percentage of pixels classified as water&lt;/p&gt;&lt;/td&gt;&lt;/tr&gt;&lt;tr&gt;&lt;td&gt;WATER_VAPOUR_RETRIEVAL_ACCURACY&lt;/td&gt;&lt;td&gt;DOUBLE&lt;/td&gt;&lt;td&gt;&lt;p&gt;Declared accuracy of the Water Vapor model&lt;/p&gt;&lt;/td&gt;&lt;/tr&gt;&lt;/table&gt;&lt;p&gt;&lt;b&gt;Terms of Use&lt;/b&gt;&lt;br&gt;&lt;p&gt;The use of Sentinel data is governed by the &lt;a href=&quot;https://scihub.copernicus.eu/twiki/pub/SciHubWebPortal/TermsConditions/Sentinel_Data_Terms_and_Conditions.pdf&quot;&gt;Copernicus\n",
       "Sentinel Data Terms and Conditions.&lt;/a&gt;&lt;/p&gt;&lt;style&gt;\n",
       "  table.eecat {\n",
       "  border: 1px solid black;\n",
       "  border-collapse: collapse;\n",
       "  font-size: 13px;\n",
       "  }\n",
       "  table.eecat td, tr, th {\n",
       "  text-align: left; vertical-align: top;\n",
       "  border: 1px solid gray; padding: 3px;\n",
       "  }\n",
       "  td.nobreak { white-space: nowrap; }\n",
       "&lt;/style&gt;</span></li><li><details><summary>keywords: List (7 elements)</summary><ul><li><span class='ee-k'>0:</span><span class='ee-v'>copernicus</span></li><li><span class='ee-k'>1:</span><span class='ee-v'>esa</span></li><li><span class='ee-k'>2:</span><span class='ee-v'>eu</span></li><li><span class='ee-k'>3:</span><span class='ee-v'>msi</span></li><li><span class='ee-k'>4:</span><span class='ee-v'>reflectance</span></li><li><span class='ee-k'>5:</span><span class='ee-v'>sentinel</span></li><li><span class='ee-k'>6:</span><span class='ee-v'>sr</span></li></ul></details></li><li><span class='ee-k'>period:</span><span class='ee-v'>0</span></li><li><details><summary>product_tags: ['msi', 'sr', 'reflectance']</summary><ul><li><span class='ee-k'>0:</span><span class='ee-v'>msi</span></li><li><span class='ee-k'>1:</span><span class='ee-v'>sr</span></li><li><span class='ee-k'>2:</span><span class='ee-v'>reflectance</span></li></ul></details></li><li><span class='ee-k'>provider:</span><span class='ee-v'>European Union/ESA/Copernicus</span></li><li><span class='ee-k'>provider_url:</span><span class='ee-v'>https://earth.esa.int/web/sentinel/user-guides/sentinel-2-msi/product-types/level-2a</span></li><li><span class='ee-k'>sample:</span><span class='ee-v'>https://mw1.google.com/ges/dd/images/COPERNICUS_S2_SR_sample.png</span></li><li><details><summary>source_tags: ['eu', 'esa', 'copernicus', 'sentinel']</summary><ul><li><span class='ee-k'>0:</span><span class='ee-v'>eu</span></li><li><span class='ee-k'>1:</span><span class='ee-v'>esa</span></li><li><span class='ee-k'>2:</span><span class='ee-v'>copernicus</span></li><li><span class='ee-k'>3:</span><span class='ee-v'>sentinel</span></li></ul></details></li><li><span class='ee-k'>system:visualization_0_bands:</span><span class='ee-v'>B4,B3,B2</span></li><li><span class='ee-k'>system:visualization_0_max:</span><span class='ee-v'>3000.0</span></li><li><span class='ee-k'>system:visualization_0_min:</span><span class='ee-v'>0.0</span></li><li><span class='ee-k'>system:visualization_0_name:</span><span class='ee-v'>RGB</span></li><li><details><summary>tags: List (7 elements)</summary><ul><li><span class='ee-k'>0:</span><span class='ee-v'>copernicus</span></li><li><span class='ee-k'>1:</span><span class='ee-v'>esa</span></li><li><span class='ee-k'>2:</span><span class='ee-v'>eu</span></li><li><span class='ee-k'>3:</span><span class='ee-v'>msi</span></li><li><span class='ee-k'>4:</span><span class='ee-v'>reflectance</span></li><li><span class='ee-k'>5:</span><span class='ee-v'>sentinel</span></li><li><span class='ee-k'>6:</span><span class='ee-v'>sr</span></li></ul></details></li><li><span class='ee-k'>thumb:</span><span class='ee-v'>https://mw1.google.com/ges/dd/images/COPERNICUS_S2_SR_thumb.png</span></li><li><span class='ee-k'>title:</span><span class='ee-v'>Sentinel-2 MSI: MultiSpectral Instrument, Level-2A</span></li><li><span class='ee-k'>type_name:</span><span class='ee-v'>ImageCollection</span></li><li><span class='ee-k'>visualization_0_bands:</span><span class='ee-v'>B4,B3,B2</span></li><li><span class='ee-k'>visualization_0_max:</span><span class='ee-v'>3000.0</span></li><li><span class='ee-k'>visualization_0_min:</span><span class='ee-v'>0.0</span></li><li><span class='ee-k'>visualization_0_name:</span><span class='ee-v'>RGB</span></li></ul></details></li><li><details><summary>features: List (5 elements)</summary><ul><li><details><summary>0: Image COPERNICUS/S2_SR/20170328T083601_20170328T084228_T35RNK (23 bands)</summary><ul><li><span class='ee-k'>type:</span><span class='ee-v'>Image</span></li><li><span class='ee-k'>id:</span><span class='ee-v'>COPERNICUS/S2_SR/20170328T083601_20170328T084228_T35RNK</span></li><li><span class='ee-k'>version:</span><span class='ee-v'>1644772313475563</span></li><li><details><summary>bands: List (23 elements)</summary><ul><li><details><summary>0: \"B1\", unsigned int16, EPSG:32635, 1830x1830 px</summary><ul><li><span class='ee-k'>id:</span><span class='ee-v'>B1</span></li><li><span class='ee-k'>crs:</span><span class='ee-v'>EPSG:32635</span></li><li><details><summary>crs_transform: [60, 0, 499980, 0, -60, 3000000]</summary><ul><li><span class='ee-k'>0:</span><span class='ee-v'>60</span></li><li><span class='ee-k'>1:</span><span class='ee-v'>0</span></li><li><span class='ee-k'>2:</span><span class='ee-v'>499980</span></li><li><span class='ee-k'>3:</span><span class='ee-v'>0</span></li><li><span class='ee-k'>4:</span><span class='ee-v'>-60</span></li><li><span class='ee-k'>5:</span><span class='ee-v'>3000000</span></li></ul></details></li><li><details><summary>data_type: unsigned int16</summary><ul><li><span class='ee-k'>type:</span><span class='ee-v'>PixelType</span></li><li><span class='ee-k'>max:</span><span class='ee-v'>65535</span></li><li><span class='ee-k'>min:</span><span class='ee-v'>0</span></li><li><span class='ee-k'>precision:</span><span class='ee-v'>int</span></li></ul></details></li><li><details><summary>dimensions: [1830, 1830]</summary><ul><li><span class='ee-k'>0:</span><span class='ee-v'>1830</span></li><li><span class='ee-k'>1:</span><span class='ee-v'>1830</span></li></ul></details></li></ul></details></li><li><details><summary>1: \"B2\", unsigned int16, EPSG:32635, 10980x10980 px</summary><ul><li><span class='ee-k'>id:</span><span class='ee-v'>B2</span></li><li><span class='ee-k'>crs:</span><span class='ee-v'>EPSG:32635</span></li><li><details><summary>crs_transform: [10, 0, 499980, 0, -10, 3000000]</summary><ul><li><span class='ee-k'>0:</span><span class='ee-v'>10</span></li><li><span class='ee-k'>1:</span><span class='ee-v'>0</span></li><li><span class='ee-k'>2:</span><span class='ee-v'>499980</span></li><li><span class='ee-k'>3:</span><span class='ee-v'>0</span></li><li><span class='ee-k'>4:</span><span class='ee-v'>-10</span></li><li><span class='ee-k'>5:</span><span class='ee-v'>3000000</span></li></ul></details></li><li><details><summary>data_type: unsigned int16</summary><ul><li><span class='ee-k'>type:</span><span class='ee-v'>PixelType</span></li><li><span class='ee-k'>max:</span><span class='ee-v'>65535</span></li><li><span class='ee-k'>min:</span><span class='ee-v'>0</span></li><li><span class='ee-k'>precision:</span><span class='ee-v'>int</span></li></ul></details></li><li><details><summary>dimensions: [10980, 10980]</summary><ul><li><span class='ee-k'>0:</span><span class='ee-v'>10980</span></li><li><span class='ee-k'>1:</span><span class='ee-v'>10980</span></li></ul></details></li></ul></details></li><li><details><summary>2: \"B3\", unsigned int16, EPSG:32635, 10980x10980 px</summary><ul><li><span class='ee-k'>id:</span><span class='ee-v'>B3</span></li><li><span class='ee-k'>crs:</span><span class='ee-v'>EPSG:32635</span></li><li><details><summary>crs_transform: [10, 0, 499980, 0, -10, 3000000]</summary><ul><li><span class='ee-k'>0:</span><span class='ee-v'>10</span></li><li><span class='ee-k'>1:</span><span class='ee-v'>0</span></li><li><span class='ee-k'>2:</span><span class='ee-v'>499980</span></li><li><span class='ee-k'>3:</span><span class='ee-v'>0</span></li><li><span class='ee-k'>4:</span><span class='ee-v'>-10</span></li><li><span class='ee-k'>5:</span><span class='ee-v'>3000000</span></li></ul></details></li><li><details><summary>data_type: unsigned int16</summary><ul><li><span class='ee-k'>type:</span><span class='ee-v'>PixelType</span></li><li><span class='ee-k'>max:</span><span class='ee-v'>65535</span></li><li><span class='ee-k'>min:</span><span class='ee-v'>0</span></li><li><span class='ee-k'>precision:</span><span class='ee-v'>int</span></li></ul></details></li><li><details><summary>dimensions: [10980, 10980]</summary><ul><li><span class='ee-k'>0:</span><span class='ee-v'>10980</span></li><li><span class='ee-k'>1:</span><span class='ee-v'>10980</span></li></ul></details></li></ul></details></li><li><details><summary>3: \"B4\", unsigned int16, EPSG:32635, 10980x10980 px</summary><ul><li><span class='ee-k'>id:</span><span class='ee-v'>B4</span></li><li><span class='ee-k'>crs:</span><span class='ee-v'>EPSG:32635</span></li><li><details><summary>crs_transform: [10, 0, 499980, 0, -10, 3000000]</summary><ul><li><span class='ee-k'>0:</span><span class='ee-v'>10</span></li><li><span class='ee-k'>1:</span><span class='ee-v'>0</span></li><li><span class='ee-k'>2:</span><span class='ee-v'>499980</span></li><li><span class='ee-k'>3:</span><span class='ee-v'>0</span></li><li><span class='ee-k'>4:</span><span class='ee-v'>-10</span></li><li><span class='ee-k'>5:</span><span class='ee-v'>3000000</span></li></ul></details></li><li><details><summary>data_type: unsigned int16</summary><ul><li><span class='ee-k'>type:</span><span class='ee-v'>PixelType</span></li><li><span class='ee-k'>max:</span><span class='ee-v'>65535</span></li><li><span class='ee-k'>min:</span><span class='ee-v'>0</span></li><li><span class='ee-k'>precision:</span><span class='ee-v'>int</span></li></ul></details></li><li><details><summary>dimensions: [10980, 10980]</summary><ul><li><span class='ee-k'>0:</span><span class='ee-v'>10980</span></li><li><span class='ee-k'>1:</span><span class='ee-v'>10980</span></li></ul></details></li></ul></details></li><li><details><summary>4: \"B5\", unsigned int16, EPSG:32635, 5490x5490 px</summary><ul><li><span class='ee-k'>id:</span><span class='ee-v'>B5</span></li><li><span class='ee-k'>crs:</span><span class='ee-v'>EPSG:32635</span></li><li><details><summary>crs_transform: [20, 0, 499980, 0, -20, 3000000]</summary><ul><li><span class='ee-k'>0:</span><span class='ee-v'>20</span></li><li><span class='ee-k'>1:</span><span class='ee-v'>0</span></li><li><span class='ee-k'>2:</span><span class='ee-v'>499980</span></li><li><span class='ee-k'>3:</span><span class='ee-v'>0</span></li><li><span class='ee-k'>4:</span><span class='ee-v'>-20</span></li><li><span class='ee-k'>5:</span><span class='ee-v'>3000000</span></li></ul></details></li><li><details><summary>data_type: unsigned int16</summary><ul><li><span class='ee-k'>type:</span><span class='ee-v'>PixelType</span></li><li><span class='ee-k'>max:</span><span class='ee-v'>65535</span></li><li><span class='ee-k'>min:</span><span class='ee-v'>0</span></li><li><span class='ee-k'>precision:</span><span class='ee-v'>int</span></li></ul></details></li><li><details><summary>dimensions: [5490, 5490]</summary><ul><li><span class='ee-k'>0:</span><span class='ee-v'>5490</span></li><li><span class='ee-k'>1:</span><span class='ee-v'>5490</span></li></ul></details></li></ul></details></li><li><details><summary>5: \"B6\", unsigned int16, EPSG:32635, 5490x5490 px</summary><ul><li><span class='ee-k'>id:</span><span class='ee-v'>B6</span></li><li><span class='ee-k'>crs:</span><span class='ee-v'>EPSG:32635</span></li><li><details><summary>crs_transform: [20, 0, 499980, 0, -20, 3000000]</summary><ul><li><span class='ee-k'>0:</span><span class='ee-v'>20</span></li><li><span class='ee-k'>1:</span><span class='ee-v'>0</span></li><li><span class='ee-k'>2:</span><span class='ee-v'>499980</span></li><li><span class='ee-k'>3:</span><span class='ee-v'>0</span></li><li><span class='ee-k'>4:</span><span class='ee-v'>-20</span></li><li><span class='ee-k'>5:</span><span class='ee-v'>3000000</span></li></ul></details></li><li><details><summary>data_type: unsigned int16</summary><ul><li><span class='ee-k'>type:</span><span class='ee-v'>PixelType</span></li><li><span class='ee-k'>max:</span><span class='ee-v'>65535</span></li><li><span class='ee-k'>min:</span><span class='ee-v'>0</span></li><li><span class='ee-k'>precision:</span><span class='ee-v'>int</span></li></ul></details></li><li><details><summary>dimensions: [5490, 5490]</summary><ul><li><span class='ee-k'>0:</span><span class='ee-v'>5490</span></li><li><span class='ee-k'>1:</span><span class='ee-v'>5490</span></li></ul></details></li></ul></details></li><li><details><summary>6: \"B7\", unsigned int16, EPSG:32635, 5490x5490 px</summary><ul><li><span class='ee-k'>id:</span><span class='ee-v'>B7</span></li><li><span class='ee-k'>crs:</span><span class='ee-v'>EPSG:32635</span></li><li><details><summary>crs_transform: [20, 0, 499980, 0, -20, 3000000]</summary><ul><li><span class='ee-k'>0:</span><span class='ee-v'>20</span></li><li><span class='ee-k'>1:</span><span class='ee-v'>0</span></li><li><span class='ee-k'>2:</span><span class='ee-v'>499980</span></li><li><span class='ee-k'>3:</span><span class='ee-v'>0</span></li><li><span class='ee-k'>4:</span><span class='ee-v'>-20</span></li><li><span class='ee-k'>5:</span><span class='ee-v'>3000000</span></li></ul></details></li><li><details><summary>data_type: unsigned int16</summary><ul><li><span class='ee-k'>type:</span><span class='ee-v'>PixelType</span></li><li><span class='ee-k'>max:</span><span class='ee-v'>65535</span></li><li><span class='ee-k'>min:</span><span class='ee-v'>0</span></li><li><span class='ee-k'>precision:</span><span class='ee-v'>int</span></li></ul></details></li><li><details><summary>dimensions: [5490, 5490]</summary><ul><li><span class='ee-k'>0:</span><span class='ee-v'>5490</span></li><li><span class='ee-k'>1:</span><span class='ee-v'>5490</span></li></ul></details></li></ul></details></li><li><details><summary>7: \"B8\", unsigned int16, EPSG:32635, 10980x10980 px</summary><ul><li><span class='ee-k'>id:</span><span class='ee-v'>B8</span></li><li><span class='ee-k'>crs:</span><span class='ee-v'>EPSG:32635</span></li><li><details><summary>crs_transform: [10, 0, 499980, 0, -10, 3000000]</summary><ul><li><span class='ee-k'>0:</span><span class='ee-v'>10</span></li><li><span class='ee-k'>1:</span><span class='ee-v'>0</span></li><li><span class='ee-k'>2:</span><span class='ee-v'>499980</span></li><li><span class='ee-k'>3:</span><span class='ee-v'>0</span></li><li><span class='ee-k'>4:</span><span class='ee-v'>-10</span></li><li><span class='ee-k'>5:</span><span class='ee-v'>3000000</span></li></ul></details></li><li><details><summary>data_type: unsigned int16</summary><ul><li><span class='ee-k'>type:</span><span class='ee-v'>PixelType</span></li><li><span class='ee-k'>max:</span><span class='ee-v'>65535</span></li><li><span class='ee-k'>min:</span><span class='ee-v'>0</span></li><li><span class='ee-k'>precision:</span><span class='ee-v'>int</span></li></ul></details></li><li><details><summary>dimensions: [10980, 10980]</summary><ul><li><span class='ee-k'>0:</span><span class='ee-v'>10980</span></li><li><span class='ee-k'>1:</span><span class='ee-v'>10980</span></li></ul></details></li></ul></details></li><li><details><summary>8: \"B8A\", unsigned int16, EPSG:32635, 5490x5490 px</summary><ul><li><span class='ee-k'>id:</span><span class='ee-v'>B8A</span></li><li><span class='ee-k'>crs:</span><span class='ee-v'>EPSG:32635</span></li><li><details><summary>crs_transform: [20, 0, 499980, 0, -20, 3000000]</summary><ul><li><span class='ee-k'>0:</span><span class='ee-v'>20</span></li><li><span class='ee-k'>1:</span><span class='ee-v'>0</span></li><li><span class='ee-k'>2:</span><span class='ee-v'>499980</span></li><li><span class='ee-k'>3:</span><span class='ee-v'>0</span></li><li><span class='ee-k'>4:</span><span class='ee-v'>-20</span></li><li><span class='ee-k'>5:</span><span class='ee-v'>3000000</span></li></ul></details></li><li><details><summary>data_type: unsigned int16</summary><ul><li><span class='ee-k'>type:</span><span class='ee-v'>PixelType</span></li><li><span class='ee-k'>max:</span><span class='ee-v'>65535</span></li><li><span class='ee-k'>min:</span><span class='ee-v'>0</span></li><li><span class='ee-k'>precision:</span><span class='ee-v'>int</span></li></ul></details></li><li><details><summary>dimensions: [5490, 5490]</summary><ul><li><span class='ee-k'>0:</span><span class='ee-v'>5490</span></li><li><span class='ee-k'>1:</span><span class='ee-v'>5490</span></li></ul></details></li></ul></details></li><li><details><summary>9: \"B9\", unsigned int16, EPSG:32635, 1830x1830 px</summary><ul><li><span class='ee-k'>id:</span><span class='ee-v'>B9</span></li><li><span class='ee-k'>crs:</span><span class='ee-v'>EPSG:32635</span></li><li><details><summary>crs_transform: [60, 0, 499980, 0, -60, 3000000]</summary><ul><li><span class='ee-k'>0:</span><span class='ee-v'>60</span></li><li><span class='ee-k'>1:</span><span class='ee-v'>0</span></li><li><span class='ee-k'>2:</span><span class='ee-v'>499980</span></li><li><span class='ee-k'>3:</span><span class='ee-v'>0</span></li><li><span class='ee-k'>4:</span><span class='ee-v'>-60</span></li><li><span class='ee-k'>5:</span><span class='ee-v'>3000000</span></li></ul></details></li><li><details><summary>data_type: unsigned int16</summary><ul><li><span class='ee-k'>type:</span><span class='ee-v'>PixelType</span></li><li><span class='ee-k'>max:</span><span class='ee-v'>65535</span></li><li><span class='ee-k'>min:</span><span class='ee-v'>0</span></li><li><span class='ee-k'>precision:</span><span class='ee-v'>int</span></li></ul></details></li><li><details><summary>dimensions: [1830, 1830]</summary><ul><li><span class='ee-k'>0:</span><span class='ee-v'>1830</span></li><li><span class='ee-k'>1:</span><span class='ee-v'>1830</span></li></ul></details></li></ul></details></li><li><details><summary>10: \"B11\", unsigned int16, EPSG:32635, 5490x5490 px</summary><ul><li><span class='ee-k'>id:</span><span class='ee-v'>B11</span></li><li><span class='ee-k'>crs:</span><span class='ee-v'>EPSG:32635</span></li><li><details><summary>crs_transform: [20, 0, 499980, 0, -20, 3000000]</summary><ul><li><span class='ee-k'>0:</span><span class='ee-v'>20</span></li><li><span class='ee-k'>1:</span><span class='ee-v'>0</span></li><li><span class='ee-k'>2:</span><span class='ee-v'>499980</span></li><li><span class='ee-k'>3:</span><span class='ee-v'>0</span></li><li><span class='ee-k'>4:</span><span class='ee-v'>-20</span></li><li><span class='ee-k'>5:</span><span class='ee-v'>3000000</span></li></ul></details></li><li><details><summary>data_type: unsigned int16</summary><ul><li><span class='ee-k'>type:</span><span class='ee-v'>PixelType</span></li><li><span class='ee-k'>max:</span><span class='ee-v'>65535</span></li><li><span class='ee-k'>min:</span><span class='ee-v'>0</span></li><li><span class='ee-k'>precision:</span><span class='ee-v'>int</span></li></ul></details></li><li><details><summary>dimensions: [5490, 5490]</summary><ul><li><span class='ee-k'>0:</span><span class='ee-v'>5490</span></li><li><span class='ee-k'>1:</span><span class='ee-v'>5490</span></li></ul></details></li></ul></details></li><li><details><summary>11: \"B12\", unsigned int16, EPSG:32635, 5490x5490 px</summary><ul><li><span class='ee-k'>id:</span><span class='ee-v'>B12</span></li><li><span class='ee-k'>crs:</span><span class='ee-v'>EPSG:32635</span></li><li><details><summary>crs_transform: [20, 0, 499980, 0, -20, 3000000]</summary><ul><li><span class='ee-k'>0:</span><span class='ee-v'>20</span></li><li><span class='ee-k'>1:</span><span class='ee-v'>0</span></li><li><span class='ee-k'>2:</span><span class='ee-v'>499980</span></li><li><span class='ee-k'>3:</span><span class='ee-v'>0</span></li><li><span class='ee-k'>4:</span><span class='ee-v'>-20</span></li><li><span class='ee-k'>5:</span><span class='ee-v'>3000000</span></li></ul></details></li><li><details><summary>data_type: unsigned int16</summary><ul><li><span class='ee-k'>type:</span><span class='ee-v'>PixelType</span></li><li><span class='ee-k'>max:</span><span class='ee-v'>65535</span></li><li><span class='ee-k'>min:</span><span class='ee-v'>0</span></li><li><span class='ee-k'>precision:</span><span class='ee-v'>int</span></li></ul></details></li><li><details><summary>dimensions: [5490, 5490]</summary><ul><li><span class='ee-k'>0:</span><span class='ee-v'>5490</span></li><li><span class='ee-k'>1:</span><span class='ee-v'>5490</span></li></ul></details></li></ul></details></li><li><details><summary>12: \"AOT\", unsigned int16, EPSG:32635, 10980x10980 px</summary><ul><li><span class='ee-k'>id:</span><span class='ee-v'>AOT</span></li><li><span class='ee-k'>crs:</span><span class='ee-v'>EPSG:32635</span></li><li><details><summary>crs_transform: [10, 0, 499980, 0, -10, 3000000]</summary><ul><li><span class='ee-k'>0:</span><span class='ee-v'>10</span></li><li><span class='ee-k'>1:</span><span class='ee-v'>0</span></li><li><span class='ee-k'>2:</span><span class='ee-v'>499980</span></li><li><span class='ee-k'>3:</span><span class='ee-v'>0</span></li><li><span class='ee-k'>4:</span><span class='ee-v'>-10</span></li><li><span class='ee-k'>5:</span><span class='ee-v'>3000000</span></li></ul></details></li><li><details><summary>data_type: unsigned int16</summary><ul><li><span class='ee-k'>type:</span><span class='ee-v'>PixelType</span></li><li><span class='ee-k'>max:</span><span class='ee-v'>65535</span></li><li><span class='ee-k'>min:</span><span class='ee-v'>0</span></li><li><span class='ee-k'>precision:</span><span class='ee-v'>int</span></li></ul></details></li><li><details><summary>dimensions: [10980, 10980]</summary><ul><li><span class='ee-k'>0:</span><span class='ee-v'>10980</span></li><li><span class='ee-k'>1:</span><span class='ee-v'>10980</span></li></ul></details></li></ul></details></li><li><details><summary>13: \"WVP\", unsigned int16, EPSG:32635, 10980x10980 px</summary><ul><li><span class='ee-k'>id:</span><span class='ee-v'>WVP</span></li><li><span class='ee-k'>crs:</span><span class='ee-v'>EPSG:32635</span></li><li><details><summary>crs_transform: [10, 0, 499980, 0, -10, 3000000]</summary><ul><li><span class='ee-k'>0:</span><span class='ee-v'>10</span></li><li><span class='ee-k'>1:</span><span class='ee-v'>0</span></li><li><span class='ee-k'>2:</span><span class='ee-v'>499980</span></li><li><span class='ee-k'>3:</span><span class='ee-v'>0</span></li><li><span class='ee-k'>4:</span><span class='ee-v'>-10</span></li><li><span class='ee-k'>5:</span><span class='ee-v'>3000000</span></li></ul></details></li><li><details><summary>data_type: unsigned int16</summary><ul><li><span class='ee-k'>type:</span><span class='ee-v'>PixelType</span></li><li><span class='ee-k'>max:</span><span class='ee-v'>65535</span></li><li><span class='ee-k'>min:</span><span class='ee-v'>0</span></li><li><span class='ee-k'>precision:</span><span class='ee-v'>int</span></li></ul></details></li><li><details><summary>dimensions: [10980, 10980]</summary><ul><li><span class='ee-k'>0:</span><span class='ee-v'>10980</span></li><li><span class='ee-k'>1:</span><span class='ee-v'>10980</span></li></ul></details></li></ul></details></li><li><details><summary>14: \"SCL\", unsigned int8, EPSG:32635, 5490x5490 px</summary><ul><li><span class='ee-k'>id:</span><span class='ee-v'>SCL</span></li><li><span class='ee-k'>crs:</span><span class='ee-v'>EPSG:32635</span></li><li><details><summary>crs_transform: [20, 0, 499980, 0, -20, 3000000]</summary><ul><li><span class='ee-k'>0:</span><span class='ee-v'>20</span></li><li><span class='ee-k'>1:</span><span class='ee-v'>0</span></li><li><span class='ee-k'>2:</span><span class='ee-v'>499980</span></li><li><span class='ee-k'>3:</span><span class='ee-v'>0</span></li><li><span class='ee-k'>4:</span><span class='ee-v'>-20</span></li><li><span class='ee-k'>5:</span><span class='ee-v'>3000000</span></li></ul></details></li><li><details><summary>data_type: unsigned int8</summary><ul><li><span class='ee-k'>type:</span><span class='ee-v'>PixelType</span></li><li><span class='ee-k'>max:</span><span class='ee-v'>255</span></li><li><span class='ee-k'>min:</span><span class='ee-v'>0</span></li><li><span class='ee-k'>precision:</span><span class='ee-v'>int</span></li></ul></details></li><li><details><summary>dimensions: [5490, 5490]</summary><ul><li><span class='ee-k'>0:</span><span class='ee-v'>5490</span></li><li><span class='ee-k'>1:</span><span class='ee-v'>5490</span></li></ul></details></li></ul></details></li><li><details><summary>15: \"TCI_R\", unsigned int8, EPSG:32635, 10980x10980 px</summary><ul><li><span class='ee-k'>id:</span><span class='ee-v'>TCI_R</span></li><li><span class='ee-k'>crs:</span><span class='ee-v'>EPSG:32635</span></li><li><details><summary>crs_transform: [10, 0, 499980, 0, -10, 3000000]</summary><ul><li><span class='ee-k'>0:</span><span class='ee-v'>10</span></li><li><span class='ee-k'>1:</span><span class='ee-v'>0</span></li><li><span class='ee-k'>2:</span><span class='ee-v'>499980</span></li><li><span class='ee-k'>3:</span><span class='ee-v'>0</span></li><li><span class='ee-k'>4:</span><span class='ee-v'>-10</span></li><li><span class='ee-k'>5:</span><span class='ee-v'>3000000</span></li></ul></details></li><li><details><summary>data_type: unsigned int8</summary><ul><li><span class='ee-k'>type:</span><span class='ee-v'>PixelType</span></li><li><span class='ee-k'>max:</span><span class='ee-v'>255</span></li><li><span class='ee-k'>min:</span><span class='ee-v'>0</span></li><li><span class='ee-k'>precision:</span><span class='ee-v'>int</span></li></ul></details></li><li><details><summary>dimensions: [10980, 10980]</summary><ul><li><span class='ee-k'>0:</span><span class='ee-v'>10980</span></li><li><span class='ee-k'>1:</span><span class='ee-v'>10980</span></li></ul></details></li></ul></details></li><li><details><summary>16: \"TCI_G\", unsigned int8, EPSG:32635, 10980x10980 px</summary><ul><li><span class='ee-k'>id:</span><span class='ee-v'>TCI_G</span></li><li><span class='ee-k'>crs:</span><span class='ee-v'>EPSG:32635</span></li><li><details><summary>crs_transform: [10, 0, 499980, 0, -10, 3000000]</summary><ul><li><span class='ee-k'>0:</span><span class='ee-v'>10</span></li><li><span class='ee-k'>1:</span><span class='ee-v'>0</span></li><li><span class='ee-k'>2:</span><span class='ee-v'>499980</span></li><li><span class='ee-k'>3:</span><span class='ee-v'>0</span></li><li><span class='ee-k'>4:</span><span class='ee-v'>-10</span></li><li><span class='ee-k'>5:</span><span class='ee-v'>3000000</span></li></ul></details></li><li><details><summary>data_type: unsigned int8</summary><ul><li><span class='ee-k'>type:</span><span class='ee-v'>PixelType</span></li><li><span class='ee-k'>max:</span><span class='ee-v'>255</span></li><li><span class='ee-k'>min:</span><span class='ee-v'>0</span></li><li><span class='ee-k'>precision:</span><span class='ee-v'>int</span></li></ul></details></li><li><details><summary>dimensions: [10980, 10980]</summary><ul><li><span class='ee-k'>0:</span><span class='ee-v'>10980</span></li><li><span class='ee-k'>1:</span><span class='ee-v'>10980</span></li></ul></details></li></ul></details></li><li><details><summary>17: \"TCI_B\", unsigned int8, EPSG:32635, 10980x10980 px</summary><ul><li><span class='ee-k'>id:</span><span class='ee-v'>TCI_B</span></li><li><span class='ee-k'>crs:</span><span class='ee-v'>EPSG:32635</span></li><li><details><summary>crs_transform: [10, 0, 499980, 0, -10, 3000000]</summary><ul><li><span class='ee-k'>0:</span><span class='ee-v'>10</span></li><li><span class='ee-k'>1:</span><span class='ee-v'>0</span></li><li><span class='ee-k'>2:</span><span class='ee-v'>499980</span></li><li><span class='ee-k'>3:</span><span class='ee-v'>0</span></li><li><span class='ee-k'>4:</span><span class='ee-v'>-10</span></li><li><span class='ee-k'>5:</span><span class='ee-v'>3000000</span></li></ul></details></li><li><details><summary>data_type: unsigned int8</summary><ul><li><span class='ee-k'>type:</span><span class='ee-v'>PixelType</span></li><li><span class='ee-k'>max:</span><span class='ee-v'>255</span></li><li><span class='ee-k'>min:</span><span class='ee-v'>0</span></li><li><span class='ee-k'>precision:</span><span class='ee-v'>int</span></li></ul></details></li><li><details><summary>dimensions: [10980, 10980]</summary><ul><li><span class='ee-k'>0:</span><span class='ee-v'>10980</span></li><li><span class='ee-k'>1:</span><span class='ee-v'>10980</span></li></ul></details></li></ul></details></li><li><details><summary>18: \"MSK_CLDPRB\", unsigned int8, EPSG:32635, 1x1 px</summary><ul><li><span class='ee-k'>id:</span><span class='ee-v'>MSK_CLDPRB</span></li><li><span class='ee-k'>crs:</span><span class='ee-v'>EPSG:32635</span></li><li><details><summary>crs_transform: [1, 0, 499980, 0, 1, 3000000]</summary><ul><li><span class='ee-k'>0:</span><span class='ee-v'>1</span></li><li><span class='ee-k'>1:</span><span class='ee-v'>0</span></li><li><span class='ee-k'>2:</span><span class='ee-v'>499980</span></li><li><span class='ee-k'>3:</span><span class='ee-v'>0</span></li><li><span class='ee-k'>4:</span><span class='ee-v'>1</span></li><li><span class='ee-k'>5:</span><span class='ee-v'>3000000</span></li></ul></details></li><li><details><summary>data_type: unsigned int8</summary><ul><li><span class='ee-k'>type:</span><span class='ee-v'>PixelType</span></li><li><span class='ee-k'>max:</span><span class='ee-v'>255</span></li><li><span class='ee-k'>min:</span><span class='ee-v'>0</span></li><li><span class='ee-k'>precision:</span><span class='ee-v'>int</span></li></ul></details></li><li><details><summary>dimensions: [1, 1]</summary><ul><li><span class='ee-k'>0:</span><span class='ee-v'>1</span></li><li><span class='ee-k'>1:</span><span class='ee-v'>1</span></li></ul></details></li></ul></details></li><li><details><summary>19: \"MSK_SNWPRB\", unsigned int8, EPSG:32635, 1x1 px</summary><ul><li><span class='ee-k'>id:</span><span class='ee-v'>MSK_SNWPRB</span></li><li><span class='ee-k'>crs:</span><span class='ee-v'>EPSG:32635</span></li><li><details><summary>crs_transform: [1, 0, 499980, 0, 1, 3000000]</summary><ul><li><span class='ee-k'>0:</span><span class='ee-v'>1</span></li><li><span class='ee-k'>1:</span><span class='ee-v'>0</span></li><li><span class='ee-k'>2:</span><span class='ee-v'>499980</span></li><li><span class='ee-k'>3:</span><span class='ee-v'>0</span></li><li><span class='ee-k'>4:</span><span class='ee-v'>1</span></li><li><span class='ee-k'>5:</span><span class='ee-v'>3000000</span></li></ul></details></li><li><details><summary>data_type: unsigned int8</summary><ul><li><span class='ee-k'>type:</span><span class='ee-v'>PixelType</span></li><li><span class='ee-k'>max:</span><span class='ee-v'>255</span></li><li><span class='ee-k'>min:</span><span class='ee-v'>0</span></li><li><span class='ee-k'>precision:</span><span class='ee-v'>int</span></li></ul></details></li><li><details><summary>dimensions: [1, 1]</summary><ul><li><span class='ee-k'>0:</span><span class='ee-v'>1</span></li><li><span class='ee-k'>1:</span><span class='ee-v'>1</span></li></ul></details></li></ul></details></li><li><details><summary>20: \"QA10\", unsigned int16, EPSG:32635, 10980x10980 px</summary><ul><li><span class='ee-k'>id:</span><span class='ee-v'>QA10</span></li><li><span class='ee-k'>crs:</span><span class='ee-v'>EPSG:32635</span></li><li><details><summary>crs_transform: [10, 0, 499980, 0, -10, 3000000]</summary><ul><li><span class='ee-k'>0:</span><span class='ee-v'>10</span></li><li><span class='ee-k'>1:</span><span class='ee-v'>0</span></li><li><span class='ee-k'>2:</span><span class='ee-v'>499980</span></li><li><span class='ee-k'>3:</span><span class='ee-v'>0</span></li><li><span class='ee-k'>4:</span><span class='ee-v'>-10</span></li><li><span class='ee-k'>5:</span><span class='ee-v'>3000000</span></li></ul></details></li><li><details><summary>data_type: unsigned int16</summary><ul><li><span class='ee-k'>type:</span><span class='ee-v'>PixelType</span></li><li><span class='ee-k'>max:</span><span class='ee-v'>65535</span></li><li><span class='ee-k'>min:</span><span class='ee-v'>0</span></li><li><span class='ee-k'>precision:</span><span class='ee-v'>int</span></li></ul></details></li><li><details><summary>dimensions: [10980, 10980]</summary><ul><li><span class='ee-k'>0:</span><span class='ee-v'>10980</span></li><li><span class='ee-k'>1:</span><span class='ee-v'>10980</span></li></ul></details></li></ul></details></li><li><details><summary>21: \"QA20\", unsigned int32, EPSG:32635, 5490x5490 px</summary><ul><li><span class='ee-k'>id:</span><span class='ee-v'>QA20</span></li><li><span class='ee-k'>crs:</span><span class='ee-v'>EPSG:32635</span></li><li><details><summary>crs_transform: [20, 0, 499980, 0, -20, 3000000]</summary><ul><li><span class='ee-k'>0:</span><span class='ee-v'>20</span></li><li><span class='ee-k'>1:</span><span class='ee-v'>0</span></li><li><span class='ee-k'>2:</span><span class='ee-v'>499980</span></li><li><span class='ee-k'>3:</span><span class='ee-v'>0</span></li><li><span class='ee-k'>4:</span><span class='ee-v'>-20</span></li><li><span class='ee-k'>5:</span><span class='ee-v'>3000000</span></li></ul></details></li><li><details><summary>data_type: unsigned int32</summary><ul><li><span class='ee-k'>type:</span><span class='ee-v'>PixelType</span></li><li><span class='ee-k'>max:</span><span class='ee-v'>4294967295</span></li><li><span class='ee-k'>min:</span><span class='ee-v'>0</span></li><li><span class='ee-k'>precision:</span><span class='ee-v'>int</span></li></ul></details></li><li><details><summary>dimensions: [5490, 5490]</summary><ul><li><span class='ee-k'>0:</span><span class='ee-v'>5490</span></li><li><span class='ee-k'>1:</span><span class='ee-v'>5490</span></li></ul></details></li></ul></details></li><li><details><summary>22: \"QA60\", unsigned int16, EPSG:32635, 1830x1830 px</summary><ul><li><span class='ee-k'>id:</span><span class='ee-v'>QA60</span></li><li><span class='ee-k'>crs:</span><span class='ee-v'>EPSG:32635</span></li><li><details><summary>crs_transform: [60, 0, 499980, 0, -60, 3000000]</summary><ul><li><span class='ee-k'>0:</span><span class='ee-v'>60</span></li><li><span class='ee-k'>1:</span><span class='ee-v'>0</span></li><li><span class='ee-k'>2:</span><span class='ee-v'>499980</span></li><li><span class='ee-k'>3:</span><span class='ee-v'>0</span></li><li><span class='ee-k'>4:</span><span class='ee-v'>-60</span></li><li><span class='ee-k'>5:</span><span class='ee-v'>3000000</span></li></ul></details></li><li><details><summary>data_type: unsigned int16</summary><ul><li><span class='ee-k'>type:</span><span class='ee-v'>PixelType</span></li><li><span class='ee-k'>max:</span><span class='ee-v'>65535</span></li><li><span class='ee-k'>min:</span><span class='ee-v'>0</span></li><li><span class='ee-k'>precision:</span><span class='ee-v'>int</span></li></ul></details></li><li><details><summary>dimensions: [1830, 1830]</summary><ul><li><span class='ee-k'>0:</span><span class='ee-v'>1830</span></li><li><span class='ee-k'>1:</span><span class='ee-v'>1830</span></li></ul></details></li></ul></details></li></ul></details></li><li><details><summary>properties: Object (82 properties)</summary><ul><li><span class='ee-k'>AOT_RETRIEVAL_ACCURACY:</span><span class='ee-v'>0</span></li><li><span class='ee-k'>BARE_SOILS_PERCENTAGE:</span><span class='ee-v'>95.713365</span></li><li><span class='ee-k'>CLOUDY_PIXEL_PERCENTAGE:</span><span class='ee-v'>0.9371</span></li><li><span class='ee-k'>CLOUD_COVERAGE_ASSESSMENT:</span><span class='ee-v'>0.9371</span></li><li><span class='ee-k'>CLOUD_COVERAGE_PERCENTAGE:</span><span class='ee-v'>0.125049</span></li><li><span class='ee-k'>CLOUD_SHADOW_PERCENTAGE:</span><span class='ee-v'>0.002297</span></li><li><span class='ee-k'>DARK_FEATURES_PERCENTAGE:</span><span class='ee-v'>0.009656</span></li><li><span class='ee-k'>DATASTRIP_ID:</span><span class='ee-v'>S2A_USER_MSI_L2A_DS_MPS__20170328T123128_S20170328T084228_N02.04</span></li><li><span class='ee-k'>DATATAKE_IDENTIFIER:</span><span class='ee-v'>GS2A_20170328T083601_009213_N02.04</span></li><li><span class='ee-k'>DATATAKE_TYPE:</span><span class='ee-v'>INS-NOBS</span></li><li><span class='ee-k'>DEGRADED_MSI_DATA_PERCENTAGE:</span><span class='ee-v'>0</span></li><li><span class='ee-k'>FORMAT_CORRECTNESS_FLAG:</span><span class='ee-v'>PASSED</span></li><li><span class='ee-k'>GENERAL_QUALITY_FLAG:</span><span class='ee-v'>PASSED</span></li><li><span class='ee-k'>GENERATION_TIME:</span><span class='ee-v'>1490833524000</span></li><li><span class='ee-k'>GEOMETRIC_QUALITY_FLAG:</span><span class='ee-v'>PASSED</span></li><li><span class='ee-k'>GRANULE_ID:</span><span class='ee-v'>L2A_T35RNK_A009213_20170328T084228</span></li><li><span class='ee-k'>HIGH_PROBA_CLOUDS_PERCENTAGE:</span><span class='ee-v'>0.009395</span></li><li><span class='ee-k'>LOW_PROBA_CLOUDS_PERCENTAGE:</span><span class='ee-v'>3.266497</span></li><li><span class='ee-k'>MEAN_INCIDENCE_AZIMUTH_ANGLE_B1:</span><span class='ee-v'>102.278039620893</span></li><li><span class='ee-k'>MEAN_INCIDENCE_AZIMUTH_ANGLE_B10:</span><span class='ee-v'>102.387203144909</span></li><li><span class='ee-k'>MEAN_INCIDENCE_AZIMUTH_ANGLE_B11:</span><span class='ee-v'>102.315681976464</span></li><li><span class='ee-k'>MEAN_INCIDENCE_AZIMUTH_ANGLE_B12:</span><span class='ee-v'>102.250289538229</span></li><li><span class='ee-k'>MEAN_INCIDENCE_AZIMUTH_ANGLE_B2:</span><span class='ee-v'>102.394454121819</span></li><li><span class='ee-k'>MEAN_INCIDENCE_AZIMUTH_ANGLE_B3:</span><span class='ee-v'>102.389237545572</span></li><li><span class='ee-k'>MEAN_INCIDENCE_AZIMUTH_ANGLE_B4:</span><span class='ee-v'>102.356370499476</span></li><li><span class='ee-k'>MEAN_INCIDENCE_AZIMUTH_ANGLE_B5:</span><span class='ee-v'>102.352643621664</span></li><li><span class='ee-k'>MEAN_INCIDENCE_AZIMUTH_ANGLE_B6:</span><span class='ee-v'>102.352232896132</span></li><li><span class='ee-k'>MEAN_INCIDENCE_AZIMUTH_ANGLE_B7:</span><span class='ee-v'>102.318357793202</span></li><li><span class='ee-k'>MEAN_INCIDENCE_AZIMUTH_ANGLE_B8:</span><span class='ee-v'>102.383153807081</span></li><li><span class='ee-k'>MEAN_INCIDENCE_AZIMUTH_ANGLE_B8A:</span><span class='ee-v'>102.298310347845</span></li><li><span class='ee-k'>MEAN_INCIDENCE_AZIMUTH_ANGLE_B9:</span><span class='ee-v'>102.255545015823</span></li><li><span class='ee-k'>MEAN_INCIDENCE_ZENITH_ANGLE_B1:</span><span class='ee-v'>7.97937567487903</span></li><li><span class='ee-k'>MEAN_INCIDENCE_ZENITH_ANGLE_B10:</span><span class='ee-v'>7.84510879619063</span></li><li><span class='ee-k'>MEAN_INCIDENCE_ZENITH_ANGLE_B11:</span><span class='ee-v'>7.89216314554438</span></li><li><span class='ee-k'>MEAN_INCIDENCE_ZENITH_ANGLE_B12:</span><span class='ee-v'>7.96639694613242</span></li><li><span class='ee-k'>MEAN_INCIDENCE_ZENITH_ANGLE_B2:</span><span class='ee-v'>7.78469074687201</span></li><li><span class='ee-k'>MEAN_INCIDENCE_ZENITH_ANGLE_B3:</span><span class='ee-v'>7.80764616306986</span></li><li><span class='ee-k'>MEAN_INCIDENCE_ZENITH_ANGLE_B4:</span><span class='ee-v'>7.8341910219081</span></li><li><span class='ee-k'>MEAN_INCIDENCE_ZENITH_ANGLE_B5:</span><span class='ee-v'>7.85692977605161</span></li><li><span class='ee-k'>MEAN_INCIDENCE_ZENITH_ANGLE_B6:</span><span class='ee-v'>7.88239106253906</span></li><li><span class='ee-k'>MEAN_INCIDENCE_ZENITH_ANGLE_B7:</span><span class='ee-v'>7.90695091136708</span></li><li><span class='ee-k'>MEAN_INCIDENCE_ZENITH_ANGLE_B8:</span><span class='ee-v'>7.796699156862</span></li><li><span class='ee-k'>MEAN_INCIDENCE_ZENITH_ANGLE_B8A:</span><span class='ee-v'>7.93770186590827</span></li><li><span class='ee-k'>MEAN_INCIDENCE_ZENITH_ANGLE_B9:</span><span class='ee-v'>8.01613094389656</span></li><li><span class='ee-k'>MEAN_SOLAR_AZIMUTH_ANGLE:</span><span class='ee-v'>136.683697922854</span></li><li><span class='ee-k'>MEAN_SOLAR_ZENITH_ANGLE:</span><span class='ee-v'>30.6150451978666</span></li><li><span class='ee-k'>MEDIUM_PROBA_CLOUDS_PERCENTAGE:</span><span class='ee-v'>0.115654</span></li><li><span class='ee-k'>MGRS_TILE:</span><span class='ee-v'>35RNK</span></li><li><span class='ee-k'>NODATA_PIXEL_PERCENTAGE:</span><span class='ee-v'>8.42899</span></li><li><span class='ee-k'>PROCESSING_BASELINE:</span><span class='ee-v'>02.04</span></li><li><span class='ee-k'>PRODUCT_ID:</span><span class='ee-v'>S2A_MSIL2A_20170328T083601_N0204_R064_T35RNK_20170328T084228</span></li><li><span class='ee-k'>RADIATIVE_TRANSFER_ACCURAY:</span><span class='ee-v'>0</span></li><li><span class='ee-k'>RADIOMETRIC_QUALITY_FLAG:</span><span class='ee-v'>PASSED</span></li><li><span class='ee-k'>REFLECTANCE_CONVERSION_CORRECTION:</span><span class='ee-v'>1.00613186852888</span></li><li><span class='ee-k'>SATURATED_DEFECTIVE_PIXEL_PERCENTAGE:</span><span class='ee-v'>0</span></li><li><span class='ee-k'>SENSING_ORBIT_DIRECTION:</span><span class='ee-v'>DESCENDING</span></li><li><span class='ee-k'>SENSING_ORBIT_NUMBER:</span><span class='ee-v'>64</span></li><li><span class='ee-k'>SENSOR_QUALITY_FLAG:</span><span class='ee-v'>PASSED</span></li><li><span class='ee-k'>SNOW_ICE_PERCENTAGE:</span><span class='ee-v'>0</span></li><li><span class='ee-k'>SOLAR_IRRADIANCE_B1:</span><span class='ee-v'>1913.57</span></li><li><span class='ee-k'>SOLAR_IRRADIANCE_B10:</span><span class='ee-v'>367.15</span></li><li><span class='ee-k'>SOLAR_IRRADIANCE_B11:</span><span class='ee-v'>245.59</span></li><li><span class='ee-k'>SOLAR_IRRADIANCE_B12:</span><span class='ee-v'>85.25</span></li><li><span class='ee-k'>SOLAR_IRRADIANCE_B2:</span><span class='ee-v'>1941.63</span></li><li><span class='ee-k'>SOLAR_IRRADIANCE_B3:</span><span class='ee-v'>1822.61</span></li><li><span class='ee-k'>SOLAR_IRRADIANCE_B4:</span><span class='ee-v'>1512.79</span></li><li><span class='ee-k'>SOLAR_IRRADIANCE_B5:</span><span class='ee-v'>1425.56</span></li><li><span class='ee-k'>SOLAR_IRRADIANCE_B6:</span><span class='ee-v'>1288.32</span></li><li><span class='ee-k'>SOLAR_IRRADIANCE_B7:</span><span class='ee-v'>1163.19</span></li><li><span class='ee-k'>SOLAR_IRRADIANCE_B8:</span><span class='ee-v'>1036.39</span></li><li><span class='ee-k'>SOLAR_IRRADIANCE_B8A:</span><span class='ee-v'>955.19</span></li><li><span class='ee-k'>SOLAR_IRRADIANCE_B9:</span><span class='ee-v'>813.04</span></li><li><span class='ee-k'>SPACECRAFT_NAME:</span><span class='ee-v'>Sentinel-2A</span></li><li><span class='ee-k'>THIN_CIRRUS_PERCENTAGE:</span><span class='ee-v'>0</span></li><li><span class='ee-k'>VEGETATION_PERCENTAGE:</span><span class='ee-v'>0.808226</span></li><li><span class='ee-k'>WATER_PERCENTAGE:</span><span class='ee-v'>0.074907</span></li><li><span class='ee-k'>WATER_VAPOUR_RETRIEVAL_ACCURACY:</span><span class='ee-v'>0</span></li><li><span class='ee-k'>system:asset_size:</span><span class='ee-v'>1396774832</span></li><li><details><summary>system:footprint: LinearRing (22 vertices)</summary><ul><li><span class='ee-k'>type:</span><span class='ee-v'>LinearRing</span></li><li><details><summary>coordinates: List (22 elements)</summary><ul><li><details><summary>0: [28.107426889904886, 27.11819105630901]</summary><ul><li><span class='ee-k'>0:</span><span class='ee-v'>28.107426889904886</span></li><li><span class='ee-k'>1:</span><span class='ee-v'>27.11819105630901</span></li></ul></details></li><li><details><summary>1: [28.10741028029859, 27.11819399702698]</summary><ul><li><span class='ee-k'>0:</span><span class='ee-v'>28.10741028029859</span></li><li><span class='ee-k'>1:</span><span class='ee-v'>27.11819399702698</span></li></ul></details></li><li><details><summary>2: [27.21229436586105, 27.122399178330305]</summary><ul><li><span class='ee-k'>0:</span><span class='ee-v'>27.21229436586105</span></li><li><span class='ee-k'>1:</span><span class='ee-v'>27.122399178330305</span></li></ul></details></li><li><details><summary>3: [27.21226134691695, 27.122373367738696]</summary><ul><li><span class='ee-k'>0:</span><span class='ee-v'>27.21226134691695</span></li><li><span class='ee-k'>1:</span><span class='ee-v'>27.122373367738696</span></li></ul></details></li><li><details><summary>4: [27.21221774036841, 27.12236814423152]</summary><ul><li><span class='ee-k'>0:</span><span class='ee-v'>27.21221774036841</span></li><li><span class='ee-k'>1:</span><span class='ee-v'>27.12236814423152</span></li></ul></details></li><li><details><summary>5: [27.21220374320269, 27.122349375161726]</summary><ul><li><span class='ee-k'>0:</span><span class='ee-v'>27.21220374320269</span></li><li><span class='ee-k'>1:</span><span class='ee-v'>27.122349375161726</span></li></ul></details></li><li><details><summary>6: [27.211591366257103, 27.12125813636491]</summary><ul><li><span class='ee-k'>0:</span><span class='ee-v'>27.211591366257103</span></li><li><span class='ee-k'>1:</span><span class='ee-v'>27.12125813636491</span></li></ul></details></li><li><details><summary>7: [27.210978897736958, 27.119081495023572]</summary><ul><li><span class='ee-k'>0:</span><span class='ee-v'>27.210978897736958</span></li><li><span class='ee-k'>1:</span><span class='ee-v'>27.119081495023572</span></li></ul></details></li><li><details><summary>8: [27.204880401375053, 27.09471254136155]</summary><ul><li><span class='ee-k'>0:</span><span class='ee-v'>27.204880401375053</span></li><li><span class='ee-k'>1:</span><span class='ee-v'>27.09471254136155</span></li></ul></details></li><li><details><summary>9: [27.026163360366766, 26.365682201299258]</summary><ul><li><span class='ee-k'>0:</span><span class='ee-v'>27.026163360366766</span></li><li><span class='ee-k'>1:</span><span class='ee-v'>26.365682201299258</span></li></ul></details></li><li><details><summary>10: [27.00390815662182, 26.274125806825698]</summary><ul><li><span class='ee-k'>0:</span><span class='ee-v'>27.00390815662182</span></li><li><span class='ee-k'>1:</span><span class='ee-v'>26.274125806825698</span></li></ul></details></li><li><details><summary>11: [26.999699341299365, 26.256779664191527]</summary><ul><li><span class='ee-k'>0:</span><span class='ee-v'>26.999699341299365</span></li><li><span class='ee-k'>1:</span><span class='ee-v'>26.256779664191527</span></li></ul></details></li><li><details><summary>12: [26.99969970057016, 26.131258307936516]</summary><ul><li><span class='ee-k'>0:</span><span class='ee-v'>26.99969970057016</span></li><li><span class='ee-k'>1:</span><span class='ee-v'>26.131258307936516</span></li></ul></details></li><li><details><summary>13: [26.99974038798357, 26.131216828148673]</summary><ul><li><span class='ee-k'>0:</span><span class='ee-v'>26.99974038798357</span></li><li><span class='ee-k'>1:</span><span class='ee-v'>26.131216828148673</span></li></ul></details></li><li><details><summary>14: [26.99977721322956, 26.131168305082245]</summary><ul><li><span class='ee-k'>0:</span><span class='ee-v'>26.99977721322956</span></li><li><span class='ee-k'>1:</span><span class='ee-v'>26.131168305082245</span></li></ul></details></li><li><details><summary>15: [28.097889859048905, 26.126986431099567]</summary><ul><li><span class='ee-k'>0:</span><span class='ee-v'>28.097889859048905</span></li><li><span class='ee-k'>1:</span><span class='ee-v'>26.126986431099567</span></li></ul></details></li><li><details><summary>16: [28.097936386331536, 26.12702272123306]</summary><ul><li><span class='ee-k'>0:</span><span class='ee-v'>28.097936386331536</span></li><li><span class='ee-k'>1:</span><span class='ee-v'>26.12702272123306</span></li></ul></details></li><li><details><summary>17: [28.097990772333393, 26.1270552865103]</summary><ul><li><span class='ee-k'>0:</span><span class='ee-v'>28.097990772333393</span></li><li><span class='ee-k'>1:</span><span class='ee-v'>26.1270552865103</span></li></ul></details></li><li><details><summary>18: [28.102684961905215, 26.622607117747478]</summary><ul><li><span class='ee-k'>0:</span><span class='ee-v'>28.102684961905215</span></li><li><span class='ee-k'>1:</span><span class='ee-v'>26.622607117747478</span></li></ul></details></li><li><details><summary>19: [28.107501990309334, 27.118103242418634]</summary><ul><li><span class='ee-k'>0:</span><span class='ee-v'>28.107501990309334</span></li><li><span class='ee-k'>1:</span><span class='ee-v'>27.118103242418634</span></li></ul></details></li><li><details><summary>20: [28.10746135929785, 27.118145059123197]</summary><ul><li><span class='ee-k'>0:</span><span class='ee-v'>28.10746135929785</span></li><li><span class='ee-k'>1:</span><span class='ee-v'>27.118145059123197</span></li></ul></details></li><li><details><summary>21: [28.107426889904886, 27.11819105630901]</summary><ul><li><span class='ee-k'>0:</span><span class='ee-v'>28.107426889904886</span></li><li><span class='ee-k'>1:</span><span class='ee-v'>27.11819105630901</span></li></ul></details></li></ul></details></li></ul></details></li><li><span class='ee-k'>system:index:</span><span class='ee-v'>20170328T083601_20170328T084228_T35RNK</span></li><li><span class='ee-k'>system:time_end:</span><span class='ee-v'>1490690548704</span></li><li><span class='ee-k'>system:time_start:</span><span class='ee-v'>1490690548704</span></li></ul></details></li></ul></details></li><li><details><summary>1: Image COPERNICUS/S2_SR/20170328T083601_20170328T084228_T35RNL (23 bands)</summary><ul><li><span class='ee-k'>type:</span><span class='ee-v'>Image</span></li><li><span class='ee-k'>id:</span><span class='ee-v'>COPERNICUS/S2_SR/20170328T083601_20170328T084228_T35RNL</span></li><li><span class='ee-k'>version:</span><span class='ee-v'>1645331235349859</span></li><li><details><summary>bands: List (23 elements)</summary><ul><li><details><summary>0: \"B1\", unsigned int16, EPSG:32635, 1830x1830 px</summary><ul><li><span class='ee-k'>id:</span><span class='ee-v'>B1</span></li><li><span class='ee-k'>crs:</span><span class='ee-v'>EPSG:32635</span></li><li><details><summary>crs_transform: [60, 0, 499980, 0, -60, 3100020]</summary><ul><li><span class='ee-k'>0:</span><span class='ee-v'>60</span></li><li><span class='ee-k'>1:</span><span class='ee-v'>0</span></li><li><span class='ee-k'>2:</span><span class='ee-v'>499980</span></li><li><span class='ee-k'>3:</span><span class='ee-v'>0</span></li><li><span class='ee-k'>4:</span><span class='ee-v'>-60</span></li><li><span class='ee-k'>5:</span><span class='ee-v'>3100020</span></li></ul></details></li><li><details><summary>data_type: unsigned int16</summary><ul><li><span class='ee-k'>type:</span><span class='ee-v'>PixelType</span></li><li><span class='ee-k'>max:</span><span class='ee-v'>65535</span></li><li><span class='ee-k'>min:</span><span class='ee-v'>0</span></li><li><span class='ee-k'>precision:</span><span class='ee-v'>int</span></li></ul></details></li><li><details><summary>dimensions: [1830, 1830]</summary><ul><li><span class='ee-k'>0:</span><span class='ee-v'>1830</span></li><li><span class='ee-k'>1:</span><span class='ee-v'>1830</span></li></ul></details></li></ul></details></li><li><details><summary>1: \"B2\", unsigned int16, EPSG:32635, 10980x10980 px</summary><ul><li><span class='ee-k'>id:</span><span class='ee-v'>B2</span></li><li><span class='ee-k'>crs:</span><span class='ee-v'>EPSG:32635</span></li><li><details><summary>crs_transform: [10, 0, 499980, 0, -10, 3100020]</summary><ul><li><span class='ee-k'>0:</span><span class='ee-v'>10</span></li><li><span class='ee-k'>1:</span><span class='ee-v'>0</span></li><li><span class='ee-k'>2:</span><span class='ee-v'>499980</span></li><li><span class='ee-k'>3:</span><span class='ee-v'>0</span></li><li><span class='ee-k'>4:</span><span class='ee-v'>-10</span></li><li><span class='ee-k'>5:</span><span class='ee-v'>3100020</span></li></ul></details></li><li><details><summary>data_type: unsigned int16</summary><ul><li><span class='ee-k'>type:</span><span class='ee-v'>PixelType</span></li><li><span class='ee-k'>max:</span><span class='ee-v'>65535</span></li><li><span class='ee-k'>min:</span><span class='ee-v'>0</span></li><li><span class='ee-k'>precision:</span><span class='ee-v'>int</span></li></ul></details></li><li><details><summary>dimensions: [10980, 10980]</summary><ul><li><span class='ee-k'>0:</span><span class='ee-v'>10980</span></li><li><span class='ee-k'>1:</span><span class='ee-v'>10980</span></li></ul></details></li></ul></details></li><li><details><summary>2: \"B3\", unsigned int16, EPSG:32635, 10980x10980 px</summary><ul><li><span class='ee-k'>id:</span><span class='ee-v'>B3</span></li><li><span class='ee-k'>crs:</span><span class='ee-v'>EPSG:32635</span></li><li><details><summary>crs_transform: [10, 0, 499980, 0, -10, 3100020]</summary><ul><li><span class='ee-k'>0:</span><span class='ee-v'>10</span></li><li><span class='ee-k'>1:</span><span class='ee-v'>0</span></li><li><span class='ee-k'>2:</span><span class='ee-v'>499980</span></li><li><span class='ee-k'>3:</span><span class='ee-v'>0</span></li><li><span class='ee-k'>4:</span><span class='ee-v'>-10</span></li><li><span class='ee-k'>5:</span><span class='ee-v'>3100020</span></li></ul></details></li><li><details><summary>data_type: unsigned int16</summary><ul><li><span class='ee-k'>type:</span><span class='ee-v'>PixelType</span></li><li><span class='ee-k'>max:</span><span class='ee-v'>65535</span></li><li><span class='ee-k'>min:</span><span class='ee-v'>0</span></li><li><span class='ee-k'>precision:</span><span class='ee-v'>int</span></li></ul></details></li><li><details><summary>dimensions: [10980, 10980]</summary><ul><li><span class='ee-k'>0:</span><span class='ee-v'>10980</span></li><li><span class='ee-k'>1:</span><span class='ee-v'>10980</span></li></ul></details></li></ul></details></li><li><details><summary>3: \"B4\", unsigned int16, EPSG:32635, 10980x10980 px</summary><ul><li><span class='ee-k'>id:</span><span class='ee-v'>B4</span></li><li><span class='ee-k'>crs:</span><span class='ee-v'>EPSG:32635</span></li><li><details><summary>crs_transform: [10, 0, 499980, 0, -10, 3100020]</summary><ul><li><span class='ee-k'>0:</span><span class='ee-v'>10</span></li><li><span class='ee-k'>1:</span><span class='ee-v'>0</span></li><li><span class='ee-k'>2:</span><span class='ee-v'>499980</span></li><li><span class='ee-k'>3:</span><span class='ee-v'>0</span></li><li><span class='ee-k'>4:</span><span class='ee-v'>-10</span></li><li><span class='ee-k'>5:</span><span class='ee-v'>3100020</span></li></ul></details></li><li><details><summary>data_type: unsigned int16</summary><ul><li><span class='ee-k'>type:</span><span class='ee-v'>PixelType</span></li><li><span class='ee-k'>max:</span><span class='ee-v'>65535</span></li><li><span class='ee-k'>min:</span><span class='ee-v'>0</span></li><li><span class='ee-k'>precision:</span><span class='ee-v'>int</span></li></ul></details></li><li><details><summary>dimensions: [10980, 10980]</summary><ul><li><span class='ee-k'>0:</span><span class='ee-v'>10980</span></li><li><span class='ee-k'>1:</span><span class='ee-v'>10980</span></li></ul></details></li></ul></details></li><li><details><summary>4: \"B5\", unsigned int16, EPSG:32635, 5490x5490 px</summary><ul><li><span class='ee-k'>id:</span><span class='ee-v'>B5</span></li><li><span class='ee-k'>crs:</span><span class='ee-v'>EPSG:32635</span></li><li><details><summary>crs_transform: [20, 0, 499980, 0, -20, 3100020]</summary><ul><li><span class='ee-k'>0:</span><span class='ee-v'>20</span></li><li><span class='ee-k'>1:</span><span class='ee-v'>0</span></li><li><span class='ee-k'>2:</span><span class='ee-v'>499980</span></li><li><span class='ee-k'>3:</span><span class='ee-v'>0</span></li><li><span class='ee-k'>4:</span><span class='ee-v'>-20</span></li><li><span class='ee-k'>5:</span><span class='ee-v'>3100020</span></li></ul></details></li><li><details><summary>data_type: unsigned int16</summary><ul><li><span class='ee-k'>type:</span><span class='ee-v'>PixelType</span></li><li><span class='ee-k'>max:</span><span class='ee-v'>65535</span></li><li><span class='ee-k'>min:</span><span class='ee-v'>0</span></li><li><span class='ee-k'>precision:</span><span class='ee-v'>int</span></li></ul></details></li><li><details><summary>dimensions: [5490, 5490]</summary><ul><li><span class='ee-k'>0:</span><span class='ee-v'>5490</span></li><li><span class='ee-k'>1:</span><span class='ee-v'>5490</span></li></ul></details></li></ul></details></li><li><details><summary>5: \"B6\", unsigned int16, EPSG:32635, 5490x5490 px</summary><ul><li><span class='ee-k'>id:</span><span class='ee-v'>B6</span></li><li><span class='ee-k'>crs:</span><span class='ee-v'>EPSG:32635</span></li><li><details><summary>crs_transform: [20, 0, 499980, 0, -20, 3100020]</summary><ul><li><span class='ee-k'>0:</span><span class='ee-v'>20</span></li><li><span class='ee-k'>1:</span><span class='ee-v'>0</span></li><li><span class='ee-k'>2:</span><span class='ee-v'>499980</span></li><li><span class='ee-k'>3:</span><span class='ee-v'>0</span></li><li><span class='ee-k'>4:</span><span class='ee-v'>-20</span></li><li><span class='ee-k'>5:</span><span class='ee-v'>3100020</span></li></ul></details></li><li><details><summary>data_type: unsigned int16</summary><ul><li><span class='ee-k'>type:</span><span class='ee-v'>PixelType</span></li><li><span class='ee-k'>max:</span><span class='ee-v'>65535</span></li><li><span class='ee-k'>min:</span><span class='ee-v'>0</span></li><li><span class='ee-k'>precision:</span><span class='ee-v'>int</span></li></ul></details></li><li><details><summary>dimensions: [5490, 5490]</summary><ul><li><span class='ee-k'>0:</span><span class='ee-v'>5490</span></li><li><span class='ee-k'>1:</span><span class='ee-v'>5490</span></li></ul></details></li></ul></details></li><li><details><summary>6: \"B7\", unsigned int16, EPSG:32635, 5490x5490 px</summary><ul><li><span class='ee-k'>id:</span><span class='ee-v'>B7</span></li><li><span class='ee-k'>crs:</span><span class='ee-v'>EPSG:32635</span></li><li><details><summary>crs_transform: [20, 0, 499980, 0, -20, 3100020]</summary><ul><li><span class='ee-k'>0:</span><span class='ee-v'>20</span></li><li><span class='ee-k'>1:</span><span class='ee-v'>0</span></li><li><span class='ee-k'>2:</span><span class='ee-v'>499980</span></li><li><span class='ee-k'>3:</span><span class='ee-v'>0</span></li><li><span class='ee-k'>4:</span><span class='ee-v'>-20</span></li><li><span class='ee-k'>5:</span><span class='ee-v'>3100020</span></li></ul></details></li><li><details><summary>data_type: unsigned int16</summary><ul><li><span class='ee-k'>type:</span><span class='ee-v'>PixelType</span></li><li><span class='ee-k'>max:</span><span class='ee-v'>65535</span></li><li><span class='ee-k'>min:</span><span class='ee-v'>0</span></li><li><span class='ee-k'>precision:</span><span class='ee-v'>int</span></li></ul></details></li><li><details><summary>dimensions: [5490, 5490]</summary><ul><li><span class='ee-k'>0:</span><span class='ee-v'>5490</span></li><li><span class='ee-k'>1:</span><span class='ee-v'>5490</span></li></ul></details></li></ul></details></li><li><details><summary>7: \"B8\", unsigned int16, EPSG:32635, 10980x10980 px</summary><ul><li><span class='ee-k'>id:</span><span class='ee-v'>B8</span></li><li><span class='ee-k'>crs:</span><span class='ee-v'>EPSG:32635</span></li><li><details><summary>crs_transform: [10, 0, 499980, 0, -10, 3100020]</summary><ul><li><span class='ee-k'>0:</span><span class='ee-v'>10</span></li><li><span class='ee-k'>1:</span><span class='ee-v'>0</span></li><li><span class='ee-k'>2:</span><span class='ee-v'>499980</span></li><li><span class='ee-k'>3:</span><span class='ee-v'>0</span></li><li><span class='ee-k'>4:</span><span class='ee-v'>-10</span></li><li><span class='ee-k'>5:</span><span class='ee-v'>3100020</span></li></ul></details></li><li><details><summary>data_type: unsigned int16</summary><ul><li><span class='ee-k'>type:</span><span class='ee-v'>PixelType</span></li><li><span class='ee-k'>max:</span><span class='ee-v'>65535</span></li><li><span class='ee-k'>min:</span><span class='ee-v'>0</span></li><li><span class='ee-k'>precision:</span><span class='ee-v'>int</span></li></ul></details></li><li><details><summary>dimensions: [10980, 10980]</summary><ul><li><span class='ee-k'>0:</span><span class='ee-v'>10980</span></li><li><span class='ee-k'>1:</span><span class='ee-v'>10980</span></li></ul></details></li></ul></details></li><li><details><summary>8: \"B8A\", unsigned int16, EPSG:32635, 5490x5490 px</summary><ul><li><span class='ee-k'>id:</span><span class='ee-v'>B8A</span></li><li><span class='ee-k'>crs:</span><span class='ee-v'>EPSG:32635</span></li><li><details><summary>crs_transform: [20, 0, 499980, 0, -20, 3100020]</summary><ul><li><span class='ee-k'>0:</span><span class='ee-v'>20</span></li><li><span class='ee-k'>1:</span><span class='ee-v'>0</span></li><li><span class='ee-k'>2:</span><span class='ee-v'>499980</span></li><li><span class='ee-k'>3:</span><span class='ee-v'>0</span></li><li><span class='ee-k'>4:</span><span class='ee-v'>-20</span></li><li><span class='ee-k'>5:</span><span class='ee-v'>3100020</span></li></ul></details></li><li><details><summary>data_type: unsigned int16</summary><ul><li><span class='ee-k'>type:</span><span class='ee-v'>PixelType</span></li><li><span class='ee-k'>max:</span><span class='ee-v'>65535</span></li><li><span class='ee-k'>min:</span><span class='ee-v'>0</span></li><li><span class='ee-k'>precision:</span><span class='ee-v'>int</span></li></ul></details></li><li><details><summary>dimensions: [5490, 5490]</summary><ul><li><span class='ee-k'>0:</span><span class='ee-v'>5490</span></li><li><span class='ee-k'>1:</span><span class='ee-v'>5490</span></li></ul></details></li></ul></details></li><li><details><summary>9: \"B9\", unsigned int16, EPSG:32635, 1830x1830 px</summary><ul><li><span class='ee-k'>id:</span><span class='ee-v'>B9</span></li><li><span class='ee-k'>crs:</span><span class='ee-v'>EPSG:32635</span></li><li><details><summary>crs_transform: [60, 0, 499980, 0, -60, 3100020]</summary><ul><li><span class='ee-k'>0:</span><span class='ee-v'>60</span></li><li><span class='ee-k'>1:</span><span class='ee-v'>0</span></li><li><span class='ee-k'>2:</span><span class='ee-v'>499980</span></li><li><span class='ee-k'>3:</span><span class='ee-v'>0</span></li><li><span class='ee-k'>4:</span><span class='ee-v'>-60</span></li><li><span class='ee-k'>5:</span><span class='ee-v'>3100020</span></li></ul></details></li><li><details><summary>data_type: unsigned int16</summary><ul><li><span class='ee-k'>type:</span><span class='ee-v'>PixelType</span></li><li><span class='ee-k'>max:</span><span class='ee-v'>65535</span></li><li><span class='ee-k'>min:</span><span class='ee-v'>0</span></li><li><span class='ee-k'>precision:</span><span class='ee-v'>int</span></li></ul></details></li><li><details><summary>dimensions: [1830, 1830]</summary><ul><li><span class='ee-k'>0:</span><span class='ee-v'>1830</span></li><li><span class='ee-k'>1:</span><span class='ee-v'>1830</span></li></ul></details></li></ul></details></li><li><details><summary>10: \"B11\", unsigned int16, EPSG:32635, 5490x5490 px</summary><ul><li><span class='ee-k'>id:</span><span class='ee-v'>B11</span></li><li><span class='ee-k'>crs:</span><span class='ee-v'>EPSG:32635</span></li><li><details><summary>crs_transform: [20, 0, 499980, 0, -20, 3100020]</summary><ul><li><span class='ee-k'>0:</span><span class='ee-v'>20</span></li><li><span class='ee-k'>1:</span><span class='ee-v'>0</span></li><li><span class='ee-k'>2:</span><span class='ee-v'>499980</span></li><li><span class='ee-k'>3:</span><span class='ee-v'>0</span></li><li><span class='ee-k'>4:</span><span class='ee-v'>-20</span></li><li><span class='ee-k'>5:</span><span class='ee-v'>3100020</span></li></ul></details></li><li><details><summary>data_type: unsigned int16</summary><ul><li><span class='ee-k'>type:</span><span class='ee-v'>PixelType</span></li><li><span class='ee-k'>max:</span><span class='ee-v'>65535</span></li><li><span class='ee-k'>min:</span><span class='ee-v'>0</span></li><li><span class='ee-k'>precision:</span><span class='ee-v'>int</span></li></ul></details></li><li><details><summary>dimensions: [5490, 5490]</summary><ul><li><span class='ee-k'>0:</span><span class='ee-v'>5490</span></li><li><span class='ee-k'>1:</span><span class='ee-v'>5490</span></li></ul></details></li></ul></details></li><li><details><summary>11: \"B12\", unsigned int16, EPSG:32635, 5490x5490 px</summary><ul><li><span class='ee-k'>id:</span><span class='ee-v'>B12</span></li><li><span class='ee-k'>crs:</span><span class='ee-v'>EPSG:32635</span></li><li><details><summary>crs_transform: [20, 0, 499980, 0, -20, 3100020]</summary><ul><li><span class='ee-k'>0:</span><span class='ee-v'>20</span></li><li><span class='ee-k'>1:</span><span class='ee-v'>0</span></li><li><span class='ee-k'>2:</span><span class='ee-v'>499980</span></li><li><span class='ee-k'>3:</span><span class='ee-v'>0</span></li><li><span class='ee-k'>4:</span><span class='ee-v'>-20</span></li><li><span class='ee-k'>5:</span><span class='ee-v'>3100020</span></li></ul></details></li><li><details><summary>data_type: unsigned int16</summary><ul><li><span class='ee-k'>type:</span><span class='ee-v'>PixelType</span></li><li><span class='ee-k'>max:</span><span class='ee-v'>65535</span></li><li><span class='ee-k'>min:</span><span class='ee-v'>0</span></li><li><span class='ee-k'>precision:</span><span class='ee-v'>int</span></li></ul></details></li><li><details><summary>dimensions: [5490, 5490]</summary><ul><li><span class='ee-k'>0:</span><span class='ee-v'>5490</span></li><li><span class='ee-k'>1:</span><span class='ee-v'>5490</span></li></ul></details></li></ul></details></li><li><details><summary>12: \"AOT\", unsigned int16, EPSG:32635, 10980x10980 px</summary><ul><li><span class='ee-k'>id:</span><span class='ee-v'>AOT</span></li><li><span class='ee-k'>crs:</span><span class='ee-v'>EPSG:32635</span></li><li><details><summary>crs_transform: [10, 0, 499980, 0, -10, 3100020]</summary><ul><li><span class='ee-k'>0:</span><span class='ee-v'>10</span></li><li><span class='ee-k'>1:</span><span class='ee-v'>0</span></li><li><span class='ee-k'>2:</span><span class='ee-v'>499980</span></li><li><span class='ee-k'>3:</span><span class='ee-v'>0</span></li><li><span class='ee-k'>4:</span><span class='ee-v'>-10</span></li><li><span class='ee-k'>5:</span><span class='ee-v'>3100020</span></li></ul></details></li><li><details><summary>data_type: unsigned int16</summary><ul><li><span class='ee-k'>type:</span><span class='ee-v'>PixelType</span></li><li><span class='ee-k'>max:</span><span class='ee-v'>65535</span></li><li><span class='ee-k'>min:</span><span class='ee-v'>0</span></li><li><span class='ee-k'>precision:</span><span class='ee-v'>int</span></li></ul></details></li><li><details><summary>dimensions: [10980, 10980]</summary><ul><li><span class='ee-k'>0:</span><span class='ee-v'>10980</span></li><li><span class='ee-k'>1:</span><span class='ee-v'>10980</span></li></ul></details></li></ul></details></li><li><details><summary>13: \"WVP\", unsigned int16, EPSG:32635, 10980x10980 px</summary><ul><li><span class='ee-k'>id:</span><span class='ee-v'>WVP</span></li><li><span class='ee-k'>crs:</span><span class='ee-v'>EPSG:32635</span></li><li><details><summary>crs_transform: [10, 0, 499980, 0, -10, 3100020]</summary><ul><li><span class='ee-k'>0:</span><span class='ee-v'>10</span></li><li><span class='ee-k'>1:</span><span class='ee-v'>0</span></li><li><span class='ee-k'>2:</span><span class='ee-v'>499980</span></li><li><span class='ee-k'>3:</span><span class='ee-v'>0</span></li><li><span class='ee-k'>4:</span><span class='ee-v'>-10</span></li><li><span class='ee-k'>5:</span><span class='ee-v'>3100020</span></li></ul></details></li><li><details><summary>data_type: unsigned int16</summary><ul><li><span class='ee-k'>type:</span><span class='ee-v'>PixelType</span></li><li><span class='ee-k'>max:</span><span class='ee-v'>65535</span></li><li><span class='ee-k'>min:</span><span class='ee-v'>0</span></li><li><span class='ee-k'>precision:</span><span class='ee-v'>int</span></li></ul></details></li><li><details><summary>dimensions: [10980, 10980]</summary><ul><li><span class='ee-k'>0:</span><span class='ee-v'>10980</span></li><li><span class='ee-k'>1:</span><span class='ee-v'>10980</span></li></ul></details></li></ul></details></li><li><details><summary>14: \"SCL\", unsigned int8, EPSG:32635, 5490x5490 px</summary><ul><li><span class='ee-k'>id:</span><span class='ee-v'>SCL</span></li><li><span class='ee-k'>crs:</span><span class='ee-v'>EPSG:32635</span></li><li><details><summary>crs_transform: [20, 0, 499980, 0, -20, 3100020]</summary><ul><li><span class='ee-k'>0:</span><span class='ee-v'>20</span></li><li><span class='ee-k'>1:</span><span class='ee-v'>0</span></li><li><span class='ee-k'>2:</span><span class='ee-v'>499980</span></li><li><span class='ee-k'>3:</span><span class='ee-v'>0</span></li><li><span class='ee-k'>4:</span><span class='ee-v'>-20</span></li><li><span class='ee-k'>5:</span><span class='ee-v'>3100020</span></li></ul></details></li><li><details><summary>data_type: unsigned int8</summary><ul><li><span class='ee-k'>type:</span><span class='ee-v'>PixelType</span></li><li><span class='ee-k'>max:</span><span class='ee-v'>255</span></li><li><span class='ee-k'>min:</span><span class='ee-v'>0</span></li><li><span class='ee-k'>precision:</span><span class='ee-v'>int</span></li></ul></details></li><li><details><summary>dimensions: [5490, 5490]</summary><ul><li><span class='ee-k'>0:</span><span class='ee-v'>5490</span></li><li><span class='ee-k'>1:</span><span class='ee-v'>5490</span></li></ul></details></li></ul></details></li><li><details><summary>15: \"TCI_R\", unsigned int8, EPSG:32635, 10980x10980 px</summary><ul><li><span class='ee-k'>id:</span><span class='ee-v'>TCI_R</span></li><li><span class='ee-k'>crs:</span><span class='ee-v'>EPSG:32635</span></li><li><details><summary>crs_transform: [10, 0, 499980, 0, -10, 3100020]</summary><ul><li><span class='ee-k'>0:</span><span class='ee-v'>10</span></li><li><span class='ee-k'>1:</span><span class='ee-v'>0</span></li><li><span class='ee-k'>2:</span><span class='ee-v'>499980</span></li><li><span class='ee-k'>3:</span><span class='ee-v'>0</span></li><li><span class='ee-k'>4:</span><span class='ee-v'>-10</span></li><li><span class='ee-k'>5:</span><span class='ee-v'>3100020</span></li></ul></details></li><li><details><summary>data_type: unsigned int8</summary><ul><li><span class='ee-k'>type:</span><span class='ee-v'>PixelType</span></li><li><span class='ee-k'>max:</span><span class='ee-v'>255</span></li><li><span class='ee-k'>min:</span><span class='ee-v'>0</span></li><li><span class='ee-k'>precision:</span><span class='ee-v'>int</span></li></ul></details></li><li><details><summary>dimensions: [10980, 10980]</summary><ul><li><span class='ee-k'>0:</span><span class='ee-v'>10980</span></li><li><span class='ee-k'>1:</span><span class='ee-v'>10980</span></li></ul></details></li></ul></details></li><li><details><summary>16: \"TCI_G\", unsigned int8, EPSG:32635, 10980x10980 px</summary><ul><li><span class='ee-k'>id:</span><span class='ee-v'>TCI_G</span></li><li><span class='ee-k'>crs:</span><span class='ee-v'>EPSG:32635</span></li><li><details><summary>crs_transform: [10, 0, 499980, 0, -10, 3100020]</summary><ul><li><span class='ee-k'>0:</span><span class='ee-v'>10</span></li><li><span class='ee-k'>1:</span><span class='ee-v'>0</span></li><li><span class='ee-k'>2:</span><span class='ee-v'>499980</span></li><li><span class='ee-k'>3:</span><span class='ee-v'>0</span></li><li><span class='ee-k'>4:</span><span class='ee-v'>-10</span></li><li><span class='ee-k'>5:</span><span class='ee-v'>3100020</span></li></ul></details></li><li><details><summary>data_type: unsigned int8</summary><ul><li><span class='ee-k'>type:</span><span class='ee-v'>PixelType</span></li><li><span class='ee-k'>max:</span><span class='ee-v'>255</span></li><li><span class='ee-k'>min:</span><span class='ee-v'>0</span></li><li><span class='ee-k'>precision:</span><span class='ee-v'>int</span></li></ul></details></li><li><details><summary>dimensions: [10980, 10980]</summary><ul><li><span class='ee-k'>0:</span><span class='ee-v'>10980</span></li><li><span class='ee-k'>1:</span><span class='ee-v'>10980</span></li></ul></details></li></ul></details></li><li><details><summary>17: \"TCI_B\", unsigned int8, EPSG:32635, 10980x10980 px</summary><ul><li><span class='ee-k'>id:</span><span class='ee-v'>TCI_B</span></li><li><span class='ee-k'>crs:</span><span class='ee-v'>EPSG:32635</span></li><li><details><summary>crs_transform: [10, 0, 499980, 0, -10, 3100020]</summary><ul><li><span class='ee-k'>0:</span><span class='ee-v'>10</span></li><li><span class='ee-k'>1:</span><span class='ee-v'>0</span></li><li><span class='ee-k'>2:</span><span class='ee-v'>499980</span></li><li><span class='ee-k'>3:</span><span class='ee-v'>0</span></li><li><span class='ee-k'>4:</span><span class='ee-v'>-10</span></li><li><span class='ee-k'>5:</span><span class='ee-v'>3100020</span></li></ul></details></li><li><details><summary>data_type: unsigned int8</summary><ul><li><span class='ee-k'>type:</span><span class='ee-v'>PixelType</span></li><li><span class='ee-k'>max:</span><span class='ee-v'>255</span></li><li><span class='ee-k'>min:</span><span class='ee-v'>0</span></li><li><span class='ee-k'>precision:</span><span class='ee-v'>int</span></li></ul></details></li><li><details><summary>dimensions: [10980, 10980]</summary><ul><li><span class='ee-k'>0:</span><span class='ee-v'>10980</span></li><li><span class='ee-k'>1:</span><span class='ee-v'>10980</span></li></ul></details></li></ul></details></li><li><details><summary>18: \"MSK_CLDPRB\", unsigned int8, EPSG:32635, 1x1 px</summary><ul><li><span class='ee-k'>id:</span><span class='ee-v'>MSK_CLDPRB</span></li><li><span class='ee-k'>crs:</span><span class='ee-v'>EPSG:32635</span></li><li><details><summary>crs_transform: [1, 0, 499980, 0, 1, 3100020]</summary><ul><li><span class='ee-k'>0:</span><span class='ee-v'>1</span></li><li><span class='ee-k'>1:</span><span class='ee-v'>0</span></li><li><span class='ee-k'>2:</span><span class='ee-v'>499980</span></li><li><span class='ee-k'>3:</span><span class='ee-v'>0</span></li><li><span class='ee-k'>4:</span><span class='ee-v'>1</span></li><li><span class='ee-k'>5:</span><span class='ee-v'>3100020</span></li></ul></details></li><li><details><summary>data_type: unsigned int8</summary><ul><li><span class='ee-k'>type:</span><span class='ee-v'>PixelType</span></li><li><span class='ee-k'>max:</span><span class='ee-v'>255</span></li><li><span class='ee-k'>min:</span><span class='ee-v'>0</span></li><li><span class='ee-k'>precision:</span><span class='ee-v'>int</span></li></ul></details></li><li><details><summary>dimensions: [1, 1]</summary><ul><li><span class='ee-k'>0:</span><span class='ee-v'>1</span></li><li><span class='ee-k'>1:</span><span class='ee-v'>1</span></li></ul></details></li></ul></details></li><li><details><summary>19: \"MSK_SNWPRB\", unsigned int8, EPSG:32635, 1x1 px</summary><ul><li><span class='ee-k'>id:</span><span class='ee-v'>MSK_SNWPRB</span></li><li><span class='ee-k'>crs:</span><span class='ee-v'>EPSG:32635</span></li><li><details><summary>crs_transform: [1, 0, 499980, 0, 1, 3100020]</summary><ul><li><span class='ee-k'>0:</span><span class='ee-v'>1</span></li><li><span class='ee-k'>1:</span><span class='ee-v'>0</span></li><li><span class='ee-k'>2:</span><span class='ee-v'>499980</span></li><li><span class='ee-k'>3:</span><span class='ee-v'>0</span></li><li><span class='ee-k'>4:</span><span class='ee-v'>1</span></li><li><span class='ee-k'>5:</span><span class='ee-v'>3100020</span></li></ul></details></li><li><details><summary>data_type: unsigned int8</summary><ul><li><span class='ee-k'>type:</span><span class='ee-v'>PixelType</span></li><li><span class='ee-k'>max:</span><span class='ee-v'>255</span></li><li><span class='ee-k'>min:</span><span class='ee-v'>0</span></li><li><span class='ee-k'>precision:</span><span class='ee-v'>int</span></li></ul></details></li><li><details><summary>dimensions: [1, 1]</summary><ul><li><span class='ee-k'>0:</span><span class='ee-v'>1</span></li><li><span class='ee-k'>1:</span><span class='ee-v'>1</span></li></ul></details></li></ul></details></li><li><details><summary>20: \"QA10\", unsigned int16, EPSG:32635, 10980x10980 px</summary><ul><li><span class='ee-k'>id:</span><span class='ee-v'>QA10</span></li><li><span class='ee-k'>crs:</span><span class='ee-v'>EPSG:32635</span></li><li><details><summary>crs_transform: [10, 0, 499980, 0, -10, 3100020]</summary><ul><li><span class='ee-k'>0:</span><span class='ee-v'>10</span></li><li><span class='ee-k'>1:</span><span class='ee-v'>0</span></li><li><span class='ee-k'>2:</span><span class='ee-v'>499980</span></li><li><span class='ee-k'>3:</span><span class='ee-v'>0</span></li><li><span class='ee-k'>4:</span><span class='ee-v'>-10</span></li><li><span class='ee-k'>5:</span><span class='ee-v'>3100020</span></li></ul></details></li><li><details><summary>data_type: unsigned int16</summary><ul><li><span class='ee-k'>type:</span><span class='ee-v'>PixelType</span></li><li><span class='ee-k'>max:</span><span class='ee-v'>65535</span></li><li><span class='ee-k'>min:</span><span class='ee-v'>0</span></li><li><span class='ee-k'>precision:</span><span class='ee-v'>int</span></li></ul></details></li><li><details><summary>dimensions: [10980, 10980]</summary><ul><li><span class='ee-k'>0:</span><span class='ee-v'>10980</span></li><li><span class='ee-k'>1:</span><span class='ee-v'>10980</span></li></ul></details></li></ul></details></li><li><details><summary>21: \"QA20\", unsigned int32, EPSG:32635, 5490x5490 px</summary><ul><li><span class='ee-k'>id:</span><span class='ee-v'>QA20</span></li><li><span class='ee-k'>crs:</span><span class='ee-v'>EPSG:32635</span></li><li><details><summary>crs_transform: [20, 0, 499980, 0, -20, 3100020]</summary><ul><li><span class='ee-k'>0:</span><span class='ee-v'>20</span></li><li><span class='ee-k'>1:</span><span class='ee-v'>0</span></li><li><span class='ee-k'>2:</span><span class='ee-v'>499980</span></li><li><span class='ee-k'>3:</span><span class='ee-v'>0</span></li><li><span class='ee-k'>4:</span><span class='ee-v'>-20</span></li><li><span class='ee-k'>5:</span><span class='ee-v'>3100020</span></li></ul></details></li><li><details><summary>data_type: unsigned int32</summary><ul><li><span class='ee-k'>type:</span><span class='ee-v'>PixelType</span></li><li><span class='ee-k'>max:</span><span class='ee-v'>4294967295</span></li><li><span class='ee-k'>min:</span><span class='ee-v'>0</span></li><li><span class='ee-k'>precision:</span><span class='ee-v'>int</span></li></ul></details></li><li><details><summary>dimensions: [5490, 5490]</summary><ul><li><span class='ee-k'>0:</span><span class='ee-v'>5490</span></li><li><span class='ee-k'>1:</span><span class='ee-v'>5490</span></li></ul></details></li></ul></details></li><li><details><summary>22: \"QA60\", unsigned int16, EPSG:32635, 1830x1830 px</summary><ul><li><span class='ee-k'>id:</span><span class='ee-v'>QA60</span></li><li><span class='ee-k'>crs:</span><span class='ee-v'>EPSG:32635</span></li><li><details><summary>crs_transform: [60, 0, 499980, 0, -60, 3100020]</summary><ul><li><span class='ee-k'>0:</span><span class='ee-v'>60</span></li><li><span class='ee-k'>1:</span><span class='ee-v'>0</span></li><li><span class='ee-k'>2:</span><span class='ee-v'>499980</span></li><li><span class='ee-k'>3:</span><span class='ee-v'>0</span></li><li><span class='ee-k'>4:</span><span class='ee-v'>-60</span></li><li><span class='ee-k'>5:</span><span class='ee-v'>3100020</span></li></ul></details></li><li><details><summary>data_type: unsigned int16</summary><ul><li><span class='ee-k'>type:</span><span class='ee-v'>PixelType</span></li><li><span class='ee-k'>max:</span><span class='ee-v'>65535</span></li><li><span class='ee-k'>min:</span><span class='ee-v'>0</span></li><li><span class='ee-k'>precision:</span><span class='ee-v'>int</span></li></ul></details></li><li><details><summary>dimensions: [1830, 1830]</summary><ul><li><span class='ee-k'>0:</span><span class='ee-v'>1830</span></li><li><span class='ee-k'>1:</span><span class='ee-v'>1830</span></li></ul></details></li></ul></details></li></ul></details></li><li><details><summary>properties: Object (82 properties)</summary><ul><li><span class='ee-k'>AOT_RETRIEVAL_ACCURACY:</span><span class='ee-v'>0</span></li><li><span class='ee-k'>BARE_SOILS_PERCENTAGE:</span><span class='ee-v'>95.071429</span></li><li><span class='ee-k'>CLOUDY_PIXEL_PERCENTAGE:</span><span class='ee-v'>1.4639</span></li><li><span class='ee-k'>CLOUD_COVERAGE_ASSESSMENT:</span><span class='ee-v'>1.4639</span></li><li><span class='ee-k'>CLOUD_COVERAGE_PERCENTAGE:</span><span class='ee-v'>0.224897</span></li><li><span class='ee-k'>CLOUD_SHADOW_PERCENTAGE:</span><span class='ee-v'>0.00428</span></li><li><span class='ee-k'>DARK_FEATURES_PERCENTAGE:</span><span class='ee-v'>0.015394</span></li><li><span class='ee-k'>DATASTRIP_ID:</span><span class='ee-v'>S2A_USER_MSI_L2A_DS_MPS__20170328T123128_S20170328T084228_N02.04</span></li><li><span class='ee-k'>DATATAKE_IDENTIFIER:</span><span class='ee-v'>GS2A_20170328T083601_009213_N02.04</span></li><li><span class='ee-k'>DATATAKE_TYPE:</span><span class='ee-v'>INS-NOBS</span></li><li><span class='ee-k'>DEGRADED_MSI_DATA_PERCENTAGE:</span><span class='ee-v'>0</span></li><li><span class='ee-k'>FORMAT_CORRECTNESS_FLAG:</span><span class='ee-v'>PASSED</span></li><li><span class='ee-k'>GENERAL_QUALITY_FLAG:</span><span class='ee-v'>PASSED</span></li><li><span class='ee-k'>GENERATION_TIME:</span><span class='ee-v'>1490845271000</span></li><li><span class='ee-k'>GEOMETRIC_QUALITY_FLAG:</span><span class='ee-v'>PASSED</span></li><li><span class='ee-k'>GRANULE_ID:</span><span class='ee-v'>L2A_T35RNL_A009213_20170328T084228</span></li><li><span class='ee-k'>HIGH_PROBA_CLOUDS_PERCENTAGE:</span><span class='ee-v'>0.023603</span></li><li><span class='ee-k'>LOW_PROBA_CLOUDS_PERCENTAGE:</span><span class='ee-v'>4.163379</span></li><li><span class='ee-k'>MEAN_INCIDENCE_AZIMUTH_ANGLE_B1:</span><span class='ee-v'>104.567115178866</span></li><li><span class='ee-k'>MEAN_INCIDENCE_AZIMUTH_ANGLE_B10:</span><span class='ee-v'>103.623644544347</span></li><li><span class='ee-k'>MEAN_INCIDENCE_AZIMUTH_ANGLE_B11:</span><span class='ee-v'>104.025182064291</span></li><li><span class='ee-k'>MEAN_INCIDENCE_AZIMUTH_ANGLE_B12:</span><span class='ee-v'>104.417025490871</span></li><li><span class='ee-k'>MEAN_INCIDENCE_AZIMUTH_ANGLE_B2:</span><span class='ee-v'>102.921134879922</span></li><li><span class='ee-k'>MEAN_INCIDENCE_AZIMUTH_ANGLE_B3:</span><span class='ee-v'>103.271249840646</span></li><li><span class='ee-k'>MEAN_INCIDENCE_AZIMUTH_ANGLE_B4:</span><span class='ee-v'>103.609273219246</span></li><li><span class='ee-k'>MEAN_INCIDENCE_AZIMUTH_ANGLE_B5:</span><span class='ee-v'>103.794543873275</span></li><li><span class='ee-k'>MEAN_INCIDENCE_AZIMUTH_ANGLE_B6:</span><span class='ee-v'>103.96451343688</span></li><li><span class='ee-k'>MEAN_INCIDENCE_AZIMUTH_ANGLE_B7:</span><span class='ee-v'>104.1436317374</span></li><li><span class='ee-k'>MEAN_INCIDENCE_AZIMUTH_ANGLE_B8:</span><span class='ee-v'>103.090969679931</span></li><li><span class='ee-k'>MEAN_INCIDENCE_AZIMUTH_ANGLE_B8A:</span><span class='ee-v'>104.310902315755</span></li><li><span class='ee-k'>MEAN_INCIDENCE_AZIMUTH_ANGLE_B9:</span><span class='ee-v'>104.739293125948</span></li><li><span class='ee-k'>MEAN_INCIDENCE_ZENITH_ANGLE_B1:</span><span class='ee-v'>8.81858851727027</span></li><li><span class='ee-k'>MEAN_INCIDENCE_ZENITH_ANGLE_B10:</span><span class='ee-v'>8.67435939192528</span></li><li><span class='ee-k'>MEAN_INCIDENCE_ZENITH_ANGLE_B11:</span><span class='ee-v'>8.72342663472199</span></li><li><span class='ee-k'>MEAN_INCIDENCE_ZENITH_ANGLE_B12:</span><span class='ee-v'>8.78689327580851</span></li><li><span class='ee-k'>MEAN_INCIDENCE_ZENITH_ANGLE_B2:</span><span class='ee-v'>8.64634171324533</span></li><li><span class='ee-k'>MEAN_INCIDENCE_ZENITH_ANGLE_B3:</span><span class='ee-v'>8.67223171051305</span></li><li><span class='ee-k'>MEAN_INCIDENCE_ZENITH_ANGLE_B4:</span><span class='ee-v'>8.6957486028144</span></li><li><span class='ee-k'>MEAN_INCIDENCE_ZENITH_ANGLE_B5:</span><span class='ee-v'>8.71515053173898</span></li><li><span class='ee-k'>MEAN_INCIDENCE_ZENITH_ANGLE_B6:</span><span class='ee-v'>8.73686759238397</span></li><li><span class='ee-k'>MEAN_INCIDENCE_ZENITH_ANGLE_B7:</span><span class='ee-v'>8.76095504402237</span></li><li><span class='ee-k'>MEAN_INCIDENCE_ZENITH_ANGLE_B8:</span><span class='ee-v'>8.65963151760375</span></li><li><span class='ee-k'>MEAN_INCIDENCE_ZENITH_ANGLE_B8A:</span><span class='ee-v'>8.78726632686348</span></li><li><span class='ee-k'>MEAN_INCIDENCE_ZENITH_ANGLE_B9:</span><span class='ee-v'>8.85022609569992</span></li><li><span class='ee-k'>MEAN_SOLAR_AZIMUTH_ANGLE:</span><span class='ee-v'>137.619664879748</span></li><li><span class='ee-k'>MEAN_SOLAR_ZENITH_ANGLE:</span><span class='ee-v'>31.3115801677624</span></li><li><span class='ee-k'>MEDIUM_PROBA_CLOUDS_PERCENTAGE:</span><span class='ee-v'>0.201293</span></li><li><span class='ee-k'>MGRS_TILE:</span><span class='ee-v'>35RNL</span></li><li><span class='ee-k'>NODATA_PIXEL_PERCENTAGE:</span><span class='ee-v'>28.142375</span></li><li><span class='ee-k'>PROCESSING_BASELINE:</span><span class='ee-v'>02.04</span></li><li><span class='ee-k'>PRODUCT_ID:</span><span class='ee-v'>S2A_MSIL2A_20170328T083601_N0204_R064_T35RNL_20170328T084228</span></li><li><span class='ee-k'>RADIATIVE_TRANSFER_ACCURAY:</span><span class='ee-v'>0</span></li><li><span class='ee-k'>RADIOMETRIC_QUALITY_FLAG:</span><span class='ee-v'>PASSED</span></li><li><span class='ee-k'>REFLECTANCE_CONVERSION_CORRECTION:</span><span class='ee-v'>1.00613186852888</span></li><li><span class='ee-k'>SATURATED_DEFECTIVE_PIXEL_PERCENTAGE:</span><span class='ee-v'>0</span></li><li><span class='ee-k'>SENSING_ORBIT_DIRECTION:</span><span class='ee-v'>DESCENDING</span></li><li><span class='ee-k'>SENSING_ORBIT_NUMBER:</span><span class='ee-v'>64</span></li><li><span class='ee-k'>SENSOR_QUALITY_FLAG:</span><span class='ee-v'>PASSED</span></li><li><span class='ee-k'>SNOW_ICE_PERCENTAGE:</span><span class='ee-v'>0</span></li><li><span class='ee-k'>SOLAR_IRRADIANCE_B1:</span><span class='ee-v'>1913.57</span></li><li><span class='ee-k'>SOLAR_IRRADIANCE_B10:</span><span class='ee-v'>367.15</span></li><li><span class='ee-k'>SOLAR_IRRADIANCE_B11:</span><span class='ee-v'>245.59</span></li><li><span class='ee-k'>SOLAR_IRRADIANCE_B12:</span><span class='ee-v'>85.25</span></li><li><span class='ee-k'>SOLAR_IRRADIANCE_B2:</span><span class='ee-v'>1941.63</span></li><li><span class='ee-k'>SOLAR_IRRADIANCE_B3:</span><span class='ee-v'>1822.61</span></li><li><span class='ee-k'>SOLAR_IRRADIANCE_B4:</span><span class='ee-v'>1512.79</span></li><li><span class='ee-k'>SOLAR_IRRADIANCE_B5:</span><span class='ee-v'>1425.56</span></li><li><span class='ee-k'>SOLAR_IRRADIANCE_B6:</span><span class='ee-v'>1288.32</span></li><li><span class='ee-k'>SOLAR_IRRADIANCE_B7:</span><span class='ee-v'>1163.19</span></li><li><span class='ee-k'>SOLAR_IRRADIANCE_B8:</span><span class='ee-v'>1036.39</span></li><li><span class='ee-k'>SOLAR_IRRADIANCE_B8A:</span><span class='ee-v'>955.19</span></li><li><span class='ee-k'>SOLAR_IRRADIANCE_B9:</span><span class='ee-v'>813.04</span></li><li><span class='ee-k'>SPACECRAFT_NAME:</span><span class='ee-v'>Sentinel-2A</span></li><li><span class='ee-k'>THIN_CIRRUS_PERCENTAGE:</span><span class='ee-v'>0</span></li><li><span class='ee-k'>VEGETATION_PERCENTAGE:</span><span class='ee-v'>0.413109</span></li><li><span class='ee-k'>WATER_PERCENTAGE:</span><span class='ee-v'>0.107508</span></li><li><span class='ee-k'>WATER_VAPOUR_RETRIEVAL_ACCURACY:</span><span class='ee-v'>0</span></li><li><span class='ee-k'>system:asset_size:</span><span class='ee-v'>1080391315</span></li><li><details><summary>system:footprint: LinearRing (18 vertices)</summary><ul><li><span class='ee-k'>type:</span><span class='ee-v'>LinearRing</span></li><li><details><summary>coordinates: List (18 elements)</summary><ul><li><details><summary>0: [27.190682408582873, 27.034158897336546]</summary><ul><li><span class='ee-k'>0:</span><span class='ee-v'>27.190682408582873</span></li><li><span class='ee-k'>1:</span><span class='ee-v'>27.034158897336546</span></li></ul></details></li><li><details><summary>1: [27.19073445483362, 27.034132335517047]</summary><ul><li><span class='ee-k'>0:</span><span class='ee-v'>27.19073445483362</span></li><li><span class='ee-k'>1:</span><span class='ee-v'>27.034132335517047</span></li></ul></details></li><li><details><summary>2: [28.106534523179548, 27.029912420691925]</summary><ul><li><span class='ee-k'>0:</span><span class='ee-v'>28.106534523179548</span></li><li><span class='ee-k'>1:</span><span class='ee-v'>27.029912420691925</span></li></ul></details></li><li><details><summary>3: [28.106636235177547, 27.029981184406896]</summary><ul><li><span class='ee-k'>0:</span><span class='ee-v'>28.106636235177547</span></li><li><span class='ee-k'>1:</span><span class='ee-v'>27.029981184406896</span></li></ul></details></li><li><details><summary>4: [28.111556382016165, 27.525468373085424]</summary><ul><li><span class='ee-k'>0:</span><span class='ee-v'>28.111556382016165</span></li><li><span class='ee-k'>1:</span><span class='ee-v'>27.525468373085424</span></li></ul></details></li><li><details><summary>5: [28.116603813411917, 28.020898981476286]</summary><ul><li><span class='ee-k'>0:</span><span class='ee-v'>28.116603813411917</span></li><li><span class='ee-k'>1:</span><span class='ee-v'>28.020898981476286</span></li></ul></details></li><li><details><summary>6: [28.11652585949817, 28.020989543017414]</summary><ul><li><span class='ee-k'>0:</span><span class='ee-v'>28.11652585949817</span></li><li><span class='ee-k'>1:</span><span class='ee-v'>28.020989543017414</span></li></ul></details></li><li><details><summary>7: [27.434992680075922, 28.024837067155904]</summary><ul><li><span class='ee-k'>0:</span><span class='ee-v'>27.434992680075922</span></li><li><span class='ee-k'>1:</span><span class='ee-v'>28.024837067155904</span></li></ul></details></li><li><details><summary>8: [27.434899111573532, 28.02478888439672]</summary><ul><li><span class='ee-k'>0:</span><span class='ee-v'>27.434899111573532</span></li><li><span class='ee-k'>1:</span><span class='ee-v'>28.02478888439672</span></li></ul></details></li><li><details><summary>9: [27.434274065656627, 28.02260321041018]</summary><ul><li><span class='ee-k'>0:</span><span class='ee-v'>27.434274065656627</span></li><li><span class='ee-k'>1:</span><span class='ee-v'>28.02260321041018</span></li></ul></details></li><li><details><summary>10: [27.425592675412876, 27.987964799783466]</summary><ul><li><span class='ee-k'>0:</span><span class='ee-v'>27.425592675412876</span></li><li><span class='ee-k'>1:</span><span class='ee-v'>27.987964799783466</span></li></ul></details></li><li><details><summary>11: [27.38783188823215, 27.83641785076414]</summary><ul><li><span class='ee-k'>0:</span><span class='ee-v'>27.38783188823215</span></li><li><span class='ee-k'>1:</span><span class='ee-v'>27.83641785076414</span></li></ul></details></li><li><details><summary>12: [27.37115234984851, 27.769299525576862]</summary><ul><li><span class='ee-k'>0:</span><span class='ee-v'>27.37115234984851</span></li><li><span class='ee-k'>1:</span><span class='ee-v'>27.769299525576862</span></li></ul></details></li><li><details><summary>13: [27.237849414188453, 27.22954375117679]</summary><ul><li><span class='ee-k'>0:</span><span class='ee-v'>27.237849414188453</span></li><li><span class='ee-k'>1:</span><span class='ee-v'>27.22954375117679</span></li></ul></details></li><li><details><summary>14: [27.231738000313083, 27.204635961266323]</summary><ul><li><span class='ee-k'>0:</span><span class='ee-v'>27.231738000313083</span></li><li><span class='ee-k'>1:</span><span class='ee-v'>27.204635961266323</span></li></ul></details></li><li><details><summary>15: [27.190251411274478, 27.03513543849035]</summary><ul><li><span class='ee-k'>0:</span><span class='ee-v'>27.190251411274478</span></li><li><span class='ee-k'>1:</span><span class='ee-v'>27.03513543849035</span></li></ul></details></li><li><details><summary>16: [27.190250424188196, 27.034546999952813]</summary><ul><li><span class='ee-k'>0:</span><span class='ee-v'>27.190250424188196</span></li><li><span class='ee-k'>1:</span><span class='ee-v'>27.034546999952813</span></li></ul></details></li><li><details><summary>17: [27.190682408582873, 27.034158897336546]</summary><ul><li><span class='ee-k'>0:</span><span class='ee-v'>27.190682408582873</span></li><li><span class='ee-k'>1:</span><span class='ee-v'>27.034158897336546</span></li></ul></details></li></ul></details></li></ul></details></li><li><span class='ee-k'>system:index:</span><span class='ee-v'>20170328T083601_20170328T084228_T35RNL</span></li><li><span class='ee-k'>system:time_end:</span><span class='ee-v'>1490690548704</span></li><li><span class='ee-k'>system:time_start:</span><span class='ee-v'>1490690548704</span></li></ul></details></li></ul></details></li><li><details><summary>2: Image COPERNICUS/S2_SR/20170328T083601_20170328T084228_T35RNM (23 bands)</summary><ul><li><span class='ee-k'>type:</span><span class='ee-v'>Image</span></li><li><span class='ee-k'>id:</span><span class='ee-v'>COPERNICUS/S2_SR/20170328T083601_20170328T084228_T35RNM</span></li><li><span class='ee-k'>version:</span><span class='ee-v'>1740716938099599</span></li><li><details><summary>bands: List (23 elements)</summary><ul><li><details><summary>0: \"B1\", unsigned int16, EPSG:32635, 1830x1830 px</summary><ul><li><span class='ee-k'>id:</span><span class='ee-v'>B1</span></li><li><span class='ee-k'>crs:</span><span class='ee-v'>EPSG:32635</span></li><li><details><summary>crs_transform: [60, 0, 499980, 0, -60, 3200040]</summary><ul><li><span class='ee-k'>0:</span><span class='ee-v'>60</span></li><li><span class='ee-k'>1:</span><span class='ee-v'>0</span></li><li><span class='ee-k'>2:</span><span class='ee-v'>499980</span></li><li><span class='ee-k'>3:</span><span class='ee-v'>0</span></li><li><span class='ee-k'>4:</span><span class='ee-v'>-60</span></li><li><span class='ee-k'>5:</span><span class='ee-v'>3200040</span></li></ul></details></li><li><details><summary>data_type: unsigned int16</summary><ul><li><span class='ee-k'>type:</span><span class='ee-v'>PixelType</span></li><li><span class='ee-k'>max:</span><span class='ee-v'>65535</span></li><li><span class='ee-k'>min:</span><span class='ee-v'>0</span></li><li><span class='ee-k'>precision:</span><span class='ee-v'>int</span></li></ul></details></li><li><details><summary>dimensions: [1830, 1830]</summary><ul><li><span class='ee-k'>0:</span><span class='ee-v'>1830</span></li><li><span class='ee-k'>1:</span><span class='ee-v'>1830</span></li></ul></details></li></ul></details></li><li><details><summary>1: \"B2\", unsigned int16, EPSG:32635, 10980x10980 px</summary><ul><li><span class='ee-k'>id:</span><span class='ee-v'>B2</span></li><li><span class='ee-k'>crs:</span><span class='ee-v'>EPSG:32635</span></li><li><details><summary>crs_transform: [10, 0, 499980, 0, -10, 3200040]</summary><ul><li><span class='ee-k'>0:</span><span class='ee-v'>10</span></li><li><span class='ee-k'>1:</span><span class='ee-v'>0</span></li><li><span class='ee-k'>2:</span><span class='ee-v'>499980</span></li><li><span class='ee-k'>3:</span><span class='ee-v'>0</span></li><li><span class='ee-k'>4:</span><span class='ee-v'>-10</span></li><li><span class='ee-k'>5:</span><span class='ee-v'>3200040</span></li></ul></details></li><li><details><summary>data_type: unsigned int16</summary><ul><li><span class='ee-k'>type:</span><span class='ee-v'>PixelType</span></li><li><span class='ee-k'>max:</span><span class='ee-v'>65535</span></li><li><span class='ee-k'>min:</span><span class='ee-v'>0</span></li><li><span class='ee-k'>precision:</span><span class='ee-v'>int</span></li></ul></details></li><li><details><summary>dimensions: [10980, 10980]</summary><ul><li><span class='ee-k'>0:</span><span class='ee-v'>10980</span></li><li><span class='ee-k'>1:</span><span class='ee-v'>10980</span></li></ul></details></li></ul></details></li><li><details><summary>2: \"B3\", unsigned int16, EPSG:32635, 10980x10980 px</summary><ul><li><span class='ee-k'>id:</span><span class='ee-v'>B3</span></li><li><span class='ee-k'>crs:</span><span class='ee-v'>EPSG:32635</span></li><li><details><summary>crs_transform: [10, 0, 499980, 0, -10, 3200040]</summary><ul><li><span class='ee-k'>0:</span><span class='ee-v'>10</span></li><li><span class='ee-k'>1:</span><span class='ee-v'>0</span></li><li><span class='ee-k'>2:</span><span class='ee-v'>499980</span></li><li><span class='ee-k'>3:</span><span class='ee-v'>0</span></li><li><span class='ee-k'>4:</span><span class='ee-v'>-10</span></li><li><span class='ee-k'>5:</span><span class='ee-v'>3200040</span></li></ul></details></li><li><details><summary>data_type: unsigned int16</summary><ul><li><span class='ee-k'>type:</span><span class='ee-v'>PixelType</span></li><li><span class='ee-k'>max:</span><span class='ee-v'>65535</span></li><li><span class='ee-k'>min:</span><span class='ee-v'>0</span></li><li><span class='ee-k'>precision:</span><span class='ee-v'>int</span></li></ul></details></li><li><details><summary>dimensions: [10980, 10980]</summary><ul><li><span class='ee-k'>0:</span><span class='ee-v'>10980</span></li><li><span class='ee-k'>1:</span><span class='ee-v'>10980</span></li></ul></details></li></ul></details></li><li><details><summary>3: \"B4\", unsigned int16, EPSG:32635, 10980x10980 px</summary><ul><li><span class='ee-k'>id:</span><span class='ee-v'>B4</span></li><li><span class='ee-k'>crs:</span><span class='ee-v'>EPSG:32635</span></li><li><details><summary>crs_transform: [10, 0, 499980, 0, -10, 3200040]</summary><ul><li><span class='ee-k'>0:</span><span class='ee-v'>10</span></li><li><span class='ee-k'>1:</span><span class='ee-v'>0</span></li><li><span class='ee-k'>2:</span><span class='ee-v'>499980</span></li><li><span class='ee-k'>3:</span><span class='ee-v'>0</span></li><li><span class='ee-k'>4:</span><span class='ee-v'>-10</span></li><li><span class='ee-k'>5:</span><span class='ee-v'>3200040</span></li></ul></details></li><li><details><summary>data_type: unsigned int16</summary><ul><li><span class='ee-k'>type:</span><span class='ee-v'>PixelType</span></li><li><span class='ee-k'>max:</span><span class='ee-v'>65535</span></li><li><span class='ee-k'>min:</span><span class='ee-v'>0</span></li><li><span class='ee-k'>precision:</span><span class='ee-v'>int</span></li></ul></details></li><li><details><summary>dimensions: [10980, 10980]</summary><ul><li><span class='ee-k'>0:</span><span class='ee-v'>10980</span></li><li><span class='ee-k'>1:</span><span class='ee-v'>10980</span></li></ul></details></li></ul></details></li><li><details><summary>4: \"B5\", unsigned int16, EPSG:32635, 5490x5490 px</summary><ul><li><span class='ee-k'>id:</span><span class='ee-v'>B5</span></li><li><span class='ee-k'>crs:</span><span class='ee-v'>EPSG:32635</span></li><li><details><summary>crs_transform: [20, 0, 499980, 0, -20, 3200040]</summary><ul><li><span class='ee-k'>0:</span><span class='ee-v'>20</span></li><li><span class='ee-k'>1:</span><span class='ee-v'>0</span></li><li><span class='ee-k'>2:</span><span class='ee-v'>499980</span></li><li><span class='ee-k'>3:</span><span class='ee-v'>0</span></li><li><span class='ee-k'>4:</span><span class='ee-v'>-20</span></li><li><span class='ee-k'>5:</span><span class='ee-v'>3200040</span></li></ul></details></li><li><details><summary>data_type: unsigned int16</summary><ul><li><span class='ee-k'>type:</span><span class='ee-v'>PixelType</span></li><li><span class='ee-k'>max:</span><span class='ee-v'>65535</span></li><li><span class='ee-k'>min:</span><span class='ee-v'>0</span></li><li><span class='ee-k'>precision:</span><span class='ee-v'>int</span></li></ul></details></li><li><details><summary>dimensions: [5490, 5490]</summary><ul><li><span class='ee-k'>0:</span><span class='ee-v'>5490</span></li><li><span class='ee-k'>1:</span><span class='ee-v'>5490</span></li></ul></details></li></ul></details></li><li><details><summary>5: \"B6\", unsigned int16, EPSG:32635, 5490x5490 px</summary><ul><li><span class='ee-k'>id:</span><span class='ee-v'>B6</span></li><li><span class='ee-k'>crs:</span><span class='ee-v'>EPSG:32635</span></li><li><details><summary>crs_transform: [20, 0, 499980, 0, -20, 3200040]</summary><ul><li><span class='ee-k'>0:</span><span class='ee-v'>20</span></li><li><span class='ee-k'>1:</span><span class='ee-v'>0</span></li><li><span class='ee-k'>2:</span><span class='ee-v'>499980</span></li><li><span class='ee-k'>3:</span><span class='ee-v'>0</span></li><li><span class='ee-k'>4:</span><span class='ee-v'>-20</span></li><li><span class='ee-k'>5:</span><span class='ee-v'>3200040</span></li></ul></details></li><li><details><summary>data_type: unsigned int16</summary><ul><li><span class='ee-k'>type:</span><span class='ee-v'>PixelType</span></li><li><span class='ee-k'>max:</span><span class='ee-v'>65535</span></li><li><span class='ee-k'>min:</span><span class='ee-v'>0</span></li><li><span class='ee-k'>precision:</span><span class='ee-v'>int</span></li></ul></details></li><li><details><summary>dimensions: [5490, 5490]</summary><ul><li><span class='ee-k'>0:</span><span class='ee-v'>5490</span></li><li><span class='ee-k'>1:</span><span class='ee-v'>5490</span></li></ul></details></li></ul></details></li><li><details><summary>6: \"B7\", unsigned int16, EPSG:32635, 5490x5490 px</summary><ul><li><span class='ee-k'>id:</span><span class='ee-v'>B7</span></li><li><span class='ee-k'>crs:</span><span class='ee-v'>EPSG:32635</span></li><li><details><summary>crs_transform: [20, 0, 499980, 0, -20, 3200040]</summary><ul><li><span class='ee-k'>0:</span><span class='ee-v'>20</span></li><li><span class='ee-k'>1:</span><span class='ee-v'>0</span></li><li><span class='ee-k'>2:</span><span class='ee-v'>499980</span></li><li><span class='ee-k'>3:</span><span class='ee-v'>0</span></li><li><span class='ee-k'>4:</span><span class='ee-v'>-20</span></li><li><span class='ee-k'>5:</span><span class='ee-v'>3200040</span></li></ul></details></li><li><details><summary>data_type: unsigned int16</summary><ul><li><span class='ee-k'>type:</span><span class='ee-v'>PixelType</span></li><li><span class='ee-k'>max:</span><span class='ee-v'>65535</span></li><li><span class='ee-k'>min:</span><span class='ee-v'>0</span></li><li><span class='ee-k'>precision:</span><span class='ee-v'>int</span></li></ul></details></li><li><details><summary>dimensions: [5490, 5490]</summary><ul><li><span class='ee-k'>0:</span><span class='ee-v'>5490</span></li><li><span class='ee-k'>1:</span><span class='ee-v'>5490</span></li></ul></details></li></ul></details></li><li><details><summary>7: \"B8\", unsigned int16, EPSG:32635, 10980x10980 px</summary><ul><li><span class='ee-k'>id:</span><span class='ee-v'>B8</span></li><li><span class='ee-k'>crs:</span><span class='ee-v'>EPSG:32635</span></li><li><details><summary>crs_transform: [10, 0, 499980, 0, -10, 3200040]</summary><ul><li><span class='ee-k'>0:</span><span class='ee-v'>10</span></li><li><span class='ee-k'>1:</span><span class='ee-v'>0</span></li><li><span class='ee-k'>2:</span><span class='ee-v'>499980</span></li><li><span class='ee-k'>3:</span><span class='ee-v'>0</span></li><li><span class='ee-k'>4:</span><span class='ee-v'>-10</span></li><li><span class='ee-k'>5:</span><span class='ee-v'>3200040</span></li></ul></details></li><li><details><summary>data_type: unsigned int16</summary><ul><li><span class='ee-k'>type:</span><span class='ee-v'>PixelType</span></li><li><span class='ee-k'>max:</span><span class='ee-v'>65535</span></li><li><span class='ee-k'>min:</span><span class='ee-v'>0</span></li><li><span class='ee-k'>precision:</span><span class='ee-v'>int</span></li></ul></details></li><li><details><summary>dimensions: [10980, 10980]</summary><ul><li><span class='ee-k'>0:</span><span class='ee-v'>10980</span></li><li><span class='ee-k'>1:</span><span class='ee-v'>10980</span></li></ul></details></li></ul></details></li><li><details><summary>8: \"B8A\", unsigned int16, EPSG:32635, 5490x5490 px</summary><ul><li><span class='ee-k'>id:</span><span class='ee-v'>B8A</span></li><li><span class='ee-k'>crs:</span><span class='ee-v'>EPSG:32635</span></li><li><details><summary>crs_transform: [20, 0, 499980, 0, -20, 3200040]</summary><ul><li><span class='ee-k'>0:</span><span class='ee-v'>20</span></li><li><span class='ee-k'>1:</span><span class='ee-v'>0</span></li><li><span class='ee-k'>2:</span><span class='ee-v'>499980</span></li><li><span class='ee-k'>3:</span><span class='ee-v'>0</span></li><li><span class='ee-k'>4:</span><span class='ee-v'>-20</span></li><li><span class='ee-k'>5:</span><span class='ee-v'>3200040</span></li></ul></details></li><li><details><summary>data_type: unsigned int16</summary><ul><li><span class='ee-k'>type:</span><span class='ee-v'>PixelType</span></li><li><span class='ee-k'>max:</span><span class='ee-v'>65535</span></li><li><span class='ee-k'>min:</span><span class='ee-v'>0</span></li><li><span class='ee-k'>precision:</span><span class='ee-v'>int</span></li></ul></details></li><li><details><summary>dimensions: [5490, 5490]</summary><ul><li><span class='ee-k'>0:</span><span class='ee-v'>5490</span></li><li><span class='ee-k'>1:</span><span class='ee-v'>5490</span></li></ul></details></li></ul></details></li><li><details><summary>9: \"B9\", unsigned int16, EPSG:32635, 1830x1830 px</summary><ul><li><span class='ee-k'>id:</span><span class='ee-v'>B9</span></li><li><span class='ee-k'>crs:</span><span class='ee-v'>EPSG:32635</span></li><li><details><summary>crs_transform: [60, 0, 499980, 0, -60, 3200040]</summary><ul><li><span class='ee-k'>0:</span><span class='ee-v'>60</span></li><li><span class='ee-k'>1:</span><span class='ee-v'>0</span></li><li><span class='ee-k'>2:</span><span class='ee-v'>499980</span></li><li><span class='ee-k'>3:</span><span class='ee-v'>0</span></li><li><span class='ee-k'>4:</span><span class='ee-v'>-60</span></li><li><span class='ee-k'>5:</span><span class='ee-v'>3200040</span></li></ul></details></li><li><details><summary>data_type: unsigned int16</summary><ul><li><span class='ee-k'>type:</span><span class='ee-v'>PixelType</span></li><li><span class='ee-k'>max:</span><span class='ee-v'>65535</span></li><li><span class='ee-k'>min:</span><span class='ee-v'>0</span></li><li><span class='ee-k'>precision:</span><span class='ee-v'>int</span></li></ul></details></li><li><details><summary>dimensions: [1830, 1830]</summary><ul><li><span class='ee-k'>0:</span><span class='ee-v'>1830</span></li><li><span class='ee-k'>1:</span><span class='ee-v'>1830</span></li></ul></details></li></ul></details></li><li><details><summary>10: \"B11\", unsigned int16, EPSG:32635, 5490x5490 px</summary><ul><li><span class='ee-k'>id:</span><span class='ee-v'>B11</span></li><li><span class='ee-k'>crs:</span><span class='ee-v'>EPSG:32635</span></li><li><details><summary>crs_transform: [20, 0, 499980, 0, -20, 3200040]</summary><ul><li><span class='ee-k'>0:</span><span class='ee-v'>20</span></li><li><span class='ee-k'>1:</span><span class='ee-v'>0</span></li><li><span class='ee-k'>2:</span><span class='ee-v'>499980</span></li><li><span class='ee-k'>3:</span><span class='ee-v'>0</span></li><li><span class='ee-k'>4:</span><span class='ee-v'>-20</span></li><li><span class='ee-k'>5:</span><span class='ee-v'>3200040</span></li></ul></details></li><li><details><summary>data_type: unsigned int16</summary><ul><li><span class='ee-k'>type:</span><span class='ee-v'>PixelType</span></li><li><span class='ee-k'>max:</span><span class='ee-v'>65535</span></li><li><span class='ee-k'>min:</span><span class='ee-v'>0</span></li><li><span class='ee-k'>precision:</span><span class='ee-v'>int</span></li></ul></details></li><li><details><summary>dimensions: [5490, 5490]</summary><ul><li><span class='ee-k'>0:</span><span class='ee-v'>5490</span></li><li><span class='ee-k'>1:</span><span class='ee-v'>5490</span></li></ul></details></li></ul></details></li><li><details><summary>11: \"B12\", unsigned int16, EPSG:32635, 5490x5490 px</summary><ul><li><span class='ee-k'>id:</span><span class='ee-v'>B12</span></li><li><span class='ee-k'>crs:</span><span class='ee-v'>EPSG:32635</span></li><li><details><summary>crs_transform: [20, 0, 499980, 0, -20, 3200040]</summary><ul><li><span class='ee-k'>0:</span><span class='ee-v'>20</span></li><li><span class='ee-k'>1:</span><span class='ee-v'>0</span></li><li><span class='ee-k'>2:</span><span class='ee-v'>499980</span></li><li><span class='ee-k'>3:</span><span class='ee-v'>0</span></li><li><span class='ee-k'>4:</span><span class='ee-v'>-20</span></li><li><span class='ee-k'>5:</span><span class='ee-v'>3200040</span></li></ul></details></li><li><details><summary>data_type: unsigned int16</summary><ul><li><span class='ee-k'>type:</span><span class='ee-v'>PixelType</span></li><li><span class='ee-k'>max:</span><span class='ee-v'>65535</span></li><li><span class='ee-k'>min:</span><span class='ee-v'>0</span></li><li><span class='ee-k'>precision:</span><span class='ee-v'>int</span></li></ul></details></li><li><details><summary>dimensions: [5490, 5490]</summary><ul><li><span class='ee-k'>0:</span><span class='ee-v'>5490</span></li><li><span class='ee-k'>1:</span><span class='ee-v'>5490</span></li></ul></details></li></ul></details></li><li><details><summary>12: \"AOT\", unsigned int16, EPSG:32635, 10980x10980 px</summary><ul><li><span class='ee-k'>id:</span><span class='ee-v'>AOT</span></li><li><span class='ee-k'>crs:</span><span class='ee-v'>EPSG:32635</span></li><li><details><summary>crs_transform: [10, 0, 499980, 0, -10, 3200040]</summary><ul><li><span class='ee-k'>0:</span><span class='ee-v'>10</span></li><li><span class='ee-k'>1:</span><span class='ee-v'>0</span></li><li><span class='ee-k'>2:</span><span class='ee-v'>499980</span></li><li><span class='ee-k'>3:</span><span class='ee-v'>0</span></li><li><span class='ee-k'>4:</span><span class='ee-v'>-10</span></li><li><span class='ee-k'>5:</span><span class='ee-v'>3200040</span></li></ul></details></li><li><details><summary>data_type: unsigned int16</summary><ul><li><span class='ee-k'>type:</span><span class='ee-v'>PixelType</span></li><li><span class='ee-k'>max:</span><span class='ee-v'>65535</span></li><li><span class='ee-k'>min:</span><span class='ee-v'>0</span></li><li><span class='ee-k'>precision:</span><span class='ee-v'>int</span></li></ul></details></li><li><details><summary>dimensions: [10980, 10980]</summary><ul><li><span class='ee-k'>0:</span><span class='ee-v'>10980</span></li><li><span class='ee-k'>1:</span><span class='ee-v'>10980</span></li></ul></details></li></ul></details></li><li><details><summary>13: \"WVP\", unsigned int16, EPSG:32635, 10980x10980 px</summary><ul><li><span class='ee-k'>id:</span><span class='ee-v'>WVP</span></li><li><span class='ee-k'>crs:</span><span class='ee-v'>EPSG:32635</span></li><li><details><summary>crs_transform: [10, 0, 499980, 0, -10, 3200040]</summary><ul><li><span class='ee-k'>0:</span><span class='ee-v'>10</span></li><li><span class='ee-k'>1:</span><span class='ee-v'>0</span></li><li><span class='ee-k'>2:</span><span class='ee-v'>499980</span></li><li><span class='ee-k'>3:</span><span class='ee-v'>0</span></li><li><span class='ee-k'>4:</span><span class='ee-v'>-10</span></li><li><span class='ee-k'>5:</span><span class='ee-v'>3200040</span></li></ul></details></li><li><details><summary>data_type: unsigned int16</summary><ul><li><span class='ee-k'>type:</span><span class='ee-v'>PixelType</span></li><li><span class='ee-k'>max:</span><span class='ee-v'>65535</span></li><li><span class='ee-k'>min:</span><span class='ee-v'>0</span></li><li><span class='ee-k'>precision:</span><span class='ee-v'>int</span></li></ul></details></li><li><details><summary>dimensions: [10980, 10980]</summary><ul><li><span class='ee-k'>0:</span><span class='ee-v'>10980</span></li><li><span class='ee-k'>1:</span><span class='ee-v'>10980</span></li></ul></details></li></ul></details></li><li><details><summary>14: \"SCL\", unsigned int8, EPSG:32635, 5490x5490 px</summary><ul><li><span class='ee-k'>id:</span><span class='ee-v'>SCL</span></li><li><span class='ee-k'>crs:</span><span class='ee-v'>EPSG:32635</span></li><li><details><summary>crs_transform: [20, 0, 499980, 0, -20, 3200040]</summary><ul><li><span class='ee-k'>0:</span><span class='ee-v'>20</span></li><li><span class='ee-k'>1:</span><span class='ee-v'>0</span></li><li><span class='ee-k'>2:</span><span class='ee-v'>499980</span></li><li><span class='ee-k'>3:</span><span class='ee-v'>0</span></li><li><span class='ee-k'>4:</span><span class='ee-v'>-20</span></li><li><span class='ee-k'>5:</span><span class='ee-v'>3200040</span></li></ul></details></li><li><details><summary>data_type: unsigned int8</summary><ul><li><span class='ee-k'>type:</span><span class='ee-v'>PixelType</span></li><li><span class='ee-k'>max:</span><span class='ee-v'>255</span></li><li><span class='ee-k'>min:</span><span class='ee-v'>0</span></li><li><span class='ee-k'>precision:</span><span class='ee-v'>int</span></li></ul></details></li><li><details><summary>dimensions: [5490, 5490]</summary><ul><li><span class='ee-k'>0:</span><span class='ee-v'>5490</span></li><li><span class='ee-k'>1:</span><span class='ee-v'>5490</span></li></ul></details></li></ul></details></li><li><details><summary>15: \"TCI_R\", unsigned int8, EPSG:32635, 10980x10980 px</summary><ul><li><span class='ee-k'>id:</span><span class='ee-v'>TCI_R</span></li><li><span class='ee-k'>crs:</span><span class='ee-v'>EPSG:32635</span></li><li><details><summary>crs_transform: [10, 0, 499980, 0, -10, 3200040]</summary><ul><li><span class='ee-k'>0:</span><span class='ee-v'>10</span></li><li><span class='ee-k'>1:</span><span class='ee-v'>0</span></li><li><span class='ee-k'>2:</span><span class='ee-v'>499980</span></li><li><span class='ee-k'>3:</span><span class='ee-v'>0</span></li><li><span class='ee-k'>4:</span><span class='ee-v'>-10</span></li><li><span class='ee-k'>5:</span><span class='ee-v'>3200040</span></li></ul></details></li><li><details><summary>data_type: unsigned int8</summary><ul><li><span class='ee-k'>type:</span><span class='ee-v'>PixelType</span></li><li><span class='ee-k'>max:</span><span class='ee-v'>255</span></li><li><span class='ee-k'>min:</span><span class='ee-v'>0</span></li><li><span class='ee-k'>precision:</span><span class='ee-v'>int</span></li></ul></details></li><li><details><summary>dimensions: [10980, 10980]</summary><ul><li><span class='ee-k'>0:</span><span class='ee-v'>10980</span></li><li><span class='ee-k'>1:</span><span class='ee-v'>10980</span></li></ul></details></li></ul></details></li><li><details><summary>16: \"TCI_G\", unsigned int8, EPSG:32635, 10980x10980 px</summary><ul><li><span class='ee-k'>id:</span><span class='ee-v'>TCI_G</span></li><li><span class='ee-k'>crs:</span><span class='ee-v'>EPSG:32635</span></li><li><details><summary>crs_transform: [10, 0, 499980, 0, -10, 3200040]</summary><ul><li><span class='ee-k'>0:</span><span class='ee-v'>10</span></li><li><span class='ee-k'>1:</span><span class='ee-v'>0</span></li><li><span class='ee-k'>2:</span><span class='ee-v'>499980</span></li><li><span class='ee-k'>3:</span><span class='ee-v'>0</span></li><li><span class='ee-k'>4:</span><span class='ee-v'>-10</span></li><li><span class='ee-k'>5:</span><span class='ee-v'>3200040</span></li></ul></details></li><li><details><summary>data_type: unsigned int8</summary><ul><li><span class='ee-k'>type:</span><span class='ee-v'>PixelType</span></li><li><span class='ee-k'>max:</span><span class='ee-v'>255</span></li><li><span class='ee-k'>min:</span><span class='ee-v'>0</span></li><li><span class='ee-k'>precision:</span><span class='ee-v'>int</span></li></ul></details></li><li><details><summary>dimensions: [10980, 10980]</summary><ul><li><span class='ee-k'>0:</span><span class='ee-v'>10980</span></li><li><span class='ee-k'>1:</span><span class='ee-v'>10980</span></li></ul></details></li></ul></details></li><li><details><summary>17: \"TCI_B\", unsigned int8, EPSG:32635, 10980x10980 px</summary><ul><li><span class='ee-k'>id:</span><span class='ee-v'>TCI_B</span></li><li><span class='ee-k'>crs:</span><span class='ee-v'>EPSG:32635</span></li><li><details><summary>crs_transform: [10, 0, 499980, 0, -10, 3200040]</summary><ul><li><span class='ee-k'>0:</span><span class='ee-v'>10</span></li><li><span class='ee-k'>1:</span><span class='ee-v'>0</span></li><li><span class='ee-k'>2:</span><span class='ee-v'>499980</span></li><li><span class='ee-k'>3:</span><span class='ee-v'>0</span></li><li><span class='ee-k'>4:</span><span class='ee-v'>-10</span></li><li><span class='ee-k'>5:</span><span class='ee-v'>3200040</span></li></ul></details></li><li><details><summary>data_type: unsigned int8</summary><ul><li><span class='ee-k'>type:</span><span class='ee-v'>PixelType</span></li><li><span class='ee-k'>max:</span><span class='ee-v'>255</span></li><li><span class='ee-k'>min:</span><span class='ee-v'>0</span></li><li><span class='ee-k'>precision:</span><span class='ee-v'>int</span></li></ul></details></li><li><details><summary>dimensions: [10980, 10980]</summary><ul><li><span class='ee-k'>0:</span><span class='ee-v'>10980</span></li><li><span class='ee-k'>1:</span><span class='ee-v'>10980</span></li></ul></details></li></ul></details></li><li><details><summary>18: \"MSK_CLDPRB\", unsigned int8, EPSG:32635, 1x1 px</summary><ul><li><span class='ee-k'>id:</span><span class='ee-v'>MSK_CLDPRB</span></li><li><span class='ee-k'>crs:</span><span class='ee-v'>EPSG:32635</span></li><li><details><summary>crs_transform: [1, 0, 499980, 0, 1, 3200040]</summary><ul><li><span class='ee-k'>0:</span><span class='ee-v'>1</span></li><li><span class='ee-k'>1:</span><span class='ee-v'>0</span></li><li><span class='ee-k'>2:</span><span class='ee-v'>499980</span></li><li><span class='ee-k'>3:</span><span class='ee-v'>0</span></li><li><span class='ee-k'>4:</span><span class='ee-v'>1</span></li><li><span class='ee-k'>5:</span><span class='ee-v'>3200040</span></li></ul></details></li><li><details><summary>data_type: unsigned int8</summary><ul><li><span class='ee-k'>type:</span><span class='ee-v'>PixelType</span></li><li><span class='ee-k'>max:</span><span class='ee-v'>255</span></li><li><span class='ee-k'>min:</span><span class='ee-v'>0</span></li><li><span class='ee-k'>precision:</span><span class='ee-v'>int</span></li></ul></details></li><li><details><summary>dimensions: [1, 1]</summary><ul><li><span class='ee-k'>0:</span><span class='ee-v'>1</span></li><li><span class='ee-k'>1:</span><span class='ee-v'>1</span></li></ul></details></li></ul></details></li><li><details><summary>19: \"MSK_SNWPRB\", unsigned int8, EPSG:32635, 1x1 px</summary><ul><li><span class='ee-k'>id:</span><span class='ee-v'>MSK_SNWPRB</span></li><li><span class='ee-k'>crs:</span><span class='ee-v'>EPSG:32635</span></li><li><details><summary>crs_transform: [1, 0, 499980, 0, 1, 3200040]</summary><ul><li><span class='ee-k'>0:</span><span class='ee-v'>1</span></li><li><span class='ee-k'>1:</span><span class='ee-v'>0</span></li><li><span class='ee-k'>2:</span><span class='ee-v'>499980</span></li><li><span class='ee-k'>3:</span><span class='ee-v'>0</span></li><li><span class='ee-k'>4:</span><span class='ee-v'>1</span></li><li><span class='ee-k'>5:</span><span class='ee-v'>3200040</span></li></ul></details></li><li><details><summary>data_type: unsigned int8</summary><ul><li><span class='ee-k'>type:</span><span class='ee-v'>PixelType</span></li><li><span class='ee-k'>max:</span><span class='ee-v'>255</span></li><li><span class='ee-k'>min:</span><span class='ee-v'>0</span></li><li><span class='ee-k'>precision:</span><span class='ee-v'>int</span></li></ul></details></li><li><details><summary>dimensions: [1, 1]</summary><ul><li><span class='ee-k'>0:</span><span class='ee-v'>1</span></li><li><span class='ee-k'>1:</span><span class='ee-v'>1</span></li></ul></details></li></ul></details></li><li><details><summary>20: \"QA10\", unsigned int16, EPSG:32635, 10980x10980 px</summary><ul><li><span class='ee-k'>id:</span><span class='ee-v'>QA10</span></li><li><span class='ee-k'>crs:</span><span class='ee-v'>EPSG:32635</span></li><li><details><summary>crs_transform: [10, 0, 499980, 0, -10, 3200040]</summary><ul><li><span class='ee-k'>0:</span><span class='ee-v'>10</span></li><li><span class='ee-k'>1:</span><span class='ee-v'>0</span></li><li><span class='ee-k'>2:</span><span class='ee-v'>499980</span></li><li><span class='ee-k'>3:</span><span class='ee-v'>0</span></li><li><span class='ee-k'>4:</span><span class='ee-v'>-10</span></li><li><span class='ee-k'>5:</span><span class='ee-v'>3200040</span></li></ul></details></li><li><details><summary>data_type: unsigned int16</summary><ul><li><span class='ee-k'>type:</span><span class='ee-v'>PixelType</span></li><li><span class='ee-k'>max:</span><span class='ee-v'>65535</span></li><li><span class='ee-k'>min:</span><span class='ee-v'>0</span></li><li><span class='ee-k'>precision:</span><span class='ee-v'>int</span></li></ul></details></li><li><details><summary>dimensions: [10980, 10980]</summary><ul><li><span class='ee-k'>0:</span><span class='ee-v'>10980</span></li><li><span class='ee-k'>1:</span><span class='ee-v'>10980</span></li></ul></details></li></ul></details></li><li><details><summary>21: \"QA20\", unsigned int32, EPSG:32635, 5490x5490 px</summary><ul><li><span class='ee-k'>id:</span><span class='ee-v'>QA20</span></li><li><span class='ee-k'>crs:</span><span class='ee-v'>EPSG:32635</span></li><li><details><summary>crs_transform: [20, 0, 499980, 0, -20, 3200040]</summary><ul><li><span class='ee-k'>0:</span><span class='ee-v'>20</span></li><li><span class='ee-k'>1:</span><span class='ee-v'>0</span></li><li><span class='ee-k'>2:</span><span class='ee-v'>499980</span></li><li><span class='ee-k'>3:</span><span class='ee-v'>0</span></li><li><span class='ee-k'>4:</span><span class='ee-v'>-20</span></li><li><span class='ee-k'>5:</span><span class='ee-v'>3200040</span></li></ul></details></li><li><details><summary>data_type: unsigned int32</summary><ul><li><span class='ee-k'>type:</span><span class='ee-v'>PixelType</span></li><li><span class='ee-k'>max:</span><span class='ee-v'>4294967295</span></li><li><span class='ee-k'>min:</span><span class='ee-v'>0</span></li><li><span class='ee-k'>precision:</span><span class='ee-v'>int</span></li></ul></details></li><li><details><summary>dimensions: [5490, 5490]</summary><ul><li><span class='ee-k'>0:</span><span class='ee-v'>5490</span></li><li><span class='ee-k'>1:</span><span class='ee-v'>5490</span></li></ul></details></li></ul></details></li><li><details><summary>22: \"QA60\", unsigned int16, EPSG:32635, 1830x1830 px</summary><ul><li><span class='ee-k'>id:</span><span class='ee-v'>QA60</span></li><li><span class='ee-k'>crs:</span><span class='ee-v'>EPSG:32635</span></li><li><details><summary>crs_transform: [60, 0, 499980, 0, -60, 3200040]</summary><ul><li><span class='ee-k'>0:</span><span class='ee-v'>60</span></li><li><span class='ee-k'>1:</span><span class='ee-v'>0</span></li><li><span class='ee-k'>2:</span><span class='ee-v'>499980</span></li><li><span class='ee-k'>3:</span><span class='ee-v'>0</span></li><li><span class='ee-k'>4:</span><span class='ee-v'>-60</span></li><li><span class='ee-k'>5:</span><span class='ee-v'>3200040</span></li></ul></details></li><li><details><summary>data_type: unsigned int16</summary><ul><li><span class='ee-k'>type:</span><span class='ee-v'>PixelType</span></li><li><span class='ee-k'>max:</span><span class='ee-v'>65535</span></li><li><span class='ee-k'>min:</span><span class='ee-v'>0</span></li><li><span class='ee-k'>precision:</span><span class='ee-v'>int</span></li></ul></details></li><li><details><summary>dimensions: [1830, 1830]</summary><ul><li><span class='ee-k'>0:</span><span class='ee-v'>1830</span></li><li><span class='ee-k'>1:</span><span class='ee-v'>1830</span></li></ul></details></li></ul></details></li></ul></details></li><li><details><summary>properties: Object (82 properties)</summary><ul><li><span class='ee-k'>AOT_RETRIEVAL_ACCURACY:</span><span class='ee-v'>0</span></li><li><span class='ee-k'>BARE_SOILS_PERCENTAGE:</span><span class='ee-v'>88.374627</span></li><li><span class='ee-k'>CLOUDY_PIXEL_PERCENTAGE:</span><span class='ee-v'>3.8607</span></li><li><span class='ee-k'>CLOUD_COVERAGE_ASSESSMENT:</span><span class='ee-v'>3.8607</span></li><li><span class='ee-k'>CLOUD_COVERAGE_PERCENTAGE:</span><span class='ee-v'>0.082801</span></li><li><span class='ee-k'>CLOUD_SHADOW_PERCENTAGE:</span><span class='ee-v'>7e-05</span></li><li><span class='ee-k'>DARK_FEATURES_PERCENTAGE:</span><span class='ee-v'>0</span></li><li><span class='ee-k'>DATASTRIP_ID:</span><span class='ee-v'>S2A_USER_MSI_L2A_DS_MPS__20170328T123128_S20170328T084228_N02.04</span></li><li><span class='ee-k'>DATATAKE_IDENTIFIER:</span><span class='ee-v'>GS2A_20170328T083601_009213_N02.04</span></li><li><span class='ee-k'>DATATAKE_TYPE:</span><span class='ee-v'>INS-NOBS</span></li><li><span class='ee-k'>DEGRADED_MSI_DATA_PERCENTAGE:</span><span class='ee-v'>0</span></li><li><span class='ee-k'>FORMAT_CORRECTNESS_FLAG:</span><span class='ee-v'>PASSED</span></li><li><span class='ee-k'>GENERAL_QUALITY_FLAG:</span><span class='ee-v'>PASSED</span></li><li><span class='ee-k'>GENERATION_TIME:</span><span class='ee-v'>1490866099000</span></li><li><span class='ee-k'>GEOMETRIC_QUALITY_FLAG:</span><span class='ee-v'>PASSED</span></li><li><span class='ee-k'>GRANULE_ID:</span><span class='ee-v'>L2A_T35RNM_A009213_20170328T084228</span></li><li><span class='ee-k'>HIGH_PROBA_CLOUDS_PERCENTAGE:</span><span class='ee-v'>0</span></li><li><span class='ee-k'>LOW_PROBA_CLOUDS_PERCENTAGE:</span><span class='ee-v'>11.397176</span></li><li><span class='ee-k'>MEAN_INCIDENCE_AZIMUTH_ANGLE_B1:</span><span class='ee-v'>103.256227555342</span></li><li><span class='ee-k'>MEAN_INCIDENCE_AZIMUTH_ANGLE_B10:</span><span class='ee-v'>102.790759225307</span></li><li><span class='ee-k'>MEAN_INCIDENCE_AZIMUTH_ANGLE_B11:</span><span class='ee-v'>102.969596507555</span></li><li><span class='ee-k'>MEAN_INCIDENCE_AZIMUTH_ANGLE_B12:</span><span class='ee-v'>103.224163432254</span></li><li><span class='ee-k'>MEAN_INCIDENCE_AZIMUTH_ANGLE_B2:</span><span class='ee-v'>102.443838894217</span></li><li><span class='ee-k'>MEAN_INCIDENCE_AZIMUTH_ANGLE_B3:</span><span class='ee-v'>102.63940089151</span></li><li><span class='ee-k'>MEAN_INCIDENCE_AZIMUTH_ANGLE_B4:</span><span class='ee-v'>102.793110821053</span></li><li><span class='ee-k'>MEAN_INCIDENCE_AZIMUTH_ANGLE_B5:</span><span class='ee-v'>102.894301373981</span></li><li><span class='ee-k'>MEAN_INCIDENCE_AZIMUTH_ANGLE_B6:</span><span class='ee-v'>102.982526756786</span></li><li><span class='ee-k'>MEAN_INCIDENCE_AZIMUTH_ANGLE_B7:</span><span class='ee-v'>103.079551794189</span></li><li><span class='ee-k'>MEAN_INCIDENCE_AZIMUTH_ANGLE_B8:</span><span class='ee-v'>102.538940034604</span></li><li><span class='ee-k'>MEAN_INCIDENCE_AZIMUTH_ANGLE_B8A:</span><span class='ee-v'>103.128545006266</span></li><li><span class='ee-k'>MEAN_INCIDENCE_AZIMUTH_ANGLE_B9:</span><span class='ee-v'>103.340899108775</span></li><li><span class='ee-k'>MEAN_INCIDENCE_ZENITH_ANGLE_B1:</span><span class='ee-v'>9.63754277402365</span></li><li><span class='ee-k'>MEAN_INCIDENCE_ZENITH_ANGLE_B10:</span><span class='ee-v'>9.51040407743285</span></li><li><span class='ee-k'>MEAN_INCIDENCE_ZENITH_ANGLE_B11:</span><span class='ee-v'>9.55344083898503</span></li><li><span class='ee-k'>MEAN_INCIDENCE_ZENITH_ANGLE_B12:</span><span class='ee-v'>9.61278549548682</span></li><li><span class='ee-k'>MEAN_INCIDENCE_ZENITH_ANGLE_B2:</span><span class='ee-v'>9.48998355181051</span></li><li><span class='ee-k'>MEAN_INCIDENCE_ZENITH_ANGLE_B3:</span><span class='ee-v'>9.5017982741057</span></li><li><span class='ee-k'>MEAN_INCIDENCE_ZENITH_ANGLE_B4:</span><span class='ee-v'>9.5291313886193</span></li><li><span class='ee-k'>MEAN_INCIDENCE_ZENITH_ANGLE_B5:</span><span class='ee-v'>9.54626398712918</span></li><li><span class='ee-k'>MEAN_INCIDENCE_ZENITH_ANGLE_B6:</span><span class='ee-v'>9.56549477430116</span></li><li><span class='ee-k'>MEAN_INCIDENCE_ZENITH_ANGLE_B7:</span><span class='ee-v'>9.58684691925802</span></li><li><span class='ee-k'>MEAN_INCIDENCE_ZENITH_ANGLE_B8:</span><span class='ee-v'>9.49071700003941</span></li><li><span class='ee-k'>MEAN_INCIDENCE_ZENITH_ANGLE_B8A:</span><span class='ee-v'>9.61166218408591</span></li><li><span class='ee-k'>MEAN_INCIDENCE_ZENITH_ANGLE_B9:</span><span class='ee-v'>9.66574207167135</span></li><li><span class='ee-k'>MEAN_SOLAR_AZIMUTH_ANGLE:</span><span class='ee-v'>138.511244551408</span></li><li><span class='ee-k'>MEAN_SOLAR_ZENITH_ANGLE:</span><span class='ee-v'>32.0167450476774</span></li><li><span class='ee-k'>MEDIUM_PROBA_CLOUDS_PERCENTAGE:</span><span class='ee-v'>0.082801</span></li><li><span class='ee-k'>MGRS_TILE:</span><span class='ee-v'>35RNM</span></li><li><span class='ee-k'>NODATA_PIXEL_PERCENTAGE:</span><span class='ee-v'>47.944936</span></li><li><span class='ee-k'>PROCESSING_BASELINE:</span><span class='ee-v'>02.04</span></li><li><span class='ee-k'>PRODUCT_ID:</span><span class='ee-v'>S2A_MSIL2A_20170328T083601_N0204_R064_T35RNM_20170328T084228</span></li><li><span class='ee-k'>RADIATIVE_TRANSFER_ACCURAY:</span><span class='ee-v'>0</span></li><li><span class='ee-k'>RADIOMETRIC_QUALITY_FLAG:</span><span class='ee-v'>PASSED</span></li><li><span class='ee-k'>REFLECTANCE_CONVERSION_CORRECTION:</span><span class='ee-v'>1.00613186852888</span></li><li><span class='ee-k'>SATURATED_DEFECTIVE_PIXEL_PERCENTAGE:</span><span class='ee-v'>0</span></li><li><span class='ee-k'>SENSING_ORBIT_DIRECTION:</span><span class='ee-v'>DESCENDING</span></li><li><span class='ee-k'>SENSING_ORBIT_NUMBER:</span><span class='ee-v'>64</span></li><li><span class='ee-k'>SENSOR_QUALITY_FLAG:</span><span class='ee-v'>PASSED</span></li><li><span class='ee-k'>SNOW_ICE_PERCENTAGE:</span><span class='ee-v'>0</span></li><li><span class='ee-k'>SOLAR_IRRADIANCE_B1:</span><span class='ee-v'>1913.57</span></li><li><span class='ee-k'>SOLAR_IRRADIANCE_B10:</span><span class='ee-v'>367.15</span></li><li><span class='ee-k'>SOLAR_IRRADIANCE_B11:</span><span class='ee-v'>245.59</span></li><li><span class='ee-k'>SOLAR_IRRADIANCE_B12:</span><span class='ee-v'>85.25</span></li><li><span class='ee-k'>SOLAR_IRRADIANCE_B2:</span><span class='ee-v'>1941.63</span></li><li><span class='ee-k'>SOLAR_IRRADIANCE_B3:</span><span class='ee-v'>1822.61</span></li><li><span class='ee-k'>SOLAR_IRRADIANCE_B4:</span><span class='ee-v'>1512.79</span></li><li><span class='ee-k'>SOLAR_IRRADIANCE_B5:</span><span class='ee-v'>1425.56</span></li><li><span class='ee-k'>SOLAR_IRRADIANCE_B6:</span><span class='ee-v'>1288.32</span></li><li><span class='ee-k'>SOLAR_IRRADIANCE_B7:</span><span class='ee-v'>1163.19</span></li><li><span class='ee-k'>SOLAR_IRRADIANCE_B8:</span><span class='ee-v'>1036.39</span></li><li><span class='ee-k'>SOLAR_IRRADIANCE_B8A:</span><span class='ee-v'>955.19</span></li><li><span class='ee-k'>SOLAR_IRRADIANCE_B9:</span><span class='ee-v'>813.04</span></li><li><span class='ee-k'>SPACECRAFT_NAME:</span><span class='ee-v'>Sentinel-2A</span></li><li><span class='ee-k'>THIN_CIRRUS_PERCENTAGE:</span><span class='ee-v'>0</span></li><li><span class='ee-k'>VEGETATION_PERCENTAGE:</span><span class='ee-v'>0</span></li><li><span class='ee-k'>WATER_PERCENTAGE:</span><span class='ee-v'>0.145327</span></li><li><span class='ee-k'>WATER_VAPOUR_RETRIEVAL_ACCURACY:</span><span class='ee-v'>0</span></li><li><span class='ee-k'>system:asset_size:</span><span class='ee-v'>761153923</span></li><li><details><summary>system:footprint: LinearRing (19 vertices)</summary><ul><li><span class='ee-k'>type:</span><span class='ee-v'>LinearRing</span></li><li><details><summary>coordinates: List (19 elements)</summary><ul><li><details><summary>0: [27.66052009585949, 28.925893960712962]</summary><ul><li><span class='ee-k'>0:</span><span class='ee-v'>27.66052009585949</span></li><li><span class='ee-k'>1:</span><span class='ee-v'>28.925893960712962</span></li></ul></details></li><li><details><summary>1: [27.66051006968037, 28.925870988810416]</summary><ul><li><span class='ee-k'>0:</span><span class='ee-v'>27.66051006968037</span></li><li><span class='ee-k'>1:</span><span class='ee-v'>28.925870988810416</span></li></ul></details></li><li><details><summary>2: [27.658935147242243, 28.920191917766438]</summary><ul><li><span class='ee-k'>0:</span><span class='ee-v'>27.658935147242243</span></li><li><span class='ee-k'>1:</span><span class='ee-v'>28.920191917766438</span></li></ul></details></li><li><details><summary>3: [27.618001343780538, 28.763876037279886]</summary><ul><li><span class='ee-k'>0:</span><span class='ee-v'>27.618001343780538</span></li><li><span class='ee-k'>1:</span><span class='ee-v'>28.763876037279886</span></li></ul></details></li><li><details><summary>4: [27.6073057101878, 28.721140636546863]</summary><ul><li><span class='ee-k'>0:</span><span class='ee-v'>27.6073057101878</span></li><li><span class='ee-k'>1:</span><span class='ee-v'>28.721140636546863</span></li></ul></details></li><li><details><summary>5: [27.413197447384718, 27.938162777437288]</summary><ul><li><span class='ee-k'>0:</span><span class='ee-v'>27.413197447384718</span></li><li><span class='ee-k'>1:</span><span class='ee-v'>27.938162777437288</span></li></ul></details></li><li><details><summary>6: [27.41319323454089, 27.93707003643139]</summary><ul><li><span class='ee-k'>0:</span><span class='ee-v'>27.41319323454089</span></li><li><span class='ee-k'>1:</span><span class='ee-v'>27.93707003643139</span></li></ul></details></li><li><details><summary>7: [27.413208831026086, 27.937018830431906]</summary><ul><li><span class='ee-k'>0:</span><span class='ee-v'>27.413208831026086</span></li><li><span class='ee-k'>1:</span><span class='ee-v'>27.937018830431906</span></li></ul></details></li><li><details><summary>8: [27.413627874057127, 27.936644198509974]</summary><ul><li><span class='ee-k'>0:</span><span class='ee-v'>27.413627874057127</span></li><li><span class='ee-k'>1:</span><span class='ee-v'>27.936644198509974</span></li></ul></details></li><li><details><summary>9: [27.413680220759932, 27.93661747537432]</summary><ul><li><span class='ee-k'>0:</span><span class='ee-v'>27.413680220759932</span></li><li><span class='ee-k'>1:</span><span class='ee-v'>27.93661747537432</span></li></ul></details></li><li><details><summary>10: [28.11559407090724, 27.93271982816523]</summary><ul><li><span class='ee-k'>0:</span><span class='ee-v'>28.11559407090724</span></li><li><span class='ee-k'>1:</span><span class='ee-v'>27.93271982816523</span></li></ul></details></li><li><details><summary>11: [28.11569667058435, 27.932788585528527]</summary><ul><li><span class='ee-k'>0:</span><span class='ee-v'>28.11569667058435</span></li><li><span class='ee-k'>1:</span><span class='ee-v'>27.932788585528527</span></li></ul></details></li><li><details><summary>12: [28.120850865084368, 28.428209525551274]</summary><ul><li><span class='ee-k'>0:</span><span class='ee-v'>28.120850865084368</span></li><li><span class='ee-k'>1:</span><span class='ee-v'>28.428209525551274</span></li></ul></details></li><li><details><summary>13: [28.126136787961382, 28.92357320972733]</summary><ul><li><span class='ee-k'>0:</span><span class='ee-v'>28.126136787961382</span></li><li><span class='ee-k'>1:</span><span class='ee-v'>28.92357320972733</span></li></ul></details></li><li><details><summary>14: [28.126058302566324, 28.923663812402424]</summary><ul><li><span class='ee-k'>0:</span><span class='ee-v'>28.126058302566324</span></li><li><span class='ee-k'>1:</span><span class='ee-v'>28.923663812402424</span></li></ul></details></li><li><details><summary>15: [27.66123123705587, 28.92674901305575]</summary><ul><li><span class='ee-k'>0:</span><span class='ee-v'>27.66123123705587</span></li><li><span class='ee-k'>1:</span><span class='ee-v'>28.92674901305575</span></li></ul></details></li><li><details><summary>16: [27.661201606226435, 28.926726383177797]</summary><ul><li><span class='ee-k'>0:</span><span class='ee-v'>27.661201606226435</span></li><li><span class='ee-k'>1:</span><span class='ee-v'>28.926726383177797</span></li></ul></details></li><li><details><summary>17: [27.66115827896289, 28.926726180541355]</summary><ul><li><span class='ee-k'>0:</span><span class='ee-v'>27.66115827896289</span></li><li><span class='ee-k'>1:</span><span class='ee-v'>28.926726180541355</span></li></ul></details></li><li><details><summary>18: [27.66052009585949, 28.925893960712962]</summary><ul><li><span class='ee-k'>0:</span><span class='ee-v'>27.66052009585949</span></li><li><span class='ee-k'>1:</span><span class='ee-v'>28.925893960712962</span></li></ul></details></li></ul></details></li></ul></details></li><li><span class='ee-k'>system:index:</span><span class='ee-v'>20170328T083601_20170328T084228_T35RNM</span></li><li><span class='ee-k'>system:time_end:</span><span class='ee-v'>1490690548704</span></li><li><span class='ee-k'>system:time_start:</span><span class='ee-v'>1490690548704</span></li></ul></details></li></ul></details></li><li><details><summary>3: Image COPERNICUS/S2_SR/20170328T083601_20170328T084228_T35RNN (23 bands)</summary><ul><li><span class='ee-k'>type:</span><span class='ee-v'>Image</span></li><li><span class='ee-k'>id:</span><span class='ee-v'>COPERNICUS/S2_SR/20170328T083601_20170328T084228_T35RNN</span></li><li><span class='ee-k'>version:</span><span class='ee-v'>1645345720121096</span></li><li><details><summary>bands: List (23 elements)</summary><ul><li><details><summary>0: \"B1\", unsigned int16, EPSG:32635, 1830x1830 px</summary><ul><li><span class='ee-k'>id:</span><span class='ee-v'>B1</span></li><li><span class='ee-k'>crs:</span><span class='ee-v'>EPSG:32635</span></li><li><details><summary>crs_transform: [60, 0, 499980, 0, -60, 3300000]</summary><ul><li><span class='ee-k'>0:</span><span class='ee-v'>60</span></li><li><span class='ee-k'>1:</span><span class='ee-v'>0</span></li><li><span class='ee-k'>2:</span><span class='ee-v'>499980</span></li><li><span class='ee-k'>3:</span><span class='ee-v'>0</span></li><li><span class='ee-k'>4:</span><span class='ee-v'>-60</span></li><li><span class='ee-k'>5:</span><span class='ee-v'>3300000</span></li></ul></details></li><li><details><summary>data_type: unsigned int16</summary><ul><li><span class='ee-k'>type:</span><span class='ee-v'>PixelType</span></li><li><span class='ee-k'>max:</span><span class='ee-v'>65535</span></li><li><span class='ee-k'>min:</span><span class='ee-v'>0</span></li><li><span class='ee-k'>precision:</span><span class='ee-v'>int</span></li></ul></details></li><li><details><summary>dimensions: [1830, 1830]</summary><ul><li><span class='ee-k'>0:</span><span class='ee-v'>1830</span></li><li><span class='ee-k'>1:</span><span class='ee-v'>1830</span></li></ul></details></li></ul></details></li><li><details><summary>1: \"B2\", unsigned int16, EPSG:32635, 10980x10980 px</summary><ul><li><span class='ee-k'>id:</span><span class='ee-v'>B2</span></li><li><span class='ee-k'>crs:</span><span class='ee-v'>EPSG:32635</span></li><li><details><summary>crs_transform: [10, 0, 499980, 0, -10, 3300000]</summary><ul><li><span class='ee-k'>0:</span><span class='ee-v'>10</span></li><li><span class='ee-k'>1:</span><span class='ee-v'>0</span></li><li><span class='ee-k'>2:</span><span class='ee-v'>499980</span></li><li><span class='ee-k'>3:</span><span class='ee-v'>0</span></li><li><span class='ee-k'>4:</span><span class='ee-v'>-10</span></li><li><span class='ee-k'>5:</span><span class='ee-v'>3300000</span></li></ul></details></li><li><details><summary>data_type: unsigned int16</summary><ul><li><span class='ee-k'>type:</span><span class='ee-v'>PixelType</span></li><li><span class='ee-k'>max:</span><span class='ee-v'>65535</span></li><li><span class='ee-k'>min:</span><span class='ee-v'>0</span></li><li><span class='ee-k'>precision:</span><span class='ee-v'>int</span></li></ul></details></li><li><details><summary>dimensions: [10980, 10980]</summary><ul><li><span class='ee-k'>0:</span><span class='ee-v'>10980</span></li><li><span class='ee-k'>1:</span><span class='ee-v'>10980</span></li></ul></details></li></ul></details></li><li><details><summary>2: \"B3\", unsigned int16, EPSG:32635, 10980x10980 px</summary><ul><li><span class='ee-k'>id:</span><span class='ee-v'>B3</span></li><li><span class='ee-k'>crs:</span><span class='ee-v'>EPSG:32635</span></li><li><details><summary>crs_transform: [10, 0, 499980, 0, -10, 3300000]</summary><ul><li><span class='ee-k'>0:</span><span class='ee-v'>10</span></li><li><span class='ee-k'>1:</span><span class='ee-v'>0</span></li><li><span class='ee-k'>2:</span><span class='ee-v'>499980</span></li><li><span class='ee-k'>3:</span><span class='ee-v'>0</span></li><li><span class='ee-k'>4:</span><span class='ee-v'>-10</span></li><li><span class='ee-k'>5:</span><span class='ee-v'>3300000</span></li></ul></details></li><li><details><summary>data_type: unsigned int16</summary><ul><li><span class='ee-k'>type:</span><span class='ee-v'>PixelType</span></li><li><span class='ee-k'>max:</span><span class='ee-v'>65535</span></li><li><span class='ee-k'>min:</span><span class='ee-v'>0</span></li><li><span class='ee-k'>precision:</span><span class='ee-v'>int</span></li></ul></details></li><li><details><summary>dimensions: [10980, 10980]</summary><ul><li><span class='ee-k'>0:</span><span class='ee-v'>10980</span></li><li><span class='ee-k'>1:</span><span class='ee-v'>10980</span></li></ul></details></li></ul></details></li><li><details><summary>3: \"B4\", unsigned int16, EPSG:32635, 10980x10980 px</summary><ul><li><span class='ee-k'>id:</span><span class='ee-v'>B4</span></li><li><span class='ee-k'>crs:</span><span class='ee-v'>EPSG:32635</span></li><li><details><summary>crs_transform: [10, 0, 499980, 0, -10, 3300000]</summary><ul><li><span class='ee-k'>0:</span><span class='ee-v'>10</span></li><li><span class='ee-k'>1:</span><span class='ee-v'>0</span></li><li><span class='ee-k'>2:</span><span class='ee-v'>499980</span></li><li><span class='ee-k'>3:</span><span class='ee-v'>0</span></li><li><span class='ee-k'>4:</span><span class='ee-v'>-10</span></li><li><span class='ee-k'>5:</span><span class='ee-v'>3300000</span></li></ul></details></li><li><details><summary>data_type: unsigned int16</summary><ul><li><span class='ee-k'>type:</span><span class='ee-v'>PixelType</span></li><li><span class='ee-k'>max:</span><span class='ee-v'>65535</span></li><li><span class='ee-k'>min:</span><span class='ee-v'>0</span></li><li><span class='ee-k'>precision:</span><span class='ee-v'>int</span></li></ul></details></li><li><details><summary>dimensions: [10980, 10980]</summary><ul><li><span class='ee-k'>0:</span><span class='ee-v'>10980</span></li><li><span class='ee-k'>1:</span><span class='ee-v'>10980</span></li></ul></details></li></ul></details></li><li><details><summary>4: \"B5\", unsigned int16, EPSG:32635, 5490x5490 px</summary><ul><li><span class='ee-k'>id:</span><span class='ee-v'>B5</span></li><li><span class='ee-k'>crs:</span><span class='ee-v'>EPSG:32635</span></li><li><details><summary>crs_transform: [20, 0, 499980, 0, -20, 3300000]</summary><ul><li><span class='ee-k'>0:</span><span class='ee-v'>20</span></li><li><span class='ee-k'>1:</span><span class='ee-v'>0</span></li><li><span class='ee-k'>2:</span><span class='ee-v'>499980</span></li><li><span class='ee-k'>3:</span><span class='ee-v'>0</span></li><li><span class='ee-k'>4:</span><span class='ee-v'>-20</span></li><li><span class='ee-k'>5:</span><span class='ee-v'>3300000</span></li></ul></details></li><li><details><summary>data_type: unsigned int16</summary><ul><li><span class='ee-k'>type:</span><span class='ee-v'>PixelType</span></li><li><span class='ee-k'>max:</span><span class='ee-v'>65535</span></li><li><span class='ee-k'>min:</span><span class='ee-v'>0</span></li><li><span class='ee-k'>precision:</span><span class='ee-v'>int</span></li></ul></details></li><li><details><summary>dimensions: [5490, 5490]</summary><ul><li><span class='ee-k'>0:</span><span class='ee-v'>5490</span></li><li><span class='ee-k'>1:</span><span class='ee-v'>5490</span></li></ul></details></li></ul></details></li><li><details><summary>5: \"B6\", unsigned int16, EPSG:32635, 5490x5490 px</summary><ul><li><span class='ee-k'>id:</span><span class='ee-v'>B6</span></li><li><span class='ee-k'>crs:</span><span class='ee-v'>EPSG:32635</span></li><li><details><summary>crs_transform: [20, 0, 499980, 0, -20, 3300000]</summary><ul><li><span class='ee-k'>0:</span><span class='ee-v'>20</span></li><li><span class='ee-k'>1:</span><span class='ee-v'>0</span></li><li><span class='ee-k'>2:</span><span class='ee-v'>499980</span></li><li><span class='ee-k'>3:</span><span class='ee-v'>0</span></li><li><span class='ee-k'>4:</span><span class='ee-v'>-20</span></li><li><span class='ee-k'>5:</span><span class='ee-v'>3300000</span></li></ul></details></li><li><details><summary>data_type: unsigned int16</summary><ul><li><span class='ee-k'>type:</span><span class='ee-v'>PixelType</span></li><li><span class='ee-k'>max:</span><span class='ee-v'>65535</span></li><li><span class='ee-k'>min:</span><span class='ee-v'>0</span></li><li><span class='ee-k'>precision:</span><span class='ee-v'>int</span></li></ul></details></li><li><details><summary>dimensions: [5490, 5490]</summary><ul><li><span class='ee-k'>0:</span><span class='ee-v'>5490</span></li><li><span class='ee-k'>1:</span><span class='ee-v'>5490</span></li></ul></details></li></ul></details></li><li><details><summary>6: \"B7\", unsigned int16, EPSG:32635, 5490x5490 px</summary><ul><li><span class='ee-k'>id:</span><span class='ee-v'>B7</span></li><li><span class='ee-k'>crs:</span><span class='ee-v'>EPSG:32635</span></li><li><details><summary>crs_transform: [20, 0, 499980, 0, -20, 3300000]</summary><ul><li><span class='ee-k'>0:</span><span class='ee-v'>20</span></li><li><span class='ee-k'>1:</span><span class='ee-v'>0</span></li><li><span class='ee-k'>2:</span><span class='ee-v'>499980</span></li><li><span class='ee-k'>3:</span><span class='ee-v'>0</span></li><li><span class='ee-k'>4:</span><span class='ee-v'>-20</span></li><li><span class='ee-k'>5:</span><span class='ee-v'>3300000</span></li></ul></details></li><li><details><summary>data_type: unsigned int16</summary><ul><li><span class='ee-k'>type:</span><span class='ee-v'>PixelType</span></li><li><span class='ee-k'>max:</span><span class='ee-v'>65535</span></li><li><span class='ee-k'>min:</span><span class='ee-v'>0</span></li><li><span class='ee-k'>precision:</span><span class='ee-v'>int</span></li></ul></details></li><li><details><summary>dimensions: [5490, 5490]</summary><ul><li><span class='ee-k'>0:</span><span class='ee-v'>5490</span></li><li><span class='ee-k'>1:</span><span class='ee-v'>5490</span></li></ul></details></li></ul></details></li><li><details><summary>7: \"B8\", unsigned int16, EPSG:32635, 10980x10980 px</summary><ul><li><span class='ee-k'>id:</span><span class='ee-v'>B8</span></li><li><span class='ee-k'>crs:</span><span class='ee-v'>EPSG:32635</span></li><li><details><summary>crs_transform: [10, 0, 499980, 0, -10, 3300000]</summary><ul><li><span class='ee-k'>0:</span><span class='ee-v'>10</span></li><li><span class='ee-k'>1:</span><span class='ee-v'>0</span></li><li><span class='ee-k'>2:</span><span class='ee-v'>499980</span></li><li><span class='ee-k'>3:</span><span class='ee-v'>0</span></li><li><span class='ee-k'>4:</span><span class='ee-v'>-10</span></li><li><span class='ee-k'>5:</span><span class='ee-v'>3300000</span></li></ul></details></li><li><details><summary>data_type: unsigned int16</summary><ul><li><span class='ee-k'>type:</span><span class='ee-v'>PixelType</span></li><li><span class='ee-k'>max:</span><span class='ee-v'>65535</span></li><li><span class='ee-k'>min:</span><span class='ee-v'>0</span></li><li><span class='ee-k'>precision:</span><span class='ee-v'>int</span></li></ul></details></li><li><details><summary>dimensions: [10980, 10980]</summary><ul><li><span class='ee-k'>0:</span><span class='ee-v'>10980</span></li><li><span class='ee-k'>1:</span><span class='ee-v'>10980</span></li></ul></details></li></ul></details></li><li><details><summary>8: \"B8A\", unsigned int16, EPSG:32635, 5490x5490 px</summary><ul><li><span class='ee-k'>id:</span><span class='ee-v'>B8A</span></li><li><span class='ee-k'>crs:</span><span class='ee-v'>EPSG:32635</span></li><li><details><summary>crs_transform: [20, 0, 499980, 0, -20, 3300000]</summary><ul><li><span class='ee-k'>0:</span><span class='ee-v'>20</span></li><li><span class='ee-k'>1:</span><span class='ee-v'>0</span></li><li><span class='ee-k'>2:</span><span class='ee-v'>499980</span></li><li><span class='ee-k'>3:</span><span class='ee-v'>0</span></li><li><span class='ee-k'>4:</span><span class='ee-v'>-20</span></li><li><span class='ee-k'>5:</span><span class='ee-v'>3300000</span></li></ul></details></li><li><details><summary>data_type: unsigned int16</summary><ul><li><span class='ee-k'>type:</span><span class='ee-v'>PixelType</span></li><li><span class='ee-k'>max:</span><span class='ee-v'>65535</span></li><li><span class='ee-k'>min:</span><span class='ee-v'>0</span></li><li><span class='ee-k'>precision:</span><span class='ee-v'>int</span></li></ul></details></li><li><details><summary>dimensions: [5490, 5490]</summary><ul><li><span class='ee-k'>0:</span><span class='ee-v'>5490</span></li><li><span class='ee-k'>1:</span><span class='ee-v'>5490</span></li></ul></details></li></ul></details></li><li><details><summary>9: \"B9\", unsigned int16, EPSG:32635, 1830x1830 px</summary><ul><li><span class='ee-k'>id:</span><span class='ee-v'>B9</span></li><li><span class='ee-k'>crs:</span><span class='ee-v'>EPSG:32635</span></li><li><details><summary>crs_transform: [60, 0, 499980, 0, -60, 3300000]</summary><ul><li><span class='ee-k'>0:</span><span class='ee-v'>60</span></li><li><span class='ee-k'>1:</span><span class='ee-v'>0</span></li><li><span class='ee-k'>2:</span><span class='ee-v'>499980</span></li><li><span class='ee-k'>3:</span><span class='ee-v'>0</span></li><li><span class='ee-k'>4:</span><span class='ee-v'>-60</span></li><li><span class='ee-k'>5:</span><span class='ee-v'>3300000</span></li></ul></details></li><li><details><summary>data_type: unsigned int16</summary><ul><li><span class='ee-k'>type:</span><span class='ee-v'>PixelType</span></li><li><span class='ee-k'>max:</span><span class='ee-v'>65535</span></li><li><span class='ee-k'>min:</span><span class='ee-v'>0</span></li><li><span class='ee-k'>precision:</span><span class='ee-v'>int</span></li></ul></details></li><li><details><summary>dimensions: [1830, 1830]</summary><ul><li><span class='ee-k'>0:</span><span class='ee-v'>1830</span></li><li><span class='ee-k'>1:</span><span class='ee-v'>1830</span></li></ul></details></li></ul></details></li><li><details><summary>10: \"B11\", unsigned int16, EPSG:32635, 5490x5490 px</summary><ul><li><span class='ee-k'>id:</span><span class='ee-v'>B11</span></li><li><span class='ee-k'>crs:</span><span class='ee-v'>EPSG:32635</span></li><li><details><summary>crs_transform: [20, 0, 499980, 0, -20, 3300000]</summary><ul><li><span class='ee-k'>0:</span><span class='ee-v'>20</span></li><li><span class='ee-k'>1:</span><span class='ee-v'>0</span></li><li><span class='ee-k'>2:</span><span class='ee-v'>499980</span></li><li><span class='ee-k'>3:</span><span class='ee-v'>0</span></li><li><span class='ee-k'>4:</span><span class='ee-v'>-20</span></li><li><span class='ee-k'>5:</span><span class='ee-v'>3300000</span></li></ul></details></li><li><details><summary>data_type: unsigned int16</summary><ul><li><span class='ee-k'>type:</span><span class='ee-v'>PixelType</span></li><li><span class='ee-k'>max:</span><span class='ee-v'>65535</span></li><li><span class='ee-k'>min:</span><span class='ee-v'>0</span></li><li><span class='ee-k'>precision:</span><span class='ee-v'>int</span></li></ul></details></li><li><details><summary>dimensions: [5490, 5490]</summary><ul><li><span class='ee-k'>0:</span><span class='ee-v'>5490</span></li><li><span class='ee-k'>1:</span><span class='ee-v'>5490</span></li></ul></details></li></ul></details></li><li><details><summary>11: \"B12\", unsigned int16, EPSG:32635, 5490x5490 px</summary><ul><li><span class='ee-k'>id:</span><span class='ee-v'>B12</span></li><li><span class='ee-k'>crs:</span><span class='ee-v'>EPSG:32635</span></li><li><details><summary>crs_transform: [20, 0, 499980, 0, -20, 3300000]</summary><ul><li><span class='ee-k'>0:</span><span class='ee-v'>20</span></li><li><span class='ee-k'>1:</span><span class='ee-v'>0</span></li><li><span class='ee-k'>2:</span><span class='ee-v'>499980</span></li><li><span class='ee-k'>3:</span><span class='ee-v'>0</span></li><li><span class='ee-k'>4:</span><span class='ee-v'>-20</span></li><li><span class='ee-k'>5:</span><span class='ee-v'>3300000</span></li></ul></details></li><li><details><summary>data_type: unsigned int16</summary><ul><li><span class='ee-k'>type:</span><span class='ee-v'>PixelType</span></li><li><span class='ee-k'>max:</span><span class='ee-v'>65535</span></li><li><span class='ee-k'>min:</span><span class='ee-v'>0</span></li><li><span class='ee-k'>precision:</span><span class='ee-v'>int</span></li></ul></details></li><li><details><summary>dimensions: [5490, 5490]</summary><ul><li><span class='ee-k'>0:</span><span class='ee-v'>5490</span></li><li><span class='ee-k'>1:</span><span class='ee-v'>5490</span></li></ul></details></li></ul></details></li><li><details><summary>12: \"AOT\", unsigned int16, EPSG:32635, 10980x10980 px</summary><ul><li><span class='ee-k'>id:</span><span class='ee-v'>AOT</span></li><li><span class='ee-k'>crs:</span><span class='ee-v'>EPSG:32635</span></li><li><details><summary>crs_transform: [10, 0, 499980, 0, -10, 3300000]</summary><ul><li><span class='ee-k'>0:</span><span class='ee-v'>10</span></li><li><span class='ee-k'>1:</span><span class='ee-v'>0</span></li><li><span class='ee-k'>2:</span><span class='ee-v'>499980</span></li><li><span class='ee-k'>3:</span><span class='ee-v'>0</span></li><li><span class='ee-k'>4:</span><span class='ee-v'>-10</span></li><li><span class='ee-k'>5:</span><span class='ee-v'>3300000</span></li></ul></details></li><li><details><summary>data_type: unsigned int16</summary><ul><li><span class='ee-k'>type:</span><span class='ee-v'>PixelType</span></li><li><span class='ee-k'>max:</span><span class='ee-v'>65535</span></li><li><span class='ee-k'>min:</span><span class='ee-v'>0</span></li><li><span class='ee-k'>precision:</span><span class='ee-v'>int</span></li></ul></details></li><li><details><summary>dimensions: [10980, 10980]</summary><ul><li><span class='ee-k'>0:</span><span class='ee-v'>10980</span></li><li><span class='ee-k'>1:</span><span class='ee-v'>10980</span></li></ul></details></li></ul></details></li><li><details><summary>13: \"WVP\", unsigned int16, EPSG:32635, 10980x10980 px</summary><ul><li><span class='ee-k'>id:</span><span class='ee-v'>WVP</span></li><li><span class='ee-k'>crs:</span><span class='ee-v'>EPSG:32635</span></li><li><details><summary>crs_transform: [10, 0, 499980, 0, -10, 3300000]</summary><ul><li><span class='ee-k'>0:</span><span class='ee-v'>10</span></li><li><span class='ee-k'>1:</span><span class='ee-v'>0</span></li><li><span class='ee-k'>2:</span><span class='ee-v'>499980</span></li><li><span class='ee-k'>3:</span><span class='ee-v'>0</span></li><li><span class='ee-k'>4:</span><span class='ee-v'>-10</span></li><li><span class='ee-k'>5:</span><span class='ee-v'>3300000</span></li></ul></details></li><li><details><summary>data_type: unsigned int16</summary><ul><li><span class='ee-k'>type:</span><span class='ee-v'>PixelType</span></li><li><span class='ee-k'>max:</span><span class='ee-v'>65535</span></li><li><span class='ee-k'>min:</span><span class='ee-v'>0</span></li><li><span class='ee-k'>precision:</span><span class='ee-v'>int</span></li></ul></details></li><li><details><summary>dimensions: [10980, 10980]</summary><ul><li><span class='ee-k'>0:</span><span class='ee-v'>10980</span></li><li><span class='ee-k'>1:</span><span class='ee-v'>10980</span></li></ul></details></li></ul></details></li><li><details><summary>14: \"SCL\", unsigned int8, EPSG:32635, 5490x5490 px</summary><ul><li><span class='ee-k'>id:</span><span class='ee-v'>SCL</span></li><li><span class='ee-k'>crs:</span><span class='ee-v'>EPSG:32635</span></li><li><details><summary>crs_transform: [20, 0, 499980, 0, -20, 3300000]</summary><ul><li><span class='ee-k'>0:</span><span class='ee-v'>20</span></li><li><span class='ee-k'>1:</span><span class='ee-v'>0</span></li><li><span class='ee-k'>2:</span><span class='ee-v'>499980</span></li><li><span class='ee-k'>3:</span><span class='ee-v'>0</span></li><li><span class='ee-k'>4:</span><span class='ee-v'>-20</span></li><li><span class='ee-k'>5:</span><span class='ee-v'>3300000</span></li></ul></details></li><li><details><summary>data_type: unsigned int8</summary><ul><li><span class='ee-k'>type:</span><span class='ee-v'>PixelType</span></li><li><span class='ee-k'>max:</span><span class='ee-v'>255</span></li><li><span class='ee-k'>min:</span><span class='ee-v'>0</span></li><li><span class='ee-k'>precision:</span><span class='ee-v'>int</span></li></ul></details></li><li><details><summary>dimensions: [5490, 5490]</summary><ul><li><span class='ee-k'>0:</span><span class='ee-v'>5490</span></li><li><span class='ee-k'>1:</span><span class='ee-v'>5490</span></li></ul></details></li></ul></details></li><li><details><summary>15: \"TCI_R\", unsigned int8, EPSG:32635, 10980x10980 px</summary><ul><li><span class='ee-k'>id:</span><span class='ee-v'>TCI_R</span></li><li><span class='ee-k'>crs:</span><span class='ee-v'>EPSG:32635</span></li><li><details><summary>crs_transform: [10, 0, 499980, 0, -10, 3300000]</summary><ul><li><span class='ee-k'>0:</span><span class='ee-v'>10</span></li><li><span class='ee-k'>1:</span><span class='ee-v'>0</span></li><li><span class='ee-k'>2:</span><span class='ee-v'>499980</span></li><li><span class='ee-k'>3:</span><span class='ee-v'>0</span></li><li><span class='ee-k'>4:</span><span class='ee-v'>-10</span></li><li><span class='ee-k'>5:</span><span class='ee-v'>3300000</span></li></ul></details></li><li><details><summary>data_type: unsigned int8</summary><ul><li><span class='ee-k'>type:</span><span class='ee-v'>PixelType</span></li><li><span class='ee-k'>max:</span><span class='ee-v'>255</span></li><li><span class='ee-k'>min:</span><span class='ee-v'>0</span></li><li><span class='ee-k'>precision:</span><span class='ee-v'>int</span></li></ul></details></li><li><details><summary>dimensions: [10980, 10980]</summary><ul><li><span class='ee-k'>0:</span><span class='ee-v'>10980</span></li><li><span class='ee-k'>1:</span><span class='ee-v'>10980</span></li></ul></details></li></ul></details></li><li><details><summary>16: \"TCI_G\", unsigned int8, EPSG:32635, 10980x10980 px</summary><ul><li><span class='ee-k'>id:</span><span class='ee-v'>TCI_G</span></li><li><span class='ee-k'>crs:</span><span class='ee-v'>EPSG:32635</span></li><li><details><summary>crs_transform: [10, 0, 499980, 0, -10, 3300000]</summary><ul><li><span class='ee-k'>0:</span><span class='ee-v'>10</span></li><li><span class='ee-k'>1:</span><span class='ee-v'>0</span></li><li><span class='ee-k'>2:</span><span class='ee-v'>499980</span></li><li><span class='ee-k'>3:</span><span class='ee-v'>0</span></li><li><span class='ee-k'>4:</span><span class='ee-v'>-10</span></li><li><span class='ee-k'>5:</span><span class='ee-v'>3300000</span></li></ul></details></li><li><details><summary>data_type: unsigned int8</summary><ul><li><span class='ee-k'>type:</span><span class='ee-v'>PixelType</span></li><li><span class='ee-k'>max:</span><span class='ee-v'>255</span></li><li><span class='ee-k'>min:</span><span class='ee-v'>0</span></li><li><span class='ee-k'>precision:</span><span class='ee-v'>int</span></li></ul></details></li><li><details><summary>dimensions: [10980, 10980]</summary><ul><li><span class='ee-k'>0:</span><span class='ee-v'>10980</span></li><li><span class='ee-k'>1:</span><span class='ee-v'>10980</span></li></ul></details></li></ul></details></li><li><details><summary>17: \"TCI_B\", unsigned int8, EPSG:32635, 10980x10980 px</summary><ul><li><span class='ee-k'>id:</span><span class='ee-v'>TCI_B</span></li><li><span class='ee-k'>crs:</span><span class='ee-v'>EPSG:32635</span></li><li><details><summary>crs_transform: [10, 0, 499980, 0, -10, 3300000]</summary><ul><li><span class='ee-k'>0:</span><span class='ee-v'>10</span></li><li><span class='ee-k'>1:</span><span class='ee-v'>0</span></li><li><span class='ee-k'>2:</span><span class='ee-v'>499980</span></li><li><span class='ee-k'>3:</span><span class='ee-v'>0</span></li><li><span class='ee-k'>4:</span><span class='ee-v'>-10</span></li><li><span class='ee-k'>5:</span><span class='ee-v'>3300000</span></li></ul></details></li><li><details><summary>data_type: unsigned int8</summary><ul><li><span class='ee-k'>type:</span><span class='ee-v'>PixelType</span></li><li><span class='ee-k'>max:</span><span class='ee-v'>255</span></li><li><span class='ee-k'>min:</span><span class='ee-v'>0</span></li><li><span class='ee-k'>precision:</span><span class='ee-v'>int</span></li></ul></details></li><li><details><summary>dimensions: [10980, 10980]</summary><ul><li><span class='ee-k'>0:</span><span class='ee-v'>10980</span></li><li><span class='ee-k'>1:</span><span class='ee-v'>10980</span></li></ul></details></li></ul></details></li><li><details><summary>18: \"MSK_CLDPRB\", unsigned int8, EPSG:32635, 1x1 px</summary><ul><li><span class='ee-k'>id:</span><span class='ee-v'>MSK_CLDPRB</span></li><li><span class='ee-k'>crs:</span><span class='ee-v'>EPSG:32635</span></li><li><details><summary>crs_transform: [1, 0, 499980, 0, 1, 3300000]</summary><ul><li><span class='ee-k'>0:</span><span class='ee-v'>1</span></li><li><span class='ee-k'>1:</span><span class='ee-v'>0</span></li><li><span class='ee-k'>2:</span><span class='ee-v'>499980</span></li><li><span class='ee-k'>3:</span><span class='ee-v'>0</span></li><li><span class='ee-k'>4:</span><span class='ee-v'>1</span></li><li><span class='ee-k'>5:</span><span class='ee-v'>3300000</span></li></ul></details></li><li><details><summary>data_type: unsigned int8</summary><ul><li><span class='ee-k'>type:</span><span class='ee-v'>PixelType</span></li><li><span class='ee-k'>max:</span><span class='ee-v'>255</span></li><li><span class='ee-k'>min:</span><span class='ee-v'>0</span></li><li><span class='ee-k'>precision:</span><span class='ee-v'>int</span></li></ul></details></li><li><details><summary>dimensions: [1, 1]</summary><ul><li><span class='ee-k'>0:</span><span class='ee-v'>1</span></li><li><span class='ee-k'>1:</span><span class='ee-v'>1</span></li></ul></details></li></ul></details></li><li><details><summary>19: \"MSK_SNWPRB\", unsigned int8, EPSG:32635, 1x1 px</summary><ul><li><span class='ee-k'>id:</span><span class='ee-v'>MSK_SNWPRB</span></li><li><span class='ee-k'>crs:</span><span class='ee-v'>EPSG:32635</span></li><li><details><summary>crs_transform: [1, 0, 499980, 0, 1, 3300000]</summary><ul><li><span class='ee-k'>0:</span><span class='ee-v'>1</span></li><li><span class='ee-k'>1:</span><span class='ee-v'>0</span></li><li><span class='ee-k'>2:</span><span class='ee-v'>499980</span></li><li><span class='ee-k'>3:</span><span class='ee-v'>0</span></li><li><span class='ee-k'>4:</span><span class='ee-v'>1</span></li><li><span class='ee-k'>5:</span><span class='ee-v'>3300000</span></li></ul></details></li><li><details><summary>data_type: unsigned int8</summary><ul><li><span class='ee-k'>type:</span><span class='ee-v'>PixelType</span></li><li><span class='ee-k'>max:</span><span class='ee-v'>255</span></li><li><span class='ee-k'>min:</span><span class='ee-v'>0</span></li><li><span class='ee-k'>precision:</span><span class='ee-v'>int</span></li></ul></details></li><li><details><summary>dimensions: [1, 1]</summary><ul><li><span class='ee-k'>0:</span><span class='ee-v'>1</span></li><li><span class='ee-k'>1:</span><span class='ee-v'>1</span></li></ul></details></li></ul></details></li><li><details><summary>20: \"QA10\", unsigned int16, EPSG:32635, 10980x10980 px</summary><ul><li><span class='ee-k'>id:</span><span class='ee-v'>QA10</span></li><li><span class='ee-k'>crs:</span><span class='ee-v'>EPSG:32635</span></li><li><details><summary>crs_transform: [10, 0, 499980, 0, -10, 3300000]</summary><ul><li><span class='ee-k'>0:</span><span class='ee-v'>10</span></li><li><span class='ee-k'>1:</span><span class='ee-v'>0</span></li><li><span class='ee-k'>2:</span><span class='ee-v'>499980</span></li><li><span class='ee-k'>3:</span><span class='ee-v'>0</span></li><li><span class='ee-k'>4:</span><span class='ee-v'>-10</span></li><li><span class='ee-k'>5:</span><span class='ee-v'>3300000</span></li></ul></details></li><li><details><summary>data_type: unsigned int16</summary><ul><li><span class='ee-k'>type:</span><span class='ee-v'>PixelType</span></li><li><span class='ee-k'>max:</span><span class='ee-v'>65535</span></li><li><span class='ee-k'>min:</span><span class='ee-v'>0</span></li><li><span class='ee-k'>precision:</span><span class='ee-v'>int</span></li></ul></details></li><li><details><summary>dimensions: [10980, 10980]</summary><ul><li><span class='ee-k'>0:</span><span class='ee-v'>10980</span></li><li><span class='ee-k'>1:</span><span class='ee-v'>10980</span></li></ul></details></li></ul></details></li><li><details><summary>21: \"QA20\", unsigned int32, EPSG:32635, 5490x5490 px</summary><ul><li><span class='ee-k'>id:</span><span class='ee-v'>QA20</span></li><li><span class='ee-k'>crs:</span><span class='ee-v'>EPSG:32635</span></li><li><details><summary>crs_transform: [20, 0, 499980, 0, -20, 3300000]</summary><ul><li><span class='ee-k'>0:</span><span class='ee-v'>20</span></li><li><span class='ee-k'>1:</span><span class='ee-v'>0</span></li><li><span class='ee-k'>2:</span><span class='ee-v'>499980</span></li><li><span class='ee-k'>3:</span><span class='ee-v'>0</span></li><li><span class='ee-k'>4:</span><span class='ee-v'>-20</span></li><li><span class='ee-k'>5:</span><span class='ee-v'>3300000</span></li></ul></details></li><li><details><summary>data_type: unsigned int32</summary><ul><li><span class='ee-k'>type:</span><span class='ee-v'>PixelType</span></li><li><span class='ee-k'>max:</span><span class='ee-v'>4294967295</span></li><li><span class='ee-k'>min:</span><span class='ee-v'>0</span></li><li><span class='ee-k'>precision:</span><span class='ee-v'>int</span></li></ul></details></li><li><details><summary>dimensions: [5490, 5490]</summary><ul><li><span class='ee-k'>0:</span><span class='ee-v'>5490</span></li><li><span class='ee-k'>1:</span><span class='ee-v'>5490</span></li></ul></details></li></ul></details></li><li><details><summary>22: \"QA60\", unsigned int16, EPSG:32635, 1830x1830 px</summary><ul><li><span class='ee-k'>id:</span><span class='ee-v'>QA60</span></li><li><span class='ee-k'>crs:</span><span class='ee-v'>EPSG:32635</span></li><li><details><summary>crs_transform: [60, 0, 499980, 0, -60, 3300000]</summary><ul><li><span class='ee-k'>0:</span><span class='ee-v'>60</span></li><li><span class='ee-k'>1:</span><span class='ee-v'>0</span></li><li><span class='ee-k'>2:</span><span class='ee-v'>499980</span></li><li><span class='ee-k'>3:</span><span class='ee-v'>0</span></li><li><span class='ee-k'>4:</span><span class='ee-v'>-60</span></li><li><span class='ee-k'>5:</span><span class='ee-v'>3300000</span></li></ul></details></li><li><details><summary>data_type: unsigned int16</summary><ul><li><span class='ee-k'>type:</span><span class='ee-v'>PixelType</span></li><li><span class='ee-k'>max:</span><span class='ee-v'>65535</span></li><li><span class='ee-k'>min:</span><span class='ee-v'>0</span></li><li><span class='ee-k'>precision:</span><span class='ee-v'>int</span></li></ul></details></li><li><details><summary>dimensions: [1830, 1830]</summary><ul><li><span class='ee-k'>0:</span><span class='ee-v'>1830</span></li><li><span class='ee-k'>1:</span><span class='ee-v'>1830</span></li></ul></details></li></ul></details></li></ul></details></li><li><details><summary>properties: Object (82 properties)</summary><ul><li><span class='ee-k'>AOT_RETRIEVAL_ACCURACY:</span><span class='ee-v'>0</span></li><li><span class='ee-k'>BARE_SOILS_PERCENTAGE:</span><span class='ee-v'>98.496389</span></li><li><span class='ee-k'>CLOUDY_PIXEL_PERCENTAGE:</span><span class='ee-v'>0.0495</span></li><li><span class='ee-k'>CLOUD_COVERAGE_ASSESSMENT:</span><span class='ee-v'>0.0495</span></li><li><span class='ee-k'>CLOUD_COVERAGE_PERCENTAGE:</span><span class='ee-v'>0.009656</span></li><li><span class='ee-k'>CLOUD_SHADOW_PERCENTAGE:</span><span class='ee-v'>0</span></li><li><span class='ee-k'>DARK_FEATURES_PERCENTAGE:</span><span class='ee-v'>0</span></li><li><span class='ee-k'>DATASTRIP_ID:</span><span class='ee-v'>S2A_USER_MSI_L2A_DS_MPS__20170328T123128_S20170328T084228_N02.04</span></li><li><span class='ee-k'>DATATAKE_IDENTIFIER:</span><span class='ee-v'>GS2A_20170328T083601_009213_N02.04</span></li><li><span class='ee-k'>DATATAKE_TYPE:</span><span class='ee-v'>INS-NOBS</span></li><li><span class='ee-k'>DEGRADED_MSI_DATA_PERCENTAGE:</span><span class='ee-v'>0</span></li><li><span class='ee-k'>FORMAT_CORRECTNESS_FLAG:</span><span class='ee-v'>PASSED</span></li><li><span class='ee-k'>GENERAL_QUALITY_FLAG:</span><span class='ee-v'>PASSED</span></li><li><span class='ee-k'>GENERATION_TIME:</span><span class='ee-v'>1490846463000</span></li><li><span class='ee-k'>GEOMETRIC_QUALITY_FLAG:</span><span class='ee-v'>PASSED</span></li><li><span class='ee-k'>GRANULE_ID:</span><span class='ee-v'>L2A_T35RNN_A009213_20170328T084228</span></li><li><span class='ee-k'>HIGH_PROBA_CLOUDS_PERCENTAGE:</span><span class='ee-v'>0.004169</span></li><li><span class='ee-k'>LOW_PROBA_CLOUDS_PERCENTAGE:</span><span class='ee-v'>1.235999</span></li><li><span class='ee-k'>MEAN_INCIDENCE_AZIMUTH_ANGLE_B1:</span><span class='ee-v'>104.828288443419</span></li><li><span class='ee-k'>MEAN_INCIDENCE_AZIMUTH_ANGLE_B10:</span><span class='ee-v'>103.710231188806</span></li><li><span class='ee-k'>MEAN_INCIDENCE_AZIMUTH_ANGLE_B11:</span><span class='ee-v'>104.233246535816</span></li><li><span class='ee-k'>MEAN_INCIDENCE_AZIMUTH_ANGLE_B12:</span><span class='ee-v'>104.801561371549</span></li><li><span class='ee-k'>MEAN_INCIDENCE_AZIMUTH_ANGLE_B2:</span><span class='ee-v'>102.811818362599</span></li><li><span class='ee-k'>MEAN_INCIDENCE_AZIMUTH_ANGLE_B3:</span><span class='ee-v'>103.297695916294</span></li><li><span class='ee-k'>MEAN_INCIDENCE_AZIMUTH_ANGLE_B4:</span><span class='ee-v'>103.739321391783</span></li><li><span class='ee-k'>MEAN_INCIDENCE_AZIMUTH_ANGLE_B5:</span><span class='ee-v'>103.98593539883</span></li><li><span class='ee-k'>MEAN_INCIDENCE_AZIMUTH_ANGLE_B6:</span><span class='ee-v'>104.220809758186</span></li><li><span class='ee-k'>MEAN_INCIDENCE_AZIMUTH_ANGLE_B7:</span><span class='ee-v'>104.403289777273</span></li><li><span class='ee-k'>MEAN_INCIDENCE_AZIMUTH_ANGLE_B8:</span><span class='ee-v'>103.054965806683</span></li><li><span class='ee-k'>MEAN_INCIDENCE_AZIMUTH_ANGLE_B8A:</span><span class='ee-v'>104.629993197177</span></li><li><span class='ee-k'>MEAN_INCIDENCE_AZIMUTH_ANGLE_B9:</span><span class='ee-v'>105.054415753724</span></li><li><span class='ee-k'>MEAN_INCIDENCE_ZENITH_ANGLE_B1:</span><span class='ee-v'>10.4359059745328</span></li><li><span class='ee-k'>MEAN_INCIDENCE_ZENITH_ANGLE_B10:</span><span class='ee-v'>10.3175638250922</span></li><li><span class='ee-k'>MEAN_INCIDENCE_ZENITH_ANGLE_B11:</span><span class='ee-v'>10.351997366471</span></li><li><span class='ee-k'>MEAN_INCIDENCE_ZENITH_ANGLE_B12:</span><span class='ee-v'>10.3994609471123</span></li><li><span class='ee-k'>MEAN_INCIDENCE_ZENITH_ANGLE_B2:</span><span class='ee-v'>10.3056259148627</span></li><li><span class='ee-k'>MEAN_INCIDENCE_ZENITH_ANGLE_B3:</span><span class='ee-v'>10.3227138221061</span></li><li><span class='ee-k'>MEAN_INCIDENCE_ZENITH_ANGLE_B4:</span><span class='ee-v'>10.3452655422692</span></li><li><span class='ee-k'>MEAN_INCIDENCE_ZENITH_ANGLE_B5:</span><span class='ee-v'>10.3603107631098</span></li><li><span class='ee-k'>MEAN_INCIDENCE_ZENITH_ANGLE_B6:</span><span class='ee-v'>10.3772310938066</span></li><li><span class='ee-k'>MEAN_INCIDENCE_ZENITH_ANGLE_B7:</span><span class='ee-v'>10.3940290982636</span></li><li><span class='ee-k'>MEAN_INCIDENCE_ZENITH_ANGLE_B8:</span><span class='ee-v'>10.3131911857969</span></li><li><span class='ee-k'>MEAN_INCIDENCE_ZENITH_ANGLE_B8A:</span><span class='ee-v'>10.4147310045116</span></li><li><span class='ee-k'>MEAN_INCIDENCE_ZENITH_ANGLE_B9:</span><span class='ee-v'>10.4610611301034</span></li><li><span class='ee-k'>MEAN_SOLAR_AZIMUTH_ANGLE:</span><span class='ee-v'>139.360210423459</span></li><li><span class='ee-k'>MEAN_SOLAR_ZENITH_ANGLE:</span><span class='ee-v'>32.7295420044712</span></li><li><span class='ee-k'>MEDIUM_PROBA_CLOUDS_PERCENTAGE:</span><span class='ee-v'>0.005487</span></li><li><span class='ee-k'>MGRS_TILE:</span><span class='ee-v'>35RNN</span></li><li><span class='ee-k'>NODATA_PIXEL_PERCENTAGE:</span><span class='ee-v'>67.529982</span></li><li><span class='ee-k'>PROCESSING_BASELINE:</span><span class='ee-v'>02.04</span></li><li><span class='ee-k'>PRODUCT_ID:</span><span class='ee-v'>S2A_MSIL2A_20170328T083601_N0204_R064_T35RNN_20170328T084228</span></li><li><span class='ee-k'>RADIATIVE_TRANSFER_ACCURAY:</span><span class='ee-v'>0</span></li><li><span class='ee-k'>RADIOMETRIC_QUALITY_FLAG:</span><span class='ee-v'>PASSED</span></li><li><span class='ee-k'>REFLECTANCE_CONVERSION_CORRECTION:</span><span class='ee-v'>1.00613186852888</span></li><li><span class='ee-k'>SATURATED_DEFECTIVE_PIXEL_PERCENTAGE:</span><span class='ee-v'>0</span></li><li><span class='ee-k'>SENSING_ORBIT_DIRECTION:</span><span class='ee-v'>DESCENDING</span></li><li><span class='ee-k'>SENSING_ORBIT_NUMBER:</span><span class='ee-v'>64</span></li><li><span class='ee-k'>SENSOR_QUALITY_FLAG:</span><span class='ee-v'>PASSED</span></li><li><span class='ee-k'>SNOW_ICE_PERCENTAGE:</span><span class='ee-v'>0</span></li><li><span class='ee-k'>SOLAR_IRRADIANCE_B1:</span><span class='ee-v'>1913.57</span></li><li><span class='ee-k'>SOLAR_IRRADIANCE_B10:</span><span class='ee-v'>367.15</span></li><li><span class='ee-k'>SOLAR_IRRADIANCE_B11:</span><span class='ee-v'>245.59</span></li><li><span class='ee-k'>SOLAR_IRRADIANCE_B12:</span><span class='ee-v'>85.25</span></li><li><span class='ee-k'>SOLAR_IRRADIANCE_B2:</span><span class='ee-v'>1941.63</span></li><li><span class='ee-k'>SOLAR_IRRADIANCE_B3:</span><span class='ee-v'>1822.61</span></li><li><span class='ee-k'>SOLAR_IRRADIANCE_B4:</span><span class='ee-v'>1512.79</span></li><li><span class='ee-k'>SOLAR_IRRADIANCE_B5:</span><span class='ee-v'>1425.56</span></li><li><span class='ee-k'>SOLAR_IRRADIANCE_B6:</span><span class='ee-v'>1288.32</span></li><li><span class='ee-k'>SOLAR_IRRADIANCE_B7:</span><span class='ee-v'>1163.19</span></li><li><span class='ee-k'>SOLAR_IRRADIANCE_B8:</span><span class='ee-v'>1036.39</span></li><li><span class='ee-k'>SOLAR_IRRADIANCE_B8A:</span><span class='ee-v'>955.19</span></li><li><span class='ee-k'>SOLAR_IRRADIANCE_B9:</span><span class='ee-v'>813.04</span></li><li><span class='ee-k'>SPACECRAFT_NAME:</span><span class='ee-v'>Sentinel-2A</span></li><li><span class='ee-k'>THIN_CIRRUS_PERCENTAGE:</span><span class='ee-v'>0</span></li><li><span class='ee-k'>VEGETATION_PERCENTAGE:</span><span class='ee-v'>0</span></li><li><span class='ee-k'>WATER_PERCENTAGE:</span><span class='ee-v'>0.257957</span></li><li><span class='ee-k'>WATER_VAPOUR_RETRIEVAL_ACCURACY:</span><span class='ee-v'>0</span></li><li><span class='ee-k'>system:asset_size:</span><span class='ee-v'>471908029</span></li><li><details><summary>system:footprint: LinearRing (20 vertices)</summary><ul><li><span class='ee-k'>type:</span><span class='ee-v'>LinearRing</span></li><li><details><summary>coordinates: List (20 elements)</summary><ul><li><details><summary>0: [27.88842524950956, 29.82753881324191]</summary><ul><li><span class='ee-k'>0:</span><span class='ee-v'>27.88842524950956</span></li><li><span class='ee-k'>1:</span><span class='ee-v'>29.82753881324191</span></li></ul></details></li><li><details><summary>1: [27.888370620666805, 29.827521800607936]</summary><ul><li><span class='ee-k'>0:</span><span class='ee-v'>27.888370620666805</span></li><li><span class='ee-k'>1:</span><span class='ee-v'>29.827521800607936</span></li></ul></details></li><li><details><summary>2: [27.887404375875192, 29.824258808230915]</summary><ul><li><span class='ee-k'>0:</span><span class='ee-v'>27.887404375875192</span></li><li><span class='ee-k'>1:</span><span class='ee-v'>29.824258808230915</span></li></ul></details></li><li><details><summary>3: [27.885799201832107, 29.81831220433486]</summary><ul><li><span class='ee-k'>0:</span><span class='ee-v'>27.885799201832107</span></li><li><span class='ee-k'>1:</span><span class='ee-v'>29.81831220433486</span></li></ul></details></li><li><details><summary>4: [27.881300829888804, 29.801015085321666]</summary><ul><li><span class='ee-k'>0:</span><span class='ee-v'>27.881300829888804</span></li><li><span class='ee-k'>1:</span><span class='ee-v'>29.801015085321666</span></li></ul></details></li><li><details><summary>5: [27.84214738719034, 29.647492860544812]</summary><ul><li><span class='ee-k'>0:</span><span class='ee-v'>27.84214738719034</span></li><li><span class='ee-k'>1:</span><span class='ee-v'>29.647492860544812</span></li></ul></details></li><li><details><summary>6: [27.648205306936664, 28.877460262880806]</summary><ul><li><span class='ee-k'>0:</span><span class='ee-v'>27.648205306936664</span></li><li><span class='ee-k'>1:</span><span class='ee-v'>28.877460262880806</span></li></ul></details></li><li><details><summary>7: [27.641896262720305, 28.852037161267152]</summary><ul><li><span class='ee-k'>0:</span><span class='ee-v'>27.641896262720305</span></li><li><span class='ee-k'>1:</span><span class='ee-v'>28.852037161267152</span></li></ul></details></li><li><details><summary>8: [27.63905326964844, 28.840127277202782]</summary><ul><li><span class='ee-k'>0:</span><span class='ee-v'>27.63905326964844</span></li><li><span class='ee-k'>1:</span><span class='ee-v'>28.840127277202782</span></li></ul></details></li><li><details><summary>9: [27.639041630791642, 28.838222862515003]</summary><ul><li><span class='ee-k'>0:</span><span class='ee-v'>27.639041630791642</span></li><li><span class='ee-k'>1:</span><span class='ee-v'>28.838222862515003</span></li></ul></details></li><li><details><summary>10: [27.639074756766796, 28.838189583729562]</summary><ul><li><span class='ee-k'>0:</span><span class='ee-v'>27.639074756766796</span></li><li><span class='ee-k'>1:</span><span class='ee-v'>28.838189583729562</span></li></ul></details></li><li><details><summary>11: [27.63908917104066, 28.838143745654886]</summary><ul><li><span class='ee-k'>0:</span><span class='ee-v'>27.63908917104066</span></li><li><span class='ee-k'>1:</span><span class='ee-v'>28.838143745654886</span></li></ul></details></li><li><details><summary>12: [27.63943403892886, 28.838040755080446]</summary><ul><li><span class='ee-k'>0:</span><span class='ee-v'>27.63943403892886</span></li><li><span class='ee-k'>1:</span><span class='ee-v'>28.838040755080446</span></li></ul></details></li><li><details><summary>13: [28.12507763395451, 28.83486462502081]</summary><ul><li><span class='ee-k'>0:</span><span class='ee-v'>28.12507763395451</span></li><li><span class='ee-k'>1:</span><span class='ee-v'>28.83486462502081</span></li></ul></details></li><li><details><summary>14: [28.12518112095965, 28.834933315181832]</summary><ul><li><span class='ee-k'>0:</span><span class='ee-v'>28.12518112095965</span></li><li><span class='ee-k'>1:</span><span class='ee-v'>28.834933315181832</span></li></ul></details></li><li><details><summary>15: [28.13057753945981, 29.33028670127475]</summary><ul><li><span class='ee-k'>0:</span><span class='ee-v'>28.13057753945981</span></li><li><span class='ee-k'>1:</span><span class='ee-v'>29.33028670127475</span></li></ul></details></li><li><details><summary>16: [28.136110753121315, 29.82558194403283]</summary><ul><li><span class='ee-k'>0:</span><span class='ee-v'>28.136110753121315</span></li><li><span class='ee-k'>1:</span><span class='ee-v'>29.82558194403283</span></li></ul></details></li><li><details><summary>17: [28.136031557940814, 29.825672566403878]</summary><ul><li><span class='ee-k'>0:</span><span class='ee-v'>28.136031557940814</span></li><li><span class='ee-k'>1:</span><span class='ee-v'>29.825672566403878</span></li></ul></details></li><li><details><summary>18: [27.888466109369716, 29.82756961152716]</summary><ul><li><span class='ee-k'>0:</span><span class='ee-v'>27.888466109369716</span></li><li><span class='ee-k'>1:</span><span class='ee-v'>29.82756961152716</span></li></ul></details></li><li><details><summary>19: [27.88842524950956, 29.82753881324191]</summary><ul><li><span class='ee-k'>0:</span><span class='ee-v'>27.88842524950956</span></li><li><span class='ee-k'>1:</span><span class='ee-v'>29.82753881324191</span></li></ul></details></li></ul></details></li></ul></details></li><li><span class='ee-k'>system:index:</span><span class='ee-v'>20170328T083601_20170328T084228_T35RNN</span></li><li><span class='ee-k'>system:time_end:</span><span class='ee-v'>1490690548704</span></li><li><span class='ee-k'>system:time_start:</span><span class='ee-v'>1490690548704</span></li></ul></details></li></ul></details></li><li><details><summary>4: Image COPERNICUS/S2_SR/20170328T083601_20170328T084228_T35RNP (23 bands)</summary><ul><li><span class='ee-k'>type:</span><span class='ee-v'>Image</span></li><li><span class='ee-k'>id:</span><span class='ee-v'>COPERNICUS/S2_SR/20170328T083601_20170328T084228_T35RNP</span></li><li><span class='ee-k'>version:</span><span class='ee-v'>1740714835586015</span></li><li><details><summary>bands: List (23 elements)</summary><ul><li><details><summary>0: \"B1\", unsigned int16, EPSG:32635, 1830x1830 px</summary><ul><li><span class='ee-k'>id:</span><span class='ee-v'>B1</span></li><li><span class='ee-k'>crs:</span><span class='ee-v'>EPSG:32635</span></li><li><details><summary>crs_transform: [60, 0, 499980, 0, -60, 3400020]</summary><ul><li><span class='ee-k'>0:</span><span class='ee-v'>60</span></li><li><span class='ee-k'>1:</span><span class='ee-v'>0</span></li><li><span class='ee-k'>2:</span><span class='ee-v'>499980</span></li><li><span class='ee-k'>3:</span><span class='ee-v'>0</span></li><li><span class='ee-k'>4:</span><span class='ee-v'>-60</span></li><li><span class='ee-k'>5:</span><span class='ee-v'>3400020</span></li></ul></details></li><li><details><summary>data_type: unsigned int16</summary><ul><li><span class='ee-k'>type:</span><span class='ee-v'>PixelType</span></li><li><span class='ee-k'>max:</span><span class='ee-v'>65535</span></li><li><span class='ee-k'>min:</span><span class='ee-v'>0</span></li><li><span class='ee-k'>precision:</span><span class='ee-v'>int</span></li></ul></details></li><li><details><summary>dimensions: [1830, 1830]</summary><ul><li><span class='ee-k'>0:</span><span class='ee-v'>1830</span></li><li><span class='ee-k'>1:</span><span class='ee-v'>1830</span></li></ul></details></li></ul></details></li><li><details><summary>1: \"B2\", unsigned int16, EPSG:32635, 10980x10980 px</summary><ul><li><span class='ee-k'>id:</span><span class='ee-v'>B2</span></li><li><span class='ee-k'>crs:</span><span class='ee-v'>EPSG:32635</span></li><li><details><summary>crs_transform: [10, 0, 499980, 0, -10, 3400020]</summary><ul><li><span class='ee-k'>0:</span><span class='ee-v'>10</span></li><li><span class='ee-k'>1:</span><span class='ee-v'>0</span></li><li><span class='ee-k'>2:</span><span class='ee-v'>499980</span></li><li><span class='ee-k'>3:</span><span class='ee-v'>0</span></li><li><span class='ee-k'>4:</span><span class='ee-v'>-10</span></li><li><span class='ee-k'>5:</span><span class='ee-v'>3400020</span></li></ul></details></li><li><details><summary>data_type: unsigned int16</summary><ul><li><span class='ee-k'>type:</span><span class='ee-v'>PixelType</span></li><li><span class='ee-k'>max:</span><span class='ee-v'>65535</span></li><li><span class='ee-k'>min:</span><span class='ee-v'>0</span></li><li><span class='ee-k'>precision:</span><span class='ee-v'>int</span></li></ul></details></li><li><details><summary>dimensions: [10980, 10980]</summary><ul><li><span class='ee-k'>0:</span><span class='ee-v'>10980</span></li><li><span class='ee-k'>1:</span><span class='ee-v'>10980</span></li></ul></details></li></ul></details></li><li><details><summary>2: \"B3\", unsigned int16, EPSG:32635, 10980x10980 px</summary><ul><li><span class='ee-k'>id:</span><span class='ee-v'>B3</span></li><li><span class='ee-k'>crs:</span><span class='ee-v'>EPSG:32635</span></li><li><details><summary>crs_transform: [10, 0, 499980, 0, -10, 3400020]</summary><ul><li><span class='ee-k'>0:</span><span class='ee-v'>10</span></li><li><span class='ee-k'>1:</span><span class='ee-v'>0</span></li><li><span class='ee-k'>2:</span><span class='ee-v'>499980</span></li><li><span class='ee-k'>3:</span><span class='ee-v'>0</span></li><li><span class='ee-k'>4:</span><span class='ee-v'>-10</span></li><li><span class='ee-k'>5:</span><span class='ee-v'>3400020</span></li></ul></details></li><li><details><summary>data_type: unsigned int16</summary><ul><li><span class='ee-k'>type:</span><span class='ee-v'>PixelType</span></li><li><span class='ee-k'>max:</span><span class='ee-v'>65535</span></li><li><span class='ee-k'>min:</span><span class='ee-v'>0</span></li><li><span class='ee-k'>precision:</span><span class='ee-v'>int</span></li></ul></details></li><li><details><summary>dimensions: [10980, 10980]</summary><ul><li><span class='ee-k'>0:</span><span class='ee-v'>10980</span></li><li><span class='ee-k'>1:</span><span class='ee-v'>10980</span></li></ul></details></li></ul></details></li><li><details><summary>3: \"B4\", unsigned int16, EPSG:32635, 10980x10980 px</summary><ul><li><span class='ee-k'>id:</span><span class='ee-v'>B4</span></li><li><span class='ee-k'>crs:</span><span class='ee-v'>EPSG:32635</span></li><li><details><summary>crs_transform: [10, 0, 499980, 0, -10, 3400020]</summary><ul><li><span class='ee-k'>0:</span><span class='ee-v'>10</span></li><li><span class='ee-k'>1:</span><span class='ee-v'>0</span></li><li><span class='ee-k'>2:</span><span class='ee-v'>499980</span></li><li><span class='ee-k'>3:</span><span class='ee-v'>0</span></li><li><span class='ee-k'>4:</span><span class='ee-v'>-10</span></li><li><span class='ee-k'>5:</span><span class='ee-v'>3400020</span></li></ul></details></li><li><details><summary>data_type: unsigned int16</summary><ul><li><span class='ee-k'>type:</span><span class='ee-v'>PixelType</span></li><li><span class='ee-k'>max:</span><span class='ee-v'>65535</span></li><li><span class='ee-k'>min:</span><span class='ee-v'>0</span></li><li><span class='ee-k'>precision:</span><span class='ee-v'>int</span></li></ul></details></li><li><details><summary>dimensions: [10980, 10980]</summary><ul><li><span class='ee-k'>0:</span><span class='ee-v'>10980</span></li><li><span class='ee-k'>1:</span><span class='ee-v'>10980</span></li></ul></details></li></ul></details></li><li><details><summary>4: \"B5\", unsigned int16, EPSG:32635, 5490x5490 px</summary><ul><li><span class='ee-k'>id:</span><span class='ee-v'>B5</span></li><li><span class='ee-k'>crs:</span><span class='ee-v'>EPSG:32635</span></li><li><details><summary>crs_transform: [20, 0, 499980, 0, -20, 3400020]</summary><ul><li><span class='ee-k'>0:</span><span class='ee-v'>20</span></li><li><span class='ee-k'>1:</span><span class='ee-v'>0</span></li><li><span class='ee-k'>2:</span><span class='ee-v'>499980</span></li><li><span class='ee-k'>3:</span><span class='ee-v'>0</span></li><li><span class='ee-k'>4:</span><span class='ee-v'>-20</span></li><li><span class='ee-k'>5:</span><span class='ee-v'>3400020</span></li></ul></details></li><li><details><summary>data_type: unsigned int16</summary><ul><li><span class='ee-k'>type:</span><span class='ee-v'>PixelType</span></li><li><span class='ee-k'>max:</span><span class='ee-v'>65535</span></li><li><span class='ee-k'>min:</span><span class='ee-v'>0</span></li><li><span class='ee-k'>precision:</span><span class='ee-v'>int</span></li></ul></details></li><li><details><summary>dimensions: [5490, 5490]</summary><ul><li><span class='ee-k'>0:</span><span class='ee-v'>5490</span></li><li><span class='ee-k'>1:</span><span class='ee-v'>5490</span></li></ul></details></li></ul></details></li><li><details><summary>5: \"B6\", unsigned int16, EPSG:32635, 5490x5490 px</summary><ul><li><span class='ee-k'>id:</span><span class='ee-v'>B6</span></li><li><span class='ee-k'>crs:</span><span class='ee-v'>EPSG:32635</span></li><li><details><summary>crs_transform: [20, 0, 499980, 0, -20, 3400020]</summary><ul><li><span class='ee-k'>0:</span><span class='ee-v'>20</span></li><li><span class='ee-k'>1:</span><span class='ee-v'>0</span></li><li><span class='ee-k'>2:</span><span class='ee-v'>499980</span></li><li><span class='ee-k'>3:</span><span class='ee-v'>0</span></li><li><span class='ee-k'>4:</span><span class='ee-v'>-20</span></li><li><span class='ee-k'>5:</span><span class='ee-v'>3400020</span></li></ul></details></li><li><details><summary>data_type: unsigned int16</summary><ul><li><span class='ee-k'>type:</span><span class='ee-v'>PixelType</span></li><li><span class='ee-k'>max:</span><span class='ee-v'>65535</span></li><li><span class='ee-k'>min:</span><span class='ee-v'>0</span></li><li><span class='ee-k'>precision:</span><span class='ee-v'>int</span></li></ul></details></li><li><details><summary>dimensions: [5490, 5490]</summary><ul><li><span class='ee-k'>0:</span><span class='ee-v'>5490</span></li><li><span class='ee-k'>1:</span><span class='ee-v'>5490</span></li></ul></details></li></ul></details></li><li><details><summary>6: \"B7\", unsigned int16, EPSG:32635, 5490x5490 px</summary><ul><li><span class='ee-k'>id:</span><span class='ee-v'>B7</span></li><li><span class='ee-k'>crs:</span><span class='ee-v'>EPSG:32635</span></li><li><details><summary>crs_transform: [20, 0, 499980, 0, -20, 3400020]</summary><ul><li><span class='ee-k'>0:</span><span class='ee-v'>20</span></li><li><span class='ee-k'>1:</span><span class='ee-v'>0</span></li><li><span class='ee-k'>2:</span><span class='ee-v'>499980</span></li><li><span class='ee-k'>3:</span><span class='ee-v'>0</span></li><li><span class='ee-k'>4:</span><span class='ee-v'>-20</span></li><li><span class='ee-k'>5:</span><span class='ee-v'>3400020</span></li></ul></details></li><li><details><summary>data_type: unsigned int16</summary><ul><li><span class='ee-k'>type:</span><span class='ee-v'>PixelType</span></li><li><span class='ee-k'>max:</span><span class='ee-v'>65535</span></li><li><span class='ee-k'>min:</span><span class='ee-v'>0</span></li><li><span class='ee-k'>precision:</span><span class='ee-v'>int</span></li></ul></details></li><li><details><summary>dimensions: [5490, 5490]</summary><ul><li><span class='ee-k'>0:</span><span class='ee-v'>5490</span></li><li><span class='ee-k'>1:</span><span class='ee-v'>5490</span></li></ul></details></li></ul></details></li><li><details><summary>7: \"B8\", unsigned int16, EPSG:32635, 10980x10980 px</summary><ul><li><span class='ee-k'>id:</span><span class='ee-v'>B8</span></li><li><span class='ee-k'>crs:</span><span class='ee-v'>EPSG:32635</span></li><li><details><summary>crs_transform: [10, 0, 499980, 0, -10, 3400020]</summary><ul><li><span class='ee-k'>0:</span><span class='ee-v'>10</span></li><li><span class='ee-k'>1:</span><span class='ee-v'>0</span></li><li><span class='ee-k'>2:</span><span class='ee-v'>499980</span></li><li><span class='ee-k'>3:</span><span class='ee-v'>0</span></li><li><span class='ee-k'>4:</span><span class='ee-v'>-10</span></li><li><span class='ee-k'>5:</span><span class='ee-v'>3400020</span></li></ul></details></li><li><details><summary>data_type: unsigned int16</summary><ul><li><span class='ee-k'>type:</span><span class='ee-v'>PixelType</span></li><li><span class='ee-k'>max:</span><span class='ee-v'>65535</span></li><li><span class='ee-k'>min:</span><span class='ee-v'>0</span></li><li><span class='ee-k'>precision:</span><span class='ee-v'>int</span></li></ul></details></li><li><details><summary>dimensions: [10980, 10980]</summary><ul><li><span class='ee-k'>0:</span><span class='ee-v'>10980</span></li><li><span class='ee-k'>1:</span><span class='ee-v'>10980</span></li></ul></details></li></ul></details></li><li><details><summary>8: \"B8A\", unsigned int16, EPSG:32635, 5490x5490 px</summary><ul><li><span class='ee-k'>id:</span><span class='ee-v'>B8A</span></li><li><span class='ee-k'>crs:</span><span class='ee-v'>EPSG:32635</span></li><li><details><summary>crs_transform: [20, 0, 499980, 0, -20, 3400020]</summary><ul><li><span class='ee-k'>0:</span><span class='ee-v'>20</span></li><li><span class='ee-k'>1:</span><span class='ee-v'>0</span></li><li><span class='ee-k'>2:</span><span class='ee-v'>499980</span></li><li><span class='ee-k'>3:</span><span class='ee-v'>0</span></li><li><span class='ee-k'>4:</span><span class='ee-v'>-20</span></li><li><span class='ee-k'>5:</span><span class='ee-v'>3400020</span></li></ul></details></li><li><details><summary>data_type: unsigned int16</summary><ul><li><span class='ee-k'>type:</span><span class='ee-v'>PixelType</span></li><li><span class='ee-k'>max:</span><span class='ee-v'>65535</span></li><li><span class='ee-k'>min:</span><span class='ee-v'>0</span></li><li><span class='ee-k'>precision:</span><span class='ee-v'>int</span></li></ul></details></li><li><details><summary>dimensions: [5490, 5490]</summary><ul><li><span class='ee-k'>0:</span><span class='ee-v'>5490</span></li><li><span class='ee-k'>1:</span><span class='ee-v'>5490</span></li></ul></details></li></ul></details></li><li><details><summary>9: \"B9\", unsigned int16, EPSG:32635, 1830x1830 px</summary><ul><li><span class='ee-k'>id:</span><span class='ee-v'>B9</span></li><li><span class='ee-k'>crs:</span><span class='ee-v'>EPSG:32635</span></li><li><details><summary>crs_transform: [60, 0, 499980, 0, -60, 3400020]</summary><ul><li><span class='ee-k'>0:</span><span class='ee-v'>60</span></li><li><span class='ee-k'>1:</span><span class='ee-v'>0</span></li><li><span class='ee-k'>2:</span><span class='ee-v'>499980</span></li><li><span class='ee-k'>3:</span><span class='ee-v'>0</span></li><li><span class='ee-k'>4:</span><span class='ee-v'>-60</span></li><li><span class='ee-k'>5:</span><span class='ee-v'>3400020</span></li></ul></details></li><li><details><summary>data_type: unsigned int16</summary><ul><li><span class='ee-k'>type:</span><span class='ee-v'>PixelType</span></li><li><span class='ee-k'>max:</span><span class='ee-v'>65535</span></li><li><span class='ee-k'>min:</span><span class='ee-v'>0</span></li><li><span class='ee-k'>precision:</span><span class='ee-v'>int</span></li></ul></details></li><li><details><summary>dimensions: [1830, 1830]</summary><ul><li><span class='ee-k'>0:</span><span class='ee-v'>1830</span></li><li><span class='ee-k'>1:</span><span class='ee-v'>1830</span></li></ul></details></li></ul></details></li><li><details><summary>10: \"B11\", unsigned int16, EPSG:32635, 5490x5490 px</summary><ul><li><span class='ee-k'>id:</span><span class='ee-v'>B11</span></li><li><span class='ee-k'>crs:</span><span class='ee-v'>EPSG:32635</span></li><li><details><summary>crs_transform: [20, 0, 499980, 0, -20, 3400020]</summary><ul><li><span class='ee-k'>0:</span><span class='ee-v'>20</span></li><li><span class='ee-k'>1:</span><span class='ee-v'>0</span></li><li><span class='ee-k'>2:</span><span class='ee-v'>499980</span></li><li><span class='ee-k'>3:</span><span class='ee-v'>0</span></li><li><span class='ee-k'>4:</span><span class='ee-v'>-20</span></li><li><span class='ee-k'>5:</span><span class='ee-v'>3400020</span></li></ul></details></li><li><details><summary>data_type: unsigned int16</summary><ul><li><span class='ee-k'>type:</span><span class='ee-v'>PixelType</span></li><li><span class='ee-k'>max:</span><span class='ee-v'>65535</span></li><li><span class='ee-k'>min:</span><span class='ee-v'>0</span></li><li><span class='ee-k'>precision:</span><span class='ee-v'>int</span></li></ul></details></li><li><details><summary>dimensions: [5490, 5490]</summary><ul><li><span class='ee-k'>0:</span><span class='ee-v'>5490</span></li><li><span class='ee-k'>1:</span><span class='ee-v'>5490</span></li></ul></details></li></ul></details></li><li><details><summary>11: \"B12\", unsigned int16, EPSG:32635, 5490x5490 px</summary><ul><li><span class='ee-k'>id:</span><span class='ee-v'>B12</span></li><li><span class='ee-k'>crs:</span><span class='ee-v'>EPSG:32635</span></li><li><details><summary>crs_transform: [20, 0, 499980, 0, -20, 3400020]</summary><ul><li><span class='ee-k'>0:</span><span class='ee-v'>20</span></li><li><span class='ee-k'>1:</span><span class='ee-v'>0</span></li><li><span class='ee-k'>2:</span><span class='ee-v'>499980</span></li><li><span class='ee-k'>3:</span><span class='ee-v'>0</span></li><li><span class='ee-k'>4:</span><span class='ee-v'>-20</span></li><li><span class='ee-k'>5:</span><span class='ee-v'>3400020</span></li></ul></details></li><li><details><summary>data_type: unsigned int16</summary><ul><li><span class='ee-k'>type:</span><span class='ee-v'>PixelType</span></li><li><span class='ee-k'>max:</span><span class='ee-v'>65535</span></li><li><span class='ee-k'>min:</span><span class='ee-v'>0</span></li><li><span class='ee-k'>precision:</span><span class='ee-v'>int</span></li></ul></details></li><li><details><summary>dimensions: [5490, 5490]</summary><ul><li><span class='ee-k'>0:</span><span class='ee-v'>5490</span></li><li><span class='ee-k'>1:</span><span class='ee-v'>5490</span></li></ul></details></li></ul></details></li><li><details><summary>12: \"AOT\", unsigned int16, EPSG:32635, 10980x10980 px</summary><ul><li><span class='ee-k'>id:</span><span class='ee-v'>AOT</span></li><li><span class='ee-k'>crs:</span><span class='ee-v'>EPSG:32635</span></li><li><details><summary>crs_transform: [10, 0, 499980, 0, -10, 3400020]</summary><ul><li><span class='ee-k'>0:</span><span class='ee-v'>10</span></li><li><span class='ee-k'>1:</span><span class='ee-v'>0</span></li><li><span class='ee-k'>2:</span><span class='ee-v'>499980</span></li><li><span class='ee-k'>3:</span><span class='ee-v'>0</span></li><li><span class='ee-k'>4:</span><span class='ee-v'>-10</span></li><li><span class='ee-k'>5:</span><span class='ee-v'>3400020</span></li></ul></details></li><li><details><summary>data_type: unsigned int16</summary><ul><li><span class='ee-k'>type:</span><span class='ee-v'>PixelType</span></li><li><span class='ee-k'>max:</span><span class='ee-v'>65535</span></li><li><span class='ee-k'>min:</span><span class='ee-v'>0</span></li><li><span class='ee-k'>precision:</span><span class='ee-v'>int</span></li></ul></details></li><li><details><summary>dimensions: [10980, 10980]</summary><ul><li><span class='ee-k'>0:</span><span class='ee-v'>10980</span></li><li><span class='ee-k'>1:</span><span class='ee-v'>10980</span></li></ul></details></li></ul></details></li><li><details><summary>13: \"WVP\", unsigned int16, EPSG:32635, 10980x10980 px</summary><ul><li><span class='ee-k'>id:</span><span class='ee-v'>WVP</span></li><li><span class='ee-k'>crs:</span><span class='ee-v'>EPSG:32635</span></li><li><details><summary>crs_transform: [10, 0, 499980, 0, -10, 3400020]</summary><ul><li><span class='ee-k'>0:</span><span class='ee-v'>10</span></li><li><span class='ee-k'>1:</span><span class='ee-v'>0</span></li><li><span class='ee-k'>2:</span><span class='ee-v'>499980</span></li><li><span class='ee-k'>3:</span><span class='ee-v'>0</span></li><li><span class='ee-k'>4:</span><span class='ee-v'>-10</span></li><li><span class='ee-k'>5:</span><span class='ee-v'>3400020</span></li></ul></details></li><li><details><summary>data_type: unsigned int16</summary><ul><li><span class='ee-k'>type:</span><span class='ee-v'>PixelType</span></li><li><span class='ee-k'>max:</span><span class='ee-v'>65535</span></li><li><span class='ee-k'>min:</span><span class='ee-v'>0</span></li><li><span class='ee-k'>precision:</span><span class='ee-v'>int</span></li></ul></details></li><li><details><summary>dimensions: [10980, 10980]</summary><ul><li><span class='ee-k'>0:</span><span class='ee-v'>10980</span></li><li><span class='ee-k'>1:</span><span class='ee-v'>10980</span></li></ul></details></li></ul></details></li><li><details><summary>14: \"SCL\", unsigned int8, EPSG:32635, 5490x5490 px</summary><ul><li><span class='ee-k'>id:</span><span class='ee-v'>SCL</span></li><li><span class='ee-k'>crs:</span><span class='ee-v'>EPSG:32635</span></li><li><details><summary>crs_transform: [20, 0, 499980, 0, -20, 3400020]</summary><ul><li><span class='ee-k'>0:</span><span class='ee-v'>20</span></li><li><span class='ee-k'>1:</span><span class='ee-v'>0</span></li><li><span class='ee-k'>2:</span><span class='ee-v'>499980</span></li><li><span class='ee-k'>3:</span><span class='ee-v'>0</span></li><li><span class='ee-k'>4:</span><span class='ee-v'>-20</span></li><li><span class='ee-k'>5:</span><span class='ee-v'>3400020</span></li></ul></details></li><li><details><summary>data_type: unsigned int8</summary><ul><li><span class='ee-k'>type:</span><span class='ee-v'>PixelType</span></li><li><span class='ee-k'>max:</span><span class='ee-v'>255</span></li><li><span class='ee-k'>min:</span><span class='ee-v'>0</span></li><li><span class='ee-k'>precision:</span><span class='ee-v'>int</span></li></ul></details></li><li><details><summary>dimensions: [5490, 5490]</summary><ul><li><span class='ee-k'>0:</span><span class='ee-v'>5490</span></li><li><span class='ee-k'>1:</span><span class='ee-v'>5490</span></li></ul></details></li></ul></details></li><li><details><summary>15: \"TCI_R\", unsigned int8, EPSG:32635, 10980x10980 px</summary><ul><li><span class='ee-k'>id:</span><span class='ee-v'>TCI_R</span></li><li><span class='ee-k'>crs:</span><span class='ee-v'>EPSG:32635</span></li><li><details><summary>crs_transform: [10, 0, 499980, 0, -10, 3400020]</summary><ul><li><span class='ee-k'>0:</span><span class='ee-v'>10</span></li><li><span class='ee-k'>1:</span><span class='ee-v'>0</span></li><li><span class='ee-k'>2:</span><span class='ee-v'>499980</span></li><li><span class='ee-k'>3:</span><span class='ee-v'>0</span></li><li><span class='ee-k'>4:</span><span class='ee-v'>-10</span></li><li><span class='ee-k'>5:</span><span class='ee-v'>3400020</span></li></ul></details></li><li><details><summary>data_type: unsigned int8</summary><ul><li><span class='ee-k'>type:</span><span class='ee-v'>PixelType</span></li><li><span class='ee-k'>max:</span><span class='ee-v'>255</span></li><li><span class='ee-k'>min:</span><span class='ee-v'>0</span></li><li><span class='ee-k'>precision:</span><span class='ee-v'>int</span></li></ul></details></li><li><details><summary>dimensions: [10980, 10980]</summary><ul><li><span class='ee-k'>0:</span><span class='ee-v'>10980</span></li><li><span class='ee-k'>1:</span><span class='ee-v'>10980</span></li></ul></details></li></ul></details></li><li><details><summary>16: \"TCI_G\", unsigned int8, EPSG:32635, 10980x10980 px</summary><ul><li><span class='ee-k'>id:</span><span class='ee-v'>TCI_G</span></li><li><span class='ee-k'>crs:</span><span class='ee-v'>EPSG:32635</span></li><li><details><summary>crs_transform: [10, 0, 499980, 0, -10, 3400020]</summary><ul><li><span class='ee-k'>0:</span><span class='ee-v'>10</span></li><li><span class='ee-k'>1:</span><span class='ee-v'>0</span></li><li><span class='ee-k'>2:</span><span class='ee-v'>499980</span></li><li><span class='ee-k'>3:</span><span class='ee-v'>0</span></li><li><span class='ee-k'>4:</span><span class='ee-v'>-10</span></li><li><span class='ee-k'>5:</span><span class='ee-v'>3400020</span></li></ul></details></li><li><details><summary>data_type: unsigned int8</summary><ul><li><span class='ee-k'>type:</span><span class='ee-v'>PixelType</span></li><li><span class='ee-k'>max:</span><span class='ee-v'>255</span></li><li><span class='ee-k'>min:</span><span class='ee-v'>0</span></li><li><span class='ee-k'>precision:</span><span class='ee-v'>int</span></li></ul></details></li><li><details><summary>dimensions: [10980, 10980]</summary><ul><li><span class='ee-k'>0:</span><span class='ee-v'>10980</span></li><li><span class='ee-k'>1:</span><span class='ee-v'>10980</span></li></ul></details></li></ul></details></li><li><details><summary>17: \"TCI_B\", unsigned int8, EPSG:32635, 10980x10980 px</summary><ul><li><span class='ee-k'>id:</span><span class='ee-v'>TCI_B</span></li><li><span class='ee-k'>crs:</span><span class='ee-v'>EPSG:32635</span></li><li><details><summary>crs_transform: [10, 0, 499980, 0, -10, 3400020]</summary><ul><li><span class='ee-k'>0:</span><span class='ee-v'>10</span></li><li><span class='ee-k'>1:</span><span class='ee-v'>0</span></li><li><span class='ee-k'>2:</span><span class='ee-v'>499980</span></li><li><span class='ee-k'>3:</span><span class='ee-v'>0</span></li><li><span class='ee-k'>4:</span><span class='ee-v'>-10</span></li><li><span class='ee-k'>5:</span><span class='ee-v'>3400020</span></li></ul></details></li><li><details><summary>data_type: unsigned int8</summary><ul><li><span class='ee-k'>type:</span><span class='ee-v'>PixelType</span></li><li><span class='ee-k'>max:</span><span class='ee-v'>255</span></li><li><span class='ee-k'>min:</span><span class='ee-v'>0</span></li><li><span class='ee-k'>precision:</span><span class='ee-v'>int</span></li></ul></details></li><li><details><summary>dimensions: [10980, 10980]</summary><ul><li><span class='ee-k'>0:</span><span class='ee-v'>10980</span></li><li><span class='ee-k'>1:</span><span class='ee-v'>10980</span></li></ul></details></li></ul></details></li><li><details><summary>18: \"MSK_CLDPRB\", unsigned int8, EPSG:32635, 1x1 px</summary><ul><li><span class='ee-k'>id:</span><span class='ee-v'>MSK_CLDPRB</span></li><li><span class='ee-k'>crs:</span><span class='ee-v'>EPSG:32635</span></li><li><details><summary>crs_transform: [1, 0, 499980, 0, 1, 3400020]</summary><ul><li><span class='ee-k'>0:</span><span class='ee-v'>1</span></li><li><span class='ee-k'>1:</span><span class='ee-v'>0</span></li><li><span class='ee-k'>2:</span><span class='ee-v'>499980</span></li><li><span class='ee-k'>3:</span><span class='ee-v'>0</span></li><li><span class='ee-k'>4:</span><span class='ee-v'>1</span></li><li><span class='ee-k'>5:</span><span class='ee-v'>3400020</span></li></ul></details></li><li><details><summary>data_type: unsigned int8</summary><ul><li><span class='ee-k'>type:</span><span class='ee-v'>PixelType</span></li><li><span class='ee-k'>max:</span><span class='ee-v'>255</span></li><li><span class='ee-k'>min:</span><span class='ee-v'>0</span></li><li><span class='ee-k'>precision:</span><span class='ee-v'>int</span></li></ul></details></li><li><details><summary>dimensions: [1, 1]</summary><ul><li><span class='ee-k'>0:</span><span class='ee-v'>1</span></li><li><span class='ee-k'>1:</span><span class='ee-v'>1</span></li></ul></details></li></ul></details></li><li><details><summary>19: \"MSK_SNWPRB\", unsigned int8, EPSG:32635, 1x1 px</summary><ul><li><span class='ee-k'>id:</span><span class='ee-v'>MSK_SNWPRB</span></li><li><span class='ee-k'>crs:</span><span class='ee-v'>EPSG:32635</span></li><li><details><summary>crs_transform: [1, 0, 499980, 0, 1, 3400020]</summary><ul><li><span class='ee-k'>0:</span><span class='ee-v'>1</span></li><li><span class='ee-k'>1:</span><span class='ee-v'>0</span></li><li><span class='ee-k'>2:</span><span class='ee-v'>499980</span></li><li><span class='ee-k'>3:</span><span class='ee-v'>0</span></li><li><span class='ee-k'>4:</span><span class='ee-v'>1</span></li><li><span class='ee-k'>5:</span><span class='ee-v'>3400020</span></li></ul></details></li><li><details><summary>data_type: unsigned int8</summary><ul><li><span class='ee-k'>type:</span><span class='ee-v'>PixelType</span></li><li><span class='ee-k'>max:</span><span class='ee-v'>255</span></li><li><span class='ee-k'>min:</span><span class='ee-v'>0</span></li><li><span class='ee-k'>precision:</span><span class='ee-v'>int</span></li></ul></details></li><li><details><summary>dimensions: [1, 1]</summary><ul><li><span class='ee-k'>0:</span><span class='ee-v'>1</span></li><li><span class='ee-k'>1:</span><span class='ee-v'>1</span></li></ul></details></li></ul></details></li><li><details><summary>20: \"QA10\", unsigned int16, EPSG:32635, 10980x10980 px</summary><ul><li><span class='ee-k'>id:</span><span class='ee-v'>QA10</span></li><li><span class='ee-k'>crs:</span><span class='ee-v'>EPSG:32635</span></li><li><details><summary>crs_transform: [10, 0, 499980, 0, -10, 3400020]</summary><ul><li><span class='ee-k'>0:</span><span class='ee-v'>10</span></li><li><span class='ee-k'>1:</span><span class='ee-v'>0</span></li><li><span class='ee-k'>2:</span><span class='ee-v'>499980</span></li><li><span class='ee-k'>3:</span><span class='ee-v'>0</span></li><li><span class='ee-k'>4:</span><span class='ee-v'>-10</span></li><li><span class='ee-k'>5:</span><span class='ee-v'>3400020</span></li></ul></details></li><li><details><summary>data_type: unsigned int16</summary><ul><li><span class='ee-k'>type:</span><span class='ee-v'>PixelType</span></li><li><span class='ee-k'>max:</span><span class='ee-v'>65535</span></li><li><span class='ee-k'>min:</span><span class='ee-v'>0</span></li><li><span class='ee-k'>precision:</span><span class='ee-v'>int</span></li></ul></details></li><li><details><summary>dimensions: [10980, 10980]</summary><ul><li><span class='ee-k'>0:</span><span class='ee-v'>10980</span></li><li><span class='ee-k'>1:</span><span class='ee-v'>10980</span></li></ul></details></li></ul></details></li><li><details><summary>21: \"QA20\", unsigned int32, EPSG:32635, 5490x5490 px</summary><ul><li><span class='ee-k'>id:</span><span class='ee-v'>QA20</span></li><li><span class='ee-k'>crs:</span><span class='ee-v'>EPSG:32635</span></li><li><details><summary>crs_transform: [20, 0, 499980, 0, -20, 3400020]</summary><ul><li><span class='ee-k'>0:</span><span class='ee-v'>20</span></li><li><span class='ee-k'>1:</span><span class='ee-v'>0</span></li><li><span class='ee-k'>2:</span><span class='ee-v'>499980</span></li><li><span class='ee-k'>3:</span><span class='ee-v'>0</span></li><li><span class='ee-k'>4:</span><span class='ee-v'>-20</span></li><li><span class='ee-k'>5:</span><span class='ee-v'>3400020</span></li></ul></details></li><li><details><summary>data_type: unsigned int32</summary><ul><li><span class='ee-k'>type:</span><span class='ee-v'>PixelType</span></li><li><span class='ee-k'>max:</span><span class='ee-v'>4294967295</span></li><li><span class='ee-k'>min:</span><span class='ee-v'>0</span></li><li><span class='ee-k'>precision:</span><span class='ee-v'>int</span></li></ul></details></li><li><details><summary>dimensions: [5490, 5490]</summary><ul><li><span class='ee-k'>0:</span><span class='ee-v'>5490</span></li><li><span class='ee-k'>1:</span><span class='ee-v'>5490</span></li></ul></details></li></ul></details></li><li><details><summary>22: \"QA60\", unsigned int16, EPSG:32635, 1830x1830 px</summary><ul><li><span class='ee-k'>id:</span><span class='ee-v'>QA60</span></li><li><span class='ee-k'>crs:</span><span class='ee-v'>EPSG:32635</span></li><li><details><summary>crs_transform: [60, 0, 499980, 0, -60, 3400020]</summary><ul><li><span class='ee-k'>0:</span><span class='ee-v'>60</span></li><li><span class='ee-k'>1:</span><span class='ee-v'>0</span></li><li><span class='ee-k'>2:</span><span class='ee-v'>499980</span></li><li><span class='ee-k'>3:</span><span class='ee-v'>0</span></li><li><span class='ee-k'>4:</span><span class='ee-v'>-60</span></li><li><span class='ee-k'>5:</span><span class='ee-v'>3400020</span></li></ul></details></li><li><details><summary>data_type: unsigned int16</summary><ul><li><span class='ee-k'>type:</span><span class='ee-v'>PixelType</span></li><li><span class='ee-k'>max:</span><span class='ee-v'>65535</span></li><li><span class='ee-k'>min:</span><span class='ee-v'>0</span></li><li><span class='ee-k'>precision:</span><span class='ee-v'>int</span></li></ul></details></li><li><details><summary>dimensions: [1830, 1830]</summary><ul><li><span class='ee-k'>0:</span><span class='ee-v'>1830</span></li><li><span class='ee-k'>1:</span><span class='ee-v'>1830</span></li></ul></details></li></ul></details></li></ul></details></li><li><details><summary>properties: Object (82 properties)</summary><ul><li><span class='ee-k'>AOT_RETRIEVAL_ACCURACY:</span><span class='ee-v'>0</span></li><li><span class='ee-k'>BARE_SOILS_PERCENTAGE:</span><span class='ee-v'>89.271051</span></li><li><span class='ee-k'>CLOUDY_PIXEL_PERCENTAGE:</span><span class='ee-v'>4.9981</span></li><li><span class='ee-k'>CLOUD_COVERAGE_ASSESSMENT:</span><span class='ee-v'>4.9981</span></li><li><span class='ee-k'>CLOUD_COVERAGE_PERCENTAGE:</span><span class='ee-v'>0.253862</span></li><li><span class='ee-k'>CLOUD_SHADOW_PERCENTAGE:</span><span class='ee-v'>0.018806</span></li><li><span class='ee-k'>DARK_FEATURES_PERCENTAGE:</span><span class='ee-v'>0.00023</span></li><li><span class='ee-k'>DATASTRIP_ID:</span><span class='ee-v'>S2A_USER_MSI_L2A_DS_MPS__20170328T123128_S20170328T084228_N02.04</span></li><li><span class='ee-k'>DATATAKE_IDENTIFIER:</span><span class='ee-v'>GS2A_20170328T083601_009213_N02.04</span></li><li><span class='ee-k'>DATATAKE_TYPE:</span><span class='ee-v'>INS-NOBS</span></li><li><span class='ee-k'>DEGRADED_MSI_DATA_PERCENTAGE:</span><span class='ee-v'>0</span></li><li><span class='ee-k'>FORMAT_CORRECTNESS_FLAG:</span><span class='ee-v'>PASSED</span></li><li><span class='ee-k'>GENERAL_QUALITY_FLAG:</span><span class='ee-v'>PASSED</span></li><li><span class='ee-k'>GENERATION_TIME:</span><span class='ee-v'>1490862827000</span></li><li><span class='ee-k'>GEOMETRIC_QUALITY_FLAG:</span><span class='ee-v'>PASSED</span></li><li><span class='ee-k'>GRANULE_ID:</span><span class='ee-v'>L2A_T35RNP_A009213_20170328T084228</span></li><li><span class='ee-k'>HIGH_PROBA_CLOUDS_PERCENTAGE:</span><span class='ee-v'>0.094591</span></li><li><span class='ee-k'>LOW_PROBA_CLOUDS_PERCENTAGE:</span><span class='ee-v'>9.85269</span></li><li><span class='ee-k'>MEAN_INCIDENCE_AZIMUTH_ANGLE_B1:</span><span class='ee-v'>110.843865178217</span></li><li><span class='ee-k'>MEAN_INCIDENCE_AZIMUTH_ANGLE_B10:</span><span class='ee-v'>106.93328310768</span></li><li><span class='ee-k'>MEAN_INCIDENCE_AZIMUTH_ANGLE_B11:</span><span class='ee-v'>108.620138971383</span></li><li><span class='ee-k'>MEAN_INCIDENCE_AZIMUTH_ANGLE_B12:</span><span class='ee-v'>110.299724787915</span></li><li><span class='ee-k'>MEAN_INCIDENCE_AZIMUTH_ANGLE_B2:</span><span class='ee-v'>104.52246962795</span></li><li><span class='ee-k'>MEAN_INCIDENCE_AZIMUTH_ANGLE_B3:</span><span class='ee-v'>105.955942928938</span></li><li><span class='ee-k'>MEAN_INCIDENCE_AZIMUTH_ANGLE_B4:</span><span class='ee-v'>107.266763439919</span></li><li><span class='ee-k'>MEAN_INCIDENCE_AZIMUTH_ANGLE_B5:</span><span class='ee-v'>107.984338495302</span></li><li><span class='ee-k'>MEAN_INCIDENCE_AZIMUTH_ANGLE_B6:</span><span class='ee-v'>108.689681560031</span></li><li><span class='ee-k'>MEAN_INCIDENCE_AZIMUTH_ANGLE_B7:</span><span class='ee-v'>109.401744174979</span></li><li><span class='ee-k'>MEAN_INCIDENCE_AZIMUTH_ANGLE_B8:</span><span class='ee-v'>105.239273114738</span></li><li><span class='ee-k'>MEAN_INCIDENCE_AZIMUTH_ANGLE_B8A:</span><span class='ee-v'>110.100411424222</span></li><li><span class='ee-k'>MEAN_INCIDENCE_AZIMUTH_ANGLE_B9:</span><span class='ee-v'>111.555057407501</span></li><li><span class='ee-k'>MEAN_INCIDENCE_ZENITH_ANGLE_B1:</span><span class='ee-v'>11.1843396638837</span></li><li><span class='ee-k'>MEAN_INCIDENCE_ZENITH_ANGLE_B10:</span><span class='ee-v'>11.0767946014809</span></li><li><span class='ee-k'>MEAN_INCIDENCE_ZENITH_ANGLE_B11:</span><span class='ee-v'>11.1078363886748</span></li><li><span class='ee-k'>MEAN_INCIDENCE_ZENITH_ANGLE_B12:</span><span class='ee-v'>11.1488846758132</span></li><li><span class='ee-k'>MEAN_INCIDENCE_ZENITH_ANGLE_B2:</span><span class='ee-v'>11.069801311021</span></li><li><span class='ee-k'>MEAN_INCIDENCE_ZENITH_ANGLE_B3:</span><span class='ee-v'>11.0833613348016</span></li><li><span class='ee-k'>MEAN_INCIDENCE_ZENITH_ANGLE_B4:</span><span class='ee-v'>11.1020845298752</span></li><li><span class='ee-k'>MEAN_INCIDENCE_ZENITH_ANGLE_B5:</span><span class='ee-v'>11.1149060775154</span></li><li><span class='ee-k'>MEAN_INCIDENCE_ZENITH_ANGLE_B6:</span><span class='ee-v'>11.1293064700554</span></li><li><span class='ee-k'>MEAN_INCIDENCE_ZENITH_ANGLE_B7:</span><span class='ee-v'>11.1456437092745</span></li><li><span class='ee-k'>MEAN_INCIDENCE_ZENITH_ANGLE_B8:</span><span class='ee-v'>11.0756822918613</span></li><li><span class='ee-k'>MEAN_INCIDENCE_ZENITH_ANGLE_B8A:</span><span class='ee-v'>11.1634669873591</span></li><li><span class='ee-k'>MEAN_INCIDENCE_ZENITH_ANGLE_B9:</span><span class='ee-v'>11.2062479924791</span></li><li><span class='ee-k'>MEAN_SOLAR_AZIMUTH_ANGLE:</span><span class='ee-v'>140.169908387241</span></li><li><span class='ee-k'>MEAN_SOLAR_ZENITH_ANGLE:</span><span class='ee-v'>33.4502377765181</span></li><li><span class='ee-k'>MEDIUM_PROBA_CLOUDS_PERCENTAGE:</span><span class='ee-v'>0.159271</span></li><li><span class='ee-k'>MGRS_TILE:</span><span class='ee-v'>35RNP</span></li><li><span class='ee-k'>NODATA_PIXEL_PERCENTAGE:</span><span class='ee-v'>87.032479</span></li><li><span class='ee-k'>PROCESSING_BASELINE:</span><span class='ee-v'>02.04</span></li><li><span class='ee-k'>PRODUCT_ID:</span><span class='ee-v'>S2A_MSIL2A_20170328T083601_N0204_R064_T35RNP_20170328T084228</span></li><li><span class='ee-k'>RADIATIVE_TRANSFER_ACCURAY:</span><span class='ee-v'>0</span></li><li><span class='ee-k'>RADIOMETRIC_QUALITY_FLAG:</span><span class='ee-v'>PASSED</span></li><li><span class='ee-k'>REFLECTANCE_CONVERSION_CORRECTION:</span><span class='ee-v'>1.00613186852888</span></li><li><span class='ee-k'>SATURATED_DEFECTIVE_PIXEL_PERCENTAGE:</span><span class='ee-v'>0</span></li><li><span class='ee-k'>SENSING_ORBIT_DIRECTION:</span><span class='ee-v'>DESCENDING</span></li><li><span class='ee-k'>SENSING_ORBIT_NUMBER:</span><span class='ee-v'>64</span></li><li><span class='ee-k'>SENSOR_QUALITY_FLAG:</span><span class='ee-v'>PASSED</span></li><li><span class='ee-k'>SNOW_ICE_PERCENTAGE:</span><span class='ee-v'>0</span></li><li><span class='ee-k'>SOLAR_IRRADIANCE_B1:</span><span class='ee-v'>1913.57</span></li><li><span class='ee-k'>SOLAR_IRRADIANCE_B10:</span><span class='ee-v'>367.15</span></li><li><span class='ee-k'>SOLAR_IRRADIANCE_B11:</span><span class='ee-v'>245.59</span></li><li><span class='ee-k'>SOLAR_IRRADIANCE_B12:</span><span class='ee-v'>85.25</span></li><li><span class='ee-k'>SOLAR_IRRADIANCE_B2:</span><span class='ee-v'>1941.63</span></li><li><span class='ee-k'>SOLAR_IRRADIANCE_B3:</span><span class='ee-v'>1822.61</span></li><li><span class='ee-k'>SOLAR_IRRADIANCE_B4:</span><span class='ee-v'>1512.79</span></li><li><span class='ee-k'>SOLAR_IRRADIANCE_B5:</span><span class='ee-v'>1425.56</span></li><li><span class='ee-k'>SOLAR_IRRADIANCE_B6:</span><span class='ee-v'>1288.32</span></li><li><span class='ee-k'>SOLAR_IRRADIANCE_B7:</span><span class='ee-v'>1163.19</span></li><li><span class='ee-k'>SOLAR_IRRADIANCE_B8:</span><span class='ee-v'>1036.39</span></li><li><span class='ee-k'>SOLAR_IRRADIANCE_B8A:</span><span class='ee-v'>955.19</span></li><li><span class='ee-k'>SOLAR_IRRADIANCE_B9:</span><span class='ee-v'>813.04</span></li><li><span class='ee-k'>SPACECRAFT_NAME:</span><span class='ee-v'>Sentinel-2A</span></li><li><span class='ee-k'>THIN_CIRRUS_PERCENTAGE:</span><span class='ee-v'>0</span></li><li><span class='ee-k'>VEGETATION_PERCENTAGE:</span><span class='ee-v'>0.00023</span></li><li><span class='ee-k'>WATER_PERCENTAGE:</span><span class='ee-v'>0.603133</span></li><li><span class='ee-k'>WATER_VAPOUR_RETRIEVAL_ACCURACY:</span><span class='ee-v'>0</span></li><li><span class='ee-k'>system:asset_size:</span><span class='ee-v'>193059406</span></li><li><details><summary>system:footprint: LinearRing (21 vertices)</summary><ul><li><span class='ee-k'>type:</span><span class='ee-v'>LinearRing</span></li><li><details><summary>coordinates: List (21 elements)</summary><ul><li><details><summary>0: [28.119674705612997, 30.728299238048987]</summary><ul><li><span class='ee-k'>0:</span><span class='ee-v'>28.119674705612997</span></li><li><span class='ee-k'>1:</span><span class='ee-v'>30.728299238048987</span></li></ul></details></li><li><details><summary>1: [28.11961961200902, 30.72828226607374]</summary><ul><li><span class='ee-k'>0:</span><span class='ee-v'>28.11961961200902</span></li><li><span class='ee-k'>1:</span><span class='ee-v'>30.72828226607374</span></li></ul></details></li><li><details><summary>2: [28.118635871263816, 30.725021807908334]</summary><ul><li><span class='ee-k'>0:</span><span class='ee-v'>28.118635871263816</span></li><li><span class='ee-k'>1:</span><span class='ee-v'>30.725021807908334</span></li></ul></details></li><li><details><summary>3: [28.11700045810228, 30.719079630569674]</summary><ul><li><span class='ee-k'>0:</span><span class='ee-v'>28.11700045810228</span></li><li><span class='ee-k'>1:</span><span class='ee-v'>30.719079630569674</span></li></ul></details></li><li><details><summary>4: [28.075163066298213, 30.56243319197902]</summary><ul><li><span class='ee-k'>0:</span><span class='ee-v'>28.075163066298213</span></li><li><span class='ee-k'>1:</span><span class='ee-v'>30.56243319197902</span></li></ul></details></li><li><details><summary>5: [28.02241033775291, 30.363623904765266]</summary><ul><li><span class='ee-k'>0:</span><span class='ee-v'>28.02241033775291</span></li><li><span class='ee-k'>1:</span><span class='ee-v'>30.363623904765266</span></li></ul></details></li><li><details><summary>6: [27.893866146019167, 29.85263932555371]</summary><ul><li><span class='ee-k'>0:</span><span class='ee-v'>27.893866146019167</span></li><li><span class='ee-k'>1:</span><span class='ee-v'>29.85263932555371</span></li></ul></details></li><li><details><summary>7: [27.889680188403485, 29.835882327956686]</summary><ul><li><span class='ee-k'>0:</span><span class='ee-v'>27.889680188403485</span></li><li><span class='ee-k'>1:</span><span class='ee-v'>29.835882327956686</span></li></ul></details></li><li><details><summary>8: [27.86651821039045, 29.742631223892232]</summary><ul><li><span class='ee-k'>0:</span><span class='ee-v'>27.86651821039045</span></li><li><span class='ee-k'>1:</span><span class='ee-v'>29.742631223892232</span></li></ul></details></li><li><details><summary>9: [27.86619021866186, 29.740729115261345]</summary><ul><li><span class='ee-k'>0:</span><span class='ee-v'>27.86619021866186</span></li><li><span class='ee-k'>1:</span><span class='ee-v'>29.740729115261345</span></li></ul></details></li><li><details><summary>10: [27.866180829576948, 29.739639925642127]</summary><ul><li><span class='ee-k'>0:</span><span class='ee-v'>27.866180829576948</span></li><li><span class='ee-k'>1:</span><span class='ee-v'>29.739639925642127</span></li></ul></details></li><li><details><summary>11: [27.866214183181164, 29.739606560754947]</summary><ul><li><span class='ee-k'>0:</span><span class='ee-v'>27.866214183181164</span></li><li><span class='ee-k'>1:</span><span class='ee-v'>29.739606560754947</span></li></ul></details></li><li><details><summary>12: [27.86622857977519, 29.739560767007045]</summary><ul><li><span class='ee-k'>0:</span><span class='ee-v'>27.86622857977519</span></li><li><span class='ee-k'>1:</span><span class='ee-v'>29.739560767007045</span></li></ul></details></li><li><details><summary>13: [27.866576243761706, 29.739457042891928]</summary><ul><li><span class='ee-k'>0:</span><span class='ee-v'>27.866576243761706</span></li><li><span class='ee-k'>1:</span><span class='ee-v'>29.739457042891928</span></li></ul></details></li><li><details><summary>14: [28.135012106507205, 29.737427077946688]</summary><ul><li><span class='ee-k'>0:</span><span class='ee-v'>28.135012106507205</span></li><li><span class='ee-k'>1:</span><span class='ee-v'>29.737427077946688</span></li></ul></details></li><li><details><summary>15: [28.135116569750224, 29.737495780428954]</summary><ul><li><span class='ee-k'>0:</span><span class='ee-v'>28.135116569750224</span></li><li><span class='ee-k'>1:</span><span class='ee-v'>29.737495780428954</span></li></ul></details></li><li><details><summary>16: [28.14076463440968, 30.232780122092127]</summary><ul><li><span class='ee-k'>0:</span><span class='ee-v'>28.14076463440968</span></li><li><span class='ee-k'>1:</span><span class='ee-v'>30.232780122092127</span></li></ul></details></li><li><details><summary>17: [28.146554647975172, 30.728005580278953]</summary><ul><li><span class='ee-k'>0:</span><span class='ee-v'>28.146554647975172</span></li><li><span class='ee-k'>1:</span><span class='ee-v'>30.728005580278953</span></li></ul></details></li><li><details><summary>18: [28.146474743313494, 30.72809632262835]</summary><ul><li><span class='ee-k'>0:</span><span class='ee-v'>28.146474743313494</span></li><li><span class='ee-k'>1:</span><span class='ee-v'>30.72809632262835</span></li></ul></details></li><li><details><summary>19: [28.119715958835066, 30.728329936903943]</summary><ul><li><span class='ee-k'>0:</span><span class='ee-v'>28.119715958835066</span></li><li><span class='ee-k'>1:</span><span class='ee-v'>30.728329936903943</span></li></ul></details></li><li><details><summary>20: [28.119674705612997, 30.728299238048987]</summary><ul><li><span class='ee-k'>0:</span><span class='ee-v'>28.119674705612997</span></li><li><span class='ee-k'>1:</span><span class='ee-v'>30.728299238048987</span></li></ul></details></li></ul></details></li></ul></details></li><li><span class='ee-k'>system:index:</span><span class='ee-v'>20170328T083601_20170328T084228_T35RNP</span></li><li><span class='ee-k'>system:time_end:</span><span class='ee-v'>1490690548704</span></li><li><span class='ee-k'>system:time_start:</span><span class='ee-v'>1490690548704</span></li></ul></details></li></ul></details></li></ul></details></li></ul></details></li></ul></div></div>"
      ],
      "text/plain": [
       "<ee.imagecollection.ImageCollection at 0x2d22c004740>"
      ]
     },
     "execution_count": 37,
     "metadata": {},
     "output_type": "execute_result"
    }
   ],
   "source": [
    "collection = ee.ImageCollection('COPERNICUS/S2_SR')\n",
    "collection.limit(5)"
   ]
  },
  {
   "cell_type": "code",
   "execution_count": 40,
   "metadata": {},
   "outputs": [
    {
     "data": {
      "text/html": [
       "\n",
       "            <style>\n",
       "                .geemap-dark {\n",
       "                    --jp-widgets-color: white;\n",
       "                    --jp-widgets-label-color: white;\n",
       "                    --jp-ui-font-color1: white;\n",
       "                    --jp-layout-color2: #454545;\n",
       "                    background-color: #383838;\n",
       "                }\n",
       "\n",
       "                .geemap-dark .jupyter-button {\n",
       "                    --jp-layout-color3: #383838;\n",
       "                }\n",
       "\n",
       "                .geemap-colab {\n",
       "                    background-color: var(--colab-primary-surface-color, white);\n",
       "                }\n",
       "\n",
       "                .geemap-colab .jupyter-button {\n",
       "                    --jp-layout-color3: var(--colab-primary-surface-color, white);\n",
       "                }\n",
       "            </style>\n",
       "            "
      ],
      "text/plain": [
       "<IPython.core.display.HTML object>"
      ]
     },
     "metadata": {},
     "output_type": "display_data"
    },
    {
     "data": {
      "application/vnd.jupyter.widget-view+json": {
       "model_id": "806ab1d2ddd9481b8f9b30e4000dc006",
       "version_major": 2,
       "version_minor": 0
      },
      "text/plain": [
       "Map(center=[13.4, 52.52], controls=(WidgetControl(options=['position', 'transparent_bg'], widget=SearchDataGUI…"
      ]
     },
     "execution_count": 40,
     "metadata": {},
     "output_type": "execute_result"
    }
   ],
   "source": [
    "Map = geemap.Map()\n",
    "collection = ee.ImageCollection('COPERNICUS/S2_SR')\n",
    "image = collection.median()\n",
    "\n",
    "vis = {\n",
    "    'min': 0.0,\n",
    "    'max': 3000,\n",
    "    'bands': ['B4', 'B3', 'B2'],\n",
    "}\n",
    "\n",
    "Map.setCenter(52.52, 13.40, 12)\n",
    "Map.addLayer(image, vis, 'Sentinel-2')\n",
    "Map"
   ]
  },
  {
   "cell_type": "code",
   "execution_count": 41,
   "metadata": {},
   "outputs": [
    {
     "data": {
      "text/html": [
       "\n",
       "            <style>\n",
       "                .geemap-dark {\n",
       "                    --jp-widgets-color: white;\n",
       "                    --jp-widgets-label-color: white;\n",
       "                    --jp-ui-font-color1: white;\n",
       "                    --jp-layout-color2: #454545;\n",
       "                    background-color: #383838;\n",
       "                }\n",
       "\n",
       "                .geemap-dark .jupyter-button {\n",
       "                    --jp-layout-color3: #383838;\n",
       "                }\n",
       "\n",
       "                .geemap-colab {\n",
       "                    background-color: var(--colab-primary-surface-color, white);\n",
       "                }\n",
       "\n",
       "                .geemap-colab .jupyter-button {\n",
       "                    --jp-layout-color3: var(--colab-primary-surface-color, white);\n",
       "                }\n",
       "            </style>\n",
       "            "
      ],
      "text/plain": [
       "<IPython.core.display.HTML object>"
      ]
     },
     "metadata": {},
     "output_type": "display_data"
    },
    {
     "data": {
      "application/vnd.jupyter.widget-view+json": {
       "model_id": "9cbb8ef6c9e5470ebc0d76f0740f7352",
       "version_major": 2,
       "version_minor": 0
      },
      "text/plain": [
       "Map(center=[13.4, 52.52], controls=(WidgetControl(options=['position', 'transparent_bg'], widget=SearchDataGUI…"
      ]
     },
     "execution_count": 41,
     "metadata": {},
     "output_type": "execute_result"
    }
   ],
   "source": [
    "Map = geemap.Map()\n",
    "collection = (\n",
    "    ee.ImageCollection('COPERNICUS/S2_SR')\n",
    "    .filterDate('2021-01-01', '2022-01-01')\n",
    "    .filter(ee.Filter.lt('CLOUDY_PIXEL_PERCENTAGE', 5))\n",
    ")\n",
    "image = collection.median()\n",
    "\n",
    "vis = {\n",
    "    'min': 0.0,\n",
    "    'max': 3000,\n",
    "    'bands': ['B4', 'B3', 'B2'],\n",
    "}\n",
    "\n",
    "Map.setCenter(52.52, 13.40, 12)\n",
    "Map.addLayer(image, vis, 'Sentinel-2')\n",
    "Map"
   ]
  },
  {
   "cell_type": "code",
   "execution_count": 42,
   "metadata": {},
   "outputs": [
    {
     "data": {
      "text/html": [
       "\n",
       "            <style>\n",
       "                .geemap-dark {\n",
       "                    --jp-widgets-color: white;\n",
       "                    --jp-widgets-label-color: white;\n",
       "                    --jp-ui-font-color1: white;\n",
       "                    --jp-layout-color2: #454545;\n",
       "                    background-color: #383838;\n",
       "                }\n",
       "\n",
       "                .geemap-dark .jupyter-button {\n",
       "                    --jp-layout-color3: #383838;\n",
       "                }\n",
       "\n",
       "                .geemap-colab {\n",
       "                    background-color: var(--colab-primary-surface-color, white);\n",
       "                }\n",
       "\n",
       "                .geemap-colab .jupyter-button {\n",
       "                    --jp-layout-color3: var(--colab-primary-surface-color, white);\n",
       "                }\n",
       "            </style>\n",
       "            "
      ],
      "text/plain": [
       "<IPython.core.display.HTML object>"
      ]
     },
     "metadata": {},
     "output_type": "display_data"
    },
    {
     "data": {
      "application/vnd.jupyter.widget-view+json": {
       "model_id": "5a901f8041ee47af9430b366e7201374",
       "version_major": 2,
       "version_minor": 0
      },
      "text/plain": [
       "Map(center=[0, 0], controls=(WidgetControl(options=['position', 'transparent_bg'], widget=SearchDataGUI(childr…"
      ]
     },
     "execution_count": 42,
     "metadata": {},
     "output_type": "execute_result"
    }
   ],
   "source": [
    "Map = geemap.Map()\n",
    "\n",
    "point = ee.Geometry.Point([1.5, 1.5])\n",
    "\n",
    "lineString = ee.Geometry.LineString([[-35, -10], [35, -10], [35, 10], [-35, 10]])\n",
    "\n",
    "linearRing = ee.Geometry.LinearRing(\n",
    "    [[-35, -10], [35, -10], [35, 10], [-35, 10], [-35, -10]]\n",
    ")\n",
    "\n",
    "rectangle = ee.Geometry.Rectangle([-40, -20, 40, 20])\n",
    "\n",
    "polygon = ee.Geometry.Polygon([[[-5, 40], [65, 40], [65, 60], [-5, 60], [-5, 60]]])\n",
    "\n",
    "Map.addLayer(point, {}, 'Point')\n",
    "Map.addLayer(lineString, {}, 'LineString')\n",
    "Map.addLayer(linearRing, {}, 'LinearRing')\n",
    "Map.addLayer(rectangle, {}, 'Rectangle')\n",
    "Map.addLayer(polygon, {}, 'Polygon')\n",
    "Map"
   ]
  },
  {
   "cell_type": "code",
   "execution_count": 43,
   "metadata": {},
   "outputs": [
    {
     "data": {
      "text/html": [
       "\n",
       "            <style>\n",
       "                .geemap-dark {\n",
       "                    --jp-widgets-color: white;\n",
       "                    --jp-widgets-label-color: white;\n",
       "                    --jp-ui-font-color1: white;\n",
       "                    --jp-layout-color2: #454545;\n",
       "                    background-color: #383838;\n",
       "                }\n",
       "\n",
       "                .geemap-dark .jupyter-button {\n",
       "                    --jp-layout-color3: #383838;\n",
       "                }\n",
       "\n",
       "                .geemap-colab {\n",
       "                    background-color: var(--colab-primary-surface-color, white);\n",
       "                }\n",
       "\n",
       "                .geemap-colab .jupyter-button {\n",
       "                    --jp-layout-color3: var(--colab-primary-surface-color, white);\n",
       "                }\n",
       "            </style>\n",
       "            "
      ],
      "text/plain": [
       "<IPython.core.display.HTML object>"
      ]
     },
     "metadata": {},
     "output_type": "display_data"
    },
    {
     "data": {
      "application/vnd.jupyter.widget-view+json": {
       "model_id": "4f00c9f8a08a4068ba9f33efc34d7f56",
       "version_major": 2,
       "version_minor": 0
      },
      "text/plain": [
       "Map(center=[0, 0], controls=(WidgetControl(options=['position', 'transparent_bg'], widget=SearchDataGUI(childr…"
      ]
     },
     "execution_count": 43,
     "metadata": {},
     "output_type": "execute_result"
    }
   ],
   "source": [
    "Map = geemap.Map()\n",
    "\n",
    "point = ee.Geometry.Point([1.5, 1.5])\n",
    "\n",
    "lineString = ee.Geometry.LineString(\n",
    "    [[-35, -10], [35, -10], [35, 10], [-35, 10]], None, False\n",
    ")\n",
    "\n",
    "linearRing = ee.Geometry.LinearRing(\n",
    "    [[-35, -10], [35, -10], [35, 10], [-35, 10], [-35, -10]], None, False\n",
    ")\n",
    "\n",
    "rectangle = ee.Geometry.Rectangle([-40, -20, 40, 20], None, False)\n",
    "\n",
    "polygon = ee.Geometry.Polygon(\n",
    "    [[[-5, 40], [65, 40], [65, 60], [-5, 60], [-5, 60]]], None, False\n",
    ")\n",
    "\n",
    "Map.addLayer(point, {}, 'Point')\n",
    "Map.addLayer(lineString, {}, 'LineString')\n",
    "Map.addLayer(linearRing, {}, 'LinearRing')\n",
    "Map.addLayer(rectangle, {}, 'Rectangle')\n",
    "Map.addLayer(polygon, {}, 'Polygon')\n",
    "Map"
   ]
  },
  {
   "cell_type": "code",
   "execution_count": 45,
   "metadata": {},
   "outputs": [
    {
     "data": {
      "text/html": [
       "\n",
       "            <style>\n",
       "                .geemap-dark {\n",
       "                    --jp-widgets-color: white;\n",
       "                    --jp-widgets-label-color: white;\n",
       "                    --jp-ui-font-color1: white;\n",
       "                    --jp-layout-color2: #454545;\n",
       "                    background-color: #383838;\n",
       "                }\n",
       "\n",
       "                .geemap-dark .jupyter-button {\n",
       "                    --jp-layout-color3: #383838;\n",
       "                }\n",
       "\n",
       "                .geemap-colab {\n",
       "                    background-color: var(--colab-primary-surface-color, white);\n",
       "                }\n",
       "\n",
       "                .geemap-colab .jupyter-button {\n",
       "                    --jp-layout-color3: var(--colab-primary-surface-color, white);\n",
       "                }\n",
       "            </style>\n",
       "            "
      ],
      "text/plain": [
       "<IPython.core.display.HTML object>"
      ]
     },
     "metadata": {},
     "output_type": "display_data"
    }
   ],
   "source": [
    "if Map.user_roi is not None:\n",
    "    print(Map.user_roi.getInfo())\n",
    "\n",
    "if Map.user_roi is not None:\n",
    "    print(Map.user_roi)"
   ]
  },
  {
   "cell_type": "code",
   "execution_count": 46,
   "metadata": {},
   "outputs": [
    {
     "data": {
      "text/html": [
       "\n",
       "            <style>\n",
       "                .geemap-dark {\n",
       "                    --jp-widgets-color: white;\n",
       "                    --jp-widgets-label-color: white;\n",
       "                    --jp-ui-font-color1: white;\n",
       "                    --jp-layout-color2: #454545;\n",
       "                    background-color: #383838;\n",
       "                }\n",
       "\n",
       "                .geemap-dark .jupyter-button {\n",
       "                    --jp-layout-color3: #383838;\n",
       "                }\n",
       "\n",
       "                .geemap-colab {\n",
       "                    background-color: var(--colab-primary-surface-color, white);\n",
       "                }\n",
       "\n",
       "                .geemap-colab .jupyter-button {\n",
       "                    --jp-layout-color3: var(--colab-primary-surface-color, white);\n",
       "                }\n",
       "            </style>\n",
       "            "
      ],
      "text/plain": [
       "<IPython.core.display.HTML object>"
      ]
     },
     "metadata": {},
     "output_type": "display_data"
    },
    {
     "data": {
      "text/html": [
       "<div><style>:root {\n",
       "  --font-color-primary: var(--jp-content-font-color0, rgba(0, 0, 0, 1));\n",
       "  --font-color-secondary: var(--jp-content-font-color2, rgba(0, 0, 0, 0.7));\n",
       "  --font-color-accent: rgba(123, 31, 162, 1);\n",
       "  --border-color: var(--jp-border-color2, #e0e0e0);\n",
       "  --background-color: var(--jp-layout-color0, white);\n",
       "  --background-color-row-even: var(--jp-layout-color1, white);\n",
       "  --background-color-row-odd: var(--jp-layout-color2, #eeeeee);\n",
       "}\n",
       "\n",
       "html[theme=\"dark\"],\n",
       "body[data-theme=\"dark\"],\n",
       "body.vscode-dark {\n",
       "  --font-color-primary: rgba(255, 255, 255, 1);\n",
       "  --font-color-secondary: rgba(255, 255, 255, 0.7);\n",
       "  --font-color-accent: rgb(173, 132, 190);\n",
       "  --border-color: #2e2e2e;\n",
       "  --background-color: #111111;\n",
       "  --background-color-row-even: #111111;\n",
       "  --background-color-row-odd: #313131;\n",
       "}\n",
       "\n",
       ".eerepr {\n",
       "  padding: 1em;\n",
       "  line-height: 1.5em;\n",
       "  min-width: 300px;\n",
       "  max-width: 1200px;\n",
       "  overflow-y: scroll;\n",
       "  max-height: 600px;\n",
       "  border: 1px solid var(--border-color);\n",
       "  font-family: monospace;\n",
       "  font-size: 14px;\n",
       "}\n",
       "\n",
       ".eerepr li {\n",
       "  list-style-type: none;\n",
       "  margin: 0;\n",
       "}\n",
       "\n",
       ".eerepr ul {\n",
       "  padding-left: 1.5em !important;\n",
       "  margin: 0;\n",
       "}\n",
       "\n",
       ".eerepr > ul {\n",
       "  padding-left: 0 !important;\n",
       "}\n",
       "\n",
       ".eerepr summary {\n",
       "  color: var(--font-color-secondary);\n",
       "  cursor: pointer;\n",
       "  margin: 0;\n",
       "}\n",
       "\n",
       ".eerepr summary:hover {\n",
       "  color: var(--font-color-primary);\n",
       "  background-color: var(--background-color-row-odd)\n",
       "}\n",
       "\n",
       ".ee-k {\n",
       "  color: var(--font-color-accent);\n",
       "  margin-right: 6px;\n",
       "}\n",
       "\n",
       ".ee-v {\n",
       "  color: var(--font-color-primary);\n",
       "}\n",
       "\n",
       ".eerepr details > summary::before {\n",
       "  content: '▼';\n",
       "  display: inline-block;\n",
       "  margin-right: 6px;\n",
       "  transition: transform 0.2s;\n",
       "  transform: rotate(-90deg);\n",
       "}\n",
       "\n",
       ".eerepr details[open] > summary::before {\n",
       "  transform: rotate(0deg);\n",
       "}\n",
       "\n",
       ".eerepr details summary::-webkit-details-marker {\n",
       "  display:none;\n",
       "}\n",
       "\n",
       ".eerepr details summary {\n",
       "  list-style-type: none;\n",
       "}\n",
       "</style><div class='eerepr'><ul><li><details><summary>Feature (Polygon, 2 properties)</summary><ul><li><span class='ee-k'>type:</span><span class='ee-v'>Feature</span></li><li><details><summary>geometry: Polygon (5 vertices)</summary><ul><li><span class='ee-k'>type:</span><span class='ee-v'>Polygon</span></li><li><details><summary>coordinates: List (1 element)</summary><ul><li><details><summary>0: List (5 elements)</summary><ul><li><details><summary>0: [-35, -10]</summary><ul><li><span class='ee-k'>0:</span><span class='ee-v'>-35</span></li><li><span class='ee-k'>1:</span><span class='ee-v'>-10</span></li></ul></details></li><li><details><summary>1: [35, -10]</summary><ul><li><span class='ee-k'>0:</span><span class='ee-v'>35</span></li><li><span class='ee-k'>1:</span><span class='ee-v'>-10</span></li></ul></details></li><li><details><summary>2: [35, 10]</summary><ul><li><span class='ee-k'>0:</span><span class='ee-v'>35</span></li><li><span class='ee-k'>1:</span><span class='ee-v'>10</span></li></ul></details></li><li><details><summary>3: [-35, 10]</summary><ul><li><span class='ee-k'>0:</span><span class='ee-v'>-35</span></li><li><span class='ee-k'>1:</span><span class='ee-v'>10</span></li></ul></details></li><li><details><summary>4: [-35, -10]</summary><ul><li><span class='ee-k'>0:</span><span class='ee-v'>-35</span></li><li><span class='ee-k'>1:</span><span class='ee-v'>-10</span></li></ul></details></li></ul></details></li></ul></details></li><li><span class='ee-k'>geodesic:</span><span class='ee-v'>False</span></li></ul></details></li><li><details><summary>properties: Object (2 properties)</summary><ul><li><span class='ee-k'>bar:</span><span class='ee-v'>tart</span></li><li><span class='ee-k'>foo:</span><span class='ee-v'>42</span></li></ul></details></li></ul></details></li></ul></div></div>"
      ],
      "text/plain": [
       "<ee.feature.Feature at 0x2d22c511400>"
      ]
     },
     "execution_count": 46,
     "metadata": {},
     "output_type": "execute_result"
    }
   ],
   "source": [
    "polygon = ee.Geometry.Polygon(\n",
    "    [[[-35, -10], [35, -10], [35, 10], [-35, 10], [-35, -10]]], None, False\n",
    ")\n",
    "polyFeature = ee.Feature(polygon, {'foo': 42, 'bar': 'tart'})\n",
    "\n",
    "polyFeature"
   ]
  },
  {
   "cell_type": "code",
   "execution_count": 47,
   "metadata": {},
   "outputs": [
    {
     "data": {
      "text/html": [
       "\n",
       "            <style>\n",
       "                .geemap-dark {\n",
       "                    --jp-widgets-color: white;\n",
       "                    --jp-widgets-label-color: white;\n",
       "                    --jp-ui-font-color1: white;\n",
       "                    --jp-layout-color2: #454545;\n",
       "                    background-color: #383838;\n",
       "                }\n",
       "\n",
       "                .geemap-dark .jupyter-button {\n",
       "                    --jp-layout-color3: #383838;\n",
       "                }\n",
       "\n",
       "                .geemap-colab {\n",
       "                    background-color: var(--colab-primary-surface-color, white);\n",
       "                }\n",
       "\n",
       "                .geemap-colab .jupyter-button {\n",
       "                    --jp-layout-color3: var(--colab-primary-surface-color, white);\n",
       "                }\n",
       "            </style>\n",
       "            "
      ],
      "text/plain": [
       "<IPython.core.display.HTML object>"
      ]
     },
     "metadata": {},
     "output_type": "display_data"
    },
    {
     "data": {
      "application/vnd.jupyter.widget-view+json": {
       "model_id": "3abb07b23e75486fa638d7c58760502b",
       "version_major": 2,
       "version_minor": 0
      },
      "text/plain": [
       "Map(center=[0, 0], controls=(WidgetControl(options=['position', 'transparent_bg'], widget=SearchDataGUI(childr…"
      ]
     },
     "execution_count": 47,
     "metadata": {},
     "output_type": "execute_result"
    }
   ],
   "source": [
    "Map = geemap.Map()\n",
    "Map.addLayer(polyFeature, {}, 'feature')\n",
    "Map"
   ]
  },
  {
   "cell_type": "code",
   "execution_count": 48,
   "metadata": {},
   "outputs": [
    {
     "data": {
      "text/html": [
       "\n",
       "            <style>\n",
       "                .geemap-dark {\n",
       "                    --jp-widgets-color: white;\n",
       "                    --jp-widgets-label-color: white;\n",
       "                    --jp-ui-font-color1: white;\n",
       "                    --jp-layout-color2: #454545;\n",
       "                    background-color: #383838;\n",
       "                }\n",
       "\n",
       "                .geemap-dark .jupyter-button {\n",
       "                    --jp-layout-color3: #383838;\n",
       "                }\n",
       "\n",
       "                .geemap-colab {\n",
       "                    background-color: var(--colab-primary-surface-color, white);\n",
       "                }\n",
       "\n",
       "                .geemap-colab .jupyter-button {\n",
       "                    --jp-layout-color3: var(--colab-primary-surface-color, white);\n",
       "                }\n",
       "            </style>\n",
       "            "
      ],
      "text/plain": [
       "<IPython.core.display.HTML object>"
      ]
     },
     "metadata": {},
     "output_type": "display_data"
    },
    {
     "data": {
      "text/html": [
       "<div><style>:root {\n",
       "  --font-color-primary: var(--jp-content-font-color0, rgba(0, 0, 0, 1));\n",
       "  --font-color-secondary: var(--jp-content-font-color2, rgba(0, 0, 0, 0.7));\n",
       "  --font-color-accent: rgba(123, 31, 162, 1);\n",
       "  --border-color: var(--jp-border-color2, #e0e0e0);\n",
       "  --background-color: var(--jp-layout-color0, white);\n",
       "  --background-color-row-even: var(--jp-layout-color1, white);\n",
       "  --background-color-row-odd: var(--jp-layout-color2, #eeeeee);\n",
       "}\n",
       "\n",
       "html[theme=\"dark\"],\n",
       "body[data-theme=\"dark\"],\n",
       "body.vscode-dark {\n",
       "  --font-color-primary: rgba(255, 255, 255, 1);\n",
       "  --font-color-secondary: rgba(255, 255, 255, 0.7);\n",
       "  --font-color-accent: rgb(173, 132, 190);\n",
       "  --border-color: #2e2e2e;\n",
       "  --background-color: #111111;\n",
       "  --background-color-row-even: #111111;\n",
       "  --background-color-row-odd: #313131;\n",
       "}\n",
       "\n",
       ".eerepr {\n",
       "  padding: 1em;\n",
       "  line-height: 1.5em;\n",
       "  min-width: 300px;\n",
       "  max-width: 1200px;\n",
       "  overflow-y: scroll;\n",
       "  max-height: 600px;\n",
       "  border: 1px solid var(--border-color);\n",
       "  font-family: monospace;\n",
       "  font-size: 14px;\n",
       "}\n",
       "\n",
       ".eerepr li {\n",
       "  list-style-type: none;\n",
       "  margin: 0;\n",
       "}\n",
       "\n",
       ".eerepr ul {\n",
       "  padding-left: 1.5em !important;\n",
       "  margin: 0;\n",
       "}\n",
       "\n",
       ".eerepr > ul {\n",
       "  padding-left: 0 !important;\n",
       "}\n",
       "\n",
       ".eerepr summary {\n",
       "  color: var(--font-color-secondary);\n",
       "  cursor: pointer;\n",
       "  margin: 0;\n",
       "}\n",
       "\n",
       ".eerepr summary:hover {\n",
       "  color: var(--font-color-primary);\n",
       "  background-color: var(--background-color-row-odd)\n",
       "}\n",
       "\n",
       ".ee-k {\n",
       "  color: var(--font-color-accent);\n",
       "  margin-right: 6px;\n",
       "}\n",
       "\n",
       ".ee-v {\n",
       "  color: var(--font-color-primary);\n",
       "}\n",
       "\n",
       ".eerepr details > summary::before {\n",
       "  content: '▼';\n",
       "  display: inline-block;\n",
       "  margin-right: 6px;\n",
       "  transition: transform 0.2s;\n",
       "  transform: rotate(-90deg);\n",
       "}\n",
       "\n",
       ".eerepr details[open] > summary::before {\n",
       "  transform: rotate(0deg);\n",
       "}\n",
       "\n",
       ".eerepr details summary::-webkit-details-marker {\n",
       "  display:none;\n",
       "}\n",
       "\n",
       ".eerepr details summary {\n",
       "  list-style-type: none;\n",
       "}\n",
       "</style><div class='eerepr'><ul><li><details><summary>Feature (Point, 3 properties)</summary><ul><li><span class='ee-k'>type:</span><span class='ee-v'>Feature</span></li><li><details><summary>geometry: Point (-122.23, 37.18)</summary><ul><li><span class='ee-k'>type:</span><span class='ee-v'>Point</span></li><li><details><summary>coordinates: [-122.22599, 37.17605]</summary><ul><li><span class='ee-k'>0:</span><span class='ee-v'>-122.22599</span></li><li><span class='ee-k'>1:</span><span class='ee-v'>37.17605</span></li></ul></details></li></ul></details></li><li><details><summary>properties: Object (3 properties)</summary><ul><li><span class='ee-k'>genus:</span><span class='ee-v'>Brachyramphus</span></li><li><span class='ee-k'>presence:</span><span class='ee-v'>1</span></li><li><span class='ee-k'>species:</span><span class='ee-v'>marmoratus</span></li></ul></details></li></ul></details></li></ul></div></div>"
      ],
      "text/plain": [
       "<ee.feature.Feature at 0x2d22c645520>"
      ]
     },
     "execution_count": 48,
     "metadata": {},
     "output_type": "execute_result"
    }
   ],
   "source": [
    "feature = (\n",
    "    ee.Feature(ee.Geometry.Point([-122.22599, 37.17605]))\n",
    "    .set('genus', 'Sequoia')\n",
    "    .set('species', 'sempervirens')\n",
    ")\n",
    "newDict = {'genus': 'Brachyramphus', 'presence': 1, 'species': 'marmoratus'}\n",
    "feature = feature.set(newDict)\n",
    "feature\n"
   ]
  },
  {
   "cell_type": "code",
   "execution_count": 49,
   "metadata": {},
   "outputs": [
    {
     "data": {
      "text/html": [
       "\n",
       "            <style>\n",
       "                .geemap-dark {\n",
       "                    --jp-widgets-color: white;\n",
       "                    --jp-widgets-label-color: white;\n",
       "                    --jp-ui-font-color1: white;\n",
       "                    --jp-layout-color2: #454545;\n",
       "                    background-color: #383838;\n",
       "                }\n",
       "\n",
       "                .geemap-dark .jupyter-button {\n",
       "                    --jp-layout-color3: #383838;\n",
       "                }\n",
       "\n",
       "                .geemap-colab {\n",
       "                    background-color: var(--colab-primary-surface-color, white);\n",
       "                }\n",
       "\n",
       "                .geemap-colab .jupyter-button {\n",
       "                    --jp-layout-color3: var(--colab-primary-surface-color, white);\n",
       "                }\n",
       "            </style>\n",
       "            "
      ],
      "text/plain": [
       "<IPython.core.display.HTML object>"
      ]
     },
     "metadata": {},
     "output_type": "display_data"
    },
    {
     "data": {
      "text/html": [
       "<div><style>:root {\n",
       "  --font-color-primary: var(--jp-content-font-color0, rgba(0, 0, 0, 1));\n",
       "  --font-color-secondary: var(--jp-content-font-color2, rgba(0, 0, 0, 0.7));\n",
       "  --font-color-accent: rgba(123, 31, 162, 1);\n",
       "  --border-color: var(--jp-border-color2, #e0e0e0);\n",
       "  --background-color: var(--jp-layout-color0, white);\n",
       "  --background-color-row-even: var(--jp-layout-color1, white);\n",
       "  --background-color-row-odd: var(--jp-layout-color2, #eeeeee);\n",
       "}\n",
       "\n",
       "html[theme=\"dark\"],\n",
       "body[data-theme=\"dark\"],\n",
       "body.vscode-dark {\n",
       "  --font-color-primary: rgba(255, 255, 255, 1);\n",
       "  --font-color-secondary: rgba(255, 255, 255, 0.7);\n",
       "  --font-color-accent: rgb(173, 132, 190);\n",
       "  --border-color: #2e2e2e;\n",
       "  --background-color: #111111;\n",
       "  --background-color-row-even: #111111;\n",
       "  --background-color-row-odd: #313131;\n",
       "}\n",
       "\n",
       ".eerepr {\n",
       "  padding: 1em;\n",
       "  line-height: 1.5em;\n",
       "  min-width: 300px;\n",
       "  max-width: 1200px;\n",
       "  overflow-y: scroll;\n",
       "  max-height: 600px;\n",
       "  border: 1px solid var(--border-color);\n",
       "  font-family: monospace;\n",
       "  font-size: 14px;\n",
       "}\n",
       "\n",
       ".eerepr li {\n",
       "  list-style-type: none;\n",
       "  margin: 0;\n",
       "}\n",
       "\n",
       ".eerepr ul {\n",
       "  padding-left: 1.5em !important;\n",
       "  margin: 0;\n",
       "}\n",
       "\n",
       ".eerepr > ul {\n",
       "  padding-left: 0 !important;\n",
       "}\n",
       "\n",
       ".eerepr summary {\n",
       "  color: var(--font-color-secondary);\n",
       "  cursor: pointer;\n",
       "  margin: 0;\n",
       "}\n",
       "\n",
       ".eerepr summary:hover {\n",
       "  color: var(--font-color-primary);\n",
       "  background-color: var(--background-color-row-odd)\n",
       "}\n",
       "\n",
       ".ee-k {\n",
       "  color: var(--font-color-accent);\n",
       "  margin-right: 6px;\n",
       "}\n",
       "\n",
       ".ee-v {\n",
       "  color: var(--font-color-primary);\n",
       "}\n",
       "\n",
       ".eerepr details > summary::before {\n",
       "  content: '▼';\n",
       "  display: inline-block;\n",
       "  margin-right: 6px;\n",
       "  transition: transform 0.2s;\n",
       "  transform: rotate(-90deg);\n",
       "}\n",
       "\n",
       ".eerepr details[open] > summary::before {\n",
       "  transform: rotate(0deg);\n",
       "}\n",
       "\n",
       ".eerepr details summary::-webkit-details-marker {\n",
       "  display:none;\n",
       "}\n",
       "\n",
       ".eerepr details summary {\n",
       "  list-style-type: none;\n",
       "}\n",
       "</style><div class='eerepr'><ul><li><span class='ee-v'>marmoratus</span></li></ul></div></div>"
      ],
      "text/plain": [
       "<ee.computedobject.ComputedObject at 0x2d22c6466f0>"
      ]
     },
     "execution_count": 49,
     "metadata": {},
     "output_type": "execute_result"
    }
   ],
   "source": [
    "prop = feature.get('species')\n",
    "prop"
   ]
  },
  {
   "cell_type": "code",
   "execution_count": 53,
   "metadata": {},
   "outputs": [
    {
     "data": {
      "text/html": [
       "\n",
       "            <style>\n",
       "                .geemap-dark {\n",
       "                    --jp-widgets-color: white;\n",
       "                    --jp-widgets-label-color: white;\n",
       "                    --jp-ui-font-color1: white;\n",
       "                    --jp-layout-color2: #454545;\n",
       "                    background-color: #383838;\n",
       "                }\n",
       "\n",
       "                .geemap-dark .jupyter-button {\n",
       "                    --jp-layout-color3: #383838;\n",
       "                }\n",
       "\n",
       "                .geemap-colab {\n",
       "                    background-color: var(--colab-primary-surface-color, white);\n",
       "                }\n",
       "\n",
       "                .geemap-colab .jupyter-button {\n",
       "                    --jp-layout-color3: var(--colab-primary-surface-color, white);\n",
       "                }\n",
       "            </style>\n",
       "            "
      ],
      "text/plain": [
       "<IPython.core.display.HTML object>"
      ]
     },
     "metadata": {},
     "output_type": "display_data"
    },
    {
     "data": {
      "application/vnd.jupyter.widget-view+json": {
       "model_id": "333671b402704e739149f39443345d3b",
       "version_major": 2,
       "version_minor": 0
      },
      "text/plain": [
       "Map(center=[40.7688, -73.9596], controls=(WidgetControl(options=['position', 'transparent_bg'], widget=SearchD…"
      ]
     },
     "execution_count": 53,
     "metadata": {},
     "output_type": "execute_result"
    }
   ],
   "source": [
    "Map = geemap.Map()\n",
    "fc = ee.FeatureCollection('TIGER/2016/Roads')\n",
    "Map.setCenter(-73.9596, 40.7688, 12)\n",
    "Map.addLayer(fc, {}, 'Census roads')\n",
    "Map"
   ]
  },
  {
   "cell_type": "code",
   "execution_count": 54,
   "metadata": {},
   "outputs": [
    {
     "data": {
      "text/html": [
       "\n",
       "            <style>\n",
       "                .geemap-dark {\n",
       "                    --jp-widgets-color: white;\n",
       "                    --jp-widgets-label-color: white;\n",
       "                    --jp-ui-font-color1: white;\n",
       "                    --jp-layout-color2: #454545;\n",
       "                    background-color: #383838;\n",
       "                }\n",
       "\n",
       "                .geemap-dark .jupyter-button {\n",
       "                    --jp-layout-color3: #383838;\n",
       "                }\n",
       "\n",
       "                .geemap-colab {\n",
       "                    background-color: var(--colab-primary-surface-color, white);\n",
       "                }\n",
       "\n",
       "                .geemap-colab .jupyter-button {\n",
       "                    --jp-layout-color3: var(--colab-primary-surface-color, white);\n",
       "                }\n",
       "            </style>\n",
       "            "
      ],
      "text/plain": [
       "<IPython.core.display.HTML object>"
      ]
     },
     "metadata": {},
     "output_type": "display_data"
    },
    {
     "data": {
      "text/html": [
       "<div><style>:root {\n",
       "  --font-color-primary: var(--jp-content-font-color0, rgba(0, 0, 0, 1));\n",
       "  --font-color-secondary: var(--jp-content-font-color2, rgba(0, 0, 0, 0.7));\n",
       "  --font-color-accent: rgba(123, 31, 162, 1);\n",
       "  --border-color: var(--jp-border-color2, #e0e0e0);\n",
       "  --background-color: var(--jp-layout-color0, white);\n",
       "  --background-color-row-even: var(--jp-layout-color1, white);\n",
       "  --background-color-row-odd: var(--jp-layout-color2, #eeeeee);\n",
       "}\n",
       "\n",
       "html[theme=\"dark\"],\n",
       "body[data-theme=\"dark\"],\n",
       "body.vscode-dark {\n",
       "  --font-color-primary: rgba(255, 255, 255, 1);\n",
       "  --font-color-secondary: rgba(255, 255, 255, 0.7);\n",
       "  --font-color-accent: rgb(173, 132, 190);\n",
       "  --border-color: #2e2e2e;\n",
       "  --background-color: #111111;\n",
       "  --background-color-row-even: #111111;\n",
       "  --background-color-row-odd: #313131;\n",
       "}\n",
       "\n",
       ".eerepr {\n",
       "  padding: 1em;\n",
       "  line-height: 1.5em;\n",
       "  min-width: 300px;\n",
       "  max-width: 1200px;\n",
       "  overflow-y: scroll;\n",
       "  max-height: 600px;\n",
       "  border: 1px solid var(--border-color);\n",
       "  font-family: monospace;\n",
       "  font-size: 14px;\n",
       "}\n",
       "\n",
       ".eerepr li {\n",
       "  list-style-type: none;\n",
       "  margin: 0;\n",
       "}\n",
       "\n",
       ".eerepr ul {\n",
       "  padding-left: 1.5em !important;\n",
       "  margin: 0;\n",
       "}\n",
       "\n",
       ".eerepr > ul {\n",
       "  padding-left: 0 !important;\n",
       "}\n",
       "\n",
       ".eerepr summary {\n",
       "  color: var(--font-color-secondary);\n",
       "  cursor: pointer;\n",
       "  margin: 0;\n",
       "}\n",
       "\n",
       ".eerepr summary:hover {\n",
       "  color: var(--font-color-primary);\n",
       "  background-color: var(--background-color-row-odd)\n",
       "}\n",
       "\n",
       ".ee-k {\n",
       "  color: var(--font-color-accent);\n",
       "  margin-right: 6px;\n",
       "}\n",
       "\n",
       ".ee-v {\n",
       "  color: var(--font-color-primary);\n",
       "}\n",
       "\n",
       ".eerepr details > summary::before {\n",
       "  content: '▼';\n",
       "  display: inline-block;\n",
       "  margin-right: 6px;\n",
       "  transition: transform 0.2s;\n",
       "  transform: rotate(-90deg);\n",
       "}\n",
       "\n",
       ".eerepr details[open] > summary::before {\n",
       "  transform: rotate(0deg);\n",
       "}\n",
       "\n",
       ".eerepr details summary::-webkit-details-marker {\n",
       "  display:none;\n",
       "}\n",
       "\n",
       ".eerepr details summary {\n",
       "  list-style-type: none;\n",
       "}\n",
       "</style><div class='eerepr'><ul><li><details><summary>FeatureCollection TIGER/2016/Roads  (3 elements, 5 columns)</summary><ul><li><span class='ee-k'>type:</span><span class='ee-v'>FeatureCollection</span></li><li><span class='ee-k'>id:</span><span class='ee-v'>TIGER/2016/Roads</span></li><li><span class='ee-k'>version:</span><span class='ee-v'>1566852143799343</span></li><li><details><summary>columns: Object (5 properties)</summary><ul><li><span class='ee-k'>fullname:</span><span class='ee-v'>String</span></li><li><span class='ee-k'>linearid:</span><span class='ee-v'>String</span></li><li><span class='ee-k'>mtfcc:</span><span class='ee-v'>String</span></li><li><span class='ee-k'>rttyp:</span><span class='ee-v'>String</span></li><li><span class='ee-k'>system:index:</span><span class='ee-v'>String</span></li></ul></details></li><li><details><summary>properties: Object (12 properties)</summary><ul><li><details><summary>date_range: [1451606400000, 1483315200000]</summary><ul><li><span class='ee-k'>0:</span><span class='ee-v'>1451606400000</span></li><li><span class='ee-k'>1:</span><span class='ee-v'>1483315200000</span></li></ul></details></li><li><span class='ee-k'>description:</span><span class='ee-v'>&lt;p&gt;This United States Census Bureau TIGER dataset contains all road segments\n",
       "from the 2016 release, containing more than 19 million individual\n",
       "line features covering the United States, the District of Columbia,\n",
       "Puerto Rico, and the &lt;a href=&quot;https://www.census.gov/newsroom/releases/archives/2010_census/press-kits/island-areas.html&quot;&gt;Island Areas&lt;/a&gt;.\n",
       "Each feature represents a road segment geometry (a single navigable\n",
       "linear path connected to at least one intersection).&lt;/p&gt;&lt;p&gt;For full technical details on all TIGER 2016 products, see the &lt;a href=&quot;https://www2.census.gov/geo/pdfs/maps-data/data/tiger/tgrshp2016/TGRSHP2016_TechDoc.pdf&quot;&gt;TIGER\n",
       "technical documentation.&lt;/a&gt;&lt;/p&gt;&lt;p&gt;&lt;b&gt;Table Schema&lt;/b&gt;&lt;table class=&quot;eecat&quot;&gt;&lt;tr&gt;&lt;th scope=&quot;col&quot;&gt;Name&lt;/th&gt;&lt;th scope=&quot;col&quot;&gt;Type&lt;/th&gt;&lt;th scope=&quot;col&quot;&gt;Description&lt;/th&gt;&lt;/tr&gt;&lt;tr&gt;&lt;td&gt;fullname&lt;/td&gt;&lt;td&gt;STRING&lt;/td&gt;&lt;td&gt;&lt;p&gt;A human-readable road name&lt;/p&gt;&lt;/td&gt;&lt;/tr&gt;&lt;tr&gt;&lt;td&gt;linearid&lt;/td&gt;&lt;td&gt;STRING&lt;/td&gt;&lt;td&gt;&lt;p&gt;The primary identifier used to refer to this row in other TIGER products&lt;/p&gt;&lt;/td&gt;&lt;/tr&gt;&lt;tr&gt;&lt;td&gt;mtfcc&lt;/td&gt;&lt;td&gt;STRING&lt;/td&gt;&lt;td&gt;&lt;p&gt;The road &lt;a href=&quot;https://www.census.gov/geo/reference/mtfcc.html&quot;&gt;priority code&lt;/a&gt;, representing, e.g., primary, second, local, etc.&lt;/p&gt;&lt;/td&gt;&lt;/tr&gt;&lt;tr&gt;&lt;td&gt;rttyp&lt;/td&gt;&lt;td&gt;STRING&lt;/td&gt;&lt;td&gt;&lt;p&gt;The route &lt;a href=&quot;https://www.census.gov/geo/reference/rttyp.html&quot;&gt;type code&lt;/a&gt;,&lt;/p&gt;&lt;/td&gt;&lt;/tr&gt;&lt;/table&gt;&lt;p&gt;&lt;b&gt;Terms of Use&lt;/b&gt;&lt;br&gt;&lt;p&gt;The U.S. Census Bureau offers some of its public data in machine-readable format via an Application Programming Interface (API). All of the content, documentation, code and related materials made available through the API are subject to &lt;a href=&quot;https://www.census.gov/data/developers/about/terms-of-service.html&quot;&gt;these terms and conditions.&lt;/a&gt;&lt;/p&gt;&lt;p&gt;&lt;b&gt;Suggested citation(s)&lt;/b&gt;&lt;ul&gt;&lt;li&gt;&lt;p&gt;For the creation of any reports, publications, new data sets, derived products, or services resulting from the data set, users should &lt;a href=&quot;https://www.census.gov/about/policies/citation.html&quot;&gt;cite the US Census Bureau.&lt;/a&gt;&lt;/p&gt;&lt;/li&gt;&lt;/ul&gt;&lt;style&gt;\n",
       "  table.eecat {\n",
       "  border: 1px solid black;\n",
       "  border-collapse: collapse;\n",
       "  font-size: 13px;\n",
       "  }\n",
       "  table.eecat td, tr, th {\n",
       "  text-align: left; vertical-align: top;\n",
       "  border: 1px solid gray; padding: 3px;\n",
       "  }\n",
       "  td.nobreak { white-space: nowrap; }\n",
       "&lt;/style&gt;</span></li><li><span class='ee-k'>period:</span><span class='ee-v'>0</span></li><li><details><summary>product_tags: ['us', 'roads']</summary><ul><li><span class='ee-k'>0:</span><span class='ee-v'>us</span></li><li><span class='ee-k'>1:</span><span class='ee-v'>roads</span></li></ul></details></li><li><span class='ee-k'>provider:</span><span class='ee-v'>United States Census Bureau</span></li><li><span class='ee-k'>provider_url:</span><span class='ee-v'>https://www.census.gov/geo/maps-data/data/tiger-data.html</span></li><li><span class='ee-k'>sample:</span><span class='ee-v'>https://mw1.google.com/ges/dd/images/TIGER_Roads_sample.png</span></li><li><details><summary>source_tags: ['census', 'tiger']</summary><ul><li><span class='ee-k'>0:</span><span class='ee-v'>census</span></li><li><span class='ee-k'>1:</span><span class='ee-v'>tiger</span></li></ul></details></li><li><span class='ee-k'>system:asset_size:</span><span class='ee-v'>13818731015</span></li><li><details><summary>tags: ['census', 'tiger', 'us', 'roads']</summary><ul><li><span class='ee-k'>0:</span><span class='ee-v'>census</span></li><li><span class='ee-k'>1:</span><span class='ee-v'>tiger</span></li><li><span class='ee-k'>2:</span><span class='ee-v'>us</span></li><li><span class='ee-k'>3:</span><span class='ee-v'>roads</span></li></ul></details></li><li><span class='ee-k'>thumb:</span><span class='ee-v'>https://mw1.google.com/ges/dd/images/TIGER_Roads_thumb.png</span></li><li><span class='ee-k'>title:</span><span class='ee-v'>TIGER: US Census Roads</span></li></ul></details></li><li><details><summary>features: List (3 elements)</summary><ul><li><details><summary>0: Feature (LineString, 4 properties)</summary><ul><li><span class='ee-k'>type:</span><span class='ee-v'>Feature</span></li><li><span class='ee-k'>id:</span><span class='ee-v'>00000000000000000001</span></li><li><details><summary>geometry: LineString (3 vertices)</summary><ul><li><span class='ee-k'>type:</span><span class='ee-v'>LineString</span></li><li><details><summary>coordinates: List (3 elements)</summary><ul><li><details><summary>0: [-67.79065, 46.73456899905859]</summary><ul><li><span class='ee-k'>0:</span><span class='ee-v'>-67.79065</span></li><li><span class='ee-k'>1:</span><span class='ee-v'>46.73456899905859</span></li></ul></details></li><li><details><summary>1: [-67.79046699999999, 46.7345309990586]</summary><ul><li><span class='ee-k'>0:</span><span class='ee-v'>-67.79046699999999</span></li><li><span class='ee-k'>1:</span><span class='ee-v'>46.7345309990586</span></li></ul></details></li><li><details><summary>2: [-67.79031499999999, 46.734521999058586]</summary><ul><li><span class='ee-k'>0:</span><span class='ee-v'>-67.79031499999999</span></li><li><span class='ee-k'>1:</span><span class='ee-v'>46.734521999058586</span></li></ul></details></li></ul></details></li></ul></details></li><li><details><summary>properties: Object (4 properties)</summary><ul><li><span class='ee-k'>fullname:</span><span class='ee-v'></span></li><li><span class='ee-k'>linearid:</span><span class='ee-v'>110469267091</span></li><li><span class='ee-k'>mtfcc:</span><span class='ee-v'>S1400</span></li><li><span class='ee-k'>rttyp:</span><span class='ee-v'></span></li></ul></details></li></ul></details></li><li><details><summary>1: Feature (LineString, 4 properties)</summary><ul><li><span class='ee-k'>type:</span><span class='ee-v'>Feature</span></li><li><span class='ee-k'>id:</span><span class='ee-v'>00000000000000000002</span></li><li><details><summary>geometry: LineString (33 vertices)</summary><ul><li><span class='ee-k'>type:</span><span class='ee-v'>LineString</span></li><li><details><summary>coordinates: List (33 elements)</summary><ul><li><details><summary>0: [-67.818015, 46.730378999058566]</summary><ul><li><span class='ee-k'>0:</span><span class='ee-v'>-67.818015</span></li><li><span class='ee-k'>1:</span><span class='ee-v'>46.730378999058566</span></li></ul></details></li><li><details><summary>1: [-67.81778099999998, 46.730382999058584]</summary><ul><li><span class='ee-k'>0:</span><span class='ee-v'>-67.81778099999998</span></li><li><span class='ee-k'>1:</span><span class='ee-v'>46.730382999058584</span></li></ul></details></li><li><details><summary>2: [-67.81756699999998, 46.73037699905858]</summary><ul><li><span class='ee-k'>0:</span><span class='ee-v'>-67.81756699999998</span></li><li><span class='ee-k'>1:</span><span class='ee-v'>46.73037699905858</span></li></ul></details></li><li><details><summary>3: [-67.817351, 46.730383999058596]</summary><ul><li><span class='ee-k'>0:</span><span class='ee-v'>-67.817351</span></li><li><span class='ee-k'>1:</span><span class='ee-v'>46.730383999058596</span></li></ul></details></li><li><details><summary>4: [-67.81712899999998, 46.73041799905858]</summary><ul><li><span class='ee-k'>0:</span><span class='ee-v'>-67.81712899999998</span></li><li><span class='ee-k'>1:</span><span class='ee-v'>46.73041799905858</span></li></ul></details></li><li><details><summary>5: [-67.81636299999998, 46.730598999058586]</summary><ul><li><span class='ee-k'>0:</span><span class='ee-v'>-67.81636299999998</span></li><li><span class='ee-k'>1:</span><span class='ee-v'>46.730598999058586</span></li></ul></details></li><li><details><summary>6: [-67.81586899999999, 46.730700999058584]</summary><ul><li><span class='ee-k'>0:</span><span class='ee-v'>-67.81586899999999</span></li><li><span class='ee-k'>1:</span><span class='ee-v'>46.730700999058584</span></li></ul></details></li><li><details><summary>7: [-67.81536599999998, 46.73076399905858]</summary><ul><li><span class='ee-k'>0:</span><span class='ee-v'>-67.81536599999998</span></li><li><span class='ee-k'>1:</span><span class='ee-v'>46.73076399905858</span></li></ul></details></li><li><details><summary>8: [-67.81486799999999, 46.73077699905857]</summary><ul><li><span class='ee-k'>0:</span><span class='ee-v'>-67.81486799999999</span></li><li><span class='ee-k'>1:</span><span class='ee-v'>46.73077699905857</span></li></ul></details></li><li><details><summary>9: [-67.81335599999998, 46.730849999058584]</summary><ul><li><span class='ee-k'>0:</span><span class='ee-v'>-67.81335599999998</span></li><li><span class='ee-k'>1:</span><span class='ee-v'>46.730849999058584</span></li></ul></details></li><li><details><summary>10: [-67.81284999999998, 46.73089099905857]</summary><ul><li><span class='ee-k'>0:</span><span class='ee-v'>-67.81284999999998</span></li><li><span class='ee-k'>1:</span><span class='ee-v'>46.73089099905857</span></li></ul></details></li><li><details><summary>11: [-67.81234299999998, 46.73092099905858]</summary><ul><li><span class='ee-k'>0:</span><span class='ee-v'>-67.81234299999998</span></li><li><span class='ee-k'>1:</span><span class='ee-v'>46.73092099905858</span></li></ul></details></li><li><details><summary>12: [-67.81184, 46.73092599905857]</summary><ul><li><span class='ee-k'>0:</span><span class='ee-v'>-67.81184</span></li><li><span class='ee-k'>1:</span><span class='ee-v'>46.73092599905857</span></li></ul></details></li><li><details><summary>13: [-67.81111399999999, 46.73094999905857]</summary><ul><li><span class='ee-k'>0:</span><span class='ee-v'>-67.81111399999999</span></li><li><span class='ee-k'>1:</span><span class='ee-v'>46.73094999905857</span></li></ul></details></li><li><details><summary>14: [-67.81096900000001, 46.73096799905857]</summary><ul><li><span class='ee-k'>0:</span><span class='ee-v'>-67.81096900000001</span></li><li><span class='ee-k'>1:</span><span class='ee-v'>46.73096799905857</span></li></ul></details></li><li><details><summary>15: [-67.810755, 46.73103199905859]</summary><ul><li><span class='ee-k'>0:</span><span class='ee-v'>-67.810755</span></li><li><span class='ee-k'>1:</span><span class='ee-v'>46.73103199905859</span></li></ul></details></li><li><details><summary>16: [-67.81062799999997, 46.731076999058565]</summary><ul><li><span class='ee-k'>0:</span><span class='ee-v'>-67.81062799999997</span></li><li><span class='ee-k'>1:</span><span class='ee-v'>46.731076999058565</span></li></ul></details></li><li><details><summary>17: [-67.810422, 46.73111599905859]</summary><ul><li><span class='ee-k'>0:</span><span class='ee-v'>-67.810422</span></li><li><span class='ee-k'>1:</span><span class='ee-v'>46.73111599905859</span></li></ul></details></li><li><details><summary>18: [-67.81020999999998, 46.73113099905857]</summary><ul><li><span class='ee-k'>0:</span><span class='ee-v'>-67.81020999999998</span></li><li><span class='ee-k'>1:</span><span class='ee-v'>46.73113099905857</span></li></ul></details></li><li><details><summary>19: [-67.80999099999998, 46.731108999058584]</summary><ul><li><span class='ee-k'>0:</span><span class='ee-v'>-67.80999099999998</span></li><li><span class='ee-k'>1:</span><span class='ee-v'>46.731108999058584</span></li></ul></details></li><li><details><summary>20: [-67.80977599999999, 46.731061999058596]</summary><ul><li><span class='ee-k'>0:</span><span class='ee-v'>-67.80977599999999</span></li><li><span class='ee-k'>1:</span><span class='ee-v'>46.731061999058596</span></li></ul></details></li><li><details><summary>21: [-67.809567, 46.73103099905858]</summary><ul><li><span class='ee-k'>0:</span><span class='ee-v'>-67.809567</span></li><li><span class='ee-k'>1:</span><span class='ee-v'>46.73103099905858</span></li></ul></details></li><li><details><summary>22: [-67.809066, 46.73100399905858]</summary><ul><li><span class='ee-k'>0:</span><span class='ee-v'>-67.809066</span></li><li><span class='ee-k'>1:</span><span class='ee-v'>46.73100399905858</span></li></ul></details></li><li><details><summary>23: [-67.80855999999999, 46.73095199905859]</summary><ul><li><span class='ee-k'>0:</span><span class='ee-v'>-67.80855999999999</span></li><li><span class='ee-k'>1:</span><span class='ee-v'>46.73095199905859</span></li></ul></details></li><li><details><summary>24: [-67.80807399999998, 46.73082899905857]</summary><ul><li><span class='ee-k'>0:</span><span class='ee-v'>-67.80807399999998</span></li><li><span class='ee-k'>1:</span><span class='ee-v'>46.73082899905857</span></li></ul></details></li><li><details><summary>25: [-67.80758999999999, 46.730688999058586]</summary><ul><li><span class='ee-k'>0:</span><span class='ee-v'>-67.80758999999999</span></li><li><span class='ee-k'>1:</span><span class='ee-v'>46.730688999058586</span></li></ul></details></li><li><details><summary>26: [-67.80738199999999, 46.73063399905858]</summary><ul><li><span class='ee-k'>0:</span><span class='ee-v'>-67.80738199999999</span></li><li><span class='ee-k'>1:</span><span class='ee-v'>46.73063399905858</span></li></ul></details></li><li><details><summary>27: [-67.80724299999997, 46.73061199905859]</summary><ul><li><span class='ee-k'>0:</span><span class='ee-v'>-67.80724299999997</span></li><li><span class='ee-k'>1:</span><span class='ee-v'>46.73061199905859</span></li></ul></details></li><li><details><summary>28: [-67.80710399999998, 46.73061099905858]</summary><ul><li><span class='ee-k'>0:</span><span class='ee-v'>-67.80710399999998</span></li><li><span class='ee-k'>1:</span><span class='ee-v'>46.73061099905858</span></li></ul></details></li><li><details><summary>29: [-67.80696199999998, 46.73063099905859]</summary><ul><li><span class='ee-k'>0:</span><span class='ee-v'>-67.80696199999998</span></li><li><span class='ee-k'>1:</span><span class='ee-v'>46.73063099905859</span></li></ul></details></li><li><details><summary>30: [-67.806747, 46.730691999058585]</summary><ul><li><span class='ee-k'>0:</span><span class='ee-v'>-67.806747</span></li><li><span class='ee-k'>1:</span><span class='ee-v'>46.730691999058585</span></li></ul></details></li><li><details><summary>31: [-67.80628500000002, 46.730869999058584]</summary><ul><li><span class='ee-k'>0:</span><span class='ee-v'>-67.80628500000002</span></li><li><span class='ee-k'>1:</span><span class='ee-v'>46.730869999058584</span></li></ul></details></li><li><details><summary>32: [-67.80602100000002, 46.73098599905856]</summary><ul><li><span class='ee-k'>0:</span><span class='ee-v'>-67.80602100000002</span></li><li><span class='ee-k'>1:</span><span class='ee-v'>46.73098599905856</span></li></ul></details></li></ul></details></li></ul></details></li><li><details><summary>properties: Object (4 properties)</summary><ul><li><span class='ee-k'>fullname:</span><span class='ee-v'></span></li><li><span class='ee-k'>linearid:</span><span class='ee-v'>110469265869</span></li><li><span class='ee-k'>mtfcc:</span><span class='ee-v'>S1400</span></li><li><span class='ee-k'>rttyp:</span><span class='ee-v'></span></li></ul></details></li></ul></details></li><li><details><summary>2: Feature (LineString, 4 properties)</summary><ul><li><span class='ee-k'>type:</span><span class='ee-v'>Feature</span></li><li><span class='ee-k'>id:</span><span class='ee-v'>00000000000000000006</span></li><li><details><summary>geometry: LineString (2 vertices)</summary><ul><li><span class='ee-k'>type:</span><span class='ee-v'>LineString</span></li><li><details><summary>coordinates: List (2 elements)</summary><ul><li><details><summary>0: [-67.79688, 46.70523499905854]</summary><ul><li><span class='ee-k'>0:</span><span class='ee-v'>-67.79688</span></li><li><span class='ee-k'>1:</span><span class='ee-v'>46.70523499905854</span></li></ul></details></li><li><details><summary>1: [-67.796909, 46.70474099905853]</summary><ul><li><span class='ee-k'>0:</span><span class='ee-v'>-67.796909</span></li><li><span class='ee-k'>1:</span><span class='ee-v'>46.70474099905853</span></li></ul></details></li></ul></details></li></ul></details></li><li><details><summary>properties: Object (4 properties)</summary><ul><li><span class='ee-k'>fullname:</span><span class='ee-v'></span></li><li><span class='ee-k'>linearid:</span><span class='ee-v'>110469265916</span></li><li><span class='ee-k'>mtfcc:</span><span class='ee-v'>S1400</span></li><li><span class='ee-k'>rttyp:</span><span class='ee-v'></span></li></ul></details></li></ul></details></li></ul></details></li></ul></details></li></ul></div></div>"
      ],
      "text/plain": [
       "<ee.featurecollection.FeatureCollection at 0x2d22c615130>"
      ]
     },
     "execution_count": 54,
     "metadata": {},
     "output_type": "execute_result"
    }
   ],
   "source": [
    "fc.limit(3)"
   ]
  },
  {
   "cell_type": "code",
   "execution_count": 55,
   "metadata": {},
   "outputs": [
    {
     "data": {
      "text/html": [
       "\n",
       "            <style>\n",
       "                .geemap-dark {\n",
       "                    --jp-widgets-color: white;\n",
       "                    --jp-widgets-label-color: white;\n",
       "                    --jp-ui-font-color1: white;\n",
       "                    --jp-layout-color2: #454545;\n",
       "                    background-color: #383838;\n",
       "                }\n",
       "\n",
       "                .geemap-dark .jupyter-button {\n",
       "                    --jp-layout-color3: #383838;\n",
       "                }\n",
       "\n",
       "                .geemap-colab {\n",
       "                    background-color: var(--colab-primary-surface-color, white);\n",
       "                }\n",
       "\n",
       "                .geemap-colab .jupyter-button {\n",
       "                    --jp-layout-color3: var(--colab-primary-surface-color, white);\n",
       "                }\n",
       "            </style>\n",
       "            "
      ],
      "text/plain": [
       "<IPython.core.display.HTML object>"
      ]
     },
     "metadata": {},
     "output_type": "display_data"
    }
   ],
   "source": [
    "features = [\n",
    "    ee.Feature(ee.Geometry.Rectangle(30.01, 59.80, 30.59, 60.15), {'name': 'Voronoi'}),\n",
    "    ee.Feature(ee.Geometry.Point(-73.96, 40.781), {'name': 'Thiessen'}),\n",
    "    ee.Feature(ee.Geometry.Point(6.4806, 50.8012), {'name': 'Dirichlet'}),\n",
    "]\n",
    "fromList = ee.FeatureCollection(features)"
   ]
  },
  {
   "cell_type": "code",
   "execution_count": 56,
   "metadata": {},
   "outputs": [
    {
     "data": {
      "text/html": [
       "\n",
       "            <style>\n",
       "                .geemap-dark {\n",
       "                    --jp-widgets-color: white;\n",
       "                    --jp-widgets-label-color: white;\n",
       "                    --jp-ui-font-color1: white;\n",
       "                    --jp-layout-color2: #454545;\n",
       "                    background-color: #383838;\n",
       "                }\n",
       "\n",
       "                .geemap-dark .jupyter-button {\n",
       "                    --jp-layout-color3: #383838;\n",
       "                }\n",
       "\n",
       "                .geemap-colab {\n",
       "                    background-color: var(--colab-primary-surface-color, white);\n",
       "                }\n",
       "\n",
       "                .geemap-colab .jupyter-button {\n",
       "                    --jp-layout-color3: var(--colab-primary-surface-color, white);\n",
       "                }\n",
       "            </style>\n",
       "            "
      ],
      "text/plain": [
       "<IPython.core.display.HTML object>"
      ]
     },
     "metadata": {},
     "output_type": "display_data"
    },
    {
     "data": {
      "application/vnd.jupyter.widget-view+json": {
       "model_id": "1e37ffc1d467438b92e89640e43c6bef",
       "version_major": 2,
       "version_minor": 0
      },
      "text/plain": [
       "Map(center=[0, 0], controls=(WidgetControl(options=['position', 'transparent_bg'], widget=SearchDataGUI(childr…"
      ]
     },
     "execution_count": 56,
     "metadata": {},
     "output_type": "execute_result"
    }
   ],
   "source": [
    "Map = geemap.Map()\n",
    "states = ee.FeatureCollection('TIGER/2018/States')\n",
    "feat = states.filter(ee.Filter.eq('NAME', 'Texas'))\n",
    "Map.addLayer(feat, {}, 'Texas')\n",
    "Map.centerObject(feat)\n",
    "Map"
   ]
  },
  {
   "cell_type": "code",
   "execution_count": 57,
   "metadata": {},
   "outputs": [
    {
     "data": {
      "text/html": [
       "\n",
       "            <style>\n",
       "                .geemap-dark {\n",
       "                    --jp-widgets-color: white;\n",
       "                    --jp-widgets-label-color: white;\n",
       "                    --jp-ui-font-color1: white;\n",
       "                    --jp-layout-color2: #454545;\n",
       "                    background-color: #383838;\n",
       "                }\n",
       "\n",
       "                .geemap-dark .jupyter-button {\n",
       "                    --jp-layout-color3: #383838;\n",
       "                }\n",
       "\n",
       "                .geemap-colab {\n",
       "                    background-color: var(--colab-primary-surface-color, white);\n",
       "                }\n",
       "\n",
       "                .geemap-colab .jupyter-button {\n",
       "                    --jp-layout-color3: var(--colab-primary-surface-color, white);\n",
       "                }\n",
       "            </style>\n",
       "            "
      ],
      "text/plain": [
       "<IPython.core.display.HTML object>"
      ]
     },
     "metadata": {},
     "output_type": "display_data"
    },
    {
     "data": {
      "text/plain": [
       "{'ALAND': 676653171537,\n",
       " 'AWATER': 19006305260,\n",
       " 'DIVISION': '7',\n",
       " 'FUNCSTAT': 'A',\n",
       " 'GEOID': '48',\n",
       " 'INTPTLAT': '+31.4347032',\n",
       " 'INTPTLON': '-099.2818238',\n",
       " 'LSAD': '00',\n",
       " 'MTFCC': 'G4000',\n",
       " 'NAME': 'Texas',\n",
       " 'REGION': '3',\n",
       " 'STATEFP': '48',\n",
       " 'STATENS': '01779801',\n",
       " 'STUSPS': 'TX'}"
      ]
     },
     "execution_count": 57,
     "metadata": {},
     "output_type": "execute_result"
    }
   ],
   "source": [
    "texas = feat.first()\n",
    "texas.toDictionary().getInfo()"
   ]
  },
  {
   "cell_type": "code",
   "execution_count": 58,
   "metadata": {},
   "outputs": [
    {
     "data": {
      "text/html": [
       "\n",
       "            <style>\n",
       "                .geemap-dark {\n",
       "                    --jp-widgets-color: white;\n",
       "                    --jp-widgets-label-color: white;\n",
       "                    --jp-ui-font-color1: white;\n",
       "                    --jp-layout-color2: #454545;\n",
       "                    background-color: #383838;\n",
       "                }\n",
       "\n",
       "                .geemap-dark .jupyter-button {\n",
       "                    --jp-layout-color3: #383838;\n",
       "                }\n",
       "\n",
       "                .geemap-colab {\n",
       "                    background-color: var(--colab-primary-surface-color, white);\n",
       "                }\n",
       "\n",
       "                .geemap-colab .jupyter-button {\n",
       "                    --jp-layout-color3: var(--colab-primary-surface-color, white);\n",
       "                }\n",
       "            </style>\n",
       "            "
      ],
      "text/plain": [
       "<IPython.core.display.HTML object>"
      ]
     },
     "metadata": {},
     "output_type": "display_data"
    },
    {
     "data": {
      "application/vnd.jupyter.widget-view+json": {
       "model_id": "8be8f17bf1074106b00eab2b578d6c49",
       "version_major": 2,
       "version_minor": 0
      },
      "text/plain": [
       "Map(center=[0, 0], controls=(WidgetControl(options=['position', 'transparent_bg'], widget=SearchDataGUI(childr…"
      ]
     },
     "execution_count": 58,
     "metadata": {},
     "output_type": "execute_result"
    }
   ],
   "source": [
    "Map = geemap.Map()\n",
    "states = ee.FeatureCollection('TIGER/2018/States')\n",
    "fc = states.filter(ee.Filter.inList('NAME', ['California', 'Oregon', 'Washington']))\n",
    "Map.addLayer(fc, {}, 'West Coast')\n",
    "Map.centerObject(fc)\n",
    "Map"
   ]
  },
  {
   "cell_type": "code",
   "execution_count": null,
   "metadata": {},
   "outputs": [
    {
     "data": {
      "text/html": [
       "\n",
       "            <style>\n",
       "                .geemap-dark {\n",
       "                    --jp-widgets-color: white;\n",
       "                    --jp-widgets-label-color: white;\n",
       "                    --jp-ui-font-color1: white;\n",
       "                    --jp-layout-color2: #454545;\n",
       "                    background-color: #383838;\n",
       "                }\n",
       "\n",
       "                .geemap-dark .jupyter-button {\n",
       "                    --jp-layout-color3: #383838;\n",
       "                }\n",
       "\n",
       "                .geemap-colab {\n",
       "                    background-color: var(--colab-primary-surface-color, white);\n",
       "                }\n",
       "\n",
       "                .geemap-colab .jupyter-button {\n",
       "                    --jp-layout-color3: var(--colab-primary-surface-color, white);\n",
       "                }\n",
       "            </style>\n",
       "            "
      ],
      "text/plain": [
       "<IPython.core.display.HTML object>"
      ]
     },
     "metadata": {},
     "output_type": "display_data"
    }
   ],
   "source": [
    "region = Map.user_roi\n",
    "if region is None:\n",
    "    region = ee.Geometry.BBox(-88.40, 29.88, -77.90, 35.39)\n",
    "\n",
    "fc = ee.FeatureCollection('TIGER/2018/States').filterBounds(region)\n",
    "Map.addLayer(fc, {}, 'Southeastern U.S.')\n",
    "Map.centerObject(fc)\n",
    "\n",
    "# Map desplayed above"
   ]
  },
  {
   "cell_type": "code",
   "execution_count": 60,
   "metadata": {},
   "outputs": [
    {
     "data": {
      "text/html": [
       "\n",
       "            <style>\n",
       "                .geemap-dark {\n",
       "                    --jp-widgets-color: white;\n",
       "                    --jp-widgets-label-color: white;\n",
       "                    --jp-ui-font-color1: white;\n",
       "                    --jp-layout-color2: #454545;\n",
       "                    background-color: #383838;\n",
       "                }\n",
       "\n",
       "                .geemap-dark .jupyter-button {\n",
       "                    --jp-layout-color3: #383838;\n",
       "                }\n",
       "\n",
       "                .geemap-colab {\n",
       "                    background-color: var(--colab-primary-surface-color, white);\n",
       "                }\n",
       "\n",
       "                .geemap-colab .jupyter-button {\n",
       "                    --jp-layout-color3: var(--colab-primary-surface-color, white);\n",
       "                }\n",
       "            </style>\n",
       "            "
      ],
      "text/plain": [
       "<IPython.core.display.HTML object>"
      ]
     },
     "metadata": {},
     "output_type": "display_data"
    },
    {
     "data": {
      "application/vnd.jupyter.widget-view+json": {
       "model_id": "fe05f37fb94345638f07d6d409d86048",
       "version_major": 2,
       "version_minor": 0
      },
      "text/plain": [
       "Map(center=[40, -100], controls=(WidgetControl(options=['position', 'transparent_bg'], widget=SearchDataGUI(ch…"
      ]
     },
     "execution_count": 60,
     "metadata": {},
     "output_type": "execute_result"
    }
   ],
   "source": [
    "Map = geemap.Map(center=[40, -100], zoom=4)\n",
    "states = ee.FeatureCollection(\"TIGER/2018/States\")\n",
    "Map.addLayer(states, {}, \"US States\")\n",
    "Map"
   ]
  },
  {
   "cell_type": "code",
   "execution_count": 61,
   "metadata": {},
   "outputs": [
    {
     "data": {
      "text/html": [
       "\n",
       "            <style>\n",
       "                .geemap-dark {\n",
       "                    --jp-widgets-color: white;\n",
       "                    --jp-widgets-label-color: white;\n",
       "                    --jp-ui-font-color1: white;\n",
       "                    --jp-layout-color2: #454545;\n",
       "                    background-color: #383838;\n",
       "                }\n",
       "\n",
       "                .geemap-dark .jupyter-button {\n",
       "                    --jp-layout-color3: #383838;\n",
       "                }\n",
       "\n",
       "                .geemap-colab {\n",
       "                    background-color: var(--colab-primary-surface-color, white);\n",
       "                }\n",
       "\n",
       "                .geemap-colab .jupyter-button {\n",
       "                    --jp-layout-color3: var(--colab-primary-surface-color, white);\n",
       "                }\n",
       "            </style>\n",
       "            "
      ],
      "text/plain": [
       "<IPython.core.display.HTML object>"
      ]
     },
     "metadata": {},
     "output_type": "display_data"
    },
    {
     "data": {
      "application/vnd.jupyter.widget-view+json": {
       "model_id": "ca1df9c645b44f47b9ef4005e9312f31",
       "version_major": 2,
       "version_minor": 0
      },
      "text/plain": [
       "Map(center=[40, -100], controls=(WidgetControl(options=['position', 'transparent_bg'], widget=SearchDataGUI(ch…"
      ]
     },
     "execution_count": 61,
     "metadata": {},
     "output_type": "execute_result"
    }
   ],
   "source": [
    "Map = geemap.Map(center=[40, -100], zoom=4)\n",
    "states = ee.FeatureCollection(\"TIGER/2018/States\")\n",
    "image = ee.Image().paint(states, 0, 3)\n",
    "Map.addLayer(image, {'palette': 'red'}, \"US States\")\n",
    "Map"
   ]
  },
  {
   "cell_type": "code",
   "execution_count": 62,
   "metadata": {},
   "outputs": [
    {
     "data": {
      "text/html": [
       "\n",
       "            <style>\n",
       "                .geemap-dark {\n",
       "                    --jp-widgets-color: white;\n",
       "                    --jp-widgets-label-color: white;\n",
       "                    --jp-ui-font-color1: white;\n",
       "                    --jp-layout-color2: #454545;\n",
       "                    background-color: #383838;\n",
       "                }\n",
       "\n",
       "                .geemap-dark .jupyter-button {\n",
       "                    --jp-layout-color3: #383838;\n",
       "                }\n",
       "\n",
       "                .geemap-colab {\n",
       "                    background-color: var(--colab-primary-surface-color, white);\n",
       "                }\n",
       "\n",
       "                .geemap-colab .jupyter-button {\n",
       "                    --jp-layout-color3: var(--colab-primary-surface-color, white);\n",
       "                }\n",
       "            </style>\n",
       "            "
      ],
      "text/plain": [
       "<IPython.core.display.HTML object>"
      ]
     },
     "metadata": {},
     "output_type": "display_data"
    },
    {
     "data": {
      "application/vnd.jupyter.widget-view+json": {
       "model_id": "4c9f680f3ce24bfebc072c1a888a364f",
       "version_major": 2,
       "version_minor": 0
      },
      "text/plain": [
       "Map(center=[40, -100], controls=(WidgetControl(options=['position', 'transparent_bg'], widget=SearchDataGUI(ch…"
      ]
     },
     "execution_count": 62,
     "metadata": {},
     "output_type": "execute_result"
    }
   ],
   "source": [
    "Map = geemap.Map(center=[40, -100], zoom=4)\n",
    "states = ee.FeatureCollection(\"TIGER/2018/States\")\n",
    "style = {'color': '0000ffff', 'width': 2, 'lineType': 'solid', 'fillColor': 'FF000080'}\n",
    "Map.addLayer(states.style(**style), {}, \"US States\")\n",
    "Map"
   ]
  },
  {
   "cell_type": "code",
   "execution_count": 63,
   "metadata": {},
   "outputs": [
    {
     "data": {
      "text/html": [
       "\n",
       "            <style>\n",
       "                .geemap-dark {\n",
       "                    --jp-widgets-color: white;\n",
       "                    --jp-widgets-label-color: white;\n",
       "                    --jp-ui-font-color1: white;\n",
       "                    --jp-layout-color2: #454545;\n",
       "                    background-color: #383838;\n",
       "                }\n",
       "\n",
       "                .geemap-dark .jupyter-button {\n",
       "                    --jp-layout-color3: #383838;\n",
       "                }\n",
       "\n",
       "                .geemap-colab {\n",
       "                    background-color: var(--colab-primary-surface-color, white);\n",
       "                }\n",
       "\n",
       "                .geemap-colab .jupyter-button {\n",
       "                    --jp-layout-color3: var(--colab-primary-surface-color, white);\n",
       "                }\n",
       "            </style>\n",
       "            "
      ],
      "text/plain": [
       "<IPython.core.display.HTML object>"
      ]
     },
     "metadata": {},
     "output_type": "display_data"
    },
    {
     "data": {
      "application/vnd.jupyter.widget-view+json": {
       "model_id": "dfc710c8c0a84891b04b22708f7765ac",
       "version_major": 2,
       "version_minor": 0
      },
      "text/plain": [
       "Map(center=[40, -100], controls=(WidgetControl(options=['position', 'transparent_bg'], widget=SearchDataGUI(ch…"
      ]
     },
     "execution_count": 63,
     "metadata": {},
     "output_type": "execute_result"
    }
   ],
   "source": [
    "Map = geemap.Map(center=[40, -100], zoom=4)\n",
    "states = ee.FeatureCollection(\"TIGER/2018/States\")\n",
    "vis_params = {\n",
    "    'color': '000000',\n",
    "    'colorOpacity': 1,\n",
    "    'pointSize': 3,\n",
    "    'pointShape': 'circle',\n",
    "    'width': 2,\n",
    "    'lineType': 'solid',\n",
    "    'fillColorOpacity': 0.66,\n",
    "}\n",
    "palette = ['006633', 'E5FFCC', '662A00', 'D8D8D8', 'F5F5F5']\n",
    "Map.add_styled_vector(\n",
    "    states, column=\"NAME\", palette=palette, layer_name=\"Styled vector\", **vis_params\n",
    ")\n",
    "Map"
   ]
  },
  {
   "cell_type": "code",
   "execution_count": null,
   "metadata": {},
   "outputs": [
    {
     "data": {
      "text/html": [
       "\n",
       "            <style>\n",
       "                .geemap-dark {\n",
       "                    --jp-widgets-color: white;\n",
       "                    --jp-widgets-label-color: white;\n",
       "                    --jp-ui-font-color1: white;\n",
       "                    --jp-layout-color2: #454545;\n",
       "                    background-color: #383838;\n",
       "                }\n",
       "\n",
       "                .geemap-dark .jupyter-button {\n",
       "                    --jp-layout-color3: #383838;\n",
       "                }\n",
       "\n",
       "                .geemap-colab {\n",
       "                    background-color: var(--colab-primary-surface-color, white);\n",
       "                }\n",
       "\n",
       "                .geemap-colab .jupyter-button {\n",
       "                    --jp-layout-color3: var(--colab-primary-surface-color, white);\n",
       "                }\n",
       "            </style>\n",
       "            "
      ],
      "text/plain": [
       "<IPython.core.display.HTML object>"
      ]
     },
     "metadata": {},
     "output_type": "display_data"
    },
    {
     "data": {
      "application/vnd.jupyter.widget-view+json": {
       "model_id": "af5f90a815a74c5d9a1dd75c478f8d02",
       "version_major": 2,
       "version_minor": 0
      },
      "text/plain": [
       "Map(center=[28.00142, -81.7424], controls=(WidgetControl(options=['position', 'transparent_bg'], widget=Search…"
      ]
     },
     "execution_count": 65,
     "metadata": {},
     "output_type": "execute_result"
    }
   ],
   "source": [
    "Map = geemap.Map(center=[28.00142, -81.7424], zoom=13)\n",
    "Map.add_basemap('HYBRID')\n",
    "\n",
    "types = [\n",
    "    \"Freshwater Forested/Shrub Wetland\",\n",
    "    \"Freshwater Emergent Wetland\",\n",
    "    \"Freshwater Pond\",\n",
    "    \"Estuarine and Marine Wetland\",\n",
    "    \"Riverine\",\n",
    "    \"Lake\",\n",
    "    \"Estuarine and Marine Deepwater\",\n",
    "    \"Other\",\n",
    "]\n",
    "\n",
    "colors = [\n",
    "    \"#008837\",\n",
    "    \"#7FC31C\",\n",
    "    \"#688CC0\",\n",
    "    \"#66C2A5\",\n",
    "    \"#0190BF\",\n",
    "    \"#13007C\",\n",
    "    \"#007C88\",\n",
    "    \"#B28653\",\n",
    "]\n",
    "\n",
    "fillColor = [c + \"A8\" for c in colors]\n",
    "\n",
    "fc = ee.FeatureCollection(\"projects/sat-io/open-datasets/NWI/wetlands/FL_Wetlands\")\n",
    "styled_fc = geemap.ee_vector_style(\n",
    "    fc, column='WETLAND_TY', labels=types, fillColor=fillColor, color='00000000'\n",
    ")\n",
    "\n",
    "Map.addLayer(styled_fc, {}, 'NWI')\n",
    "Map.add_legend(title='Wetland Type', labels=types, colors=colors)\n",
    "Map\n"
   ]
  },
  {
   "cell_type": "code",
   "execution_count": 68,
   "metadata": {},
   "outputs": [
    {
     "data": {
      "text/html": [
       "\n",
       "            <style>\n",
       "                .geemap-dark {\n",
       "                    --jp-widgets-color: white;\n",
       "                    --jp-widgets-label-color: white;\n",
       "                    --jp-ui-font-color1: white;\n",
       "                    --jp-layout-color2: #454545;\n",
       "                    background-color: #383838;\n",
       "                }\n",
       "\n",
       "                .geemap-dark .jupyter-button {\n",
       "                    --jp-layout-color3: #383838;\n",
       "                }\n",
       "\n",
       "                .geemap-colab {\n",
       "                    background-color: var(--colab-primary-surface-color, white);\n",
       "                }\n",
       "\n",
       "                .geemap-colab .jupyter-button {\n",
       "                    --jp-layout-color3: var(--colab-primary-surface-color, white);\n",
       "                }\n",
       "            </style>\n",
       "            "
      ],
      "text/plain": [
       "<IPython.core.display.HTML object>"
      ]
     },
     "metadata": {},
     "output_type": "display_data"
    }
   ],
   "source": [
    "Map.save('geemap.pdf')"
   ]
  },
  {
   "cell_type": "code",
   "execution_count": 70,
   "metadata": {},
   "outputs": [
    {
     "data": {
      "text/html": [
       "\n",
       "            <style>\n",
       "                .geemap-dark {\n",
       "                    --jp-widgets-color: white;\n",
       "                    --jp-widgets-label-color: white;\n",
       "                    --jp-ui-font-color1: white;\n",
       "                    --jp-layout-color2: #454545;\n",
       "                    background-color: #383838;\n",
       "                }\n",
       "\n",
       "                .geemap-dark .jupyter-button {\n",
       "                    --jp-layout-color3: #383838;\n",
       "                }\n",
       "\n",
       "                .geemap-colab {\n",
       "                    background-color: var(--colab-primary-surface-color, white);\n",
       "                }\n",
       "\n",
       "                .geemap-colab .jupyter-button {\n",
       "                    --jp-layout-color3: var(--colab-primary-surface-color, white);\n",
       "                }\n",
       "            </style>\n",
       "            "
      ],
      "text/plain": [
       "<IPython.core.display.HTML object>"
      ]
     },
     "metadata": {},
     "output_type": "display_data"
    },
    {
     "data": {
      "application/vnd.jupyter.widget-view+json": {
       "model_id": "82f24b3861a148f6889367d88c5d4b75",
       "version_major": 2,
       "version_minor": 0
      },
      "text/plain": [
       "Map(center=[40, -100], controls=(WidgetControl(options=['position', 'transparent_bg'], widget=SearchDataGUI(ch…"
      ]
     },
     "execution_count": 70,
     "metadata": {},
     "output_type": "execute_result"
    }
   ],
   "source": [
    "fuels = [\n",
    "    'Coal',\n",
    "    'Oil',\n",
    "    'Gas',\n",
    "    'Hydro',\n",
    "    'Nuclear',\n",
    "    'Solar',\n",
    "    'Waste',\n",
    "    'Wind',\n",
    "    'Geothermal',\n",
    "    'Biomass',\n",
    "]\n",
    "colors = [\n",
    "    '000000',\n",
    "    '593704',\n",
    "    'BC80BD',\n",
    "    '0565A6',\n",
    "    'E31A1C',\n",
    "    'FF7F00',\n",
    "    '6A3D9A',\n",
    "    '5CA2D1',\n",
    "    'FDBF6F',\n",
    "    '229A00',\n",
    "]\n",
    "\n",
    "fc = ee.FeatureCollection(\"WRI/GPPD/power_plants\").filter(\n",
    "    ee.Filter.inList('fuel1', fuels)\n",
    ")\n",
    "styled_fc = geemap.ee_vector_style(fc, column=\"fuel1\", labels=fuels, color=colors)\n",
    "\n",
    "Map = geemap.Map(center=[40, -100], zoom=4)\n",
    "Map.addLayer(styled_fc, {}, 'Power Plants')\n",
    "Map.add_legend(title=\"Power Plant Fuel Type\", labels=fuels, colors=colors)\n",
    "Map\n",
    "\n"
   ]
  },
  {
   "cell_type": "code",
   "execution_count": 72,
   "metadata": {},
   "outputs": [
    {
     "data": {
      "text/html": [
       "\n",
       "            <style>\n",
       "                .geemap-dark {\n",
       "                    --jp-widgets-color: white;\n",
       "                    --jp-widgets-label-color: white;\n",
       "                    --jp-ui-font-color1: white;\n",
       "                    --jp-layout-color2: #454545;\n",
       "                    background-color: #383838;\n",
       "                }\n",
       "\n",
       "                .geemap-dark .jupyter-button {\n",
       "                    --jp-layout-color3: #383838;\n",
       "                }\n",
       "\n",
       "                .geemap-colab {\n",
       "                    background-color: var(--colab-primary-surface-color, white);\n",
       "                }\n",
       "\n",
       "                .geemap-colab .jupyter-button {\n",
       "                    --jp-layout-color3: var(--colab-primary-surface-color, white);\n",
       "                }\n",
       "            </style>\n",
       "            "
      ],
      "text/plain": [
       "<IPython.core.display.HTML object>"
      ]
     },
     "metadata": {},
     "output_type": "display_data"
    },
    {
     "data": {
      "application/vnd.jupyter.widget-view+json": {
       "model_id": "f3c506fc09c14294a92a149c3dd51e46",
       "version_major": 2,
       "version_minor": 0
      },
      "text/plain": [
       "Map(center=[40.7424, -73.9724], controls=(WidgetControl(options=['position', 'transparent_bg'], widget=SearchD…"
      ]
     },
     "execution_count": 72,
     "metadata": {},
     "output_type": "execute_result"
    }
   ],
   "source": [
    "types = ['I', 'U', 'S', 'M', 'C', 'O']\n",
    "labels = ['Interstate', 'U.S.', 'State recognized', 'Common Name', 'County', 'Other']\n",
    "colors = ['E31A1C', 'FF7F00', '6A3D9A', '000000', 'FDBF6F', '229A00']\n",
    "width = [8, 5, 4, 2, 1, 1]\n",
    "\n",
    "fc = ee.FeatureCollection('TIGER/2016/Roads')\n",
    "styled_fc = geemap.ee_vector_style(\n",
    "    fc, column='rttyp', labels=types, color=colors, width=width\n",
    ")\n",
    "\n",
    "Map = geemap.Map(center=[40.7424, -73.9724], zoom=13)\n",
    "Map.addLayer(styled_fc, {}, 'Census Roads')\n",
    "Map.add_legend(title='Route Type', labels=labels, colors=colors)\n",
    "Map\n"
   ]
  },
  {
   "cell_type": "markdown",
   "metadata": {},
   "source": [
    " ## Earth Engine Data Catalog\n",
    "####  Searching for datasets"
   ]
  },
  {
   "cell_type": "code",
   "execution_count": 73,
   "metadata": {},
   "outputs": [
    {
     "data": {
      "text/html": [
       "\n",
       "            <style>\n",
       "                .geemap-dark {\n",
       "                    --jp-widgets-color: white;\n",
       "                    --jp-widgets-label-color: white;\n",
       "                    --jp-ui-font-color1: white;\n",
       "                    --jp-layout-color2: #454545;\n",
       "                    background-color: #383838;\n",
       "                }\n",
       "\n",
       "                .geemap-dark .jupyter-button {\n",
       "                    --jp-layout-color3: #383838;\n",
       "                }\n",
       "\n",
       "                .geemap-colab {\n",
       "                    background-color: var(--colab-primary-surface-color, white);\n",
       "                }\n",
       "\n",
       "                .geemap-colab .jupyter-button {\n",
       "                    --jp-layout-color3: var(--colab-primary-surface-color, white);\n",
       "                }\n",
       "            </style>\n",
       "            "
      ],
      "text/plain": [
       "<IPython.core.display.HTML object>"
      ]
     },
     "metadata": {},
     "output_type": "display_data"
    },
    {
     "data": {
      "application/vnd.jupyter.widget-view+json": {
       "model_id": "e1bcf239286f4155b7d9ecbde0c75f92",
       "version_major": 2,
       "version_minor": 0
      },
      "text/plain": [
       "Map(center=[0, 0], controls=(WidgetControl(options=['position', 'transparent_bg'], widget=SearchDataGUI(childr…"
      ]
     },
     "execution_count": 73,
     "metadata": {},
     "output_type": "execute_result"
    }
   ],
   "source": [
    "dataset_xyz = ee.Image('USGS/SRTMGL1_003')\n",
    "Map.addLayer(dataset_xyz, {}, \"USGS/SRTMGL1_003\")\n",
    "\n",
    "Map = geemap.Map()\n",
    "dem = ee.Image('USGS/SRTMGL1_003')\n",
    "vis_params = {\n",
    "    'min': 0,\n",
    "    'max': 4000,\n",
    "    'palette': ['006633', 'E5FFCC', '662A00', 'D8D8D8', 'F5F5F5'],\n",
    "}\n",
    "Map.addLayer(dem, vis_params, 'SRTM DEM')\n",
    "Map"
   ]
  },
  {
   "cell_type": "markdown",
   "metadata": {},
   "source": [
    "### Using the datasets module"
   ]
  },
  {
   "cell_type": "code",
   "execution_count": 75,
   "metadata": {},
   "outputs": [
    {
     "data": {
      "text/html": [
       "\n",
       "            <style>\n",
       "                .geemap-dark {\n",
       "                    --jp-widgets-color: white;\n",
       "                    --jp-widgets-label-color: white;\n",
       "                    --jp-ui-font-color1: white;\n",
       "                    --jp-layout-color2: #454545;\n",
       "                    background-color: #383838;\n",
       "                }\n",
       "\n",
       "                .geemap-dark .jupyter-button {\n",
       "                    --jp-layout-color3: #383838;\n",
       "                }\n",
       "\n",
       "                .geemap-colab {\n",
       "                    background-color: var(--colab-primary-surface-color, white);\n",
       "                }\n",
       "\n",
       "                .geemap-colab .jupyter-button {\n",
       "                    --jp-layout-color3: var(--colab-primary-surface-color, white);\n",
       "                }\n",
       "            </style>\n",
       "            "
      ],
      "text/plain": [
       "<IPython.core.display.HTML object>"
      ]
     },
     "metadata": {},
     "output_type": "display_data"
    },
    {
     "data": {
      "application/vnd.jupyter.widget-view+json": {
       "model_id": "4fa39ddc851244c38fbc7def3b30e319",
       "version_major": 2,
       "version_minor": 0
      },
      "text/plain": [
       "Map(center=[40, -100], controls=(WidgetControl(options=['position', 'transparent_bg'], widget=SearchDataGUI(ch…"
      ]
     },
     "execution_count": 75,
     "metadata": {},
     "output_type": "execute_result"
    }
   ],
   "source": [
    "from geemap.datasets import DATA \n",
    "Map = geemap.Map(center=[40, -100], zoom=4)\n",
    "dataset = ee.Image(DATA.USGS_GAP_CONUS_2011)\n",
    "Map.addLayer(dataset, {}, 'GAP CONUS')\n",
    "Map\n",
    "\n"
   ]
  },
  {
   "cell_type": "code",
   "execution_count": 76,
   "metadata": {},
   "outputs": [
    {
     "data": {
      "text/html": [
       "\n",
       "            <style>\n",
       "                .geemap-dark {\n",
       "                    --jp-widgets-color: white;\n",
       "                    --jp-widgets-label-color: white;\n",
       "                    --jp-ui-font-color1: white;\n",
       "                    --jp-layout-color2: #454545;\n",
       "                    background-color: #383838;\n",
       "                }\n",
       "\n",
       "                .geemap-dark .jupyter-button {\n",
       "                    --jp-layout-color3: #383838;\n",
       "                }\n",
       "\n",
       "                .geemap-colab {\n",
       "                    background-color: var(--colab-primary-surface-color, white);\n",
       "                }\n",
       "\n",
       "                .geemap-colab .jupyter-button {\n",
       "                    --jp-layout-color3: var(--colab-primary-surface-color, white);\n",
       "                }\n",
       "            </style>\n",
       "            "
      ],
      "text/plain": [
       "<IPython.core.display.HTML object>"
      ]
     },
     "metadata": {},
     "output_type": "display_data"
    },
    {
     "data": {
      "application/vnd.jupyter.widget-view+json": {
       "model_id": "8b09b4f4facf4637b352ac4a090bc988",
       "version_major": 2,
       "version_minor": 0
      },
      "text/plain": [
       "HTML(value='\\n            <html>\\n            <body>\\n                <h3>USGS GAP CONUS 2011</h3>\\n          …"
      ]
     },
     "metadata": {},
     "output_type": "display_data"
    }
   ],
   "source": [
    "from geemap.datasets import get_metadata\n",
    "\n",
    "get_metadata(DATA.USGS_GAP_CONUS_2011)"
   ]
  },
  {
   "cell_type": "code",
   "execution_count": 77,
   "metadata": {},
   "outputs": [
    {
     "data": {
      "text/html": [
       "\n",
       "            <style>\n",
       "                .geemap-dark {\n",
       "                    --jp-widgets-color: white;\n",
       "                    --jp-widgets-label-color: white;\n",
       "                    --jp-ui-font-color1: white;\n",
       "                    --jp-layout-color2: #454545;\n",
       "                    background-color: #383838;\n",
       "                }\n",
       "\n",
       "                .geemap-dark .jupyter-button {\n",
       "                    --jp-layout-color3: #383838;\n",
       "                }\n",
       "\n",
       "                .geemap-colab {\n",
       "                    background-color: var(--colab-primary-surface-color, white);\n",
       "                }\n",
       "\n",
       "                .geemap-colab .jupyter-button {\n",
       "                    --jp-layout-color3: var(--colab-primary-surface-color, white);\n",
       "                }\n",
       "            </style>\n",
       "            "
      ],
      "text/plain": [
       "<IPython.core.display.HTML object>"
      ]
     },
     "metadata": {},
     "output_type": "display_data"
    },
    {
     "data": {
      "text/html": [
       "<div><style>:root {\n",
       "  --font-color-primary: var(--jp-content-font-color0, rgba(0, 0, 0, 1));\n",
       "  --font-color-secondary: var(--jp-content-font-color2, rgba(0, 0, 0, 0.7));\n",
       "  --font-color-accent: rgba(123, 31, 162, 1);\n",
       "  --border-color: var(--jp-border-color2, #e0e0e0);\n",
       "  --background-color: var(--jp-layout-color0, white);\n",
       "  --background-color-row-even: var(--jp-layout-color1, white);\n",
       "  --background-color-row-odd: var(--jp-layout-color2, #eeeeee);\n",
       "}\n",
       "\n",
       "html[theme=\"dark\"],\n",
       "body[data-theme=\"dark\"],\n",
       "body.vscode-dark {\n",
       "  --font-color-primary: rgba(255, 255, 255, 1);\n",
       "  --font-color-secondary: rgba(255, 255, 255, 0.7);\n",
       "  --font-color-accent: rgb(173, 132, 190);\n",
       "  --border-color: #2e2e2e;\n",
       "  --background-color: #111111;\n",
       "  --background-color-row-even: #111111;\n",
       "  --background-color-row-odd: #313131;\n",
       "}\n",
       "\n",
       ".eerepr {\n",
       "  padding: 1em;\n",
       "  line-height: 1.5em;\n",
       "  min-width: 300px;\n",
       "  max-width: 1200px;\n",
       "  overflow-y: scroll;\n",
       "  max-height: 600px;\n",
       "  border: 1px solid var(--border-color);\n",
       "  font-family: monospace;\n",
       "  font-size: 14px;\n",
       "}\n",
       "\n",
       ".eerepr li {\n",
       "  list-style-type: none;\n",
       "  margin: 0;\n",
       "}\n",
       "\n",
       ".eerepr ul {\n",
       "  padding-left: 1.5em !important;\n",
       "  margin: 0;\n",
       "}\n",
       "\n",
       ".eerepr > ul {\n",
       "  padding-left: 0 !important;\n",
       "}\n",
       "\n",
       ".eerepr summary {\n",
       "  color: var(--font-color-secondary);\n",
       "  cursor: pointer;\n",
       "  margin: 0;\n",
       "}\n",
       "\n",
       ".eerepr summary:hover {\n",
       "  color: var(--font-color-primary);\n",
       "  background-color: var(--background-color-row-odd)\n",
       "}\n",
       "\n",
       ".ee-k {\n",
       "  color: var(--font-color-accent);\n",
       "  margin-right: 6px;\n",
       "}\n",
       "\n",
       ".ee-v {\n",
       "  color: var(--font-color-primary);\n",
       "}\n",
       "\n",
       ".eerepr details > summary::before {\n",
       "  content: '▼';\n",
       "  display: inline-block;\n",
       "  margin-right: 6px;\n",
       "  transition: transform 0.2s;\n",
       "  transform: rotate(-90deg);\n",
       "}\n",
       "\n",
       ".eerepr details[open] > summary::before {\n",
       "  transform: rotate(0deg);\n",
       "}\n",
       "\n",
       ".eerepr details summary::-webkit-details-marker {\n",
       "  display:none;\n",
       "}\n",
       "\n",
       ".eerepr details summary {\n",
       "  list-style-type: none;\n",
       "}\n",
       "</style><div class='eerepr'><ul><li><details><summary>Object (19 properties)</summary><ul><li><span class='ee-k'>QA_PIXEL:</span><span class='ee-v'>21762</span></li><li><span class='ee-k'>QA_RADSAT:</span><span class='ee-v'>0</span></li><li><span class='ee-k'>SR_B1:</span><span class='ee-v'>1</span></li><li><span class='ee-k'>SR_B2:</span><span class='ee-v'>8</span></li><li><span class='ee-k'>SR_B3:</span><span class='ee-v'>288</span></li><li><span class='ee-k'>SR_B4:</span><span class='ee-v'>481</span></li><li><span class='ee-k'>SR_B5:</span><span class='ee-v'>3410</span></li><li><span class='ee-k'>SR_B6:</span><span class='ee-v'>6302</span></li><li><span class='ee-k'>SR_B7:</span><span class='ee-v'>7095</span></li><li><span class='ee-k'>SR_QA_AEROSOL:</span><span class='ee-v'>1</span></li><li><span class='ee-k'>ST_ATRAN:</span><span class='ee-v'>8821</span></li><li><span class='ee-k'>ST_B10:</span><span class='ee-v'>36413</span></li><li><span class='ee-k'>ST_CDIST:</span><span class='ee-v'>0</span></li><li><span class='ee-k'>ST_DRAD:</span><span class='ee-v'>170</span></li><li><span class='ee-k'>ST_EMIS:</span><span class='ee-v'>8373</span></li><li><span class='ee-k'>ST_EMSD:</span><span class='ee-v'>0</span></li><li><span class='ee-k'>ST_QA:</span><span class='ee-v'>134</span></li><li><span class='ee-k'>ST_TRAD:</span><span class='ee-v'>5991</span></li><li><span class='ee-k'>ST_URAD:</span><span class='ee-v'>294</span></li></ul></details></li></ul></div></div>"
      ],
      "text/plain": [
       "<ee.dictionary.Dictionary at 0x2d22e098410>"
      ]
     },
     "execution_count": 77,
     "metadata": {},
     "output_type": "execute_result"
    }
   ],
   "source": [
    "image = ee.Image('LANDSAT/LC09/C02/T1_L2/LC09_044034_20220503')\n",
    "geemap.image_min_value(image)"
   ]
  },
  {
   "cell_type": "code",
   "execution_count": 78,
   "metadata": {},
   "outputs": [
    {
     "data": {
      "text/html": [
       "\n",
       "            <style>\n",
       "                .geemap-dark {\n",
       "                    --jp-widgets-color: white;\n",
       "                    --jp-widgets-label-color: white;\n",
       "                    --jp-ui-font-color1: white;\n",
       "                    --jp-layout-color2: #454545;\n",
       "                    background-color: #383838;\n",
       "                }\n",
       "\n",
       "                .geemap-dark .jupyter-button {\n",
       "                    --jp-layout-color3: #383838;\n",
       "                }\n",
       "\n",
       "                .geemap-colab {\n",
       "                    background-color: var(--colab-primary-surface-color, white);\n",
       "                }\n",
       "\n",
       "                .geemap-colab .jupyter-button {\n",
       "                    --jp-layout-color3: var(--colab-primary-surface-color, white);\n",
       "                }\n",
       "            </style>\n",
       "            "
      ],
      "text/plain": [
       "<IPython.core.display.HTML object>"
      ]
     },
     "metadata": {},
     "output_type": "display_data"
    },
    {
     "data": {
      "text/html": [
       "<div><style>:root {\n",
       "  --font-color-primary: var(--jp-content-font-color0, rgba(0, 0, 0, 1));\n",
       "  --font-color-secondary: var(--jp-content-font-color2, rgba(0, 0, 0, 0.7));\n",
       "  --font-color-accent: rgba(123, 31, 162, 1);\n",
       "  --border-color: var(--jp-border-color2, #e0e0e0);\n",
       "  --background-color: var(--jp-layout-color0, white);\n",
       "  --background-color-row-even: var(--jp-layout-color1, white);\n",
       "  --background-color-row-odd: var(--jp-layout-color2, #eeeeee);\n",
       "}\n",
       "\n",
       "html[theme=\"dark\"],\n",
       "body[data-theme=\"dark\"],\n",
       "body.vscode-dark {\n",
       "  --font-color-primary: rgba(255, 255, 255, 1);\n",
       "  --font-color-secondary: rgba(255, 255, 255, 0.7);\n",
       "  --font-color-accent: rgb(173, 132, 190);\n",
       "  --border-color: #2e2e2e;\n",
       "  --background-color: #111111;\n",
       "  --background-color-row-even: #111111;\n",
       "  --background-color-row-odd: #313131;\n",
       "}\n",
       "\n",
       ".eerepr {\n",
       "  padding: 1em;\n",
       "  line-height: 1.5em;\n",
       "  min-width: 300px;\n",
       "  max-width: 1200px;\n",
       "  overflow-y: scroll;\n",
       "  max-height: 600px;\n",
       "  border: 1px solid var(--border-color);\n",
       "  font-family: monospace;\n",
       "  font-size: 14px;\n",
       "}\n",
       "\n",
       ".eerepr li {\n",
       "  list-style-type: none;\n",
       "  margin: 0;\n",
       "}\n",
       "\n",
       ".eerepr ul {\n",
       "  padding-left: 1.5em !important;\n",
       "  margin: 0;\n",
       "}\n",
       "\n",
       ".eerepr > ul {\n",
       "  padding-left: 0 !important;\n",
       "}\n",
       "\n",
       ".eerepr summary {\n",
       "  color: var(--font-color-secondary);\n",
       "  cursor: pointer;\n",
       "  margin: 0;\n",
       "}\n",
       "\n",
       ".eerepr summary:hover {\n",
       "  color: var(--font-color-primary);\n",
       "  background-color: var(--background-color-row-odd)\n",
       "}\n",
       "\n",
       ".ee-k {\n",
       "  color: var(--font-color-accent);\n",
       "  margin-right: 6px;\n",
       "}\n",
       "\n",
       ".ee-v {\n",
       "  color: var(--font-color-primary);\n",
       "}\n",
       "\n",
       ".eerepr details > summary::before {\n",
       "  content: '▼';\n",
       "  display: inline-block;\n",
       "  margin-right: 6px;\n",
       "  transition: transform 0.2s;\n",
       "  transform: rotate(-90deg);\n",
       "}\n",
       "\n",
       ".eerepr details[open] > summary::before {\n",
       "  transform: rotate(0deg);\n",
       "}\n",
       "\n",
       ".eerepr details summary::-webkit-details-marker {\n",
       "  display:none;\n",
       "}\n",
       "\n",
       ".eerepr details summary {\n",
       "  list-style-type: none;\n",
       "}\n",
       "</style><div class='eerepr'><ul><li><details><summary>Object (5 properties)</summary><ul><li><details><summary>max: Object (19 properties)</summary><ul><li><span class='ee-k'>QA_PIXEL:</span><span class='ee-v'>54724</span></li><li><span class='ee-k'>QA_RADSAT:</span><span class='ee-v'>127</span></li><li><span class='ee-k'>SR_B1:</span><span class='ee-v'>53671</span></li><li><span class='ee-k'>SR_B2:</span><span class='ee-v'>54313</span></li><li><span class='ee-k'>SR_B3:</span><span class='ee-v'>57598</span></li><li><span class='ee-k'>SR_B4:</span><span class='ee-v'>57531</span></li><li><span class='ee-k'>SR_B5:</span><span class='ee-v'>56620</span></li><li><span class='ee-k'>SR_B6:</span><span class='ee-v'>59018</span></li><li><span class='ee-k'>SR_B7:</span><span class='ee-v'>60538</span></li><li><span class='ee-k'>SR_QA_AEROSOL:</span><span class='ee-v'>228</span></li><li><span class='ee-k'>ST_ATRAN:</span><span class='ee-v'>9516</span></li><li><span class='ee-k'>ST_B10:</span><span class='ee-v'>52088</span></li><li><span class='ee-k'>ST_CDIST:</span><span class='ee-v'>2706</span></li><li><span class='ee-k'>ST_DRAD:</span><span class='ee-v'>423</span></li><li><span class='ee-k'>ST_EMIS:</span><span class='ee-v'>9915</span></li><li><span class='ee-k'>ST_EMSD:</span><span class='ee-v'>1386</span></li><li><span class='ee-k'>ST_QA:</span><span class='ee-v'>1080</span></li><li><span class='ee-k'>ST_TRAD:</span><span class='ee-v'>12909</span></li><li><span class='ee-k'>ST_URAD:</span><span class='ee-v'>816</span></li></ul></details></li><li><details><summary>mean: Object (19 properties)</summary><ul><li><span class='ee-k'>QA_PIXEL:</span><span class='ee-v'>21879.582485157975</span></li><li><span class='ee-k'>QA_RADSAT:</span><span class='ee-v'>0.0009782714693413173</span></li><li><span class='ee-k'>SR_B1:</span><span class='ee-v'>8106.470085448682</span></li><li><span class='ee-k'>SR_B2:</span><span class='ee-v'>8468.419427025266</span></li><li><span class='ee-k'>SR_B3:</span><span class='ee-v'>9223.151225801032</span></li><li><span class='ee-k'>SR_B4:</span><span class='ee-v'>9296.388141346079</span></li><li><span class='ee-k'>SR_B5:</span><span class='ee-v'>12893.661721459826</span></li><li><span class='ee-k'>SR_B6:</span><span class='ee-v'>12154.766607392074</span></li><li><span class='ee-k'>SR_B7:</span><span class='ee-v'>10743.85779673911</span></li><li><span class='ee-k'>SR_QA_AEROSOL:</span><span class='ee-v'>142.78037298656628</span></li><li><span class='ee-k'>ST_ATRAN:</span><span class='ee-v'>9076.832979342675</span></li><li><span class='ee-k'>ST_B10:</span><span class='ee-v'>43469.09835478724</span></li><li><span class='ee-k'>ST_CDIST:</span><span class='ee-v'>623.4917774936905</span></li><li><span class='ee-k'>ST_DRAD:</span><span class='ee-v'>337.61523248709887</span></li><li><span class='ee-k'>ST_EMIS:</span><span class='ee-v'>9783.123568429475</span></li><li><span class='ee-k'>ST_EMSD:</span><span class='ee-v'>68.50100584608204</span></li><li><span class='ee-k'>ST_QA:</span><span class='ee-v'>245.07375957421797</span></li><li><span class='ee-k'>ST_TRAD:</span><span class='ee-v'>8969.484188961285</span></li><li><span class='ee-k'>ST_URAD:</span><span class='ee-v'>635.9221842108637</span></li></ul></details></li><li><details><summary>min: Object (19 properties)</summary><ul><li><span class='ee-k'>QA_PIXEL:</span><span class='ee-v'>21762</span></li><li><span class='ee-k'>QA_RADSAT:</span><span class='ee-v'>0</span></li><li><span class='ee-k'>SR_B1:</span><span class='ee-v'>1</span></li><li><span class='ee-k'>SR_B2:</span><span class='ee-v'>8</span></li><li><span class='ee-k'>SR_B3:</span><span class='ee-v'>288</span></li><li><span class='ee-k'>SR_B4:</span><span class='ee-v'>481</span></li><li><span class='ee-k'>SR_B5:</span><span class='ee-v'>3410</span></li><li><span class='ee-k'>SR_B6:</span><span class='ee-v'>6302</span></li><li><span class='ee-k'>SR_B7:</span><span class='ee-v'>7095</span></li><li><span class='ee-k'>SR_QA_AEROSOL:</span><span class='ee-v'>1</span></li><li><span class='ee-k'>ST_ATRAN:</span><span class='ee-v'>8821</span></li><li><span class='ee-k'>ST_B10:</span><span class='ee-v'>36413</span></li><li><span class='ee-k'>ST_CDIST:</span><span class='ee-v'>0</span></li><li><span class='ee-k'>ST_DRAD:</span><span class='ee-v'>170</span></li><li><span class='ee-k'>ST_EMIS:</span><span class='ee-v'>8373</span></li><li><span class='ee-k'>ST_EMSD:</span><span class='ee-v'>0</span></li><li><span class='ee-k'>ST_QA:</span><span class='ee-v'>134</span></li><li><span class='ee-k'>ST_TRAD:</span><span class='ee-v'>5991</span></li><li><span class='ee-k'>ST_URAD:</span><span class='ee-v'>294</span></li></ul></details></li><li><details><summary>std: Object (19 properties)</summary><ul><li><span class='ee-k'>QA_PIXEL:</span><span class='ee-v'>133.75874274225362</span></li><li><span class='ee-k'>QA_RADSAT:</span><span class='ee-v'>0.2975796439630119</span></li><li><span class='ee-k'>SR_B1:</span><span class='ee-v'>1012.7995725443706</span></li><li><span class='ee-k'>SR_B2:</span><span class='ee-v'>1123.8319902195828</span></li><li><span class='ee-k'>SR_B3:</span><span class='ee-v'>1454.3258164041206</span></li><li><span class='ee-k'>SR_B4:</span><span class='ee-v'>1869.8885579257776</span></li><li><span class='ee-k'>SR_B5:</span><span class='ee-v'>4589.26261279497</span></li><li><span class='ee-k'>SR_B6:</span><span class='ee-v'>3858.9883184752143</span></li><li><span class='ee-k'>SR_B7:</span><span class='ee-v'>2881.0559691495937</span></li><li><span class='ee-k'>SR_QA_AEROSOL:</span><span class='ee-v'>61.94884398741183</span></li><li><span class='ee-k'>ST_ATRAN:</span><span class='ee-v'>92.98190934064398</span></li><li><span class='ee-k'>ST_B10:</span><span class='ee-v'>3478.998367567858</span></li><li><span class='ee-k'>ST_CDIST:</span><span class='ee-v'>529.8731303027593</span></li><li><span class='ee-k'>ST_DRAD:</span><span class='ee-v'>33.62036656110546</span></li><li><span class='ee-k'>ST_EMIS:</span><span class='ee-v'>107.05602870685381</span></li><li><span class='ee-k'>ST_EMSD:</span><span class='ee-v'>79.16042073142427</span></li><li><span class='ee-k'>ST_QA:</span><span class='ee-v'>72.42216753950615</span></li><li><span class='ee-k'>ST_TRAD:</span><span class='ee-v'>1429.0743620273506</span></li><li><span class='ee-k'>ST_URAD:</span><span class='ee-v'>70.02211533198862</span></li></ul></details></li><li><details><summary>sum: Object (19 properties)</summary><ul><li><span class='ee-k'>QA_PIXEL:</span><span class='ee-v'>890677240627.3176</span></li><li><span class='ee-k'>QA_RADSAT:</span><span class='ee-v'>39864</span></li><li><span class='ee-k'>SR_B1:</span><span class='ee-v'>329978940368.58435</span></li><li><span class='ee-k'>SR_B2:</span><span class='ee-v'>344723899735.26666</span></li><li><span class='ee-k'>SR_B3:</span><span class='ee-v'>375457387692.7255</span></li><li><span class='ee-k'>SR_B4:</span><span class='ee-v'>378438726751.3647</span></li><li><span class='ee-k'>SR_B5:</span><span class='ee-v'>524877065247.5726</span></li><li><span class='ee-k'>SR_B6:</span><span class='ee-v'>494798014984.28235</span></li><li><span class='ee-k'>SR_B7:</span><span class='ee-v'>437362532972.61176</span></li><li><span class='ee-k'>SR_QA_AEROSOL:</span><span class='ee-v'>5818218119.525492</span></li><li><span class='ee-k'>ST_ATRAN:</span><span class='ee-v'>369607694287.48627</span></li><li><span class='ee-k'>ST_B10:</span><span class='ee-v'>1769544972607.8706</span></li><li><span class='ee-k'>ST_CDIST:</span><span class='ee-v'>25381194376.47451</span></li><li><span class='ee-k'>ST_DRAD:</span><span class='ee-v'>13747657131.058825</span></li><li><span class='ee-k'>ST_EMIS:</span><span class='ee-v'>398252500790.81573</span></li><li><span class='ee-k'>ST_EMSD:</span><span class='ee-v'>2788546694.117647</span></li><li><span class='ee-k'>ST_QA:</span><span class='ee-v'>9976490324.992157</span></li><li><span class='ee-k'>ST_TRAD:</span><span class='ee-v'>365236462715.0079</span></li><li><span class='ee-k'>ST_URAD:</span><span class='ee-v'>25894685160.270584</span></li></ul></details></li></ul></details></li></ul></div></div>"
      ],
      "text/plain": [
       "<ee.dictionary.Dictionary at 0x2d22e5883e0>"
      ]
     },
     "execution_count": 78,
     "metadata": {},
     "output_type": "execute_result"
    }
   ],
   "source": [
    "geemap.image_stats(image)"
   ]
  },
  {
   "cell_type": "code",
   "execution_count": 79,
   "metadata": {},
   "outputs": [
    {
     "data": {
      "text/html": [
       "\n",
       "            <style>\n",
       "                .geemap-dark {\n",
       "                    --jp-widgets-color: white;\n",
       "                    --jp-widgets-label-color: white;\n",
       "                    --jp-ui-font-color1: white;\n",
       "                    --jp-layout-color2: #454545;\n",
       "                    background-color: #383838;\n",
       "                }\n",
       "\n",
       "                .geemap-dark .jupyter-button {\n",
       "                    --jp-layout-color3: #383838;\n",
       "                }\n",
       "\n",
       "                .geemap-colab {\n",
       "                    background-color: var(--colab-primary-surface-color, white);\n",
       "                }\n",
       "\n",
       "                .geemap-colab .jupyter-button {\n",
       "                    --jp-layout-color3: var(--colab-primary-surface-color, white);\n",
       "                }\n",
       "            </style>\n",
       "            "
      ],
      "text/plain": [
       "<IPython.core.display.HTML object>"
      ]
     },
     "metadata": {},
     "output_type": "display_data"
    },
    {
     "data": {
      "application/vnd.jupyter.widget-view+json": {
       "model_id": "f3d206ac82c04edaa88b97ab79f80242",
       "version_major": 2,
       "version_minor": 0
      },
      "text/plain": [
       "Map(center=[40, -100], controls=(WidgetControl(options=['position', 'transparent_bg'], widget=SearchDataGUI(ch…"
      ]
     },
     "execution_count": 79,
     "metadata": {},
     "output_type": "execute_result"
    }
   ],
   "source": [
    "Map = geemap.Map(center=(40, -100), zoom=4)\n",
    "dem = ee.Image('USGS/SRTMGL1_003')\n",
    "landsat7 = ee.Image('LANDSAT/LE7_TOA_5YEAR/1999_2003').select(\n",
    "    ['B1', 'B2', 'B3', 'B4', 'B5', 'B7']\n",
    ")\n",
    "states = ee.FeatureCollection(\"TIGER/2018/States\")\n",
    "vis_params = {\n",
    "    'min': 0,\n",
    "    'max': 4000,\n",
    "    'palette': ['006633', 'E5FFCC', '662A00', 'D8D8D8', 'F5F5F5'],\n",
    "}\n",
    "Map.addLayer(dem, vis_params, 'SRTM DEM')\n",
    "Map.addLayer(\n",
    "    landsat7,\n",
    "    {'bands': ['B4', 'B3', 'B2'], 'min': 20, 'max': 200, 'gamma': 2.0},\n",
    "    'Landsat 7',\n",
    ")\n",
    "Map.addLayer(states, {}, \"US States\")\n",
    "Map"
   ]
  },
  {
   "cell_type": "code",
   "execution_count": 81,
   "metadata": {},
   "outputs": [
    {
     "data": {
      "text/html": [
       "\n",
       "            <style>\n",
       "                .geemap-dark {\n",
       "                    --jp-widgets-color: white;\n",
       "                    --jp-widgets-label-color: white;\n",
       "                    --jp-ui-font-color1: white;\n",
       "                    --jp-layout-color2: #454545;\n",
       "                    background-color: #383838;\n",
       "                }\n",
       "\n",
       "                .geemap-dark .jupyter-button {\n",
       "                    --jp-layout-color3: #383838;\n",
       "                }\n",
       "\n",
       "                .geemap-colab {\n",
       "                    background-color: var(--colab-primary-surface-color, white);\n",
       "                }\n",
       "\n",
       "                .geemap-colab .jupyter-button {\n",
       "                    --jp-layout-color3: var(--colab-primary-surface-color, white);\n",
       "                }\n",
       "            </style>\n",
       "            "
      ],
      "text/plain": [
       "<IPython.core.display.HTML object>"
      ]
     },
     "metadata": {},
     "output_type": "display_data"
    },
    {
     "name": "stderr",
     "output_type": "stream",
     "text": [
      "Downloading...\n",
      "From: https://raw.githubusercontent.com/gee-community/geemap/master/examples/data/countries.zip\n",
      "To: d:\\Personal_Projects\\Geospatial\\Other Tutorials\\countries.zip\n",
      "100%|██████████| 132k/132k [00:00<00:00, 735kB/s]\n"
     ]
    },
    {
     "name": "stdout",
     "output_type": "stream",
     "text": [
      "Extracting files...\n"
     ]
    },
    {
     "data": {
      "application/vnd.jupyter.widget-view+json": {
       "model_id": "ab9da9de9e354cf7ac7c0d688810943f",
       "version_major": 2,
       "version_minor": 0
      },
      "text/plain": [
       "Map(center=[0, 0], controls=(WidgetControl(options=['position', 'transparent_bg'], widget=SearchDataGUI(childr…"
      ]
     },
     "execution_count": 81,
     "metadata": {},
     "output_type": "execute_result"
    }
   ],
   "source": [
    "url = \"https://github.com/gee-community/geemap/blob/master/examples/data/countries.zip\"\n",
    "geemap.download_file(url)\n",
    "\n",
    "Map = geemap.Map()\n",
    "in_shp = \"countries.shp\"\n",
    "Map.add_shp(in_shp, layer_name=\"Countries\")\n",
    "Map"
   ]
  },
  {
   "cell_type": "code",
   "execution_count": null,
   "metadata": {},
   "outputs": [],
   "source": []
  }
 ],
 "metadata": {
  "kernelspec": {
   "display_name": "geo_ai",
   "language": "python",
   "name": "python3"
  },
  "language_info": {
   "codemirror_mode": {
    "name": "ipython",
    "version": 3
   },
   "file_extension": ".py",
   "mimetype": "text/x-python",
   "name": "python",
   "nbconvert_exporter": "python",
   "pygments_lexer": "ipython3",
   "version": "3.12.8"
  }
 },
 "nbformat": 4,
 "nbformat_minor": 2
}
