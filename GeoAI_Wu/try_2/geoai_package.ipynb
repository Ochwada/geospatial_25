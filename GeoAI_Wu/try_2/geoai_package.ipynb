{
 "cells": [
  {
   "cell_type": "code",
   "execution_count": 13,
   "metadata": {},
   "outputs": [],
   "source": [
    "import geoai\n",
    "import importlib\n",
    "import inspect\n",
    "import pkgutil\n",
    "import difflib"
   ]
  },
  {
   "cell_type": "code",
   "execution_count": 14,
   "metadata": {},
   "outputs": [
    {
     "name": "stdout",
     "output_type": "stream",
     "text": [
      "['Any', 'BuildingFootprintExtractor', 'CarDetector', 'CustomDataset', 'Dict', 'ET', 'Image', 'Iterable', 'List', 'MultiPolygon', 'NonGeoDataset', 'ObjectDetector', 'Optional', 'Path', 'Polygon', 'RandomRotation', 'RasterDataset', 'ShipDetector', 'T', 'Tuple', 'Union', 'Window', '__author__', '__builtins__', '__cached__', '__doc__', '__email__', '__file__', '__loader__', '__name__', '__package__', '__path__', '__spec__', '__version__', 'adaptive_regularization', 'add_geometric_properties', 'analyze_vector_attributes', 'batch_raster_to_vector', 'batch_vector_to_raster', 'box', 'calc_stats', 'clip_raster_by_bbox', 'create_overview_image', 'create_split_map', 'cv2', 'dict_to_image', 'dict_to_rioxarray', 'download', 'download_file', 'export_geotiff_tiles', 'export_tiles_to_geojson', 'export_training_data', 'extract', 'features', 'geoai', 'get_raster_info', 'get_raster_info_gdal', 'get_raster_stats', 'get_vector_info', 'get_vector_info_ogr', 'gpd', 'hf_hub_download', 'hybrid_regularization', 'install_package', 'json', 'leafmap', 'mapping', 'maskrcnn_resnet50_fpn', 'masks_to_vector', 'math', 'np', 'os', 'pd', 'plot_batch', 'plot_images', 'plot_masks', 'plt', 'print_raster_info', 'print_vector_info', 'raster_to_vector', 'rasterio', 'read_raster', 'read_vector', 'region_groups', 'regularization', 'requests', 'rotate', 'rxr', 'segmentation', 'set_proj_lib_path', 'shape', 'shapes', 'show', 'sys', 'temp_file_path', 'torch', 'torchgeo', 'tqdm', 'unbind_samples', 'utils', 'vector_to_raster', 'view_image', 'view_raster', 'view_vector', 'view_vector_interactive', 'visualize_vector_by_attribute', 'warnings', 'xr']\n",
      "0.3.3\n"
     ]
    }
   ],
   "source": [
    "print(dir(geoai))\n",
    "print(geoai.__version__)"
   ]
  },
  {
   "cell_type": "code",
   "execution_count": 15,
   "metadata": {},
   "outputs": [
    {
     "name": "stdout",
     "output_type": "stream",
     "text": [
      "✅ geoai.segmentation is available\n"
     ]
    }
   ],
   "source": [
    "# check if geoai.download is available\n",
    "import traceback\n",
    "\n",
    "try:\n",
    "    import geoai.segmentation\n",
    "    print(\"✅ geoai.segmentation is available\")\n",
    "except Exception:\n",
    "    print(\"❌ Error in geoai.segmentation:\")\n",
    "    traceback.print_exc()\n"
   ]
  },
  {
   "cell_type": "code",
   "execution_count": 16,
   "metadata": {},
   "outputs": [
    {
     "name": "stdout",
     "output_type": "stream",
     "text": [
      "Available submodules: ['geoai.download', 'geoai.extract', 'geoai.geoai', 'geoai.preprocess', 'geoai.segmentation', 'geoai.utils']\n"
     ]
    }
   ],
   "source": [
    "\n",
    "submodules = [module.name for module in pkgutil.walk_packages(geoai.__path__, geoai.__name__ + \".\")]\n",
    "print(\"Available submodules:\", submodules)"
   ]
  },
  {
   "cell_type": "code",
   "execution_count": 17,
   "metadata": {},
   "outputs": [
    {
     "name": "stdout",
     "output_type": "stream",
     "text": [
      "['Any', 'Client', 'Dict', 'List', 'Optional', 'Tuple', '__builtins__', '__cached__', '__doc__', '__file__', '__loader__', '__name__', '__package__', '__spec__', 'box', 'convert_vector_format', 'download_naip', 'download_overture_buildings', 'download_with_progress', 'extract_building_stats', 'gpd', 'json_serializable', 'logger', 'logging', 'np', 'os', 'pc', 'plt', 'preview_raster', 'requests', 'rioxarray', 'subprocess', 'tqdm']\n"
     ]
    }
   ],
   "source": [
    "import geoai.download\n",
    "print(dir(geoai.download))"
   ]
  },
  {
   "cell_type": "code",
   "execution_count": 19,
   "metadata": {},
   "outputs": [
    {
     "name": "stdout",
     "output_type": "stream",
     "text": [
      "['Any', 'BuildingFootprintExtractor', 'CarDetector', 'CustomDataset', 'Dict', 'ET', 'Image', 'Iterable', 'List', 'MultiPolygon', 'NonGeoDataset', 'ObjectDetector', 'Optional', 'Path', 'Polygon', 'RandomRotation', 'RasterDataset', 'ShipDetector', 'T', 'Tuple', 'Union', 'Window', '__builtins__', '__cached__', '__doc__', '__file__', '__loader__', '__name__', '__package__', '__spec__', 'adaptive_regularization', 'add_geometric_properties', 'analyze_vector_attributes', 'batch_raster_to_vector', 'batch_vector_to_raster', 'box', 'calc_stats', 'clip_raster_by_bbox', 'create_overview_image', 'create_split_map', 'cv2', 'dict_to_image', 'dict_to_rioxarray', 'download_file', 'export_geotiff_tiles', 'export_tiles_to_geojson', 'export_training_data', 'features', 'get_raster_info', 'get_raster_info_gdal', 'get_raster_stats', 'get_vector_info', 'get_vector_info_ogr', 'gpd', 'hf_hub_download', 'hybrid_regularization', 'install_package', 'json', 'leafmap', 'mapping', 'maskrcnn_resnet50_fpn', 'masks_to_vector', 'math', 'np', 'os', 'pd', 'plot_batch', 'plot_images', 'plot_masks', 'plt', 'print_raster_info', 'print_vector_info', 'raster_to_vector', 'rasterio', 'read_raster', 'read_vector', 'region_groups', 'regularization', 'requests', 'rotate', 'rxr', 'shape', 'shapes', 'show', 'temp_file_path', 'torch', 'torchgeo', 'tqdm', 'unbind_samples', 'vector_to_raster', 'view_image', 'view_raster', 'view_vector', 'view_vector_interactive', 'visualize_vector_by_attribute', 'warnings', 'xr']\n"
     ]
    }
   ],
   "source": [
    "print(dir(geoai.geoai))"
   ]
  },
  {
   "cell_type": "code",
   "execution_count": 20,
   "metadata": {},
   "outputs": [
    {
     "name": "stdout",
     "output_type": "stream",
     "text": [
      "['A', 'CustomDataset', 'Dataset', 'DefaultDataCollator', 'F', 'Image', 'SegformerForSemanticSegmentation', 'Subset', 'ToTensorV2', 'Trainer', 'TrainingArguments', '__builtins__', '__cached__', '__doc__', '__file__', '__loader__', '__name__', '__package__', '__spec__', 'get_transform', 'load_model', 'np', 'os', 'plt', 'predict_image', 'prepare_datasets', 'preprocess_image', 'segment_image', 'torch', 'train_model', 'train_test_split', 'visualize_predictions']\n"
     ]
    }
   ],
   "source": [
    "\n",
    "print(dir(geoai.segmentation))"
   ]
  },
  {
   "cell_type": "code",
   "execution_count": 22,
   "metadata": {},
   "outputs": [
    {
     "name": "stdout",
     "output_type": "stream",
     "text": [
      "['Any', 'BuildingFootprintExtractor', 'CarDetector', 'CustomDataset', 'Dict', 'ET', 'Image', 'Iterable', 'List', 'MultiPolygon', 'NonGeoDataset', 'ObjectDetector', 'Optional', 'Path', 'Polygon', 'RandomRotation', 'RasterDataset', 'ShipDetector', 'T', 'Tuple', 'Union', 'Window', '__author__', '__builtins__', '__cached__', '__doc__', '__email__', '__file__', '__loader__', '__name__', '__package__', '__path__', '__spec__', '__version__', 'adaptive_regularization', 'add_geometric_properties', 'analyze_vector_attributes', 'batch_raster_to_vector', 'batch_vector_to_raster', 'box', 'calc_stats', 'clip_raster_by_bbox', 'create_overview_image', 'create_split_map', 'cv2', 'dict_to_image', 'dict_to_rioxarray', 'download', 'download_file', 'export_geotiff_tiles', 'export_tiles_to_geojson', 'export_training_data', 'extract', 'features', 'geoai', 'get_raster_info', 'get_raster_info_gdal', 'get_raster_stats', 'get_vector_info', 'get_vector_info_ogr', 'gpd', 'hf_hub_download', 'hybrid_regularization', 'install_package', 'json', 'leafmap', 'mapping', 'maskrcnn_resnet50_fpn', 'masks_to_vector', 'math', 'np', 'os', 'pd', 'plot_batch', 'plot_images', 'plot_masks', 'plt', 'print_raster_info', 'print_vector_info', 'raster_to_vector', 'rasterio', 'read_raster', 'read_vector', 'region_groups', 'regularization', 'requests', 'rotate', 'rxr', 'segmentation', 'set_proj_lib_path', 'shape', 'shapes', 'show', 'sys', 'temp_file_path', 'torch', 'torchgeo', 'tqdm', 'unbind_samples', 'utils', 'vector_to_raster', 'view_image', 'view_raster', 'view_vector', 'view_vector_interactive', 'visualize_vector_by_attribute', 'warnings', 'xr']\n"
     ]
    }
   ],
   "source": [
    "print(dir(geoai))"
   ]
  },
  {
   "cell_type": "code",
   "execution_count": null,
   "metadata": {},
   "outputs": [],
   "source": [
    "print(dir(geoai))"
   ]
  },
  {
   "cell_type": "code",
   "execution_count": null,
   "metadata": {},
   "outputs": [],
   "source": [
    "def find_function_recursively(package_name, function_name, threshold=0.6):\n",
    "    \"\"\"\n",
    "    Recursively searches for a function inside all submodules (including deeply nested ones) of a given package.\n",
    "\n",
    "    Args:\n",
    "        package_name (str): The name of the package (e.g., \"geoai\").\n",
    "        function_name (str): The function to search for (e.g., \"create_split\").\n",
    "        threshold (float): Similarity threshold for fuzzy matching (0-1).\n",
    "\n",
    "    Returns:\n",
    "        tuple: (matched_function, submodule) where the function was found, or (None, None) if not found.\n",
    "    \"\"\"\n",
    "    try:\n",
    "        package = importlib.import_module(package_name)\n",
    "    except ImportError:\n",
    "        print(f\"❌ Package '{package_name}' not found. Make sure it's installed.\")\n",
    "        return None, None\n",
    "\n",
    "    def search_submodules(module_name):\n",
    "        \"\"\" Recursively search for function_name in all submodules of module_name. \"\"\"\n",
    "        try:\n",
    "            module = importlib.import_module(module_name)\n",
    "        except ImportError:\n",
    "            return None, None  # Skip modules that can't be imported\n",
    "\n",
    "        # Get all functions in the current module\n",
    "        functions = [name for name, obj in inspect.getmembers(module) if inspect.isfunction(obj)]\n",
    "        \n",
    "        # Find the closest match\n",
    "        close_matches = difflib.get_close_matches(function_name, functions, n=1, cutoff=threshold)\n",
    "        if close_matches:\n",
    "            print(f\"✅ Found '{close_matches[0]}' in {module_name}\")\n",
    "            return close_matches[0], module_name  # Function found!\n",
    "\n",
    "        # Recursively search deeper submodules\n",
    "        if hasattr(module, \"__path__\"):  # Only packages have __path__\n",
    "            submodules = [\n",
    "                mod.name for mod in pkgutil.walk_packages(module.__path__, module.__name__ + \".\")\n",
    "            ]\n",
    "            for submodule in submodules:\n",
    "                found_function, found_module = search_submodules(submodule)  # Recursive call\n",
    "                if found_function:\n",
    "                    return found_function, found_module  # Return first match found\n",
    "\n",
    "        return None, None  # Function not found in this module or submodules\n",
    "\n",
    "    print(f\"🔍 Searching for '{function_name}' in '{package_name}' (including nested submodules)...\")\n",
    "    result_function, result_module = search_submodules(package_name)\n",
    "\n",
    "    if result_function and result_module:\n",
    "        print(f\"✅ Function '{result_function}' found in {result_module}\")\n",
    "        return result_function, result_module\n",
    "    else:\n",
    "        print(f\"❌ No close match for '{function_name}' was found in '{package_name}'.\")\n",
    "        return None, None\n"
   ]
  },
  {
   "cell_type": "code",
   "execution_count": null,
   "metadata": {},
   "outputs": [],
   "source": [
    "module_function, module_found = find_function_recursively(\"geoai\", \"download\")\n",
    "\n",
    "if module_function and module_found:\n",
    "    exec(f\"from {module_found} import {module_function}\")\n",
    "    print(f\"✅ Successfully imported '{module_function}' from {module_found}\")\n",
    "else:\n",
    "    print(\"❌ Could not locate a matching function.\")\n"
   ]
  },
  {
   "cell_type": "code",
   "execution_count": null,
   "metadata": {},
   "outputs": [],
   "source": []
  }
 ],
 "metadata": {
  "kernelspec": {
   "display_name": "Python (geoai_wu)",
   "language": "python",
   "name": "geoai_wu"
  },
  "language_info": {
   "codemirror_mode": {
    "name": "ipython",
    "version": 3
   },
   "file_extension": ".py",
   "mimetype": "text/x-python",
   "name": "python",
   "nbconvert_exporter": "python",
   "pygments_lexer": "ipython3",
   "version": "3.13.2"
  }
 },
 "nbformat": 4,
 "nbformat_minor": 2
}
