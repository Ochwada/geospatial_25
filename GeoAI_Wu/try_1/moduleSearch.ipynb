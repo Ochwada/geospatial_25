{
 "cells": [
  {
   "cell_type": "code",
   "execution_count": 2,
   "metadata": {},
   "outputs": [
    {
     "name": "stdout",
     "output_type": "stream",
     "text": [
      "Available submodules: ['geoai.common', 'geoai.download', 'geoai.geoai', 'geoai.segmentation']\n"
     ]
    }
   ],
   "source": [
    "import pkgutil\n",
    "import geoai\n",
    "\n",
    "submodules = [module.name for module in pkgutil.walk_packages(geoai.__path__, geoai.__name__ + \".\")]\n",
    "print(\"Available submodules:\", submodules)"
   ]
  },
  {
   "cell_type": "code",
   "execution_count": 3,
   "metadata": {},
   "outputs": [],
   "source": [
    "import importlib\n",
    "import inspect\n",
    "import pkgutil\n",
    "\n",
    "def find_function_in_package(package_name, function_name):\n",
    "    \"\"\"\n",
    "    Searches for a function inside all submodules of a given package.\n",
    "\n",
    "    Args:\n",
    "        package_name (str): The name of the package (e.g., \"geoai\").\n",
    "        function_name (str): The function to search for (e.g., \"create_split_map\").\n",
    "\n",
    "    Returns:\n",
    "        str: The submodule where the function was found, or None if not found.\n",
    "    \"\"\"\n",
    "    try:\n",
    "        package = importlib.import_module(package_name)\n",
    "    except ImportError:\n",
    "        print(f\"❌ Package '{package_name}' not found. Make sure it's installed.\")\n",
    "        return None\n",
    "\n",
    "    submodules = [\n",
    "        module.name for module in pkgutil.walk_packages(package.__path__, package.__name__ + \".\")\n",
    "    ]\n",
    "\n",
    "    print(f\"🔍 Searching for '{function_name}' in {len(submodules)} submodules of '{package_name}'...\")\n",
    "\n",
    "    for submodule in submodules:\n",
    "        try:\n",
    "            mod = importlib.import_module(submodule)\n",
    "            functions = [name for name, obj in inspect.getmembers(mod) if inspect.isfunction(obj)]\n",
    "\n",
    "            if function_name in functions:\n",
    "                print(f\"✅ '{function_name}' found in {submodule}\")\n",
    "                return submodule  # Return the found submodule\n",
    "\n",
    "        except ImportError:\n",
    "            print(f\"⚠️ Skipping {submodule} (could not import)\")\n",
    "\n",
    "    print(f\"❌ '{function_name}' was NOT found in any submodule of '{package_name}'.\")\n",
    "    return None\n"
   ]
  },
  {
   "cell_type": "code",
   "execution_count": 4,
   "metadata": {},
   "outputs": [
    {
     "name": "stdout",
     "output_type": "stream",
     "text": [
      "🔍 Searching for 'create_split' in 4 submodules of 'geoai'...\n",
      "⚠️ Skipping geoai.download (could not import)\n",
      "❌ 'create_split' was NOT found in any submodule of 'geoai'.\n",
      "❌ Could not locate 'create_split_map'.\n"
     ]
    }
   ],
   "source": [
    "module_found = find_function_in_package(\"geoai\", \"create_split\")\n",
    "\n",
    "if module_found:\n",
    "    # Import the function dynamically\n",
    "    exec(f\"from {module_found} import create_split_map\")\n",
    "    print(f\"✅ Successfully imported 'create_split_map' from {module_found}\")\n",
    "else:\n",
    "    print(\"❌ Could not locate 'create_split_map'.\")\n"
   ]
  },
  {
   "cell_type": "code",
   "execution_count": null,
   "metadata": {},
   "outputs": [],
   "source": []
  }
 ],
 "metadata": {
  "kernelspec": {
   "display_name": "Python (geo_ai)",
   "language": "python",
   "name": "geo_ai"
  },
  "language_info": {
   "codemirror_mode": {
    "name": "ipython",
    "version": 3
   },
   "file_extension": ".py",
   "mimetype": "text/x-python",
   "name": "python",
   "nbconvert_exporter": "python",
   "pygments_lexer": "ipython3",
   "version": "3.13.2"
  }
 },
 "nbformat": 4,
 "nbformat_minor": 2
}
