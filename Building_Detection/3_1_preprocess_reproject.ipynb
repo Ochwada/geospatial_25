{
 "cells": [
  {
   "cell_type": "markdown",
   "id": "9225d31c-2de5-48d6-ba05-687b4cc527d2",
   "metadata": {},
   "source": [
    "### Applying normalization, resampling, and reprojection to Match SpaceNet 6 Resolution"
   ]
  },
  {
   "cell_type": "code",
   "execution_count": 1,
   "id": "53906324-2eca-4370-8f6c-23eff7d476ba",
   "metadata": {},
   "outputs": [],
   "source": [
    "import os\n",
    "import rasterio as ras\n",
    "from rasterio.warp import calculate_default_transform, reproject, Resampling"
   ]
  },
  {
   "cell_type": "code",
   "execution_count": 2,
   "id": "f7a5fbe0-17ff-41cd-9154-c443e16156c2",
   "metadata": {},
   "outputs": [],
   "source": [
    "# Define the directory containing .tif files (converted from jp2 to tiffs in 3_0)\n",
    "input_dop_folder = \"Z:/BuildingDetection/dopJP2_to_tiff_2\" \n",
    "output_dop_folder = \"Z:/BuildingDetection/dop_Reproject\"\n",
    "\n",
    "os.makedirs(output_dop_folder, exist_ok=True)  # Ensure the output folder exists"
   ]
  },
  {
   "cell_type": "code",
   "execution_count": 3,
   "id": "24989e1f-60cc-4aa2-8be5-4afcd23d8413",
   "metadata": {},
   "outputs": [],
   "source": [
    "target_crs = \"EPSG:4326\"\n",
    "\n",
    "# Get a sorted list of .tif files in the folder\n",
    "all_files = [f for f in os.listdir(input_dop_folder) if f.endswith((\".tif\", \".tiff\"))]"
   ]
  },
  {
   "cell_type": "code",
   "execution_count": 4,
   "id": "4b57e974-84b1-4555-8bcf-64d6f324f261",
   "metadata": {},
   "outputs": [
    {
     "name": "stdout",
     "output_type": "stream",
     "text": [
      "Processing file: Z:/BuildingDetection/dopJP2_to_tiff_2\\dop10rgbi_32_280_5652_1_nw_2023.tiff\n",
      "Input CRS: EPSG:25832, Bounds: BoundingBox(left=280000.0, bottom=5652000.0, right=281000.0, top=5653000.0)\n",
      "Reprojected and saved: Z:/BuildingDetection/dop_Reproject\\dop10rgbi_32_280_5652_1_nw_2023.tiff\n",
      "Processing file: Z:/BuildingDetection/dopJP2_to_tiff_2\\dop10rgbi_32_280_5653_1_nw_2023.tiff\n",
      "Input CRS: EPSG:25832, Bounds: BoundingBox(left=280000.0, bottom=5653000.0, right=281000.0, top=5654000.0)\n",
      "Reprojected and saved: Z:/BuildingDetection/dop_Reproject\\dop10rgbi_32_280_5653_1_nw_2023.tiff\n",
      "Processing file: Z:/BuildingDetection/dopJP2_to_tiff_2\\dop10rgbi_32_280_5654_1_nw_2023.tiff\n",
      "Input CRS: EPSG:25832, Bounds: BoundingBox(left=280000.0, bottom=5654000.0, right=281000.0, top=5655000.0)\n",
      "Reprojected and saved: Z:/BuildingDetection/dop_Reproject\\dop10rgbi_32_280_5654_1_nw_2023.tiff\n",
      "Processing file: Z:/BuildingDetection/dopJP2_to_tiff_2\\dop10rgbi_32_280_5655_1_nw_2023.tiff\n",
      "Input CRS: EPSG:25832, Bounds: BoundingBox(left=280000.0, bottom=5655000.0, right=281000.0, top=5656000.0)\n",
      "Reprojected and saved: Z:/BuildingDetection/dop_Reproject\\dop10rgbi_32_280_5655_1_nw_2023.tiff\n",
      "Processing file: Z:/BuildingDetection/dopJP2_to_tiff_2\\dop10rgbi_32_280_5656_1_nw_2023.tiff\n",
      "Input CRS: EPSG:25832, Bounds: BoundingBox(left=280000.0, bottom=5656000.0, right=281000.0, top=5657000.0)\n",
      "Reprojected and saved: Z:/BuildingDetection/dop_Reproject\\dop10rgbi_32_280_5656_1_nw_2023.tiff\n",
      "Processing file: Z:/BuildingDetection/dopJP2_to_tiff_2\\dop10rgbi_32_280_5657_1_nw_2023.tiff\n",
      "Input CRS: EPSG:25832, Bounds: BoundingBox(left=280000.0, bottom=5657000.0, right=281000.0, top=5658000.0)\n",
      "Reprojected and saved: Z:/BuildingDetection/dop_Reproject\\dop10rgbi_32_280_5657_1_nw_2023.tiff\n",
      "Processing file: Z:/BuildingDetection/dopJP2_to_tiff_2\\dop10rgbi_32_280_5658_1_nw_2023.tiff\n",
      "Input CRS: EPSG:25832, Bounds: BoundingBox(left=280000.0, bottom=5658000.0, right=281000.0, top=5659000.0)\n",
      "Reprojected and saved: Z:/BuildingDetection/dop_Reproject\\dop10rgbi_32_280_5658_1_nw_2023.tiff\n",
      "Processing file: Z:/BuildingDetection/dopJP2_to_tiff_2\\dop10rgbi_32_280_5659_1_nw_2023.tiff\n",
      "Input CRS: EPSG:25832, Bounds: BoundingBox(left=280000.0, bottom=5659000.0, right=281000.0, top=5660000.0)\n",
      "Reprojected and saved: Z:/BuildingDetection/dop_Reproject\\dop10rgbi_32_280_5659_1_nw_2023.tiff\n",
      "Processing file: Z:/BuildingDetection/dopJP2_to_tiff_2\\dop10rgbi_32_280_5660_1_nw_2023.tiff\n",
      "Input CRS: EPSG:25832, Bounds: BoundingBox(left=280000.0, bottom=5660000.0, right=281000.0, top=5661000.0)\n",
      "Reprojected and saved: Z:/BuildingDetection/dop_Reproject\\dop10rgbi_32_280_5660_1_nw_2023.tiff\n",
      "Reprojection complete!\n"
     ]
    }
   ],
   "source": [
    "\n",
    "# Process each file\n",
    "for filename in all_files:\n",
    "    input_path = os.path.join(input_dop_folder, filename)\n",
    "    output_path = os.path.join(output_dop_folder, filename)\n",
    "\n",
    "    with ras.open(input_path) as src:\n",
    "        # Debug input file\n",
    "        print(f\"Processing file: {input_path}\")\n",
    "        print(f\"Input CRS: {src.crs}, Bounds: {src.bounds}\")\n",
    "\n",
    "        # Calculate the transform for reprojection\n",
    "        transform, width, height = calculate_default_transform(\n",
    "            src.crs, target_crs, src.width, src.height, *src.bounds\n",
    "        )\n",
    "        \n",
    "        # Update metadata for the new file\n",
    "        new_meta = src.meta.copy()\n",
    "        new_meta.update({\n",
    "            \"crs\": target_crs,\n",
    "            \"transform\": transform,\n",
    "            \"width\": width,\n",
    "            \"height\": height\n",
    "        })\n",
    "\n",
    "        # Create the output file and reproject\n",
    "        with ras.open(output_path, \"w\", **new_meta) as dst:\n",
    "            for band in range(1, src.count + 1):\n",
    "                reproject(\n",
    "                    source=ras.band(src, band),\n",
    "                    destination=ras.band(dst, band),\n",
    "                    src_transform=src.transform,\n",
    "                    src_crs=src.crs,\n",
    "                    dst_transform=transform,\n",
    "                    dst_crs=target_crs,\n",
    "                    resampling=Resampling.nearest  # Use nearest neighbor for simplicity\n",
    "                )\n",
    "\n",
    "    print(f\"Reprojected and saved: {output_path}\")\n",
    "\n",
    "print(\"Reprojection complete!\")\n"
   ]
  },
  {
   "cell_type": "code",
   "execution_count": 5,
   "id": "86ce8525-210f-4844-94c7-ec46aad24492",
   "metadata": {},
   "outputs": [
    {
     "name": "stdout",
     "output_type": "stream",
     "text": [
      "Transform: | 0.00, 0.00, 5.86|\n",
      "| 0.00,-0.00, 51.06|\n",
      "| 0.00, 0.00, 1.00|\n",
      "Width: 12240, Height: 7714\n"
     ]
    }
   ],
   "source": [
    "print(f\"Transform: {transform}\")\n",
    "print(f\"Width: {width}, Height: {height}\")\n"
   ]
  },
  {
   "cell_type": "code",
   "execution_count": null,
   "id": "7ba6f9f3-10c4-4c7c-824e-62c3e8919069",
   "metadata": {},
   "outputs": [],
   "source": []
  }
 ],
 "metadata": {
  "kernelspec": {
   "display_name": "Python (geo_ai)",
   "language": "python",
   "name": "geo_ai"
  },
  "language_info": {
   "codemirror_mode": {
    "name": "ipython",
    "version": 3
   },
   "file_extension": ".py",
   "mimetype": "text/x-python",
   "name": "python",
   "nbconvert_exporter": "python",
   "pygments_lexer": "ipython3",
   "version": "3.12.8"
  }
 },
 "nbformat": 4,
 "nbformat_minor": 5
}
