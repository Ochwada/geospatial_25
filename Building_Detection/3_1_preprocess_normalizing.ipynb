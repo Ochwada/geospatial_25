{
 "cells": [
  {
   "cell_type": "code",
   "execution_count": 1,
   "id": "9d4689d5-0b5b-4798-b92d-7dca4b69e7cd",
   "metadata": {},
   "outputs": [],
   "source": [
    "import os\n",
    "import numpy as np\n",
    "import rasterio as ras"
   ]
  },
  {
   "cell_type": "code",
   "execution_count": 2,
   "id": "179d6572-5f10-49f3-95ea-aa4181177660",
   "metadata": {},
   "outputs": [],
   "source": [
    "input_dop_folder = \"Z:/BuildingDetection/dop_Reproject\"\n",
    "output_dop_folder = \"Z:/BuildingDetection/dop_Normalized\"\n",
    "os.makedirs(output_dop_folder, exist_ok=True)  # Ensure the output folder exists"
   ]
  },
  {
   "cell_type": "code",
   "execution_count": 3,
   "id": "cb20e8a6-0955-4d22-a912-578b6c446516",
   "metadata": {},
   "outputs": [],
   "source": [
    "# Get a sorted list of .tif files in the folder\n",
    "all_files = [f for f in os.listdir(input_dop_folder) if f.endswith((\".tif\", \".tiff\"))]"
   ]
  },
  {
   "cell_type": "code",
   "execution_count": 4,
   "id": "7e089fa7-c364-4b24-8799-4c06850d9313",
   "metadata": {},
   "outputs": [
    {
     "name": "stdout",
     "output_type": "stream",
     "text": [
      "Processing file: Z:/BuildingDetection/dop_Reproject\\dop10rgbi_32_280_5652_1_nw_2023.tiff\n",
      "Band 1 - Min: 0.0, Max: 1.0\n",
      "Band 2 - Min: 0.0, Max: 1.0\n",
      "Band 3 - Min: 0.0, Max: 1.0\n",
      "Band 4 - Min: 0.0, Max: 1.0\n",
      "Normalized and saved: Z:/BuildingDetection/dop_Normalized\\dop10rgbi_32_280_5652_1_nw_2023.tiff\n",
      "Processing file: Z:/BuildingDetection/dop_Reproject\\dop10rgbi_32_280_5653_1_nw_2023.tiff\n",
      "Band 1 - Min: 0.0, Max: 1.0\n",
      "Band 2 - Min: 0.0, Max: 1.0\n",
      "Band 3 - Min: 0.0, Max: 1.0\n",
      "Band 4 - Min: 0.0, Max: 1.0\n",
      "Normalized and saved: Z:/BuildingDetection/dop_Normalized\\dop10rgbi_32_280_5653_1_nw_2023.tiff\n",
      "Processing file: Z:/BuildingDetection/dop_Reproject\\dop10rgbi_32_280_5654_1_nw_2023.tiff\n",
      "Band 1 - Min: 0.0, Max: 1.0\n",
      "Band 2 - Min: 0.0, Max: 1.0\n",
      "Band 3 - Min: 0.0, Max: 1.0\n",
      "Band 4 - Min: 0.0, Max: 1.0\n",
      "Normalized and saved: Z:/BuildingDetection/dop_Normalized\\dop10rgbi_32_280_5654_1_nw_2023.tiff\n",
      "Processing file: Z:/BuildingDetection/dop_Reproject\\dop10rgbi_32_280_5655_1_nw_2023.tiff\n",
      "Band 1 - Min: 0.0, Max: 1.0\n",
      "Band 2 - Min: 0.0, Max: 1.0\n",
      "Band 3 - Min: 0.0, Max: 1.0\n",
      "Band 4 - Min: 0.0, Max: 1.0\n",
      "Normalized and saved: Z:/BuildingDetection/dop_Normalized\\dop10rgbi_32_280_5655_1_nw_2023.tiff\n",
      "Processing file: Z:/BuildingDetection/dop_Reproject\\dop10rgbi_32_280_5656_1_nw_2023.tiff\n",
      "Band 1 - Min: 0.0, Max: 1.0\n",
      "Band 2 - Min: 0.0, Max: 1.0\n",
      "Band 3 - Min: 0.0, Max: 1.0\n",
      "Band 4 - Min: 0.0, Max: 1.0\n",
      "Normalized and saved: Z:/BuildingDetection/dop_Normalized\\dop10rgbi_32_280_5656_1_nw_2023.tiff\n",
      "Processing file: Z:/BuildingDetection/dop_Reproject\\dop10rgbi_32_280_5657_1_nw_2023.tiff\n",
      "Band 1 - Min: 0.0, Max: 1.0\n",
      "Band 2 - Min: 0.0, Max: 1.0\n",
      "Band 3 - Min: 0.0, Max: 1.0\n",
      "Band 4 - Min: 0.0, Max: 1.0\n",
      "Normalized and saved: Z:/BuildingDetection/dop_Normalized\\dop10rgbi_32_280_5657_1_nw_2023.tiff\n",
      "Processing file: Z:/BuildingDetection/dop_Reproject\\dop10rgbi_32_280_5658_1_nw_2023.tiff\n",
      "Band 1 - Min: 0.0, Max: 1.0\n",
      "Band 2 - Min: 0.0, Max: 1.0\n",
      "Band 3 - Min: 0.0, Max: 1.0\n",
      "Band 4 - Min: 0.0, Max: 1.0\n",
      "Normalized and saved: Z:/BuildingDetection/dop_Normalized\\dop10rgbi_32_280_5658_1_nw_2023.tiff\n",
      "Processing file: Z:/BuildingDetection/dop_Reproject\\dop10rgbi_32_280_5659_1_nw_2023.tiff\n",
      "Band 1 - Min: 0.0, Max: 1.0\n",
      "Band 2 - Min: 0.0, Max: 1.0\n",
      "Band 3 - Min: 0.0, Max: 1.0\n",
      "Band 4 - Min: 0.0, Max: 1.0\n",
      "Normalized and saved: Z:/BuildingDetection/dop_Normalized\\dop10rgbi_32_280_5659_1_nw_2023.tiff\n",
      "Processing file: Z:/BuildingDetection/dop_Reproject\\dop10rgbi_32_280_5660_1_nw_2023.tiff\n",
      "Band 1 - Min: 0.0, Max: 1.0\n",
      "Band 2 - Min: 0.0, Max: 1.0\n",
      "Band 3 - Min: 0.0, Max: 1.0\n",
      "Band 4 - Min: 0.0, Max: 1.0\n",
      "Normalized and saved: Z:/BuildingDetection/dop_Normalized\\dop10rgbi_32_280_5660_1_nw_2023.tiff\n",
      "Normalization complete!\n"
     ]
    }
   ],
   "source": [
    "\n",
    "# Normalize function\n",
    "def normalize(array, min_val=0, max_val=1):\n",
    "    \"\"\"\n",
    "    Normalize array to a specific range [min_val, max_val].\n",
    "    \"\"\"\n",
    "    array_min, array_max = array.min(), array.max()\n",
    "    if array_max - array_min == 0:\n",
    "        # Prevent division by zero for constant arrays\n",
    "        return np.full_like(array, min_val, dtype=np.float32)\n",
    "    return ((array - array_min) / (array_max - array_min)) * (max_val - min_val) + min_val\n",
    "\n",
    "# Process each file\n",
    "for filename in all_files:\n",
    "    input_path = os.path.join(input_dop_folder, filename)\n",
    "    output_path = os.path.join(output_dop_folder, filename)\n",
    "\n",
    "    with ras.open(input_path) as src:\n",
    "        # Debug input file\n",
    "        print(f\"Processing file: {input_path}\")\n",
    "        \n",
    "        # Copy metadata and adjust data type for normalization\n",
    "        new_meta = src.meta.copy()\n",
    "        new_meta.update({\"dtype\": \"float32\"})  # Use float32 for normalized data\n",
    "\n",
    "        # Open output file\n",
    "        with ras.open(output_path, \"w\", **new_meta) as dst:\n",
    "            for band in range(1, src.count + 1):\n",
    "                # Read the source band\n",
    "                src_band = src.read(band)\n",
    "\n",
    "                # Normalize the band\n",
    "                normalized_band = normalize(src_band, min_val=0, max_val=1)\n",
    "\n",
    "                # Debug normalized band\n",
    "                print(f\"Band {band} - Min: {normalized_band.min()}, Max: {normalized_band.max()}\")\n",
    "\n",
    "                # Write normalized data to the output file\n",
    "                dst.write(normalized_band, band)\n",
    "\n",
    "    print(f\"Normalized and saved: {output_path}\")\n",
    "\n",
    "print(\"Normalization complete!\")"
   ]
  },
  {
   "cell_type": "code",
   "execution_count": null,
   "id": "31195de4-58a6-4061-be46-0dc5fbd33147",
   "metadata": {},
   "outputs": [],
   "source": []
  }
 ],
 "metadata": {
  "kernelspec": {
   "display_name": "Python (geo_ai)",
   "language": "python",
   "name": "geo_ai"
  },
  "language_info": {
   "codemirror_mode": {
    "name": "ipython",
    "version": 3
   },
   "file_extension": ".py",
   "mimetype": "text/x-python",
   "name": "python",
   "nbconvert_exporter": "python",
   "pygments_lexer": "ipython3",
   "version": "3.12.8"
  }
 },
 "nbformat": 4,
 "nbformat_minor": 5
}
