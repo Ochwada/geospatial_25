{
 "cells": [
  {
   "cell_type": "code",
   "execution_count": 1,
   "id": "bc00d48c-5cf9-4c08-b293-977727642a69",
   "metadata": {},
   "outputs": [],
   "source": [
    "import os\n",
    "from osgeo import gdal"
   ]
  },
  {
   "cell_type": "code",
   "execution_count": 2,
   "id": "19d777f1-c47f-45d8-bd7e-8476b6c89dee",
   "metadata": {},
   "outputs": [],
   "source": [
    "#Define input and output folders\n",
    "\n",
    "input_dir = \"Z:/BuildingDetection/downloaded_jp2_less\"  # Path to raw jp2 files\n",
    "output_dir = \"Z:/BuildingDetection/dopJP2_to_tiff\"  # Path to save output tiff files\n",
    "\n",
    "os.makedirs(output_dir, exist_ok=True)  # Create the output folder if it doesn't exist"
   ]
  },
  {
   "cell_type": "code",
   "execution_count": 3,
   "id": "d4d78531-7dc9-4d53-924d-5c6d4e03192a",
   "metadata": {},
   "outputs": [
    {
     "name": "stdout",
     "output_type": "stream",
     "text": [
      "True\n"
     ]
    }
   ],
   "source": [
    "gdal.AllRegister()  # Register all available drivers\n",
    "drivers = [gdal.GetDriver(i).ShortName for i in range(gdal.GetDriverCount())]\n",
    "print(\"JP2OpenJPEG\" in drivers)  # Should print True if the driver is available"
   ]
  },
  {
   "cell_type": "code",
   "execution_count": null,
   "id": "e0c381f5-7b60-400b-8e22-0bb84520c0b9",
   "metadata": {},
   "outputs": [
    {
     "name": "stderr",
     "output_type": "stream",
     "text": [
      "C:\\Users\\Ochwada\\anaconda3\\envs\\geo_ai\\Lib\\site-packages\\osgeo\\gdal.py:311: FutureWarning: Neither gdal.UseExceptions() nor gdal.DontUseExceptions() has been explicitly called. In GDAL 4.0, exceptions will be enabled by default.\n",
      "  warnings.warn(\n"
     ]
    },
    {
     "name": "stdout",
     "output_type": "stream",
     "text": [
      "Converted: dop10rgbi_32_280_5652_1_nw_2023.jp2 to Z:/BuildingDetection/dopJP2_to_tiff\\dop10rgbi_32_280_5652_1_nw_2023.tiff\n",
      "Converted: dop10rgbi_32_280_5653_1_nw_2023.jp2 to Z:/BuildingDetection/dopJP2_to_tiff\\dop10rgbi_32_280_5653_1_nw_2023.tiff\n"
     ]
    }
   ],
   "source": [
    "# Loop through JP2 files in the input directory\n",
    "for file_name in os.listdir(input_dir):\n",
    "    if file_name.endswith(\".jp2\"):  # Check for JP2 files\n",
    "        input_path = os.path.join(input_dir, file_name)\n",
    "        output_path = os.path.join(output_dir, file_name.replace(\".jp2\", \".tiff\"))\n",
    "        \n",
    "        try:\n",
    "            # Open the JP2 file\n",
    "            dataset = gdal.Open(input_path)\n",
    "            \n",
    "            if not dataset:\n",
    "                print(f\"Error: Could not open {input_path}\")\n",
    "                continue\n",
    "            \n",
    "            # Convert and save as TIFF\n",
    "            gdal.Translate(output_path, dataset, format=\"GTiff\")\n",
    "            print(f\"Converted: {file_name} to {output_path}\")\n",
    "        except Exception as e:\n",
    "            print(f\"Failed to process {file_name}: {e}\")\n",
    "\n",
    "print(\"Batch processing complete!\")"
   ]
  },
  {
   "cell_type": "code",
   "execution_count": null,
   "id": "f9a88c17-bf5b-4c75-a8c3-88358b5381bc",
   "metadata": {},
   "outputs": [],
   "source": []
  }
 ],
 "metadata": {
  "kernelspec": {
   "display_name": "Python (geo_ai)",
   "language": "python",
   "name": "geo_ai"
  },
  "language_info": {
   "codemirror_mode": {
    "name": "ipython",
    "version": 3
   },
   "file_extension": ".py",
   "mimetype": "text/x-python",
   "name": "python",
   "nbconvert_exporter": "python",
   "pygments_lexer": "ipython3",
   "version": "3.12.8"
  }
 },
 "nbformat": 4,
 "nbformat_minor": 5
}
