{
 "cells": [
  {
   "cell_type": "code",
   "execution_count": 1,
   "id": "bc00d48c-5cf9-4c08-b293-977727642a69",
   "metadata": {},
   "outputs": [],
   "source": [
    "import os\n",
    "import rasterio as ras\n",
    "import numpy as np \n",
    "import matplotlib.pyplot as plt\n",
    "\n",
    "import cv2\n",
    "from rasterio.windows import Window\n",
    "from rasterio.enums import Resampling\n",
    "from osgeo import gdal"
   ]
  },
  {
   "cell_type": "code",
   "execution_count": 2,
   "id": "19d777f1-c47f-45d8-bd7e-8476b6c89dee",
   "metadata": {},
   "outputs": [],
   "source": [
    "#Define input and output folders\n",
    "\n",
    "input_folder = \"data/downloaded_jp2\"  # Path to raw jp2 files\n",
    "output_folder = \"data/output_tiffs\"  # Path to save output tiff files\n",
    "os.makedirs(output_folder, exist_ok=True)  # Create the output folder if it doesn't exist"
   ]
  },
  {
   "cell_type": "code",
   "execution_count": 3,
   "id": "d4d78531-7dc9-4d53-924d-5c6d4e03192a",
   "metadata": {},
   "outputs": [
    {
     "name": "stdout",
     "output_type": "stream",
     "text": [
      "True\n"
     ]
    }
   ],
   "source": [
    "gdal.AllRegister()  # Register all available drivers\n",
    "drivers = [gdal.GetDriver(i).ShortName for i in range(gdal.GetDriverCount())]\n",
    "print(\"JP2OpenJPEG\" in drivers)  # Should print True if the driver is available"
   ]
  },
  {
   "cell_type": "code",
   "execution_count": 4,
   "id": "e0c381f5-7b60-400b-8e22-0bb84520c0b9",
   "metadata": {},
   "outputs": [
    {
     "name": "stdout",
     "output_type": "stream",
     "text": [
      "Converted data/downloaded_jp2\\dop10rgbi_32_280_5652_1_nw_2023.jp2 to data/output_tiffs\\dop10rgbi_32_280_5652_1_nw_2023.tif\n",
      "Converted data/downloaded_jp2\\dop10rgbi_32_280_5653_1_nw_2023.jp2 to data/output_tiffs\\dop10rgbi_32_280_5653_1_nw_2023.tif\n",
      "Converted data/downloaded_jp2\\dop10rgbi_32_280_5654_1_nw_2023.jp2 to data/output_tiffs\\dop10rgbi_32_280_5654_1_nw_2023.tif\n",
      "Converted data/downloaded_jp2\\dop10rgbi_32_280_5655_1_nw_2023.jp2 to data/output_tiffs\\dop10rgbi_32_280_5655_1_nw_2023.tif\n",
      "Converted data/downloaded_jp2\\dop10rgbi_32_280_5656_1_nw_2023.jp2 to data/output_tiffs\\dop10rgbi_32_280_5656_1_nw_2023.tif\n",
      "Converted data/downloaded_jp2\\dop10rgbi_32_280_5657_1_nw_2023.jp2 to data/output_tiffs\\dop10rgbi_32_280_5657_1_nw_2023.tif\n",
      "Converted data/downloaded_jp2\\dop10rgbi_32_280_5658_1_nw_2023.jp2 to data/output_tiffs\\dop10rgbi_32_280_5658_1_nw_2023.tif\n",
      "Converted data/downloaded_jp2\\dop10rgbi_32_280_5659_1_nw_2023.jp2 to data/output_tiffs\\dop10rgbi_32_280_5659_1_nw_2023.tif\n",
      "Converted data/downloaded_jp2\\dop10rgbi_32_280_5660_1_nw_2023.jp2 to data/output_tiffs\\dop10rgbi_32_280_5660_1_nw_2023.tif\n",
      "Converted data/downloaded_jp2\\dop10rgbi_32_281_5652_1_nw_2023.jp2 to data/output_tiffs\\dop10rgbi_32_281_5652_1_nw_2023.tif\n",
      "Converted data/downloaded_jp2\\dop10rgbi_32_281_5653_1_nw_2023.jp2 to data/output_tiffs\\dop10rgbi_32_281_5653_1_nw_2023.tif\n",
      "Converted data/downloaded_jp2\\dop10rgbi_32_281_5654_1_nw_2023.jp2 to data/output_tiffs\\dop10rgbi_32_281_5654_1_nw_2023.tif\n",
      "Converted data/downloaded_jp2\\dop10rgbi_32_281_5655_1_nw_2023.jp2 to data/output_tiffs\\dop10rgbi_32_281_5655_1_nw_2023.tif\n",
      "Converted data/downloaded_jp2\\dop10rgbi_32_281_5656_1_nw_2023.jp2 to data/output_tiffs\\dop10rgbi_32_281_5656_1_nw_2023.tif\n",
      "Converted data/downloaded_jp2\\dop10rgbi_32_281_5657_1_nw_2023.jp2 to data/output_tiffs\\dop10rgbi_32_281_5657_1_nw_2023.tif\n",
      "Converted data/downloaded_jp2\\dop10rgbi_32_281_5658_1_nw_2023.jp2 to data/output_tiffs\\dop10rgbi_32_281_5658_1_nw_2023.tif\n",
      "Converted data/downloaded_jp2\\dop10rgbi_32_281_5659_1_nw_2023.jp2 to data/output_tiffs\\dop10rgbi_32_281_5659_1_nw_2023.tif\n",
      "Converted data/downloaded_jp2\\dop10rgbi_32_281_5660_1_nw_2023.jp2 to data/output_tiffs\\dop10rgbi_32_281_5660_1_nw_2023.tif\n",
      "Converted data/downloaded_jp2\\dop10rgbi_32_282_5652_1_nw_2023.jp2 to data/output_tiffs\\dop10rgbi_32_282_5652_1_nw_2023.tif\n",
      "Converted data/downloaded_jp2\\dop10rgbi_32_282_5653_1_nw_2023.jp2 to data/output_tiffs\\dop10rgbi_32_282_5653_1_nw_2023.tif\n",
      "Converted data/downloaded_jp2\\dop10rgbi_32_282_5654_1_nw_2023.jp2 to data/output_tiffs\\dop10rgbi_32_282_5654_1_nw_2023.tif\n",
      "Converted data/downloaded_jp2\\dop10rgbi_32_282_5655_1_nw_2023.jp2 to data/output_tiffs\\dop10rgbi_32_282_5655_1_nw_2023.tif\n",
      "Converted data/downloaded_jp2\\dop10rgbi_32_282_5656_1_nw_2023.jp2 to data/output_tiffs\\dop10rgbi_32_282_5656_1_nw_2023.tif\n",
      "Converted data/downloaded_jp2\\dop10rgbi_32_282_5657_1_nw_2023.jp2 to data/output_tiffs\\dop10rgbi_32_282_5657_1_nw_2023.tif\n",
      "Converted data/downloaded_jp2\\dop10rgbi_32_282_5658_1_nw_2023.jp2 to data/output_tiffs\\dop10rgbi_32_282_5658_1_nw_2023.tif\n",
      "Converted data/downloaded_jp2\\dop10rgbi_32_282_5659_1_nw_2023.jp2 to data/output_tiffs\\dop10rgbi_32_282_5659_1_nw_2023.tif\n",
      "Converted data/downloaded_jp2\\dop10rgbi_32_282_5660_1_nw_2023.jp2 to data/output_tiffs\\dop10rgbi_32_282_5660_1_nw_2023.tif\n",
      "Converted data/downloaded_jp2\\dop10rgbi_32_283_5652_1_nw_2023.jp2 to data/output_tiffs\\dop10rgbi_32_283_5652_1_nw_2023.tif\n",
      "Converted data/downloaded_jp2\\dop10rgbi_32_283_5653_1_nw_2023.jp2 to data/output_tiffs\\dop10rgbi_32_283_5653_1_nw_2023.tif\n",
      "Converted data/downloaded_jp2\\dop10rgbi_32_283_5654_1_nw_2023.jp2 to data/output_tiffs\\dop10rgbi_32_283_5654_1_nw_2023.tif\n",
      "Converted data/downloaded_jp2\\dop10rgbi_32_283_5655_1_nw_2023.jp2 to data/output_tiffs\\dop10rgbi_32_283_5655_1_nw_2023.tif\n",
      "Converted data/downloaded_jp2\\dop10rgbi_32_283_5656_1_nw_2023.jp2 to data/output_tiffs\\dop10rgbi_32_283_5656_1_nw_2023.tif\n",
      "Converted data/downloaded_jp2\\dop10rgbi_32_283_5657_1_nw_2023.jp2 to data/output_tiffs\\dop10rgbi_32_283_5657_1_nw_2023.tif\n",
      "Converted data/downloaded_jp2\\dop10rgbi_32_283_5658_1_nw_2023.jp2 to data/output_tiffs\\dop10rgbi_32_283_5658_1_nw_2023.tif\n",
      "Converted data/downloaded_jp2\\dop10rgbi_32_283_5659_1_nw_2023.jp2 to data/output_tiffs\\dop10rgbi_32_283_5659_1_nw_2023.tif\n",
      "Converted data/downloaded_jp2\\dop10rgbi_32_283_5660_1_nw_2023.jp2 to data/output_tiffs\\dop10rgbi_32_283_5660_1_nw_2023.tif\n",
      "Converted data/downloaded_jp2\\dop10rgbi_32_284_5652_1_nw_2023.jp2 to data/output_tiffs\\dop10rgbi_32_284_5652_1_nw_2023.tif\n",
      "Converted data/downloaded_jp2\\dop10rgbi_32_284_5653_1_nw_2023.jp2 to data/output_tiffs\\dop10rgbi_32_284_5653_1_nw_2023.tif\n",
      "Converted data/downloaded_jp2\\dop10rgbi_32_284_5654_1_nw_2023.jp2 to data/output_tiffs\\dop10rgbi_32_284_5654_1_nw_2023.tif\n",
      "Converted data/downloaded_jp2\\dop10rgbi_32_284_5655_1_nw_2023.jp2 to data/output_tiffs\\dop10rgbi_32_284_5655_1_nw_2023.tif\n",
      "Converted data/downloaded_jp2\\dop10rgbi_32_284_5656_1_nw_2023.jp2 to data/output_tiffs\\dop10rgbi_32_284_5656_1_nw_2023.tif\n",
      "Converted data/downloaded_jp2\\dop10rgbi_32_284_5657_1_nw_2023.jp2 to data/output_tiffs\\dop10rgbi_32_284_5657_1_nw_2023.tif\n",
      "Converted data/downloaded_jp2\\dop10rgbi_32_284_5658_1_nw_2023.jp2 to data/output_tiffs\\dop10rgbi_32_284_5658_1_nw_2023.tif\n",
      "Converted data/downloaded_jp2\\dop10rgbi_32_284_5659_1_nw_2023.jp2 to data/output_tiffs\\dop10rgbi_32_284_5659_1_nw_2023.tif\n",
      "Converted data/downloaded_jp2\\dop10rgbi_32_284_5660_1_nw_2023.jp2 to data/output_tiffs\\dop10rgbi_32_284_5660_1_nw_2023.tif\n",
      "Converted data/downloaded_jp2\\dop10rgbi_32_285_5652_1_nw_2023.jp2 to data/output_tiffs\\dop10rgbi_32_285_5652_1_nw_2023.tif\n",
      "Converted data/downloaded_jp2\\dop10rgbi_32_285_5653_1_nw_2023.jp2 to data/output_tiffs\\dop10rgbi_32_285_5653_1_nw_2023.tif\n",
      "Converted data/downloaded_jp2\\dop10rgbi_32_285_5654_1_nw_2023.jp2 to data/output_tiffs\\dop10rgbi_32_285_5654_1_nw_2023.tif\n",
      "Converted data/downloaded_jp2\\dop10rgbi_32_285_5655_1_nw_2023.jp2 to data/output_tiffs\\dop10rgbi_32_285_5655_1_nw_2023.tif\n",
      "Converted data/downloaded_jp2\\dop10rgbi_32_285_5656_1_nw_2023.jp2 to data/output_tiffs\\dop10rgbi_32_285_5656_1_nw_2023.tif\n",
      "Converted data/downloaded_jp2\\dop10rgbi_32_285_5657_1_nw_2023.jp2 to data/output_tiffs\\dop10rgbi_32_285_5657_1_nw_2023.tif\n",
      "Converted data/downloaded_jp2\\dop10rgbi_32_285_5658_1_nw_2023.jp2 to data/output_tiffs\\dop10rgbi_32_285_5658_1_nw_2023.tif\n",
      "Converted data/downloaded_jp2\\dop10rgbi_32_285_5659_1_nw_2023.jp2 to data/output_tiffs\\dop10rgbi_32_285_5659_1_nw_2023.tif\n",
      "Converted data/downloaded_jp2\\dop10rgbi_32_285_5660_1_nw_2023.jp2 to data/output_tiffs\\dop10rgbi_32_285_5660_1_nw_2023.tif\n",
      "Batch processing complete!\n"
     ]
    }
   ],
   "source": [
    "# Loop through all files in the input folder\n",
    "for filename in os.listdir(input_folder):\n",
    "    if filename.endswith(\".jp2\"):  # Process only .jp2 files\n",
    "        input_path = os.path.join(input_folder, filename)\n",
    "        output_path = os.path.join(output_folder, filename.replace(\".jp2\", \".tif\"))\n",
    "\n",
    "        # Convert each .jp2 file to .tif\n",
    "        with ras.open(input_path) as src:\n",
    "            profile = src.profile  # Retrieve the metadata/profile of the input file\n",
    "            data = src.read()      # Read the raster data from the file\n",
    "\n",
    "            # Update the profile for GeoTIFF output\n",
    "            profile.update(driver='GTiff')\n",
    "\n",
    "            # Write the data to a new GeoTIFF file\n",
    "            with ras.open(output_path, 'w', **profile) as dst:\n",
    "                dst.write(data)\n",
    "\n",
    "        print(f\"Converted {input_path} to {output_path}\")\n",
    "\n",
    "print(\"Batch processing complete!\")"
   ]
  },
  {
   "cell_type": "code",
   "execution_count": null,
   "id": "f9a88c17-bf5b-4c75-a8c3-88358b5381bc",
   "metadata": {},
   "outputs": [],
   "source": []
  }
 ],
 "metadata": {
  "kernelspec": {
   "display_name": "Python (geo_ai)",
   "language": "python",
   "name": "geo_ai"
  },
  "language_info": {
   "codemirror_mode": {
    "name": "ipython",
    "version": 3
   },
   "file_extension": ".py",
   "mimetype": "text/x-python",
   "name": "python",
   "nbconvert_exporter": "python",
   "pygments_lexer": "ipython3",
   "version": "3.12.8"
  }
 },
 "nbformat": 4,
 "nbformat_minor": 5
}
