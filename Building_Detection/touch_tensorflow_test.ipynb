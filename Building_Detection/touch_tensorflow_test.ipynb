{
 "cells": [
  {
   "cell_type": "code",
   "execution_count": 1,
   "id": "772e78fc-30e2-4f44-8235-1de065d9c0ab",
   "metadata": {},
   "outputs": [
    {
     "name": "stdout",
     "output_type": "stream",
     "text": [
      "TensorFlow version: 2.10.0\n",
      "PyTorch version: 2.4.1+cpu\n",
      "TensorFlow GPUs: [PhysicalDevice(name='/physical_device:GPU:0', device_type='GPU')]\n",
      "DirectML Device: privateuseone:0\n"
     ]
    }
   ],
   "source": [
    "import tensorflow as tf\n",
    "import torch\n",
    "import torch_directml\n",
    "\n",
    "print(f\"TensorFlow version: {tf.__version__}\")\n",
    "print(f\"PyTorch version: {torch.__version__}\")\n",
    "\n",
    "# Check GPU support (if applicable)\n",
    "print(\"TensorFlow GPUs:\", tf.config.list_physical_devices('GPU'))  # Should list AMD GPU\n",
    "print(\"DirectML Device:\", torch_directml.device())  # Should show AMD GPU"
   ]
  },
  {
   "cell_type": "code",
   "execution_count": 2,
   "id": "336139c0-937b-4bcc-b662-9e3188530386",
   "metadata": {},
   "outputs": [
    {
     "name": "stdout",
     "output_type": "stream",
     "text": [
      "privateuseone:0\n"
     ]
    }
   ],
   "source": [
    "# Assign the AMD GPU device\n",
    "device = torch_directml.device()\n",
    "\n",
    "# Example: Move a tensor to the AMD GPU\n",
    "tensor = torch.randn(3, 3).to(device)\n",
    "print(tensor.device)  # Output: privateuseone:0"
   ]
  },
  {
   "cell_type": "code",
   "execution_count": 3,
   "id": "74fd2997-9a89-4901-bdbf-5e1f7b3ae1f1",
   "metadata": {},
   "outputs": [
    {
     "name": "stdout",
     "output_type": "stream",
     "text": [
      "DirectML Device: privateuseone:0\n"
     ]
    }
   ],
   "source": [
    "print(\"DirectML Device:\", torch_directml.device())"
   ]
  },
  {
   "cell_type": "code",
   "execution_count": 4,
   "id": "55ca5fce-2772-4eba-aa3e-ce5144892594",
   "metadata": {},
   "outputs": [
    {
     "name": "stdout",
     "output_type": "stream",
     "text": [
      "Executing op _EagerConst in device /job:localhost/replica:0/task:0/device:GPU:0\n",
      "Executing op _EagerConst in device /job:localhost/replica:0/task:0/device:GPU:0\n",
      "Executing op Mul in device /job:localhost/replica:0/task:0/device:GPU:0\n",
      "tf.Tensor([2.], shape=(1,), dtype=float32)\n"
     ]
    }
   ],
   "source": [
    "tf.debugging.set_log_device_placement(True)\n",
    "# Run a test operation\n",
    "with tf.device('/GPU:0'):\n",
    "    a = tf.constant([1.0], dtype=tf.float32)\n",
    "    b = a * 2\n",
    "print(b)"
   ]
  },
  {
   "cell_type": "code",
   "execution_count": null,
   "id": "37c12220-b430-4eff-b7db-675cdfb235e0",
   "metadata": {},
   "outputs": [],
   "source": []
  },
  {
   "cell_type": "code",
   "execution_count": null,
   "id": "bbe43efa-638b-4358-ab0f-70442c65a0b9",
   "metadata": {},
   "outputs": [],
   "source": []
  }
 ],
 "metadata": {
  "kernelspec": {
   "display_name": "Python (directml)",
   "language": "python",
   "name": "directml"
  },
  "language_info": {
   "codemirror_mode": {
    "name": "ipython",
    "version": 3
   },
   "file_extension": ".py",
   "mimetype": "text/x-python",
   "name": "python",
   "nbconvert_exporter": "python",
   "pygments_lexer": "ipython3",
   "version": "3.10.16"
  }
 },
 "nbformat": 4,
 "nbformat_minor": 5
}
