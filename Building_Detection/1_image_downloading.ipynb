{
 "cells": [
  {
   "cell_type": "code",
   "execution_count": 1,
   "id": "e60304cf-9ef9-4d8f-be77-3c5c97c634f1",
   "metadata": {},
   "outputs": [],
   "source": [
    "import requests \n",
    "import os"
   ]
  },
  {
   "cell_type": "code",
   "execution_count": 2,
   "id": "45a786be-e318-4ed9-812b-989f40e4dc20",
   "metadata": {},
   "outputs": [],
   "source": [
    "# Define the URL and output folder\n",
    "url = \"https://www.opengeodata.nrw.de/produkte/geobasis/lusat/akt/dop/dop_jp2_f10/\"\n",
    "output_folder = \"Z:/BuildingDetection/downloaded_jp2_less\""
   ]
  },
  {
   "cell_type": "code",
   "execution_count": 3,
   "id": "539d7793-51c5-4967-aa35-8ab9055d5c92",
   "metadata": {},
   "outputs": [],
   "source": [
    "# The list of .tiff files to be downloaded\n",
    "to_be_downloaded = [\n",
    "    \"dop10rgbi_32_280_5652_1_nw_2023.jp2\", \"dop10rgbi_32_280_5653_1_nw_2023.jp2\", \"dop10rgbi_32_280_5654_1_nw_2023.jp2\",\n",
    "    \"dop10rgbi_32_280_5655_1_nw_2023.jp2\", \"dop10rgbi_32_280_5656_1_nw_2023.jp2\", \"dop10rgbi_32_280_5657_1_nw_2023.jp2\",\n",
    "    \"dop10rgbi_32_280_5658_1_nw_2023.jp2\", \"dop10rgbi_32_280_5659_1_nw_2023.jp2\", \"dop10rgbi_32_280_5660_1_nw_2023.jp2\",\n",
    "\n",
    " #   \"dop10rgbi_32_281_5652_1_nw_2023.jp2\", \"dop10rgbi_32_281_5653_1_nw_2023.jp2\", \"dop10rgbi_32_281_5654_1_nw_2023.jp2\",\n",
    " #   \"dop10rgbi_32_281_5655_1_nw_2023.jp2\", \"dop10rgbi_32_281_5656_1_nw_2023.jp2\", \"dop10rgbi_32_281_5657_1_nw_2023.jp2\",\n",
    " #   \"dop10rgbi_32_281_5658_1_nw_2023.jp2\", \"dop10rgbi_32_281_5659_1_nw_2023.jp2\", \"dop10rgbi_32_281_5660_1_nw_2023.jp2\",\n",
    "\n",
    " #   \"dop10rgbi_32_282_5652_1_nw_2023.jp2\", \"dop10rgbi_32_282_5653_1_nw_2023.jp2\", \"dop10rgbi_32_282_5654_1_nw_2023.jp2\",\n",
    " #   \"dop10rgbi_32_282_5655_1_nw_2023.jp2\", \"dop10rgbi_32_282_5656_1_nw_2023.jp2\", \"dop10rgbi_32_282_5657_1_nw_2023.jp2\",\n",
    "  #  \"dop10rgbi_32_282_5658_1_nw_2023.jp2\", \"dop10rgbi_32_282_5659_1_nw_2023.jp2\", \"dop10rgbi_32_282_5660_1_nw_2023.jp2\",\n",
    "\n",
    "  #  \"dop10rgbi_32_283_5652_1_nw_2023.jp2\", \"dop10rgbi_32_283_5653_1_nw_2023.jp2\", \"dop10rgbi_32_283_5654_1_nw_2023.jp2\",\n",
    "  #  \"dop10rgbi_32_283_5655_1_nw_2023.jp2\", \"dop10rgbi_32_283_5656_1_nw_2023.jp2\", \"dop10rgbi_32_283_5657_1_nw_2023.jp2\",\n",
    " #   \"dop10rgbi_32_283_5658_1_nw_2023.jp2\", \"dop10rgbi_32_283_5659_1_nw_2023.jp2\", \"dop10rgbi_32_283_5660_1_nw_2023.jp2\",\n",
    "\n",
    "  #  \"dop10rgbi_32_284_5652_1_nw_2023.jp2\", \"dop10rgbi_32_284_5653_1_nw_2023.jp2\", \"dop10rgbi_32_284_5654_1_nw_2023.jp2\",\n",
    "  #  \"dop10rgbi_32_284_5655_1_nw_2023.jp2\", \"dop10rgbi_32_284_5656_1_nw_2023.jp2\", \"dop10rgbi_32_284_5657_1_nw_2023.jp2\",\n",
    "  #  \"dop10rgbi_32_284_5658_1_nw_2023.jp2\", \"dop10rgbi_32_284_5659_1_nw_2023.jp2\", \"dop10rgbi_32_284_5660_1_nw_2023.jp2\",\n",
    "\n",
    "  #  \"dop10rgbi_32_285_5652_1_nw_2023.jp2\", \"dop10rgbi_32_285_5653_1_nw_2023.jp2\", \"dop10rgbi_32_285_5654_1_nw_2023.jp2\",\n",
    "  #  \"dop10rgbi_32_285_5655_1_nw_2023.jp2\", \"dop10rgbi_32_285_5656_1_nw_2023.jp2\", \"dop10rgbi_32_285_5657_1_nw_2023.jp2\",\n",
    "  #  \"dop10rgbi_32_285_5658_1_nw_2023.jp2\", \"dop10rgbi_32_285_5659_1_nw_2023.jp2\", \"dop10rgbi_32_285_5660_1_nw_2023.jp2\",\n",
    "    \n",
    "]"
   ]
  },
  {
   "cell_type": "code",
   "execution_count": 4,
   "id": "a98f159f-7c1e-49dc-bce1-c552aef0b0d6",
   "metadata": {},
   "outputs": [],
   "source": [
    "# Create an output folder if it does not exist\n",
    "os.makedirs(output_folder, exist_ok = True)"
   ]
  },
  {
   "cell_type": "code",
   "execution_count": 5,
   "id": "6e15cd07-edc0-4e85-823a-49610a4864a1",
   "metadata": {},
   "outputs": [
    {
     "name": "stdout",
     "output_type": "stream",
     "text": [
      "Downloading https://www.opengeodata.nrw.de/produkte/geobasis/lusat/akt/dop/dop_jp2_f10/dop10rgbi_32_280_5652_1_nw_2023.jp2 to Z:/BuildingDetection/downloaded_jp2_less\\dop10rgbi_32_280_5652_1_nw_2023.jp2 ...\n",
      "Downloaded: Z:/BuildingDetection/downloaded_jp2_less\\dop10rgbi_32_280_5652_1_nw_2023.jp2\n",
      "Downloading https://www.opengeodata.nrw.de/produkte/geobasis/lusat/akt/dop/dop_jp2_f10/dop10rgbi_32_280_5653_1_nw_2023.jp2 to Z:/BuildingDetection/downloaded_jp2_less\\dop10rgbi_32_280_5653_1_nw_2023.jp2 ...\n",
      "Downloaded: Z:/BuildingDetection/downloaded_jp2_less\\dop10rgbi_32_280_5653_1_nw_2023.jp2\n",
      "Downloading https://www.opengeodata.nrw.de/produkte/geobasis/lusat/akt/dop/dop_jp2_f10/dop10rgbi_32_280_5654_1_nw_2023.jp2 to Z:/BuildingDetection/downloaded_jp2_less\\dop10rgbi_32_280_5654_1_nw_2023.jp2 ...\n",
      "Downloaded: Z:/BuildingDetection/downloaded_jp2_less\\dop10rgbi_32_280_5654_1_nw_2023.jp2\n",
      "Downloading https://www.opengeodata.nrw.de/produkte/geobasis/lusat/akt/dop/dop_jp2_f10/dop10rgbi_32_280_5655_1_nw_2023.jp2 to Z:/BuildingDetection/downloaded_jp2_less\\dop10rgbi_32_280_5655_1_nw_2023.jp2 ...\n",
      "Downloaded: Z:/BuildingDetection/downloaded_jp2_less\\dop10rgbi_32_280_5655_1_nw_2023.jp2\n",
      "Downloading https://www.opengeodata.nrw.de/produkte/geobasis/lusat/akt/dop/dop_jp2_f10/dop10rgbi_32_280_5656_1_nw_2023.jp2 to Z:/BuildingDetection/downloaded_jp2_less\\dop10rgbi_32_280_5656_1_nw_2023.jp2 ...\n",
      "Downloaded: Z:/BuildingDetection/downloaded_jp2_less\\dop10rgbi_32_280_5656_1_nw_2023.jp2\n",
      "Downloading https://www.opengeodata.nrw.de/produkte/geobasis/lusat/akt/dop/dop_jp2_f10/dop10rgbi_32_280_5657_1_nw_2023.jp2 to Z:/BuildingDetection/downloaded_jp2_less\\dop10rgbi_32_280_5657_1_nw_2023.jp2 ...\n",
      "Downloaded: Z:/BuildingDetection/downloaded_jp2_less\\dop10rgbi_32_280_5657_1_nw_2023.jp2\n",
      "Downloading https://www.opengeodata.nrw.de/produkte/geobasis/lusat/akt/dop/dop_jp2_f10/dop10rgbi_32_280_5658_1_nw_2023.jp2 to Z:/BuildingDetection/downloaded_jp2_less\\dop10rgbi_32_280_5658_1_nw_2023.jp2 ...\n",
      "Downloaded: Z:/BuildingDetection/downloaded_jp2_less\\dop10rgbi_32_280_5658_1_nw_2023.jp2\n",
      "Downloading https://www.opengeodata.nrw.de/produkte/geobasis/lusat/akt/dop/dop_jp2_f10/dop10rgbi_32_280_5659_1_nw_2023.jp2 to Z:/BuildingDetection/downloaded_jp2_less\\dop10rgbi_32_280_5659_1_nw_2023.jp2 ...\n",
      "Downloaded: Z:/BuildingDetection/downloaded_jp2_less\\dop10rgbi_32_280_5659_1_nw_2023.jp2\n",
      "Downloading https://www.opengeodata.nrw.de/produkte/geobasis/lusat/akt/dop/dop_jp2_f10/dop10rgbi_32_280_5660_1_nw_2023.jp2 to Z:/BuildingDetection/downloaded_jp2_less\\dop10rgbi_32_280_5660_1_nw_2023.jp2 ...\n",
      "Downloaded: Z:/BuildingDetection/downloaded_jp2_less\\dop10rgbi_32_280_5660_1_nw_2023.jp2\n"
     ]
    }
   ],
   "source": [
    "# Function to download files\n",
    "\n",
    "def download_jp2_files(url, to_be_downloaded, output_folder):\n",
    "    for jp2_file in to_be_downloaded:\n",
    "        # Construct the file URL\n",
    "        jp2_url = url + jp2_file\n",
    "        file_path = os.path.join(output_folder, jp2_file)\n",
    "\n",
    "        print(f\"Downloading {jp2_url} to {file_path} ...\")\n",
    "\n",
    "        # Send the request and download the file\n",
    "        file_response = requests.get(jp2_url, stream=True)\n",
    "        if file_response.status_code == 200:\n",
    "            with open(file_path, 'wb') as file:\n",
    "                for chunk in file_response.iter_content(chunk_size=8192):\n",
    "                    file.write(chunk)\n",
    "            print(f\"Downloaded: {file_path}\")\n",
    "        else:\n",
    "            print(f\"Failed to download {jp2_url}. Status code: {file_response.status_code}\")\n",
    "\n",
    "# Run the function to download jp2 files\n",
    "download_jp2_files(url, to_be_downloaded, output_folder)"
   ]
  },
  {
   "cell_type": "code",
   "execution_count": null,
   "id": "e918d9b0-721c-4f5a-bef0-6735921a3c7b",
   "metadata": {},
   "outputs": [],
   "source": []
  }
 ],
 "metadata": {
  "kernelspec": {
   "display_name": "Python 3 (ipykernel)",
   "language": "python",
   "name": "python3"
  },
  "language_info": {
   "codemirror_mode": {
    "name": "ipython",
    "version": 3
   },
   "file_extension": ".py",
   "mimetype": "text/x-python",
   "name": "python",
   "nbconvert_exporter": "python",
   "pygments_lexer": "ipython3",
   "version": "3.10.16"
  }
 },
 "nbformat": 4,
 "nbformat_minor": 5
}
