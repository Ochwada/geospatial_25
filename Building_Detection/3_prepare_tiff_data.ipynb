{
 "cells": [
  {
   "cell_type": "code",
   "execution_count": 3,
   "id": "bc00d48c-5cf9-4c08-b293-977727642a69",
   "metadata": {},
   "outputs": [],
   "source": [
    "import os\n",
    "import rasterio as ras\n",
    "import numpy as np \n",
    "import matplotlib.pyplot as plt"
   ]
  },
  {
   "cell_type": "code",
   "execution_count": 4,
   "id": "19d777f1-c47f-45d8-bd7e-8476b6c89dee",
   "metadata": {},
   "outputs": [],
   "source": [
    "# Input folder with TIFF files\n",
    "\n",
    "input_folder = \"data/downloaded_tiffs\"\n",
    "output_folder = \"data/processed_tiffs\"\n",
    "os.makedirs(output_folder, exist_ok=True)"
   ]
  },
  {
   "cell_type": "code",
   "execution_count": 5,
   "id": "03fd7599-9062-4c16-8ed7-7ff40839fd94",
   "metadata": {},
   "outputs": [],
   "source": [
    "def process_tiff(tiff_path, output_path):\n",
    "    # Open and normalize the TIFF file\n",
    "    with ras.open(tiff_path) as src:\n",
    "        data = src.read(1) # Read the first band\n",
    "        profile = src.profile # Metadata\n",
    "\n",
    "        #Normalize data\n",
    "        normalized_data = (data - np.min(data)) / (np.max(data) - np.min(data))\n",
    "\n",
    "        # Save the processed TIFF file\n",
    "        profile.update(dtype='float32')  # Update metadata to match processed data\n",
    "        with ras.open(output_path, 'w', **profile) as dst:\n",
    "            dst.write(normalized_data.astype('float32'), 1)\n",
    "            print(f\"Processed and saved: {output_path}\")\n",
    "\n",
    "# Process all TIFF files in the folder\n",
    "for tiff_file in os.listdir(input_folder):\n",
    "    if tiff_file.endswith(\".tiff\") or tiff_file.endswith(\".tif\")\n",
    "    input_path = os.path.join(input_folder, f\"processed_{tiff_file}\")"
   ]
  },
  {
   "cell_type": "code",
   "execution_count": null,
   "id": "e0c381f5-7b60-400b-8e22-0bb84520c0b9",
   "metadata": {},
   "outputs": [],
   "source": []
  }
 ],
 "metadata": {
  "kernelspec": {
   "display_name": "Python (geo_ai)",
   "language": "python",
   "name": "geo_ai"
  },
  "language_info": {
   "codemirror_mode": {
    "name": "ipython",
    "version": 3
   },
   "file_extension": ".py",
   "mimetype": "text/x-python",
   "name": "python",
   "nbconvert_exporter": "python",
   "pygments_lexer": "ipython3",
   "version": "3.12.8"
  }
 },
 "nbformat": 4,
 "nbformat_minor": 5
}
