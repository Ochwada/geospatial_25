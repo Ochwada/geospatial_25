{
 "cells": [
  {
   "cell_type": "code",
   "execution_count": null,
   "id": "7b68befb-2539-4cd5-b0ac-2a3294d7a09b",
   "metadata": {},
   "outputs": [],
   "source": [
    "import torch\n",
    "import torch_directml\n",
    "\n",
    "device = torch_directml.device(torch_directml.default_device()) "
   ]
  }
 ],
 "metadata": {
  "kernelspec": {
   "display_name": "Python (directml)",
   "language": "python",
   "name": "directml"
  },
  "language_info": {
   "codemirror_mode": {
    "name": "ipython",
    "version": 3
   },
   "file_extension": ".py",
   "mimetype": "text/x-python",
   "name": "python",
   "nbconvert_exporter": "python",
   "pygments_lexer": "ipython3",
   "version": "3.10.16"
  }
 },
 "nbformat": 4,
 "nbformat_minor": 5
}
