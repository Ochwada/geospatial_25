import os
import rasterio as ras
import numpy as np 
import matplotlib.pyplot as plt

import cv2
from rasterio.windows import Window
from rasterio.enums import Resampling
from osgeo import gdal


#Define input and output folders

input_folder = "data/downloaded_jp2"  # Path to raw jp2 files
output_folder = "data/output_tiffs"  # Path to save output tiff files
os.makedirs(output_folder, exist_ok=True)  # Create the output folder if it doesn't exist


gdal.AllRegister()  # Register all available drivers
drivers = [gdal.GetDriver(i).ShortName for i in range(gdal.GetDriverCount())]
print("JP2OpenJPEG" in drivers)  # Should print True if the driver is available


# Loop through all files in the input folder
for filename in os.listdir(input_folder):
    if filename.endswith(".jp2"):  # Process only .jp2 files
        input_path = os.path.join(input_folder, filename)
        output_path = os.path.join(output_folder, filename.replace(".jp2", ".tif"))

        # Convert each .jp2 file to .tif
        with ras.open(input_path) as src:
            profile = src.profile  # Retrieve the metadata/profile of the input file
            data = src.read()      # Read the raster data from the file

            # Update the profile for GeoTIFF output
            profile.update(driver='GTiff')

            # Write the data to a new GeoTIFF file
            with ras.open(output_path, 'w', **profile) as dst:
                dst.write(data)

        print(f"Converted {input_path} to {output_path}")

print("Batch processing complete!")



