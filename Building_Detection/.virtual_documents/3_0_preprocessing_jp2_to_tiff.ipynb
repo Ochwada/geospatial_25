import os
from osgeo import gdal


#Define input and output folders

input_dir = "Z:/BuildingDetection/downloaded_jp2_less"  # Path to raw jp2 files
output_dir = "Z:/BuildingDetection/dopJP2_to_tiff"  # Path to save output tiff files

os.makedirs(output_dir, exist_ok=True)  # Create the output folder if it doesn't exist


gdal.AllRegister()  # Register all available drivers
drivers = [gdal.GetDriver(i).ShortName for i in range(gdal.GetDriverCount())]
print("JP2OpenJPEG" in drivers)  # Should print True if the driver is available


# Loop through JP2 files in the input directory
for file_name in os.listdir(input_dir):
    if file_name.endswith(".jp2"):  # Check for JP2 files
        input_path = os.path.join(input_dir, file_name)
        output_path = os.path.join(output_dir, file_name.replace(".jp2", ".tiff"))
        
        try:
            # Open the JP2 file
            dataset = gdal.Open(input_path)
            
            if not dataset:
                print(f"Error: Could not open {input_path}")
                continue
            
            # Convert and save as TIFF
            gdal.Translate(output_path, dataset, format="GTiff")
            print(f"Converted: {file_name} to {output_path}")
        except Exception as e:
            print(f"Failed to process {file_name}: {e}")

print("Batch processing complete!")



