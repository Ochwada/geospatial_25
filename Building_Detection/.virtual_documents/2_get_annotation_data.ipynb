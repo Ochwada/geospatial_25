


import boto3
import os


# Configure AWS S3 client
s3_client = boto3.client('s3')


# Define the bucket name and paths
bucket_name = "spacenet-dataset"
train_tarball_path = "spacenet/SN6_buildings/tarballs/SN6_buildings_AOI_11_Rotterdam_train.tar.gz"
test_tarball_path = "spacenet/SN6_buildings/tarballs/SN6_buildings_AOI_11_Rotterdam_test_public.tar.gz"
expanded_dataset_path = "AOIs/AOI_11_Rotterdam/"


# Define local directories
download_dir = "./data/spacenet_data/"
os.makedirs(download_dir, exist_ok=True)


def download_file(bucket, s3_key, local_path):
    """Download a file from S3."""
    file_name = os.path.basename(s3_key)
    local_file_path = os.path.join(local_path, file_name)
    print(f"Downloading {file_name}...")
    
    s3_client.download_file(bucket, s3_key, local_file_path)
    print(f"Saved to {local_file_path}")


def list_s3_objects(bucket, prefix):
    """List objects in an S3 bucket."""
    print(f"Listing contents of {prefix}...")
    response = s3_client.list_objects_v2(Bucket=bucket, Prefix=prefix)
    if 'Contents' in response:
        for obj in response['Contents']:
            print(f" - {obj['Key']}")
    else:
        print("No objects found.")



# Download the training and testing tarballs
download_file(bucket_name, train_tarball_path, download_dir)
download_file(bucket_name, test_tarball_path, download_dir)


# List files in the expanded dataset
list_of_objects = list_s3_objects(bucket_name, expanded_dataset_path)
list_of_objects



