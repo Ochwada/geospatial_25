import tarfile
import os





# Path to the .tar.gz file
input_tar_gz = "data/spacenet_data/SN6_buildings_AOI_11_Rotterdam_test_public.tar.gz"

# Directory to extract the files
output_dir = "path/to/output_folder"
os.makedirs(output_dir, exist_ok=True)  # Create the output directory if it doesn't exist

# Extract the .tar.gz file
with tarfile.open(input_tar_gz, "r:gz") as tar:
    tar.extractall(path=output_dir)
    print(f"Extracted {input_tar_gz} to {output_dir}")

