


import tarfile
import os

# Path to the .tar.gz file
#Rotterdam_test_tar_gz = "data/spacenet_data/SN6_buildings_AOI_11_Rotterdam_test_public.tar.gz"
Rotterdam_train_tar_gz = "data/spacenet_data/SN6_buildings_AOI_11_Rotterdam_train.tar.gz"

# Directory to extract the files
#Rotterdam_test_output_dir = "data/spacenet_data/SN6_buildings_AOI_11_Rotterdam_test_public"
Rotterdam_train_output_dir = "data/spacenet_data/SN6_buildings_AOI_11_Rotterdam_train"

#os.makedirs(Rotterdam_test_output_dir, exist_ok=True)  # Create the output directory if it doesn't exist
os.makedirs(Rotterdam_train_output_dir, exist_ok=True)  # Create the output directory if it doesn't exist


# Extract the .tar.gz file
with tarfile.open(Rotterdam_train_tar_gz, "r:gz") as tar:
    tar.extractall(path=Rotterdam_train_output_dir)
    print(f"Extracted {Rotterdam_train_tar_gz} to {Rotterdam_train_output_dir}")


#with tarfile.open(Rotterdam_test_tar_gz, "r:gz") as tar:
#    tar.extractall(path=Rotterdam_test_output_dir)
#    print(f"Extracted {Rotterdam_test_tar_gz} to {Rotterdam_test_output_dir}")




