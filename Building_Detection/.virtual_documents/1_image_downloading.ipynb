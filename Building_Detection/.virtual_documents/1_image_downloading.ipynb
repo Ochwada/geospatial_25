import requests 
import os


# Define the URL and output folder
url = "https://www.opengeodata.nrw.de/produkte/geobasis/lusat/akt/dop/dop_jp2_f10/"
output_folder = "Z:/BuildingDetection/downloaded_jp2_less"


# The list of .tiff files to be downloaded
to_be_downloaded = [
    "dop10rgbi_32_280_5652_1_nw_2023.jp2", "dop10rgbi_32_280_5653_1_nw_2023.jp2", "dop10rgbi_32_280_5654_1_nw_2023.jp2",
    "dop10rgbi_32_280_5655_1_nw_2023.jp2", "dop10rgbi_32_280_5656_1_nw_2023.jp2", "dop10rgbi_32_280_5657_1_nw_2023.jp2",
    "dop10rgbi_32_280_5658_1_nw_2023.jp2", "dop10rgbi_32_280_5659_1_nw_2023.jp2", "dop10rgbi_32_280_5660_1_nw_2023.jp2",

 #   "dop10rgbi_32_281_5652_1_nw_2023.jp2", "dop10rgbi_32_281_5653_1_nw_2023.jp2", "dop10rgbi_32_281_5654_1_nw_2023.jp2",
 #   "dop10rgbi_32_281_5655_1_nw_2023.jp2", "dop10rgbi_32_281_5656_1_nw_2023.jp2", "dop10rgbi_32_281_5657_1_nw_2023.jp2",
 #   "dop10rgbi_32_281_5658_1_nw_2023.jp2", "dop10rgbi_32_281_5659_1_nw_2023.jp2", "dop10rgbi_32_281_5660_1_nw_2023.jp2",

 #   "dop10rgbi_32_282_5652_1_nw_2023.jp2", "dop10rgbi_32_282_5653_1_nw_2023.jp2", "dop10rgbi_32_282_5654_1_nw_2023.jp2",
 #   "dop10rgbi_32_282_5655_1_nw_2023.jp2", "dop10rgbi_32_282_5656_1_nw_2023.jp2", "dop10rgbi_32_282_5657_1_nw_2023.jp2",
  #  "dop10rgbi_32_282_5658_1_nw_2023.jp2", "dop10rgbi_32_282_5659_1_nw_2023.jp2", "dop10rgbi_32_282_5660_1_nw_2023.jp2",

  #  "dop10rgbi_32_283_5652_1_nw_2023.jp2", "dop10rgbi_32_283_5653_1_nw_2023.jp2", "dop10rgbi_32_283_5654_1_nw_2023.jp2",
  #  "dop10rgbi_32_283_5655_1_nw_2023.jp2", "dop10rgbi_32_283_5656_1_nw_2023.jp2", "dop10rgbi_32_283_5657_1_nw_2023.jp2",
 #   "dop10rgbi_32_283_5658_1_nw_2023.jp2", "dop10rgbi_32_283_5659_1_nw_2023.jp2", "dop10rgbi_32_283_5660_1_nw_2023.jp2",

  #  "dop10rgbi_32_284_5652_1_nw_2023.jp2", "dop10rgbi_32_284_5653_1_nw_2023.jp2", "dop10rgbi_32_284_5654_1_nw_2023.jp2",
  #  "dop10rgbi_32_284_5655_1_nw_2023.jp2", "dop10rgbi_32_284_5656_1_nw_2023.jp2", "dop10rgbi_32_284_5657_1_nw_2023.jp2",
  #  "dop10rgbi_32_284_5658_1_nw_2023.jp2", "dop10rgbi_32_284_5659_1_nw_2023.jp2", "dop10rgbi_32_284_5660_1_nw_2023.jp2",

  #  "dop10rgbi_32_285_5652_1_nw_2023.jp2", "dop10rgbi_32_285_5653_1_nw_2023.jp2", "dop10rgbi_32_285_5654_1_nw_2023.jp2",
  #  "dop10rgbi_32_285_5655_1_nw_2023.jp2", "dop10rgbi_32_285_5656_1_nw_2023.jp2", "dop10rgbi_32_285_5657_1_nw_2023.jp2",
  #  "dop10rgbi_32_285_5658_1_nw_2023.jp2", "dop10rgbi_32_285_5659_1_nw_2023.jp2", "dop10rgbi_32_285_5660_1_nw_2023.jp2",
    
]


# Create an output folder if it does not exist
os.makedirs(output_folder, exist_ok = True)


# Function to download files

def download_jp2_files(url, to_be_downloaded, output_folder):
    for jp2_file in to_be_downloaded:
        # Construct the file URL
        jp2_url = url + jp2_file
        file_path = os.path.join(output_folder, jp2_file)

        print(f"Downloading {jp2_url} to {file_path} ...")

        # Send the request and download the file
        file_response = requests.get(jp2_url, stream=True)
        if file_response.status_code == 200:
            with open(file_path, 'wb') as file:
                for chunk in file_response.iter_content(chunk_size=8192):
                    file.write(chunk)
            print(f"Downloaded: {file_path}")
        else:
            print(f"Failed to download {jp2_url}. Status code: {file_response.status_code}")

# Run the function to download jp2 files
download_jp2_files(url, to_be_downloaded, output_folder)



