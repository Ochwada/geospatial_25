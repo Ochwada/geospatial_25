{
 "cells": [
  {
   "cell_type": "markdown",
   "id": "52fea53d-e66d-40ca-847a-75f8cc937f74",
   "metadata": {},
   "source": [
    "### File Extraction from .tar"
   ]
  },
  {
   "cell_type": "code",
   "execution_count": null,
   "id": "3345d282-51fd-4619-8711-f2c7ca92151f",
   "metadata": {},
   "outputs": [],
   "source": [
    "import tarfile\n",
    "import os\n",
    "\n",
    "# Path to the .tar.gz file\n",
    "#Rotterdam_test_tar_gz = \"data/spacenet_data/SN6_buildings_AOI_11_Rotterdam_test_public.tar.gz\"\n",
    "Rotterdam_train_tar_gz = \"Z:/BuildingDetection/spacenet_data/SN6_buildings_AOI_11_Rotterdam_train.tar.gz\"\n",
    "\n",
    "# Directory to extract the files\n",
    "#Rotterdam_test_output_dir = \"data/spacenet_data/SN6_buildings_AOI_11_Rotterdam_test_public\"\n",
    "Rotterdam_train_output_dir = \"Z:/BuildingDetection/spacenet_data/SN6_buildings_AOI_11_Rotterdam_train\"\n",
    "\n",
    "#os.makedirs(Rotterdam_test_output_dir, exist_ok=True)  # Create the output directory if it doesn't exist\n",
    "os.makedirs(Rotterdam_train_output_dir, exist_ok=True)  # Create the output directory if it doesn't exist\n",
    "\n",
    "\n",
    "# Extract the .tar.gz file\n",
    "with tarfile.open(Rotterdam_train_tar_gz, \"r:gz\") as tar:\n",
    "    tar.extractall(path=Rotterdam_train_output_dir)\n",
    "    print(f\"Extracted {Rotterdam_train_tar_gz} to {Rotterdam_train_output_dir}\")\n",
    "\n",
    "\n",
    "#with tarfile.open(Rotterdam_test_tar_gz, \"r:gz\") as tar:\n",
    "#    tar.extractall(path=Rotterdam_test_output_dir)\n",
    "#    print(f\"Extracted {Rotterdam_test_tar_gz} to {Rotterdam_test_output_dir}\")\n"
   ]
  },
  {
   "cell_type": "code",
   "execution_count": null,
   "id": "72c9a141-5a35-4435-b306-9c421d7b0f01",
   "metadata": {},
   "outputs": [],
   "source": [
    "import rasterio\n",
    "\n",
    "file_path = \"Z:/BuildingDetection/dop_tilled/dop10rgbi_32_280_5652_1_nw_2023_tile_0_0.tif\"\n",
    "\n",
    "# Use the correct variable name\n",
    "with rasterio.open(file_path) as src:\n",
    "    print(f\"Number of bands: {src.count}\")\n",
    "    print(f\"Shape: {src.width}x{src.height}\")\n"
   ]
  },
  {
   "cell_type": "code",
   "execution_count": null,
   "id": "525b3652-0d75-4a44-b71f-07c35a11d53d",
   "metadata": {},
   "outputs": [],
   "source": [
    "\n",
    "import matplotlib.pyplot as plt\n",
    "\n",
    "#file_path = \"Z:/BuildingDetection/dop_tilled/dop10rgbi_32_280_5652_1_nw_2023_tile_0_0.tif\"\n",
    "file_path = \"data/dop_resampled_crs_Normalize/dop10rgbi_32_280_5652_1_nw_2023.tif\"\n",
    "\n",
    "with rasterio.open(file_path) as src:\n",
    "    print(f\"Number of bands: {src.count}\")\n",
    "    print(f\"Shape: {src.width}x{src.height}\")\n",
    "    \n",
    "    # Read all bands\n",
    "    bands = [src.read(i) for i in range(1, src.count + 1)]\n",
    "    \n",
    "    # Display each band\n",
    "    for i, band in enumerate(bands, start=1):\n",
    "        plt.figure(figsize=(5, 5))\n",
    "        plt.title(f\"Band {i}\")\n",
    "        plt.imshow(band, cmap='gray')\n",
    "        plt.colorbar()\n",
    "        plt.show()\n"
   ]
  },
  {
   "cell_type": "code",
   "execution_count": null,
   "id": "a55b8856-da0a-40b4-a38d-81cc5a522756",
   "metadata": {},
   "outputs": [],
   "source": [
    "import numpy as np\n",
    "\n",
    "# Stack all bands into a single array\n",
    "data = np.stack(bands, axis=-1)  # Shape will be (256, 256, 4)\n",
    "\n",
    "# Normalize for ML\n",
    "data = data / 255.0  # If pixel values range from 0-255\n",
    "\n",
    "print(\"Data shape for ML:\", data.shape)\n"
   ]
  },
  {
   "cell_type": "code",
   "execution_count": null,
   "id": "6adf1afb-f147-4c6c-88de-60396cc60616",
   "metadata": {},
   "outputs": [],
   "source": [
    "rgb = np.stack([bands[0], bands[1], bands[2]], axis=-1)\n",
    "\n",
    "# Normalize to 0-1 based on the data range\n",
    "rgb_normalized = (rgb - rgb.min()) / (rgb.max() - rgb.min())\n",
    "\n",
    "plt.figure(figsize=(6, 6))\n",
    "plt.title(\"RGB Image\")\n",
    "plt.imshow(rgb_normalized)\n",
    "plt.show()\n"
   ]
  },
  {
   "cell_type": "code",
   "execution_count": null,
   "id": "64f09040-0003-4466-bea5-ef6eefecacee",
   "metadata": {},
   "outputs": [],
   "source": []
  }
 ],
 "metadata": {
  "kernelspec": {
   "display_name": "Python (geo_ai)",
   "language": "python",
   "name": "geo_ai"
  },
  "language_info": {
   "codemirror_mode": {
    "name": "ipython",
    "version": 3
   },
   "file_extension": ".py",
   "mimetype": "text/x-python",
   "name": "python",
   "nbconvert_exporter": "python",
   "pygments_lexer": "ipython3",
   "version": "3.12.8"
  }
 },
 "nbformat": 4,
 "nbformat_minor": 5
}
