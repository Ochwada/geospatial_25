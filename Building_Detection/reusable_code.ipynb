{
 "cells": [
  {
   "cell_type": "markdown",
   "id": "52fea53d-e66d-40ca-847a-75f8cc937f74",
   "metadata": {},
   "source": [
    "### File Extraction from .tar"
   ]
  },
  {
   "cell_type": "code",
   "execution_count": 1,
   "id": "3345d282-51fd-4619-8711-f2c7ca92151f",
   "metadata": {},
   "outputs": [
    {
     "name": "stderr",
     "output_type": "stream",
     "text": [
      "C:\\Users\\Ochwada\\AppData\\Local\\Temp\\ipykernel_17460\\2657397131.py:18: DeprecationWarning: Python 3.14 will, by default, filter extracted tar archives and reject files or modify their metadata. Use the filter argument to control this behavior.\n",
      "  tar.extractall(path=Rotterdam_train_output_dir)\n"
     ]
    },
    {
     "name": "stdout",
     "output_type": "stream",
     "text": [
      "Extracted data/spacenet_data/SN6_buildings_AOI_11_Rotterdam_train.tar.gz to data/spacenet_data/SN6_buildings_AOI_11_Rotterdam_train\n"
     ]
    }
   ],
   "source": [
    "import tarfile\n",
    "import os\n",
    "\n",
    "# Path to the .tar.gz file\n",
    "#Rotterdam_test_tar_gz = \"data/spacenet_data/SN6_buildings_AOI_11_Rotterdam_test_public.tar.gz\"\n",
    "Rotterdam_train_tar_gz = \"data/spacenet_data/SN6_buildings_AOI_11_Rotterdam_train.tar.gz\"\n",
    "\n",
    "# Directory to extract the files\n",
    "#Rotterdam_test_output_dir = \"data/spacenet_data/SN6_buildings_AOI_11_Rotterdam_test_public\"\n",
    "Rotterdam_train_output_dir = \"data/spacenet_data/SN6_buildings_AOI_11_Rotterdam_train\"\n",
    "\n",
    "#os.makedirs(Rotterdam_test_output_dir, exist_ok=True)  # Create the output directory if it doesn't exist\n",
    "os.makedirs(Rotterdam_train_output_dir, exist_ok=True)  # Create the output directory if it doesn't exist\n",
    "\n",
    "\n",
    "# Extract the .tar.gz file\n",
    "with tarfile.open(Rotterdam_train_tar_gz, \"r:gz\") as tar:\n",
    "    tar.extractall(path=Rotterdam_train_output_dir)\n",
    "    print(f\"Extracted {Rotterdam_train_tar_gz} to {Rotterdam_train_output_dir}\")\n",
    "\n",
    "\n",
    "#with tarfile.open(Rotterdam_test_tar_gz, \"r:gz\") as tar:\n",
    "#    tar.extractall(path=Rotterdam_test_output_dir)\n",
    "#    print(f\"Extracted {Rotterdam_test_tar_gz} to {Rotterdam_test_output_dir}\")\n"
   ]
  },
  {
   "cell_type": "code",
   "execution_count": null,
   "id": "72c9a141-5a35-4435-b306-9c421d7b0f01",
   "metadata": {},
   "outputs": [],
   "source": []
  }
 ],
 "metadata": {
  "kernelspec": {
   "display_name": "Python (geo_ai)",
   "language": "python",
   "name": "geo_ai"
  },
  "language_info": {
   "codemirror_mode": {
    "name": "ipython",
    "version": 3
   },
   "file_extension": ".py",
   "mimetype": "text/x-python",
   "name": "python",
   "nbconvert_exporter": "python",
   "pygments_lexer": "ipython3",
   "version": "3.12.8"
  }
 },
 "nbformat": 4,
 "nbformat_minor": 5
}
