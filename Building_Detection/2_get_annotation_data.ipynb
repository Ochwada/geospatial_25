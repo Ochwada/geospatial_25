{
 "cells": [
  {
   "cell_type": "markdown",
   "id": "bb476ca5-30de-482f-a80f-f988af71e7ca",
   "metadata": {},
   "source": [
    "#### The Data – Over 120 sq km of both high resolution synthetic aperture radar (SAR) data and electro optical (EO) imagery with ~48,000 building footprint labels of Rotterdam, The Netherlands\n",
    "\n",
    "\n",
    "\n",
    "| AOI | Area of Raster (Sq. Km)  | Building Footprint Labels (Km)   |\n",
    "|------------|------------|------------|\n",
    "|AOI_11_Rotterdam | 120 | 48,000|\n"
   ]
  },
  {
   "cell_type": "code",
   "execution_count": 8,
   "id": "6357becb-f51f-47a1-82ac-ce0756866f84",
   "metadata": {},
   "outputs": [],
   "source": [
    "import boto3\n",
    "import os"
   ]
  },
  {
   "cell_type": "code",
   "execution_count": 9,
   "id": "85ad05d1-304c-439b-a855-e978763ab9bc",
   "metadata": {},
   "outputs": [],
   "source": [
    "# Configure AWS S3 client\n",
    "s3_client = boto3.client('s3')"
   ]
  },
  {
   "cell_type": "code",
   "execution_count": 10,
   "id": "f1f341c2-7a96-41d7-9b58-b7dff744f5c6",
   "metadata": {},
   "outputs": [],
   "source": [
    "# Define the bucket name and paths\n",
    "bucket_name = \"spacenet-dataset\"\n",
    "train_tarball_path = \"spacenet/SN6_buildings/tarballs/SN6_buildings_AOI_11_Rotterdam_train.tar.gz\"\n",
    "test_tarball_path = \"spacenet/SN6_buildings/tarballs/SN6_buildings_AOI_11_Rotterdam_test_public.tar.gz\"\n",
    "expanded_dataset_path = \"AOIs/AOI_11_Rotterdam/\""
   ]
  },
  {
   "cell_type": "code",
   "execution_count": 11,
   "id": "5ae493f5-1967-4cf8-8569-764de1c87348",
   "metadata": {},
   "outputs": [],
   "source": [
    "# Define local directories\n",
    "download_dir = \"./data/spacenet_data/\"\n",
    "os.makedirs(download_dir, exist_ok=True)"
   ]
  },
  {
   "cell_type": "code",
   "execution_count": 12,
   "id": "20ea76a1-ef5d-425e-a3a0-3bb984361e17",
   "metadata": {},
   "outputs": [],
   "source": [
    "def download_file(bucket, s3_key, local_path):\n",
    "    \"\"\"Download a file from S3.\"\"\"\n",
    "    file_name = os.path.basename(s3_key)\n",
    "    local_file_path = os.path.join(local_path, file_name)\n",
    "    print(f\"Downloading {file_name}...\")\n",
    "    \n",
    "    s3_client.download_file(bucket, s3_key, local_file_path)\n",
    "    print(f\"Saved to {local_file_path}\")"
   ]
  },
  {
   "cell_type": "code",
   "execution_count": 13,
   "id": "779cbe93-be96-42f3-9ba1-2aa6bc126f7c",
   "metadata": {},
   "outputs": [],
   "source": [
    "def list_s3_objects(bucket, prefix):\n",
    "    \"\"\"List objects in an S3 bucket.\"\"\"\n",
    "    print(f\"Listing contents of {prefix}...\")\n",
    "    response = s3_client.list_objects_v2(Bucket=bucket, Prefix=prefix)\n",
    "    if 'Contents' in response:\n",
    "        for obj in response['Contents']:\n",
    "            print(f\" - {obj['Key']}\")\n",
    "    else:\n",
    "        print(\"No objects found.\")\n"
   ]
  },
  {
   "cell_type": "code",
   "execution_count": 14,
   "id": "fc28bc15-9dae-4d45-8aa9-ae8c99c9d4e1",
   "metadata": {},
   "outputs": [
    {
     "name": "stdout",
     "output_type": "stream",
     "text": [
      "Downloading SN6_buildings_AOI_11_Rotterdam_train.tar.gz...\n",
      "Saved to ./spacenet_data/SN6_buildings_AOI_11_Rotterdam_train.tar.gz\n",
      "Downloading SN6_buildings_AOI_11_Rotterdam_test_public.tar.gz...\n",
      "Saved to ./spacenet_data/SN6_buildings_AOI_11_Rotterdam_test_public.tar.gz\n"
     ]
    }
   ],
   "source": [
    "# Download the training and testing tarballs\n",
    "download_file(bucket_name, train_tarball_path, download_dir)\n",
    "download_file(bucket_name, test_tarball_path, download_dir)"
   ]
  },
  {
   "cell_type": "code",
   "execution_count": 1,
   "id": "c079fff1-d964-41bd-9d0d-12f57108e508",
   "metadata": {},
   "outputs": [],
   "source": [
    "# List files in the expanded dataset\n",
    "#list_of_objects = list_s3_objects(bucket_name, expanded_dataset_path)\n",
    "#list_of_objects"
   ]
  },
  {
   "cell_type": "code",
   "execution_count": null,
   "id": "f98070b5-e7e1-416b-b9ff-94d2e13dc315",
   "metadata": {},
   "outputs": [],
   "source": []
  }
 ],
 "metadata": {
  "kernelspec": {
   "display_name": "Python (geo_ai)",
   "language": "python",
   "name": "geo_ai"
  },
  "language_info": {
   "codemirror_mode": {
    "name": "ipython",
    "version": 3
   },
   "file_extension": ".py",
   "mimetype": "text/x-python",
   "name": "python",
   "nbconvert_exporter": "python",
   "pygments_lexer": "ipython3",
   "version": "3.12.8"
  }
 },
 "nbformat": 4,
 "nbformat_minor": 5
}
