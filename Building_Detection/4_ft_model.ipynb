{
 "cells": [
  {
   "cell_type": "code",
   "execution_count": 1,
   "id": "8782cc8b-65be-47d0-9676-4552a4ea5329",
   "metadata": {},
   "outputs": [],
   "source": [
    "import rasterio\n",
    "from skimage.exposure import match_histograms"
   ]
  },
  {
   "cell_type": "code",
   "execution_count": 2,
   "id": "e714ef36-036c-4d7a-9662-daaa1ff9b0e4",
   "metadata": {},
   "outputs": [],
   "source": [
    "sar_path = \"D:/Personal_Projects/Geospatial/Building_Detection/data/spacenet_data/SN6_buildings_AOI_11_Rotterdam_test_public/test_public/AOI_11_Rotterdam/SAR-Intensity/SN6_Test_Public_AOI_11_Rotterdam_SAR-Intensity_20190804111224_20190804111453_tile_8697.tif\"\n",
    "dop_path = \"Z:/BuildingDetection/dop_Resample/dop10rgbi_32_280_5652_1_nw_2023.tiff\""
   ]
  },
  {
   "cell_type": "code",
   "execution_count": 3,
   "id": "77585936-d966-4345-8e65-29d6b641aa45",
   "metadata": {},
   "outputs": [],
   "source": [
    "# Load SpaceNet 6 SAR-Intensity image (test data)\n",
    "with rasterio.open(sar_path) as src:\n",
    "    spacenet_ref = src.read()  # Shape: (bands, height, width)\n",
    "    spacenet_meta = src.meta\n",
    "\n",
    "# Load DOP image\n",
    "with rasterio.open(dop_path) as src:\n",
    "    dop_image = src.read()\n",
    "    dop_meta = src.meta"
   ]
  },
  {
   "cell_type": "code",
   "execution_count": null,
   "id": "05519c92-9d9c-4fa3-ad20-1f2494abfd3f",
   "metadata": {},
   "outputs": [],
   "source": [
    "#  Match Histograms - lign the DOP’s RGB bands with the reference:"
   ]
  }
 ],
 "metadata": {
  "kernelspec": {
   "display_name": "Python (directml)",
   "language": "python",
   "name": "directml"
  },
  "language_info": {
   "codemirror_mode": {
    "name": "ipython",
    "version": 3
   },
   "file_extension": ".py",
   "mimetype": "text/x-python",
   "name": "python",
   "nbconvert_exporter": "python",
   "pygments_lexer": "ipython3",
   "version": "3.10.16"
  }
 },
 "nbformat": 4,
 "nbformat_minor": 5
}
