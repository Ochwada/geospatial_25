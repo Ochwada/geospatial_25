{
 "cells": [
  {
   "cell_type": "code",
   "execution_count": 1,
   "id": "e60304cf-9ef9-4d8f-be77-3c5c97c634f1",
   "metadata": {},
   "outputs": [],
   "source": [
    "import requests \n",
    "import os"
   ]
  },
  {
   "cell_type": "code",
   "execution_count": 2,
   "id": "45a786be-e318-4ed9-812b-989f40e4dc20",
   "metadata": {},
   "outputs": [],
   "source": [
    "# Define the URL and output folder\n",
    "url = \"https://www.opengeodata.nrw.de/produkte/geobasis/hm/dgm1_tiff/dgm1_tiff/\"\n",
    "output_folder = \"downloaded_tiffs\""
   ]
  },
  {
   "cell_type": "code",
   "execution_count": 3,
   "id": "539d7793-51c5-4967-aa35-8ab9055d5c92",
   "metadata": {},
   "outputs": [],
   "source": [
    "# The list of .tiff files to be downloaded\n",
    "to_be_downloaded = [\n",
    "\"dgm1_32_444_5770_1_nw_2023.tif\", \"dgm1_32_444_5771_1_nw_2023.tif\", \"dgm1_32_444_5772_1_nw_2023.tif\", \"dgm1_32_444_5773_1_nw_2023.tif\",\n",
    "    \n",
    "\"dgm1_32_445_5770_1_nw_2023.tif\", \"dgm1_32_445_5771_1_nw_2023.tif\", \"dgm1_32_445_5772_1_nw_2023.tif\", \"dgm1_32_445_5773_1_nw_2023.tif\",\n",
    "    \n",
    "\"dgm1_32_446_5770_1_nw_2023.tif\", \"dgm1_32_446_5771_1_nw_2023.tif\", \"dgm1_32_446_5772_1_nw_2023.tif\", \"dgm1_32_446_5773_1_nw_2023.tif\",\n",
    "\"dgm1_32_446_5774_1_nw_2023.tif\", \"dgm1_32_446_5775_1_nw_2023.tif\",\n",
    "    \n",
    "\"dgm1_32_447_5770_1_nw_2023.tif\", \"dgm1_32_447_5771_1_nw_2023.tif\", \"dgm1_32_447_5772_1_nw_2023.tif\", \"dgm1_32_447_5773_1_nw_2023.tif\", \n",
    "\"dgm1_32_447_5774_1_nw_2023.tif\", \"dgm1_32_447_5775_1_nw_2023.tif\",\n",
    "    \n",
    "\"dgm1_32_448_5770_1_nw_2023.tif\",\"dgm1_32_448_5771_1_nw_2023.tif\", \"dgm1_32_448_5772_1_nw_2023.tif\", \"dgm1_32_448_5773_1_nw_2023.tif\", \n",
    "\"dgm1_32_448_5774_1_nw_2023.tif\", \"dgm1_32_448_5775_1_nw_2023.tif\",\n",
    "    \n",
    "\"dgm1_32_449_5770_1_nw_2023.tif\", \"dgm1_32_449_5771_1_nw_2023.tif\", \"dgm1_32_449_5772_1_nw_2023.tif\", \"dgm1_32_449_5773_1_nw_2023.tif\", \n",
    "\"dgm1_32_449_5774_1_nw_2023.tif\", \"dgm1_32_449_5775_1_nw_2023.tif\",\n",
    "    \n",
    "\"dgm1_32_450_5730_1_nw_2023.tif\", \"dgm1_32_450_5731_1_nw_2023.tif\", \"dgm1_32_450_5732_1_nw_2023.tif\", \"dgm1_32_450_5733_1_nw_2023.tif\",\n",
    "\n",
    "\"dgm1_32_450_5770_1_nw_2023.tif\", \"dgm1_32_450_5771_1_nw_2023.tif\", \"dgm1_32_450_5772_1_nw_2023.tif\", \"dgm1_32_450_5773_1_nw_2023.tif\", \n",
    "\"dgm1_32_450_5774_1_nw_2023.tif\", \"dgm1_32_450_5775_1_nw_2023.tif\", \"dgm1_32_450_5776_1_nw_2023.tif\", \"dgm1_32_450_5777_1_nw_2023.tif\",\n",
    "\n",
    "\"dgm1_32_451_5730_1_nw_2023.tif\", \"dgm1_32_451_5731_1_nw_2023.tif\", \"dgm1_31_450_5732_1_nw_2023.tif\", \"dgm1_32_451_5733_1_nw_2023.tif\",\n",
    "\n",
    "\"dgm1_32_451_5770_1_nw_2023.tif\", \"dgm1_32_451_5771_1_nw_2023.tif\", \"dgm1_32_451_5772_1_nw_2023.tif\", \"dgm1_32_451_5773_1_nw_2023.tif\", \n",
    "\"dgm1_32_451_5774_1_nw_2023.tif\", \"dgm1_32_451_5775_1_nw_2023.tif\", \"dgm1_32_451_5776_1_nw_2023.tif\", \"dgm1_32_451_5777_1_nw_2023.tif\",\n",
    "\n",
    "\"dgm1_32_452_5730_1_nw_2023.tif\", \"dgm1_32_452_5731_1_nw_2023.tif\", \"dgm1_31_452_5732_1_nw_2023.tif\", \"dgm1_32_452_5733_1_nw_2023.tif\",\n",
    "\n",
    "\"dgm1_32_452_5770_1_nw_2023.tif\", \"dgm1_32_452_5771_1_nw_2023.tif\", \"dgm1_32_451_5772_2_nw_2023.tif\", \"dgm1_32_451_5773_2_nw_2023.tif\", \n",
    "\"dgm1_32_452_5774_1_nw_2023.tif\", \"dgm1_32_452_5775_1_nw_2023.tif\",\n",
    "]"
   ]
  },
  {
   "cell_type": "code",
   "execution_count": 4,
   "id": "a98f159f-7c1e-49dc-bce1-c552aef0b0d6",
   "metadata": {},
   "outputs": [],
   "source": [
    "# Create an output folder if it does not exist\n",
    "os.makedirs(output_folder, exist_ok = True)"
   ]
  },
  {
   "cell_type": "code",
   "execution_count": 7,
   "id": "6e15cd07-edc0-4e85-823a-49610a4864a1",
   "metadata": {},
   "outputs": [
    {
     "name": "stdout",
     "output_type": "stream",
     "text": [
      "Downloading https://www.opengeodata.nrw.de/produkte/geobasis/hm/dgm1_tiff/dgm1_tiff/dgm1_32_444_5770_1_nw_2023.tif to downloaded_tiffs\\dgm1_32_444_5770_1_nw_2023.tif ...\n",
      "Downloaded: downloaded_tiffs\\dgm1_32_444_5770_1_nw_2023.tif\n",
      "Downloading https://www.opengeodata.nrw.de/produkte/geobasis/hm/dgm1_tiff/dgm1_tiff/dgm1_32_444_5771_1_nw_2023.tif to downloaded_tiffs\\dgm1_32_444_5771_1_nw_2023.tif ...\n",
      "Downloaded: downloaded_tiffs\\dgm1_32_444_5771_1_nw_2023.tif\n",
      "Downloading https://www.opengeodata.nrw.de/produkte/geobasis/hm/dgm1_tiff/dgm1_tiff/dgm1_32_444_5772_1_nw_2023.tif to downloaded_tiffs\\dgm1_32_444_5772_1_nw_2023.tif ...\n",
      "Downloaded: downloaded_tiffs\\dgm1_32_444_5772_1_nw_2023.tif\n",
      "Downloading https://www.opengeodata.nrw.de/produkte/geobasis/hm/dgm1_tiff/dgm1_tiff/dgm1_32_444_5773_1_nw_2023.tif to downloaded_tiffs\\dgm1_32_444_5773_1_nw_2023.tif ...\n",
      "Downloaded: downloaded_tiffs\\dgm1_32_444_5773_1_nw_2023.tif\n",
      "Downloading https://www.opengeodata.nrw.de/produkte/geobasis/hm/dgm1_tiff/dgm1_tiff/dgm1_32_445_5770_1_nw_2023.tif to downloaded_tiffs\\dgm1_32_445_5770_1_nw_2023.tif ...\n",
      "Downloaded: downloaded_tiffs\\dgm1_32_445_5770_1_nw_2023.tif\n",
      "Downloading https://www.opengeodata.nrw.de/produkte/geobasis/hm/dgm1_tiff/dgm1_tiff/dgm1_32_445_5771_1_nw_2023.tif to downloaded_tiffs\\dgm1_32_445_5771_1_nw_2023.tif ...\n",
      "Downloaded: downloaded_tiffs\\dgm1_32_445_5771_1_nw_2023.tif\n",
      "Downloading https://www.opengeodata.nrw.de/produkte/geobasis/hm/dgm1_tiff/dgm1_tiff/dgm1_32_445_5772_1_nw_2023.tif to downloaded_tiffs\\dgm1_32_445_5772_1_nw_2023.tif ...\n",
      "Downloaded: downloaded_tiffs\\dgm1_32_445_5772_1_nw_2023.tif\n",
      "Downloading https://www.opengeodata.nrw.de/produkte/geobasis/hm/dgm1_tiff/dgm1_tiff/dgm1_32_445_5773_1_nw_2023.tif to downloaded_tiffs\\dgm1_32_445_5773_1_nw_2023.tif ...\n",
      "Downloaded: downloaded_tiffs\\dgm1_32_445_5773_1_nw_2023.tif\n"
     ]
    }
   ],
   "source": [
    "# Function to download files\n",
    "\n",
    "def download_tiff_files(url, to_be_downloaded, output_folder):\n",
    "    for tiff_file in to_be_downloaded:\n",
    "        #construct the file url\n",
    "        tiff_url = url + tiff_file\n",
    "        file_path = os.path.join(output_folder, tiff_file)\n",
    "\n",
    "        print(f\"Downloading {tiff_url} to {file_path} ...\")\n",
    "\n",
    "        # Send the request and download the file\n",
    "        file_response = requests.get(tiff_url, stream=True)\n",
    "        if file_response.status_code == 200:\n",
    "            with open(file_path, 'wb') as file:\n",
    "                for chunk in file_response.iter_content(chunk_size= 8192):\n",
    "                    file.write(chunk)\n",
    "            print(f\"Downloaded: {file_path}\")\n",
    "        else:\n",
    "            print(f\"Failed to download {tiff_url}. Status code: {file_response.status_code}\")\n",
    "\n",
    "\n",
    "# Run the function to download tiff files\n",
    "download_tiff_files(url, to_be_downloaded, output_folder)"
   ]
  },
  {
   "cell_type": "code",
   "execution_count": null,
   "id": "e918d9b0-721c-4f5a-bef0-6735921a3c7b",
   "metadata": {},
   "outputs": [],
   "source": []
  }
 ],
 "metadata": {
  "kernelspec": {
   "display_name": "Python 3 (ipykernel)",
   "language": "python",
   "name": "python3"
  },
  "language_info": {
   "codemirror_mode": {
    "name": "ipython",
    "version": 3
   },
   "file_extension": ".py",
   "mimetype": "text/x-python",
   "name": "python",
   "nbconvert_exporter": "python",
   "pygments_lexer": "ipython3",
   "version": "3.13.1"
  }
 },
 "nbformat": 4,
 "nbformat_minor": 5
}
