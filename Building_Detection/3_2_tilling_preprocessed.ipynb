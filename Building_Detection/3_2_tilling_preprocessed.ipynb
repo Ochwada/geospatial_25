{
 "cells": [
  {
   "cell_type": "markdown",
   "id": "5d9708a7-fa78-4397-b901-86e4fd63fa29",
   "metadata": {},
   "source": [
    "### Unified Code for Tiling"
   ]
  },
  {
   "cell_type": "code",
   "execution_count": 1,
   "id": "f3bb36f6-6b52-45d0-b073-5cf12897cc41",
   "metadata": {},
   "outputs": [],
   "source": [
    "import os\n",
    "import rasterio \n",
    "import numpy as np\n",
    "from rasterio.windows import Window\n",
    "from rasterio.transform import Affine\n",
    "\n",
    "from rasterio.enums import Resampling\n",
    "import albumentations as A\n",
    "from rasterio.features import rasterize\n",
    "import geopandas as gpd"
   ]
  },
  {
   "cell_type": "code",
   "execution_count": 2,
   "id": "4cd47161-76ae-407b-9c8d-822867aeca7f",
   "metadata": {},
   "outputs": [],
   "source": [
    "# Directories\n",
    "\n",
    "input_dop_rcn_folder = \"data/dop_resampled_crs_Normalize\"\n",
    "output_tiles_folder = \"Z:/BuildingDetection/dop_tilled\"\n",
    "\n",
    "os.makedirs(output_tiles_folder, exist_ok=True)"
   ]
  },
  {
   "cell_type": "code",
   "execution_count": 3,
   "id": "4b67e115-33a4-4e56-ad75-0b1154b30307",
   "metadata": {},
   "outputs": [],
   "source": [
    "# Tile size (in pixels)\n",
    "tile_size = 256"
   ]
  },
  {
   "cell_type": "code",
   "execution_count": 5,
   "id": "7f99a34d-1d7e-4421-b03d-1531708d55d0",
   "metadata": {},
   "outputs": [
    {
     "ename": "KeyboardInterrupt",
     "evalue": "",
     "output_type": "error",
     "traceback": [
      "\u001b[1;31m---------------------------------------------------------------------------\u001b[0m",
      "\u001b[1;31mCPLE_OpenFailedError\u001b[0m                      Traceback (most recent call last)",
      "File \u001b[1;32mrasterio\\\\_io.pyx:307\u001b[0m, in \u001b[0;36mrasterio._io._delete_dataset_if_exists\u001b[1;34m()\u001b[0m\n",
      "File \u001b[1;32mrasterio\\\\_base.pyx:221\u001b[0m, in \u001b[0;36mrasterio._base.open_dataset\u001b[1;34m()\u001b[0m\n",
      "File \u001b[1;32mrasterio\\\\_err.pyx:359\u001b[0m, in \u001b[0;36mrasterio._err.exc_wrap_pointer\u001b[1;34m()\u001b[0m\n",
      "\u001b[1;31mCPLE_OpenFailedError\u001b[0m: Z:/BuildingDetection/dop_tilled\\dop10rgbi_32_280_5652_1_nw_2023_tile_19_123.tif: No such file or directory",
      "\nDuring handling of the above exception, another exception occurred:\n",
      "\u001b[1;31mKeyboardInterrupt\u001b[0m                         Traceback (most recent call last)",
      "Cell \u001b[1;32mIn[5], line 46\u001b[0m\n\u001b[0;32m     43\u001b[0m                     output_path \u001b[38;5;241m=\u001b[39m os\u001b[38;5;241m.\u001b[39mpath\u001b[38;5;241m.\u001b[39mjoin(output_tiles_folder, tile_filename)\n\u001b[0;32m     45\u001b[0m                     \u001b[38;5;66;03m# Save the tile\u001b[39;00m\n\u001b[1;32m---> 46\u001b[0m                     save_tile(src, window, transform, output_path)\n\u001b[0;32m     48\u001b[0m         \u001b[38;5;28mprint\u001b[39m(\u001b[38;5;124mf\u001b[39m\u001b[38;5;124m\"\u001b[39m\u001b[38;5;124mTiled \u001b[39m\u001b[38;5;132;01m{\u001b[39;00minput_path\u001b[38;5;132;01m}\u001b[39;00m\u001b[38;5;124m into \u001b[39m\u001b[38;5;132;01m{\u001b[39;00moutput_folder\u001b[38;5;132;01m}\u001b[39;00m\u001b[38;5;124m\"\u001b[39m)\n\u001b[0;32m     50\u001b[0m \u001b[38;5;28mprint\u001b[39m(\u001b[38;5;124m\"\u001b[39m\u001b[38;5;124mTiling complete!\u001b[39m\u001b[38;5;124m\"\u001b[39m)\n",
      "Cell \u001b[1;32mIn[5], line 11\u001b[0m, in \u001b[0;36msave_tile\u001b[1;34m(dataset, window, transform, output_path)\u001b[0m\n\u001b[0;32m      5\u001b[0m profile \u001b[38;5;241m=\u001b[39m dataset\u001b[38;5;241m.\u001b[39mprofile\n\u001b[0;32m      6\u001b[0m profile\u001b[38;5;241m.\u001b[39mupdate(\n\u001b[0;32m      7\u001b[0m     width\u001b[38;5;241m=\u001b[39mwindow\u001b[38;5;241m.\u001b[39mwidth,\n\u001b[0;32m      8\u001b[0m     height\u001b[38;5;241m=\u001b[39mwindow\u001b[38;5;241m.\u001b[39mheight,\n\u001b[0;32m      9\u001b[0m     transform\u001b[38;5;241m=\u001b[39mtransform\n\u001b[0;32m     10\u001b[0m )\n\u001b[1;32m---> 11\u001b[0m \u001b[38;5;28;01mwith\u001b[39;00m rasterio\u001b[38;5;241m.\u001b[39mopen(output_path, \u001b[38;5;124m\"\u001b[39m\u001b[38;5;124mw\u001b[39m\u001b[38;5;124m\"\u001b[39m, \u001b[38;5;241m*\u001b[39m\u001b[38;5;241m*\u001b[39mprofile) \u001b[38;5;28;01mas\u001b[39;00m dst:\n\u001b[0;32m     12\u001b[0m     \u001b[38;5;28;01mfor\u001b[39;00m i \u001b[38;5;129;01min\u001b[39;00m \u001b[38;5;28mrange\u001b[39m(\u001b[38;5;241m1\u001b[39m, dataset\u001b[38;5;241m.\u001b[39mcount \u001b[38;5;241m+\u001b[39m \u001b[38;5;241m1\u001b[39m): \u001b[38;5;66;03m#write all bands\u001b[39;00m\n\u001b[0;32m     13\u001b[0m         dst\u001b[38;5;241m.\u001b[39mwrite(dataset\u001b[38;5;241m.\u001b[39mread(i, window\u001b[38;5;241m=\u001b[39mwindow), i)\n",
      "File \u001b[1;32m~\\anaconda3\\envs\\geo_ai\\Lib\\site-packages\\rasterio\\env.py:463\u001b[0m, in \u001b[0;36mensure_env_with_credentials.<locals>.wrapper\u001b[1;34m(*args, **kwds)\u001b[0m\n\u001b[0;32m    460\u001b[0m     session \u001b[38;5;241m=\u001b[39m DummySession()\n\u001b[0;32m    462\u001b[0m \u001b[38;5;28;01mwith\u001b[39;00m env_ctor(session\u001b[38;5;241m=\u001b[39msession):\n\u001b[1;32m--> 463\u001b[0m     \u001b[38;5;28;01mreturn\u001b[39;00m f(\u001b[38;5;241m*\u001b[39margs, \u001b[38;5;241m*\u001b[39m\u001b[38;5;241m*\u001b[39mkwds)\n",
      "File \u001b[1;32m~\\anaconda3\\envs\\geo_ai\\Lib\\site-packages\\rasterio\\__init__.py:366\u001b[0m, in \u001b[0;36mopen\u001b[1;34m(fp, mode, driver, width, height, count, crs, transform, dtype, nodata, sharing, opener, **kwargs)\u001b[0m\n\u001b[0;32m    364\u001b[0m writer \u001b[38;5;241m=\u001b[39m get_writer_for_driver(driver)\n\u001b[0;32m    365\u001b[0m \u001b[38;5;28;01mif\u001b[39;00m writer \u001b[38;5;129;01mis\u001b[39;00m \u001b[38;5;129;01mnot\u001b[39;00m \u001b[38;5;28;01mNone\u001b[39;00m:\n\u001b[1;32m--> 366\u001b[0m     dataset \u001b[38;5;241m=\u001b[39m writer(\n\u001b[0;32m    367\u001b[0m         path,\n\u001b[0;32m    368\u001b[0m         mode,\n\u001b[0;32m    369\u001b[0m         driver\u001b[38;5;241m=\u001b[39mdriver,\n\u001b[0;32m    370\u001b[0m         width\u001b[38;5;241m=\u001b[39mwidth,\n\u001b[0;32m    371\u001b[0m         height\u001b[38;5;241m=\u001b[39mheight,\n\u001b[0;32m    372\u001b[0m         count\u001b[38;5;241m=\u001b[39mcount,\n\u001b[0;32m    373\u001b[0m         crs\u001b[38;5;241m=\u001b[39mcrs,\n\u001b[0;32m    374\u001b[0m         transform\u001b[38;5;241m=\u001b[39mtransform,\n\u001b[0;32m    375\u001b[0m         dtype\u001b[38;5;241m=\u001b[39mdtype,\n\u001b[0;32m    376\u001b[0m         nodata\u001b[38;5;241m=\u001b[39mnodata,\n\u001b[0;32m    377\u001b[0m         sharing\u001b[38;5;241m=\u001b[39msharing,\n\u001b[0;32m    378\u001b[0m         \u001b[38;5;241m*\u001b[39m\u001b[38;5;241m*\u001b[39mkwargs\n\u001b[0;32m    379\u001b[0m     )\n\u001b[0;32m    380\u001b[0m \u001b[38;5;28;01melse\u001b[39;00m:\n\u001b[0;32m    381\u001b[0m     \u001b[38;5;28;01mraise\u001b[39;00m DriverCapabilityError(\n\u001b[0;32m    382\u001b[0m         \u001b[38;5;124m\"\u001b[39m\u001b[38;5;124mWriter does not exist for driver: \u001b[39m\u001b[38;5;132;01m%s\u001b[39;00m\u001b[38;5;124m\"\u001b[39m \u001b[38;5;241m%\u001b[39m \u001b[38;5;28mstr\u001b[39m(driver)\n\u001b[0;32m    383\u001b[0m     )\n",
      "File \u001b[1;32mrasterio\\\\_io.pyx:1509\u001b[0m, in \u001b[0;36mrasterio._io.DatasetWriterBase.__init__\u001b[1;34m()\u001b[0m\n",
      "File \u001b[1;32mrasterio\\\\_io.pyx:306\u001b[0m, in \u001b[0;36mrasterio._io._delete_dataset_if_exists\u001b[1;34m()\u001b[0m\n",
      "File \u001b[1;32m~\\anaconda3\\envs\\geo_ai\\Lib\\contextlib.py:141\u001b[0m, in \u001b[0;36m_GeneratorContextManager.__exit__\u001b[1;34m(self, typ, value, traceback)\u001b[0m\n\u001b[0;32m    138\u001b[0m     \u001b[38;5;28;01mexcept\u001b[39;00m \u001b[38;5;167;01mStopIteration\u001b[39;00m:\n\u001b[0;32m    139\u001b[0m         \u001b[38;5;28;01mraise\u001b[39;00m \u001b[38;5;167;01mRuntimeError\u001b[39;00m(\u001b[38;5;124m\"\u001b[39m\u001b[38;5;124mgenerator didn\u001b[39m\u001b[38;5;124m'\u001b[39m\u001b[38;5;124mt yield\u001b[39m\u001b[38;5;124m\"\u001b[39m) \u001b[38;5;28;01mfrom\u001b[39;00m \u001b[38;5;28;01mNone\u001b[39;00m\n\u001b[1;32m--> 141\u001b[0m \u001b[38;5;28;01mdef\u001b[39;00m \u001b[38;5;21m__exit__\u001b[39m(\u001b[38;5;28mself\u001b[39m, typ, value, traceback):\n\u001b[0;32m    142\u001b[0m     \u001b[38;5;28;01mif\u001b[39;00m typ \u001b[38;5;129;01mis\u001b[39;00m \u001b[38;5;28;01mNone\u001b[39;00m:\n\u001b[0;32m    143\u001b[0m         \u001b[38;5;28;01mtry\u001b[39;00m:\n",
      "\u001b[1;31mKeyboardInterrupt\u001b[0m: "
     ]
    }
   ],
   "source": [
    "def save_tile(dataset, window, transform, output_path):\n",
    "    \"\"\"\n",
    "    Save a raster tile to a GeoTIFF file.\n",
    "    \"\"\"\n",
    "    profile = dataset.profile\n",
    "    profile.update(\n",
    "        width=window.width,\n",
    "        height=window.height,\n",
    "        transform=transform\n",
    "    )\n",
    "    with rasterio.open(output_path, \"w\", **profile) as dst:\n",
    "        for i in range(1, dataset.count + 1): #write all bands\n",
    "            dst.write(dataset.read(i, window=window), i)\n",
    "\n",
    "# Loop through each raster in the input folder\n",
    "for filename in os.listdir(input_dop_rcn_folder):\n",
    "    if filename.endswith(\".tif\"):\n",
    "        input_path = os.path.join(input_dop_rcn_folder, filename)\n",
    "\n",
    "        with rasterio.open(input_path) as src:\n",
    "            # Calculate the number of tiles along width and height\n",
    "            n_tiles_x = (src.width + tile_size - 1) // tile_size\n",
    "            n_tiles_y = (src.height + tile_size - 1) // tile_size\n",
    "\n",
    "            for i in range(n_tiles_x):\n",
    "                for j in range(n_tiles_y):\n",
    "                    # Define the window for the current tile\n",
    "                    window = Window(\n",
    "                        col_off=i * tile_size,\n",
    "                        row_off=j * tile_size,\n",
    "                        width=tile_size,\n",
    "                        height=tile_size\n",
    "                    )\n",
    "\n",
    "                    # Adjust window size for boundary tiles\n",
    "                    window = window.intersection(Window(0, 0, src.width, src.height))\n",
    "\n",
    "                    # Calculate the transform for the current tile\n",
    "                    transform = src.window_transform(window)\n",
    "\n",
    "                    # Define output path for the tile\n",
    "                    tile_filename = f\"{os.path.splitext(filename)[0]}_tile_{i}_{j}.tif\"\n",
    "                    output_path = os.path.join(output_tiles_folder, tile_filename)\n",
    "\n",
    "                    # Save the tile\n",
    "                    save_tile(src, window, transform, output_path)\n",
    "\n",
    "        print(f\"Tiled {input_path} into {output_folder}\")\n",
    "\n",
    "print(\"Tiling complete!\")\n"
   ]
  },
  {
   "cell_type": "code",
   "execution_count": null,
   "id": "7a4739cf-5c9c-4e5f-94e4-b1a8a47077db",
   "metadata": {},
   "outputs": [],
   "source": []
  }
 ],
 "metadata": {
  "kernelspec": {
   "display_name": "Python (geo_ai)",
   "language": "python",
   "name": "geo_ai"
  },
  "language_info": {
   "codemirror_mode": {
    "name": "ipython",
    "version": 3
   },
   "file_extension": ".py",
   "mimetype": "text/x-python",
   "name": "python",
   "nbconvert_exporter": "python",
   "pygments_lexer": "ipython3",
   "version": "3.12.8"
  }
 },
 "nbformat": 4,
 "nbformat_minor": 5
}
