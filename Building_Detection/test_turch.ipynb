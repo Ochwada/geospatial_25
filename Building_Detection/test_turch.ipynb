{
 "cells": [
  {
   "cell_type": "code",
   "execution_count": 4,
   "id": "7b68befb-2539-4cd5-b0ac-2a3294d7a09b",
   "metadata": {},
   "outputs": [
    {
     "name": "stdout",
     "output_type": "stream",
     "text": [
      "Requirement already satisfied: torch in c:\\users\\ochwada\\anaconda3\\envs\\directml\\lib\\site-packages (2.4.1)\n",
      "Requirement already satisfied: filelock in c:\\users\\ochwada\\anaconda3\\envs\\directml\\lib\\site-packages (from torch) (3.16.1)\n",
      "Requirement already satisfied: typing-extensions>=4.8.0 in c:\\users\\ochwada\\anaconda3\\envs\\directml\\lib\\site-packages (from torch) (4.12.2)\n",
      "Requirement already satisfied: sympy in c:\\users\\ochwada\\anaconda3\\envs\\directml\\lib\\site-packages (from torch) (1.13.1)\n",
      "Requirement already satisfied: networkx in c:\\users\\ochwada\\anaconda3\\envs\\directml\\lib\\site-packages (from torch) (3.4.2)\n",
      "Requirement already satisfied: jinja2 in c:\\users\\ochwada\\anaconda3\\envs\\directml\\lib\\site-packages (from torch) (3.1.5)\n",
      "Requirement already satisfied: fsspec in c:\\users\\ochwada\\anaconda3\\envs\\directml\\lib\\site-packages (from torch) (2024.12.0)\n",
      "Requirement already satisfied: MarkupSafe>=2.0 in c:\\users\\ochwada\\anaconda3\\envs\\directml\\lib\\site-packages (from jinja2->torch) (3.0.2)\n",
      "Requirement already satisfied: mpmath<1.4,>=1.1.0 in c:\\users\\ochwada\\anaconda3\\envs\\directml\\lib\\site-packages (from sympy->torch) (1.3.0)\n",
      "Note: you may need to restart the kernel to use updated packages.\n",
      "Requirement already satisfied: torch-directml in c:\\users\\ochwada\\anaconda3\\envs\\directml\\lib\\site-packages (0.2.5.dev240914)\n",
      "Requirement already satisfied: torch==2.4.1 in c:\\users\\ochwada\\anaconda3\\envs\\directml\\lib\\site-packages (from torch-directml) (2.4.1)\n",
      "Requirement already satisfied: torchvision==0.19.1 in c:\\users\\ochwada\\anaconda3\\envs\\directml\\lib\\site-packages (from torch-directml) (0.19.1)\n",
      "Requirement already satisfied: filelock in c:\\users\\ochwada\\anaconda3\\envs\\directml\\lib\\site-packages (from torch==2.4.1->torch-directml) (3.16.1)\n",
      "Requirement already satisfied: typing-extensions>=4.8.0 in c:\\users\\ochwada\\anaconda3\\envs\\directml\\lib\\site-packages (from torch==2.4.1->torch-directml) (4.12.2)\n",
      "Requirement already satisfied: sympy in c:\\users\\ochwada\\anaconda3\\envs\\directml\\lib\\site-packages (from torch==2.4.1->torch-directml) (1.13.1)\n",
      "Requirement already satisfied: networkx in c:\\users\\ochwada\\anaconda3\\envs\\directml\\lib\\site-packages (from torch==2.4.1->torch-directml) (3.4.2)\n",
      "Requirement already satisfied: jinja2 in c:\\users\\ochwada\\anaconda3\\envs\\directml\\lib\\site-packages (from torch==2.4.1->torch-directml) (3.1.5)\n",
      "Requirement already satisfied: fsspec in c:\\users\\ochwada\\anaconda3\\envs\\directml\\lib\\site-packages (from torch==2.4.1->torch-directml) (2024.12.0)\n",
      "Requirement already satisfied: numpy in c:\\users\\ochwada\\anaconda3\\envs\\directml\\lib\\site-packages (from torchvision==0.19.1->torch-directml) (2.2.1)\n",
      "Requirement already satisfied: pillow!=8.3.*,>=5.3.0 in c:\\users\\ochwada\\anaconda3\\envs\\directml\\lib\\site-packages (from torchvision==0.19.1->torch-directml) (11.1.0)\n",
      "Requirement already satisfied: MarkupSafe>=2.0 in c:\\users\\ochwada\\anaconda3\\envs\\directml\\lib\\site-packages (from jinja2->torch==2.4.1->torch-directml) (3.0.2)\n",
      "Requirement already satisfied: mpmath<1.4,>=1.1.0 in c:\\users\\ochwada\\anaconda3\\envs\\directml\\lib\\site-packages (from sympy->torch==2.4.1->torch-directml) (1.3.0)\n",
      "Note: you may need to restart the kernel to use updated packages.\n"
     ]
    }
   ],
   "source": [
    "%pip install torch\n",
    "%pip install torch-directml\n",
    "\n",
    "import torch\n",
    "import torch_directml\n",
    "\n",
    "device = torch_directml.device(torch_directml.default_device()) "
   ]
  },
  {
   "cell_type": "code",
   "execution_count": 5,
   "id": "2e7feca1",
   "metadata": {},
   "outputs": [
    {
     "name": "stdout",
     "output_type": "stream",
     "text": [
      "Torch version: 2.4.1+cpu\n"
     ]
    }
   ],
   "source": [
    "print(\"Torch version:\", torch.__version__)"
   ]
  },
  {
   "cell_type": "code",
   "execution_count": 6,
   "id": "851123cd",
   "metadata": {},
   "outputs": [
    {
     "name": "stdout",
     "output_type": "stream",
     "text": [
      "Using device: privateuseone:0\n",
      "Tensor moved to DirectML device: tensor([1., 2., 3.], device='privateuseone:0')\n"
     ]
    }
   ],
   "source": [
    "import torch\n",
    "import torch_directml\n",
    "\n",
    "# Check if DirectML is available\n",
    "device = torch_directml.device()\n",
    "print(f\"Using device: {device}\")\n",
    "x = torch.tensor([1.0, 2.0, 3.0]).to(device)\n",
    "print(\"Tensor moved to DirectML device:\", x)\n"
   ]
  },
  {
   "cell_type": "code",
   "execution_count": 7,
   "id": "4f3a2924",
   "metadata": {},
   "outputs": [
    {
     "name": "stdout",
     "output_type": "stream",
     "text": [
      "DirectML Device: privateuseone:0\n",
      "Matrix multiplication successful!\n",
      "Result tensor on DirectML device: tensor([[-13.2194,  36.4047, -22.1600,  ...,  -5.8372,   1.6729,  25.8308],\n",
      "        [-16.4597,  -0.8507,  -7.0341,  ..., -61.7100, -62.7134, -14.7415],\n",
      "        [ -4.5701,  18.0826,  20.9751,  ...,   1.6532, -66.8091, -43.2932],\n",
      "        ...,\n",
      "        [-14.9744, -24.7559, -45.5415,  ...,   1.8345,   1.8398, -17.6879],\n",
      "        [  1.2570, -48.1999,  22.4417,  ...,   3.5080, -58.3328,  36.7368],\n",
      "        [-36.9667,  -0.0820,  11.8208,  ..., -33.1841, -50.6355,  10.4696]],\n",
      "       device='privateuseone:0')\n"
     ]
    }
   ],
   "source": [
    "import torch\n",
    "import torch_directml\n",
    "\n",
    "# Initialize DirectML device\n",
    "device = torch_directml.device(torch_directml.default_device())\n",
    "\n",
    "# Check if DirectML is available and print the device\n",
    "print(f\"DirectML Device: {device}\")\n",
    "\n",
    "# Create a tensor and move it to the GPU\n",
    "x = torch.randn(1000, 1000).to(device)\n",
    "y = torch.randn(1000, 1000).to(device)\n",
    "\n",
    "# Perform a matrix multiplication on the GPU\n",
    "z = x @ y\n",
    "print(\"Matrix multiplication successful!\")\n",
    "print(f\"Result tensor on DirectML device: {z}\")\n"
   ]
  },
  {
   "cell_type": "code",
   "execution_count": 10,
   "id": "88c57585",
   "metadata": {},
   "outputs": [
    {
     "name": "stdout",
     "output_type": "stream",
     "text": [
      "Using DirectML device: privateuseone:0\n"
     ]
    }
   ],
   "source": [
    "# Initialize the DirectML device\n",
    "device = torch_directml.device(torch_directml.default_device())\n",
    "print(f\"Using DirectML device: {device}\")\n"
   ]
  },
  {
   "cell_type": "code",
   "execution_count": 11,
   "id": "a7a425c9",
   "metadata": {},
   "outputs": [
    {
     "name": "stdout",
     "output_type": "stream",
     "text": [
      "DirectML is active and being used!\n"
     ]
    }
   ],
   "source": [
    "if x.device.type == 'privateuseone':\n",
    "    print(\"DirectML is active and being used!\")\n",
    "else:\n",
    "    print(\"DirectML is NOT active!\")\n"
   ]
  },
  {
   "cell_type": "code",
   "execution_count": 12,
   "id": "5304bfd4",
   "metadata": {},
   "outputs": [
    {
     "name": "stdout",
     "output_type": "stream",
     "text": [
      "DirectML device confirmed: privateuseone:0\n"
     ]
    }
   ],
   "source": [
    "import torch\n",
    "import torch_directml\n",
    "\n",
    "device = torch_directml.device(torch_directml.default_device())\n",
    "x = torch.randn(1000, 1000).to(device)\n",
    "y = torch.randn(1000, 1000).to(device)\n",
    "z = x @ y\n",
    "print(\"DirectML device confirmed:\", device)\n"
   ]
  },
  {
   "cell_type": "code",
   "execution_count": 13,
   "id": "f83697fe",
   "metadata": {},
   "outputs": [
    {
     "name": "stdout",
     "output_type": "stream",
     "text": [
      "Downloading http://yann.lecun.com/exdb/mnist/train-images-idx3-ubyte.gz\n",
      "Failed to download (trying next):\n",
      "HTTP Error 403: Forbidden\n",
      "\n",
      "Downloading https://ossci-datasets.s3.amazonaws.com/mnist/train-images-idx3-ubyte.gz\n",
      "Downloading https://ossci-datasets.s3.amazonaws.com/mnist/train-images-idx3-ubyte.gz to ./data\\MNIST\\raw\\train-images-idx3-ubyte.gz\n"
     ]
    },
    {
     "name": "stderr",
     "output_type": "stream",
     "text": [
      "100.0%\n"
     ]
    },
    {
     "name": "stdout",
     "output_type": "stream",
     "text": [
      "Extracting ./data\\MNIST\\raw\\train-images-idx3-ubyte.gz to ./data\\MNIST\\raw\n",
      "\n",
      "Downloading http://yann.lecun.com/exdb/mnist/train-labels-idx1-ubyte.gz\n",
      "Failed to download (trying next):\n",
      "HTTP Error 403: Forbidden\n",
      "\n",
      "Downloading https://ossci-datasets.s3.amazonaws.com/mnist/train-labels-idx1-ubyte.gz\n",
      "Downloading https://ossci-datasets.s3.amazonaws.com/mnist/train-labels-idx1-ubyte.gz to ./data\\MNIST\\raw\\train-labels-idx1-ubyte.gz\n"
     ]
    },
    {
     "name": "stderr",
     "output_type": "stream",
     "text": [
      "100.0%\n"
     ]
    },
    {
     "name": "stdout",
     "output_type": "stream",
     "text": [
      "Extracting ./data\\MNIST\\raw\\train-labels-idx1-ubyte.gz to ./data\\MNIST\\raw\n",
      "\n",
      "Downloading http://yann.lecun.com/exdb/mnist/t10k-images-idx3-ubyte.gz\n",
      "Failed to download (trying next):\n",
      "HTTP Error 403: Forbidden\n",
      "\n",
      "Downloading https://ossci-datasets.s3.amazonaws.com/mnist/t10k-images-idx3-ubyte.gz\n",
      "Downloading https://ossci-datasets.s3.amazonaws.com/mnist/t10k-images-idx3-ubyte.gz to ./data\\MNIST\\raw\\t10k-images-idx3-ubyte.gz\n"
     ]
    },
    {
     "name": "stderr",
     "output_type": "stream",
     "text": [
      "100.0%\n"
     ]
    },
    {
     "name": "stdout",
     "output_type": "stream",
     "text": [
      "Extracting ./data\\MNIST\\raw\\t10k-images-idx3-ubyte.gz to ./data\\MNIST\\raw\n",
      "\n",
      "Downloading http://yann.lecun.com/exdb/mnist/t10k-labels-idx1-ubyte.gz\n",
      "Failed to download (trying next):\n",
      "HTTP Error 403: Forbidden\n",
      "\n",
      "Downloading https://ossci-datasets.s3.amazonaws.com/mnist/t10k-labels-idx1-ubyte.gz\n",
      "Downloading https://ossci-datasets.s3.amazonaws.com/mnist/t10k-labels-idx1-ubyte.gz to ./data\\MNIST\\raw\\t10k-labels-idx1-ubyte.gz\n"
     ]
    },
    {
     "name": "stderr",
     "output_type": "stream",
     "text": [
      "100.0%\n"
     ]
    },
    {
     "name": "stdout",
     "output_type": "stream",
     "text": [
      "Extracting ./data\\MNIST\\raw\\t10k-labels-idx1-ubyte.gz to ./data\\MNIST\\raw\n",
      "\n"
     ]
    },
    {
     "name": "stderr",
     "output_type": "stream",
     "text": [
      "c:\\Users\\Ochwada\\anaconda3\\envs\\directml\\lib\\site-packages\\torch\\optim\\adam.py:534: UserWarning: The operator 'aten::lerp.Scalar_out' is not currently supported on the DML backend and will fall back to run on the CPU. This may have performance implications. (Triggered internally at C:\\__w\\1\\s\\pytorch-directml-plugin\\torch_directml\\csrc\\dml\\dml_cpu_fallback.cpp:17.)\n",
      "  torch._foreach_lerp_(device_exp_avgs, device_grads, 1 - beta1)\n"
     ]
    },
    {
     "name": "stdout",
     "output_type": "stream",
     "text": [
      "Epoch 1/3, Loss: 0.3446\n",
      "Epoch 2/3, Loss: 0.1598\n",
      "Epoch 3/3, Loss: 0.1124\n",
      "Training completed successfully on DirectML!\n"
     ]
    }
   ],
   "source": [
    "import torch\n",
    "import torch_directml\n",
    "from torchvision import datasets, transforms\n",
    "import torch.nn as nn\n",
    "import torch.optim as optim\n",
    "\n",
    "# Initialize DirectML device\n",
    "device = torch_directml.device(torch_directml.default_device())\n",
    "\n",
    "# Load the MNIST dataset\n",
    "transform = transforms.Compose([transforms.ToTensor()])\n",
    "train_dataset = datasets.MNIST(root='./data', train=True, download=True, transform=transform)\n",
    "train_loader = torch.utils.data.DataLoader(train_dataset, batch_size=64, shuffle=True)\n",
    "\n",
    "# Define a simple neural network\n",
    "class SimpleNN(nn.Module):\n",
    "    def __init__(self):\n",
    "        super(SimpleNN, self).__init__()\n",
    "        self.fc1 = nn.Linear(28*28, 128)\n",
    "        self.relu = nn.ReLU()\n",
    "        self.fc2 = nn.Linear(128, 10)\n",
    "        \n",
    "    def forward(self, x):\n",
    "        x = x.view(-1, 28*28)  # Flatten the image\n",
    "        x = self.relu(self.fc1(x))\n",
    "        return self.fc2(x)\n",
    "\n",
    "# Initialize the model, loss function, and optimizer\n",
    "model = SimpleNN().to(device)\n",
    "criterion = nn.CrossEntropyLoss()\n",
    "optimizer = optim.Adam(model.parameters(), lr=0.001)\n",
    "\n",
    "# Training loop\n",
    "epochs = 3\n",
    "for epoch in range(epochs):\n",
    "    total_loss = 0\n",
    "    for batch_idx, (data, target) in enumerate(train_loader):\n",
    "        data, target = data.to(device), target.to(device)\n",
    "        optimizer.zero_grad()\n",
    "        output = model(data)\n",
    "        loss = criterion(output, target)\n",
    "        loss.backward()\n",
    "        optimizer.step()\n",
    "        total_loss += loss.item()\n",
    "        \n",
    "    print(f\"Epoch {epoch+1}/{epochs}, Loss: {total_loss/len(train_loader):.4f}\")\n",
    "\n",
    "print(\"Training completed successfully on DirectML!\")\n"
   ]
  },
  {
   "cell_type": "code",
   "execution_count": null,
   "id": "77c17994",
   "metadata": {},
   "outputs": [],
   "source": []
  }
 ],
 "metadata": {
  "kernelspec": {
   "display_name": "directml",
   "language": "python",
   "name": "python3"
  },
  "language_info": {
   "codemirror_mode": {
    "name": "ipython",
    "version": 3
   },
   "file_extension": ".py",
   "mimetype": "text/x-python",
   "name": "python",
   "nbconvert_exporter": "python",
   "pygments_lexer": "ipython3",
   "version": "3.10.16"
  }
 },
 "nbformat": 4,
 "nbformat_minor": 5
}
