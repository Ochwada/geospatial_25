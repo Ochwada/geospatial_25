{
 "cells": [
  {
   "cell_type": "code",
   "execution_count": 1,
   "id": "e60304cf-9ef9-4d8f-be77-3c5c97c634f1",
   "metadata": {},
   "outputs": [],
   "source": [
    "import requests \n",
    "import os"
   ]
  },
  {
   "cell_type": "code",
   "execution_count": 2,
   "id": "45a786be-e318-4ed9-812b-989f40e4dc20",
   "metadata": {},
   "outputs": [],
   "source": [
    "# Define the URL and output folder\n",
    "url = \"https://www.opengeodata.nrw.de/produkte/geobasis/hm/dgm1_tiff/dgm1_tiff/\"\n",
    "output_folder = \"downloaded_tiffs\""
   ]
  },
  {
   "cell_type": "code",
   "execution_count": 3,
   "id": "539d7793-51c5-4967-aa35-8ab9055d5c92",
   "metadata": {},
   "outputs": [],
   "source": [
    "# The list of .tiff files to be downloaded\n",
    "to_be_downloaded = [\n",
    "\"dgm1_32_444_5770_1_nw_2023.tif\",\n",
    "\"dgm1_32_444_5771_1_nw_2023.tif\",\n",
    "\"dgm1_32_444_5772_1_nw_2023.tif\",\n",
    "\"dgm1_32_444_5773_1_nw_2023.tif\",\n",
    "\"dgm1_32_445_5770_1_nw_2023.tif\",\n",
    "\"dgm1_32_445_5771_1_nw_2023.tif\",\n",
    "\"dgm1_32_445_5772_1_nw_2023.tif\",\n",
    "\"dgm1_32_445_5773_1_nw_2023.tif\",\n",
    "]"
   ]
  },
  {
   "cell_type": "code",
   "execution_count": 5,
   "id": "a98f159f-7c1e-49dc-bce1-c552aef0b0d6",
   "metadata": {},
   "outputs": [],
   "source": [
    "#create an output folder if it does not exist\n",
    "os.makedirs(output_folder, exist_ok = True)"
   ]
  },
  {
   "cell_type": "code",
   "execution_count": null,
   "id": "6e15cd07-edc0-4e85-823a-49610a4864a1",
   "metadata": {},
   "outputs": [],
   "source": [
    "#Function to download files\n",
    "\n",
    "def download_tiff_files(url, to_be_downloaded, output_folder):\n",
    "    for tiff_name in to_be_downloaded:\n",
    "        #construct the file url\n",
    "        tiff_url = url + tiff_name"
   ]
  }
 ],
 "metadata": {
  "kernelspec": {
   "display_name": "Python 3 (ipykernel)",
   "language": "python",
   "name": "python3"
  },
  "language_info": {
   "codemirror_mode": {
    "name": "ipython",
    "version": 3
   },
   "file_extension": ".py",
   "mimetype": "text/x-python",
   "name": "python",
   "nbconvert_exporter": "python",
   "pygments_lexer": "ipython3",
   "version": "3.13.1"
  }
 },
 "nbformat": 4,
 "nbformat_minor": 5
}
